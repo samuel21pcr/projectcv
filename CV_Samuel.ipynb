{
 "cells": [
  {
   "cell_type": "code",
   "execution_count": 2,
   "id": "9bb174db-57fa-4d9b-a7c3-8cfdbddbcb10",
   "metadata": {
    "colab": {
     "base_uri": "https://localhost:8080/"
    },
    "id": "9bb174db-57fa-4d9b-a7c3-8cfdbddbcb10",
    "outputId": "7e2ac821-f9e0-47fb-c6b6-a4b826f253b5"
   },
   "outputs": [
    {
     "name": "stdout",
     "output_type": "stream",
     "text": [
      "Requirement already satisfied: roboflow in e:\\anaconda\\envs\\yolov8env\\lib\\site-packages (1.1.66)\n",
      "Requirement already satisfied: certifi in e:\\anaconda\\envs\\yolov8env\\lib\\site-packages (from roboflow) (2025.4.26)\n",
      "Requirement already satisfied: idna==3.7 in e:\\anaconda\\envs\\yolov8env\\lib\\site-packages (from roboflow) (3.7)\n",
      "Requirement already satisfied: cycler in e:\\anaconda\\envs\\yolov8env\\lib\\site-packages (from roboflow) (0.12.1)\n",
      "Requirement already satisfied: kiwisolver>=1.3.1 in e:\\anaconda\\envs\\yolov8env\\lib\\site-packages (from roboflow) (1.4.8)\n",
      "Requirement already satisfied: matplotlib in e:\\anaconda\\envs\\yolov8env\\lib\\site-packages (from roboflow) (3.10.3)\n",
      "Requirement already satisfied: numpy>=1.18.5 in e:\\anaconda\\envs\\yolov8env\\lib\\site-packages (from roboflow) (2.1.2)\n",
      "Requirement already satisfied: opencv-python-headless==4.10.0.84 in e:\\anaconda\\envs\\yolov8env\\lib\\site-packages (from roboflow) (4.10.0.84)\n",
      "Requirement already satisfied: Pillow>=7.1.2 in e:\\anaconda\\envs\\yolov8env\\lib\\site-packages (from roboflow) (11.0.0)\n",
      "Requirement already satisfied: pillow-heif>=0.18.0 in e:\\anaconda\\envs\\yolov8env\\lib\\site-packages (from roboflow) (0.22.0)\n",
      "Requirement already satisfied: python-dateutil in e:\\anaconda\\envs\\yolov8env\\lib\\site-packages (from roboflow) (2.9.0.post0)\n",
      "Requirement already satisfied: python-dotenv in e:\\anaconda\\envs\\yolov8env\\lib\\site-packages (from roboflow) (1.1.0)\n",
      "Requirement already satisfied: requests in e:\\anaconda\\envs\\yolov8env\\lib\\site-packages (from roboflow) (2.32.4)\n",
      "Requirement already satisfied: six in e:\\anaconda\\envs\\yolov8env\\lib\\site-packages (from roboflow) (1.17.0)\n",
      "Requirement already satisfied: urllib3>=1.26.6 in e:\\anaconda\\envs\\yolov8env\\lib\\site-packages (from roboflow) (2.3.0)\n",
      "Requirement already satisfied: tqdm>=4.41.0 in e:\\anaconda\\envs\\yolov8env\\lib\\site-packages (from roboflow) (4.67.1)\n",
      "Requirement already satisfied: PyYAML>=5.3.1 in e:\\anaconda\\envs\\yolov8env\\lib\\site-packages (from roboflow) (6.0.2)\n",
      "Requirement already satisfied: requests-toolbelt in e:\\anaconda\\envs\\yolov8env\\lib\\site-packages (from roboflow) (1.0.0)\n",
      "Requirement already satisfied: filetype in e:\\anaconda\\envs\\yolov8env\\lib\\site-packages (from roboflow) (1.2.0)\n",
      "Requirement already satisfied: colorama in e:\\anaconda\\envs\\yolov8env\\lib\\site-packages (from tqdm>=4.41.0->roboflow) (0.4.6)\n",
      "Requirement already satisfied: contourpy>=1.0.1 in e:\\anaconda\\envs\\yolov8env\\lib\\site-packages (from matplotlib->roboflow) (1.3.2)\n",
      "Requirement already satisfied: fonttools>=4.22.0 in e:\\anaconda\\envs\\yolov8env\\lib\\site-packages (from matplotlib->roboflow) (4.58.4)\n",
      "Requirement already satisfied: packaging>=20.0 in e:\\anaconda\\envs\\yolov8env\\lib\\site-packages (from matplotlib->roboflow) (24.2)\n",
      "Requirement already satisfied: pyparsing>=2.3.1 in e:\\anaconda\\envs\\yolov8env\\lib\\site-packages (from matplotlib->roboflow) (3.2.3)\n",
      "Requirement already satisfied: charset_normalizer<4,>=2 in e:\\anaconda\\envs\\yolov8env\\lib\\site-packages (from requests->roboflow) (3.3.2)\n",
      "loading Roboflow workspace...\n",
      "loading Roboflow project...\n"
     ]
    }
   ],
   "source": [
    "!pip install roboflow\n",
    "\n",
    "from roboflow import Roboflow\n",
    "rf = Roboflow(api_key=\"aLhSohlVxTqiVkL9ncKr\")\n",
    "project = rf.workspace(\"tapisangdataset-yyze5\").project(\"dataset-pisang-13sgh\")\n",
    "version = project.version(7)\n",
    "dataset = version.download(\"yolov8-obb\")\n"
   ]
  },
  {
   "cell_type": "code",
   "execution_count": 3,
   "id": "8d8e1e10-8fbb-40c3-837a-14d54c2d68ae",
   "metadata": {
    "colab": {
     "base_uri": "https://localhost:8080/"
    },
    "id": "8d8e1e10-8fbb-40c3-837a-14d54c2d68ae",
    "outputId": "de7ec0c9-2717-4731-af8e-3b93e6dd06c6"
   },
   "outputs": [
    {
     "name": "stdout",
     "output_type": "stream",
     "text": [
      "Dataset location: C:\\Users\\samue\\Dataset-Pisang-7\n",
      "Folders inside:\n",
      "['data.yaml', 'README.dataset.txt', 'README.roboflow.txt', 'test', 'train', 'valid']\n"
     ]
    }
   ],
   "source": [
    "import os\n",
    "\n",
    "print(\"Dataset location:\", dataset.location)\n",
    "print(\"Folders inside:\")\n",
    "print(os.listdir(dataset.location))"
   ]
  },
  {
   "cell_type": "code",
   "execution_count": 4,
   "id": "d9fde0e5-5221-4796-bd40-6c5e43745eac",
   "metadata": {
    "colab": {
     "base_uri": "https://localhost:8080/"
    },
    "id": "d9fde0e5-5221-4796-bd40-6c5e43745eac",
    "outputId": "3e4b2469-0c92-4d65-8ba5-063de9d107e0"
   },
   "outputs": [
    {
     "name": "stdout",
     "output_type": "stream",
     "text": [
      "{'train': 'train/images', 'val': 'valid/images', 'test': 'test/images', 'names': {0: 'cordana', 1: 'fusarium', 2: 'healthy', 3: 'sigatoka'}}\n"
     ]
    }
   ],
   "source": [
    "import os\n",
    "import yaml\n",
    "\n",
    "# Path ke file data.yaml yang diunduh\n",
    "data_yaml_path = os.path.join(dataset.location, \"data.yaml\")\n",
    "\n",
    "# Baca isinya\n",
    "with open(data_yaml_path, \"r\") as f:\n",
    "    data = yaml.safe_load(f)\n",
    "\n",
    "print(data)\n"
   ]
  },
  {
   "cell_type": "code",
   "execution_count": 5,
   "id": "62850168-de41-4e58-bd58-db17801c45a7",
   "metadata": {
    "colab": {
     "base_uri": "https://localhost:8080/"
    },
    "id": "62850168-de41-4e58-bd58-db17801c45a7",
    "outputId": "8302cd9f-8cf0-42e8-b112-a2a5b9ddee93"
   },
   "outputs": [
    {
     "name": "stdout",
     "output_type": "stream",
     "text": [
      "Requirement already satisfied: ultralytics in e:\\anaconda\\envs\\yolov8env\\lib\\site-packages (8.3.158)\n",
      "Requirement already satisfied: roboflow in e:\\anaconda\\envs\\yolov8env\\lib\\site-packages (1.1.66)\n",
      "Requirement already satisfied: opencv-python in e:\\anaconda\\envs\\yolov8env\\lib\\site-packages (4.11.0.86)\n",
      "Requirement already satisfied: numpy>=1.23.0 in e:\\anaconda\\envs\\yolov8env\\lib\\site-packages (from ultralytics) (2.1.2)\n",
      "Requirement already satisfied: matplotlib>=3.3.0 in e:\\anaconda\\envs\\yolov8env\\lib\\site-packages (from ultralytics) (3.10.3)\n",
      "Requirement already satisfied: pillow>=7.1.2 in e:\\anaconda\\envs\\yolov8env\\lib\\site-packages (from ultralytics) (11.0.0)\n",
      "Requirement already satisfied: pyyaml>=5.3.1 in e:\\anaconda\\envs\\yolov8env\\lib\\site-packages (from ultralytics) (6.0.2)\n",
      "Requirement already satisfied: requests>=2.23.0 in e:\\anaconda\\envs\\yolov8env\\lib\\site-packages (from ultralytics) (2.32.4)\n",
      "Requirement already satisfied: scipy>=1.4.1 in e:\\anaconda\\envs\\yolov8env\\lib\\site-packages (from ultralytics) (1.15.3)\n",
      "Requirement already satisfied: torch>=1.8.0 in e:\\anaconda\\envs\\yolov8env\\lib\\site-packages (from ultralytics) (2.7.1+cu118)\n",
      "Requirement already satisfied: torchvision>=0.9.0 in e:\\anaconda\\envs\\yolov8env\\lib\\site-packages (from ultralytics) (0.22.1+cu118)\n",
      "Requirement already satisfied: tqdm>=4.64.0 in e:\\anaconda\\envs\\yolov8env\\lib\\site-packages (from ultralytics) (4.67.1)\n",
      "Requirement already satisfied: psutil in c:\\users\\samue\\appdata\\roaming\\python\\python310\\site-packages (from ultralytics) (7.0.0)\n",
      "Requirement already satisfied: py-cpuinfo in e:\\anaconda\\envs\\yolov8env\\lib\\site-packages (from ultralytics) (9.0.0)\n",
      "Requirement already satisfied: pandas>=1.1.4 in e:\\anaconda\\envs\\yolov8env\\lib\\site-packages (from ultralytics) (2.3.0)\n",
      "Requirement already satisfied: ultralytics-thop>=2.0.0 in e:\\anaconda\\envs\\yolov8env\\lib\\site-packages (from ultralytics) (2.0.14)\n",
      "Requirement already satisfied: certifi in e:\\anaconda\\envs\\yolov8env\\lib\\site-packages (from roboflow) (2025.4.26)\n",
      "Requirement already satisfied: idna==3.7 in e:\\anaconda\\envs\\yolov8env\\lib\\site-packages (from roboflow) (3.7)\n",
      "Requirement already satisfied: cycler in e:\\anaconda\\envs\\yolov8env\\lib\\site-packages (from roboflow) (0.12.1)\n",
      "Requirement already satisfied: kiwisolver>=1.3.1 in e:\\anaconda\\envs\\yolov8env\\lib\\site-packages (from roboflow) (1.4.8)\n",
      "Requirement already satisfied: opencv-python-headless==4.10.0.84 in e:\\anaconda\\envs\\yolov8env\\lib\\site-packages (from roboflow) (4.10.0.84)\n",
      "Requirement already satisfied: pillow-heif>=0.18.0 in e:\\anaconda\\envs\\yolov8env\\lib\\site-packages (from roboflow) (0.22.0)\n",
      "Requirement already satisfied: python-dateutil in e:\\anaconda\\envs\\yolov8env\\lib\\site-packages (from roboflow) (2.9.0.post0)\n",
      "Requirement already satisfied: python-dotenv in e:\\anaconda\\envs\\yolov8env\\lib\\site-packages (from roboflow) (1.1.0)\n",
      "Requirement already satisfied: six in e:\\anaconda\\envs\\yolov8env\\lib\\site-packages (from roboflow) (1.17.0)\n",
      "Requirement already satisfied: urllib3>=1.26.6 in e:\\anaconda\\envs\\yolov8env\\lib\\site-packages (from roboflow) (2.3.0)\n",
      "Requirement already satisfied: requests-toolbelt in e:\\anaconda\\envs\\yolov8env\\lib\\site-packages (from roboflow) (1.0.0)\n",
      "Requirement already satisfied: filetype in e:\\anaconda\\envs\\yolov8env\\lib\\site-packages (from roboflow) (1.2.0)\n",
      "Requirement already satisfied: contourpy>=1.0.1 in e:\\anaconda\\envs\\yolov8env\\lib\\site-packages (from matplotlib>=3.3.0->ultralytics) (1.3.2)\n",
      "Requirement already satisfied: fonttools>=4.22.0 in e:\\anaconda\\envs\\yolov8env\\lib\\site-packages (from matplotlib>=3.3.0->ultralytics) (4.58.4)\n",
      "Requirement already satisfied: packaging>=20.0 in e:\\anaconda\\envs\\yolov8env\\lib\\site-packages (from matplotlib>=3.3.0->ultralytics) (24.2)\n",
      "Requirement already satisfied: pyparsing>=2.3.1 in e:\\anaconda\\envs\\yolov8env\\lib\\site-packages (from matplotlib>=3.3.0->ultralytics) (3.2.3)\n",
      "Requirement already satisfied: pytz>=2020.1 in e:\\anaconda\\envs\\yolov8env\\lib\\site-packages (from pandas>=1.1.4->ultralytics) (2025.2)\n",
      "Requirement already satisfied: tzdata>=2022.7 in e:\\anaconda\\envs\\yolov8env\\lib\\site-packages (from pandas>=1.1.4->ultralytics) (2025.2)\n",
      "Requirement already satisfied: charset_normalizer<4,>=2 in e:\\anaconda\\envs\\yolov8env\\lib\\site-packages (from requests>=2.23.0->ultralytics) (3.3.2)\n",
      "Requirement already satisfied: filelock in e:\\anaconda\\envs\\yolov8env\\lib\\site-packages (from torch>=1.8.0->ultralytics) (3.13.1)\n",
      "Requirement already satisfied: typing-extensions>=4.10.0 in e:\\anaconda\\envs\\yolov8env\\lib\\site-packages (from torch>=1.8.0->ultralytics) (4.12.2)\n",
      "Requirement already satisfied: sympy>=1.13.3 in e:\\anaconda\\envs\\yolov8env\\lib\\site-packages (from torch>=1.8.0->ultralytics) (1.13.3)\n",
      "Requirement already satisfied: networkx in e:\\anaconda\\envs\\yolov8env\\lib\\site-packages (from torch>=1.8.0->ultralytics) (3.3)\n",
      "Requirement already satisfied: jinja2 in e:\\anaconda\\envs\\yolov8env\\lib\\site-packages (from torch>=1.8.0->ultralytics) (3.1.4)\n",
      "Requirement already satisfied: fsspec in e:\\anaconda\\envs\\yolov8env\\lib\\site-packages (from torch>=1.8.0->ultralytics) (2024.6.1)\n",
      "Requirement already satisfied: mpmath<1.4,>=1.1.0 in e:\\anaconda\\envs\\yolov8env\\lib\\site-packages (from sympy>=1.13.3->torch>=1.8.0->ultralytics) (1.3.0)\n",
      "Requirement already satisfied: colorama in e:\\anaconda\\envs\\yolov8env\\lib\\site-packages (from tqdm>=4.64.0->ultralytics) (0.4.6)\n",
      "Requirement already satisfied: MarkupSafe>=2.0 in e:\\anaconda\\envs\\yolov8env\\lib\\site-packages (from jinja2->torch>=1.8.0->ultralytics) (2.1.5)\n"
     ]
    }
   ],
   "source": [
    "!pip install ultralytics roboflow opencv-python\n"
   ]
  },
  {
   "cell_type": "code",
   "execution_count": 6,
   "id": "5e956703-6d59-4902-ac88-caffe2ca024d",
   "metadata": {
    "colab": {
     "base_uri": "https://localhost:8080/"
    },
    "id": "5e956703-6d59-4902-ac88-caffe2ca024d",
    "outputId": "44de2b49-f783-4300-88d6-91d3ffb2b716"
   },
   "outputs": [
    {
     "name": "stdout",
     "output_type": "stream",
     "text": [
      "All Class Names: {0: 0, 1: 1, 2: 2, 3: 3}\n",
      "\n",
      "Class Counts (All Classes):\n",
      "0: 1223\n",
      "1: 806\n",
      "2: 1094\n",
      "3: 1114\n"
     ]
    }
   ],
   "source": [
    "import os\n",
    "import yaml\n",
    "\n",
    "# Get class names from data.yaml\n",
    "data_yaml_path = os.path.join(dataset.location, \"data.yaml\")\n",
    "with open(data_yaml_path) as f:\n",
    "    data = yaml.safe_load(f)\n",
    "    class_names = {i: name for i, name in enumerate(data[\"names\"])}\n",
    "    print(\"All Class Names:\", class_names)\n",
    "\n",
    "# Inisialisasi counter untuk semua kelas\n",
    "class_counts = {name: 0 for name in class_names.values()}\n",
    "annotations_dir = os.path.join(dataset.location, \"train\")\n",
    "\n",
    "# Hitung jumlah tiap kelas dari file label\n",
    "labels_dir = os.path.join(annotations_dir, \"labels\")\n",
    "for txt_file in os.listdir(labels_dir):\n",
    "    txt_path = os.path.join(labels_dir, txt_file)\n",
    "    try:\n",
    "        with open(txt_path) as f:\n",
    "            for line in f:\n",
    "                if line.strip():\n",
    "                    class_id = int(line.split()[0])\n",
    "                    class_name = class_names.get(class_id, '')\n",
    "                    if class_name in class_counts:\n",
    "                        class_counts[class_name] += 1\n",
    "    except FileNotFoundError:\n",
    "        continue\n",
    "\n",
    "print(\"\\nClass Counts (All Classes):\")\n",
    "for name, count in sorted(class_counts.items()):\n",
    "    print(f\"{name}: {count}\")\n"
   ]
  },
  {
   "cell_type": "code",
   "execution_count": 3,
   "id": "5d546d1d-6687-42e8-a42c-0dfbf6b2cff8",
   "metadata": {
    "colab": {
     "base_uri": "https://localhost:8080/"
    },
    "id": "5d546d1d-6687-42e8-a42c-0dfbf6b2cff8",
    "outputId": "71675703-eee8-4a6c-e090-bf8fae0495d8",
    "scrolled": true
   },
   "outputs": [
    {
     "name": "stdout",
     "output_type": "stream",
     "text": [
      "\n",
      "--- Starting YOLO Training with Early Stopping ---\n",
      "Ultralytics 8.3.158  Python-3.10.18 torch-2.7.1+cu118 CUDA:0 (NVIDIA GeForce RTX 3050 Laptop GPU, 4096MiB)\n",
      "\u001b[34m\u001b[1mengine\\trainer: \u001b[0magnostic_nms=False, amp=True, augment=False, auto_augment=randaugment, batch=16, bgr=0.0, box=7.5, cache=False, cfg=None, classes=None, close_mosaic=10, cls=0.5, conf=None, copy_paste=0.0, copy_paste_mode=flip, cos_lr=False, cutmix=0.0, data=C:/Users/samue/Dataset-Pisang-7/data.yaml, degrees=0.0, deterministic=True, device=None, dfl=1.5, dnn=False, dropout=0.0, dynamic=False, embed=None, epochs=50, erasing=0.4, exist_ok=False, fliplr=0.5, flipud=0.0, format=torchscript, fraction=1.0, freeze=None, half=False, hsv_h=0.015, hsv_s=0.7, hsv_v=0.4, imgsz=640, int8=False, iou=0.7, keras=False, kobj=1.0, line_width=None, lr0=0.01, lrf=0.01, mask_ratio=4, max_det=300, mixup=0.0, mode=train, model=yolov8n.pt, momentum=0.937, mosaic=1.0, multi_scale=False, name=motorcycle-yolo18, nbs=64, nms=False, opset=None, optimize=False, optimizer=auto, overlap_mask=True, patience=3, perspective=0.0, plots=True, pose=12.0, pretrained=True, profile=False, project=None, rect=False, resume=False, retina_masks=False, save=True, save_conf=False, save_crop=False, save_dir=runs\\detect\\motorcycle-yolo18, save_frames=False, save_json=False, save_period=-1, save_txt=False, scale=0.5, seed=0, shear=0.0, show=False, show_boxes=True, show_conf=True, show_labels=True, simplify=True, single_cls=False, source=None, split=val, stream_buffer=False, task=detect, time=None, tracker=botsort.yaml, translate=0.1, val=True, verbose=True, vid_stride=1, visualize=False, warmup_bias_lr=0.1, warmup_epochs=3.0, warmup_momentum=0.8, weight_decay=0.0005, workers=8, workspace=None\n",
      "Overriding model.yaml nc=80 with nc=4\n",
      "\n",
      "                   from  n    params  module                                       arguments                     \n",
      "  0                  -1  1       464  ultralytics.nn.modules.conv.Conv             [3, 16, 3, 2]                 \n",
      "  1                  -1  1      4672  ultralytics.nn.modules.conv.Conv             [16, 32, 3, 2]                \n",
      "  2                  -1  1      7360  ultralytics.nn.modules.block.C2f             [32, 32, 1, True]             \n",
      "  3                  -1  1     18560  ultralytics.nn.modules.conv.Conv             [32, 64, 3, 2]                \n",
      "  4                  -1  2     49664  ultralytics.nn.modules.block.C2f             [64, 64, 2, True]             \n",
      "  5                  -1  1     73984  ultralytics.nn.modules.conv.Conv             [64, 128, 3, 2]               \n",
      "  6                  -1  2    197632  ultralytics.nn.modules.block.C2f             [128, 128, 2, True]           \n",
      "  7                  -1  1    295424  ultralytics.nn.modules.conv.Conv             [128, 256, 3, 2]              \n",
      "  8                  -1  1    460288  ultralytics.nn.modules.block.C2f             [256, 256, 1, True]           \n",
      "  9                  -1  1    164608  ultralytics.nn.modules.block.SPPF            [256, 256, 5]                 \n",
      " 10                  -1  1         0  torch.nn.modules.upsampling.Upsample         [None, 2, 'nearest']          \n",
      " 11             [-1, 6]  1         0  ultralytics.nn.modules.conv.Concat           [1]                           \n",
      " 12                  -1  1    148224  ultralytics.nn.modules.block.C2f             [384, 128, 1]                 \n",
      " 13                  -1  1         0  torch.nn.modules.upsampling.Upsample         [None, 2, 'nearest']          \n",
      " 14             [-1, 4]  1         0  ultralytics.nn.modules.conv.Concat           [1]                           \n",
      " 15                  -1  1     37248  ultralytics.nn.modules.block.C2f             [192, 64, 1]                  \n",
      " 16                  -1  1     36992  ultralytics.nn.modules.conv.Conv             [64, 64, 3, 2]                \n",
      " 17            [-1, 12]  1         0  ultralytics.nn.modules.conv.Concat           [1]                           \n",
      " 18                  -1  1    123648  ultralytics.nn.modules.block.C2f             [192, 128, 1]                 \n",
      " 19                  -1  1    147712  ultralytics.nn.modules.conv.Conv             [128, 128, 3, 2]              \n",
      " 20             [-1, 9]  1         0  ultralytics.nn.modules.conv.Concat           [1]                           \n",
      " 21                  -1  1    493056  ultralytics.nn.modules.block.C2f             [384, 256, 1]                 \n",
      " 22        [15, 18, 21]  1    752092  ultralytics.nn.modules.head.Detect           [4, [64, 128, 256]]           \n",
      "Model summary: 129 layers, 3,011,628 parameters, 3,011,612 gradients, 8.2 GFLOPs\n",
      "\n",
      "Transferred 319/355 items from pretrained weights\n",
      "Freezing layer 'model.22.dfl.conv.weight'\n",
      "\u001b[34m\u001b[1mAMP: \u001b[0mrunning Automatic Mixed Precision (AMP) checks...\n",
      "\u001b[34m\u001b[1mAMP: \u001b[0mchecks passed \n",
      "\u001b[34m\u001b[1mtrain: \u001b[0mFast image access  (ping: 0.20.1 ms, read: 31.610.9 MB/s, size: 45.4 KB)\n"
     ]
    },
    {
     "name": "stderr",
     "output_type": "stream",
     "text": [
      "\u001b[34m\u001b[1mtrain: \u001b[0mScanning C:\\Users\\samue\\Dataset-Pisang-7\\train\\labels.cache... 3752 images, 0 backgrounds, 0 corrupt: 100%|██████████| 3752/3752 [00:00<?, ?it/s]"
     ]
    },
    {
     "name": "stdout",
     "output_type": "stream",
     "text": [
      "\u001b[34m\u001b[1mtrain: \u001b[0mC:\\Users\\samue\\Dataset-Pisang-7\\train\\images\\387_jpg.rf.5568c7cedf232729e91ad5b2a4466588.jpg: 1 duplicate labels removed\n",
      "\u001b[34m\u001b[1mtrain: \u001b[0mC:\\Users\\samue\\Dataset-Pisang-7\\train\\images\\387_jpg.rf.b7bed0a0748c55d1070b7fcb203ec631.jpg: 1 duplicate labels removed\n",
      "\u001b[34m\u001b[1mtrain: \u001b[0mC:\\Users\\samue\\Dataset-Pisang-7\\train\\images\\cordana112_jpeg.rf.17bd3f91b6a9cf504e3b00a8a0b2a956.jpg: 1 duplicate labels removed\n"
     ]
    },
    {
     "name": "stderr",
     "output_type": "stream",
     "text": [
      "\n"
     ]
    },
    {
     "name": "stdout",
     "output_type": "stream",
     "text": [
      "\u001b[34m\u001b[1mval: \u001b[0mFast image access  (ping: 0.20.1 ms, read: 26.226.4 MB/s, size: 51.5 KB)\n"
     ]
    },
    {
     "name": "stderr",
     "output_type": "stream",
     "text": [
      "\u001b[34m\u001b[1mval: \u001b[0mScanning C:\\Users\\samue\\Dataset-Pisang-7\\valid\\labels.cache... 1065 images, 1 backgrounds, 0 corrupt: 100%|██████████| 1065/1065 [00:00<?, ?it/s]"
     ]
    },
    {
     "name": "stdout",
     "output_type": "stream",
     "text": [
      "\u001b[34m\u001b[1mval: \u001b[0mC:\\Users\\samue\\Dataset-Pisang-7\\valid\\images\\387_jpg.rf.412e8e877877987bbf300724965f9b2f.jpg: 1 duplicate labels removed\n"
     ]
    },
    {
     "name": "stderr",
     "output_type": "stream",
     "text": [
      "\n"
     ]
    },
    {
     "name": "stdout",
     "output_type": "stream",
     "text": [
      "Plotting labels to runs\\detect\\motorcycle-yolo18\\labels.jpg... \n",
      "\u001b[34m\u001b[1moptimizer:\u001b[0m 'optimizer=auto' found, ignoring 'lr0=0.01' and 'momentum=0.937' and determining best 'optimizer', 'lr0' and 'momentum' automatically... \n",
      "\u001b[34m\u001b[1moptimizer:\u001b[0m AdamW(lr=0.00125, momentum=0.9) with parameter groups 57 weight(decay=0.0), 64 weight(decay=0.0005), 63 bias(decay=0.0)\n",
      "Image sizes 640 train, 640 val\n",
      "Using 8 dataloader workers\n",
      "Logging results to \u001b[1mruns\\detect\\motorcycle-yolo18\u001b[0m\n",
      "Starting training for 50 epochs...\n",
      "\n",
      "      Epoch    GPU_mem   box_loss   cls_loss   dfl_loss  Instances       Size\n"
     ]
    },
    {
     "name": "stderr",
     "output_type": "stream",
     "text": [
      "       1/50      2.07G     0.4601      1.726      1.134         28        640: 100%|██████████| 235/235 [01:03<00:00,  3.69it/s]\n",
      "                 Class     Images  Instances      Box(P          R      mAP50  mAP50-95): 100%|██████████| 34/34 [00:12<00:00,  2.79it/s]\n"
     ]
    },
    {
     "name": "stdout",
     "output_type": "stream",
     "text": [
      "                   all       1065       1192      0.792      0.678      0.779      0.688\n",
      "\n",
      "      Epoch    GPU_mem   box_loss   cls_loss   dfl_loss  Instances       Size\n"
     ]
    },
    {
     "name": "stderr",
     "output_type": "stream",
     "text": [
      "       2/50      1.96G     0.4088      1.001      1.089         28        640: 100%|██████████| 235/235 [00:55<00:00,  4.23it/s]\n",
      "                 Class     Images  Instances      Box(P          R      mAP50  mAP50-95): 100%|██████████| 34/34 [00:11<00:00,  3.04it/s]\n"
     ]
    },
    {
     "name": "stdout",
     "output_type": "stream",
     "text": [
      "                   all       1065       1192      0.862      0.806      0.888      0.782\n",
      "\n",
      "      Epoch    GPU_mem   box_loss   cls_loss   dfl_loss  Instances       Size\n"
     ]
    },
    {
     "name": "stderr",
     "output_type": "stream",
     "text": [
      "       3/50      1.97G     0.4054     0.8706       1.09         24        640: 100%|██████████| 235/235 [00:54<00:00,  4.29it/s]\n",
      "                 Class     Images  Instances      Box(P          R      mAP50  mAP50-95): 100%|██████████| 34/34 [00:11<00:00,  2.84it/s]\n"
     ]
    },
    {
     "name": "stdout",
     "output_type": "stream",
     "text": [
      "                   all       1065       1192      0.728      0.647      0.668      0.548\n",
      "\n",
      "      Epoch    GPU_mem   box_loss   cls_loss   dfl_loss  Instances       Size\n"
     ]
    },
    {
     "name": "stderr",
     "output_type": "stream",
     "text": [
      "       4/50      1.98G     0.3885     0.7663      1.076         32        640: 100%|██████████| 235/235 [00:58<00:00,  4.03it/s]\n",
      "                 Class     Images  Instances      Box(P          R      mAP50  mAP50-95): 100%|██████████| 34/34 [00:11<00:00,  2.94it/s]\n"
     ]
    },
    {
     "name": "stdout",
     "output_type": "stream",
     "text": [
      "                   all       1065       1192      0.879      0.698      0.831      0.739\n",
      "\n",
      "      Epoch    GPU_mem   box_loss   cls_loss   dfl_loss  Instances       Size\n"
     ]
    },
    {
     "name": "stderr",
     "output_type": "stream",
     "text": [
      "       5/50         2G     0.3578     0.6757      1.058         33        640: 100%|██████████| 235/235 [00:54<00:00,  4.33it/s]\n",
      "                 Class     Images  Instances      Box(P          R      mAP50  mAP50-95): 100%|██████████| 34/34 [00:11<00:00,  3.06it/s]"
     ]
    },
    {
     "name": "stdout",
     "output_type": "stream",
     "text": [
      "                   all       1065       1192      0.858      0.804      0.899       0.79\n"
     ]
    },
    {
     "name": "stderr",
     "output_type": "stream",
     "text": [
      "\n"
     ]
    },
    {
     "name": "stdout",
     "output_type": "stream",
     "text": [
      "\n",
      "      Epoch    GPU_mem   box_loss   cls_loss   dfl_loss  Instances       Size\n"
     ]
    },
    {
     "name": "stderr",
     "output_type": "stream",
     "text": [
      "       6/50      2.02G     0.3512     0.6361      1.058         25        640: 100%|██████████| 235/235 [00:53<00:00,  4.41it/s]\n",
      "                 Class     Images  Instances      Box(P          R      mAP50  mAP50-95): 100%|██████████| 34/34 [00:12<00:00,  2.81it/s]\n"
     ]
    },
    {
     "name": "stdout",
     "output_type": "stream",
     "text": [
      "                   all       1065       1192      0.942      0.842      0.928       0.84\n",
      "\n",
      "      Epoch    GPU_mem   box_loss   cls_loss   dfl_loss  Instances       Size\n"
     ]
    },
    {
     "name": "stderr",
     "output_type": "stream",
     "text": [
      "       7/50      1.95G     0.3383     0.6097      1.045         27        640: 100%|██████████| 235/235 [00:54<00:00,  4.34it/s]\n",
      "                 Class     Images  Instances      Box(P          R      mAP50  mAP50-95): 100%|██████████| 34/34 [00:12<00:00,  2.75it/s]\n"
     ]
    },
    {
     "name": "stdout",
     "output_type": "stream",
     "text": [
      "                   all       1065       1192      0.945      0.853      0.927      0.845\n",
      "\n",
      "      Epoch    GPU_mem   box_loss   cls_loss   dfl_loss  Instances       Size\n"
     ]
    },
    {
     "name": "stderr",
     "output_type": "stream",
     "text": [
      "       8/50      1.96G     0.3329      0.587      1.046         24        640: 100%|██████████| 235/235 [00:53<00:00,  4.38it/s]\n",
      "                 Class     Images  Instances      Box(P          R      mAP50  mAP50-95): 100%|██████████| 34/34 [00:10<00:00,  3.13it/s]\n"
     ]
    },
    {
     "name": "stdout",
     "output_type": "stream",
     "text": [
      "                   all       1065       1192      0.916      0.802      0.896      0.821\n",
      "\n",
      "      Epoch    GPU_mem   box_loss   cls_loss   dfl_loss  Instances       Size\n"
     ]
    },
    {
     "name": "stderr",
     "output_type": "stream",
     "text": [
      "       9/50      1.97G     0.3269     0.5535      1.041         30        640: 100%|██████████| 235/235 [00:53<00:00,  4.42it/s]\n",
      "                 Class     Images  Instances      Box(P          R      mAP50  mAP50-95): 100%|██████████| 34/34 [00:11<00:00,  3.09it/s]\n"
     ]
    },
    {
     "name": "stdout",
     "output_type": "stream",
     "text": [
      "                   all       1065       1192      0.936      0.866      0.931      0.852\n",
      "\n",
      "      Epoch    GPU_mem   box_loss   cls_loss   dfl_loss  Instances       Size\n"
     ]
    },
    {
     "name": "stderr",
     "output_type": "stream",
     "text": [
      "      10/50      1.99G     0.3187      0.532      1.035         29        640: 100%|██████████| 235/235 [00:53<00:00,  4.37it/s]\n",
      "                 Class     Images  Instances      Box(P          R      mAP50  mAP50-95): 100%|██████████| 34/34 [00:10<00:00,  3.10it/s]\n"
     ]
    },
    {
     "name": "stdout",
     "output_type": "stream",
     "text": [
      "                   all       1065       1192      0.963      0.876      0.931      0.858\n",
      "\n",
      "      Epoch    GPU_mem   box_loss   cls_loss   dfl_loss  Instances       Size\n"
     ]
    },
    {
     "name": "stderr",
     "output_type": "stream",
     "text": [
      "      11/50      2.01G      0.319     0.5249      1.029         25        640: 100%|██████████| 235/235 [00:53<00:00,  4.43it/s]\n",
      "                 Class     Images  Instances      Box(P          R      mAP50  mAP50-95): 100%|██████████| 34/34 [00:10<00:00,  3.18it/s]\n"
     ]
    },
    {
     "name": "stdout",
     "output_type": "stream",
     "text": [
      "                   all       1065       1192      0.942      0.854      0.937      0.844\n",
      "\n",
      "      Epoch    GPU_mem   box_loss   cls_loss   dfl_loss  Instances       Size\n"
     ]
    },
    {
     "name": "stderr",
     "output_type": "stream",
     "text": [
      "      12/50         2G     0.3117     0.5153      1.028         31        640: 100%|██████████| 235/235 [00:55<00:00,  4.22it/s]\n",
      "                 Class     Images  Instances      Box(P          R      mAP50  mAP50-95): 100%|██████████| 34/34 [00:12<00:00,  2.65it/s]"
     ]
    },
    {
     "name": "stdout",
     "output_type": "stream",
     "text": [
      "                   all       1065       1192      0.965      0.856       0.94      0.854\n"
     ]
    },
    {
     "name": "stderr",
     "output_type": "stream",
     "text": [
      "\n"
     ]
    },
    {
     "name": "stdout",
     "output_type": "stream",
     "text": [
      "\n",
      "      Epoch    GPU_mem   box_loss   cls_loss   dfl_loss  Instances       Size\n"
     ]
    },
    {
     "name": "stderr",
     "output_type": "stream",
     "text": [
      "      13/50         2G     0.3066      0.496      1.026         35        640: 100%|██████████| 235/235 [00:53<00:00,  4.37it/s]\n",
      "                 Class     Images  Instances      Box(P          R      mAP50  mAP50-95): 100%|██████████| 34/34 [00:10<00:00,  3.15it/s]"
     ]
    },
    {
     "name": "stdout",
     "output_type": "stream",
     "text": [
      "                   all       1065       1192      0.968      0.866      0.947      0.856\n"
     ]
    },
    {
     "name": "stderr",
     "output_type": "stream",
     "text": [
      "\n"
     ]
    },
    {
     "name": "stdout",
     "output_type": "stream",
     "text": [
      "\n",
      "      Epoch    GPU_mem   box_loss   cls_loss   dfl_loss  Instances       Size\n"
     ]
    },
    {
     "name": "stderr",
     "output_type": "stream",
     "text": [
      "      14/50         2G     0.3013     0.4777      1.021         31        640: 100%|██████████| 235/235 [00:52<00:00,  4.47it/s]\n",
      "                 Class     Images  Instances      Box(P          R      mAP50  mAP50-95): 100%|██████████| 34/34 [00:10<00:00,  3.22it/s]"
     ]
    },
    {
     "name": "stdout",
     "output_type": "stream",
     "text": [
      "                   all       1065       1192      0.932      0.868      0.931      0.849\n"
     ]
    },
    {
     "name": "stderr",
     "output_type": "stream",
     "text": [
      "\n"
     ]
    },
    {
     "name": "stdout",
     "output_type": "stream",
     "text": [
      "\n",
      "      Epoch    GPU_mem   box_loss   cls_loss   dfl_loss  Instances       Size\n"
     ]
    },
    {
     "name": "stderr",
     "output_type": "stream",
     "text": [
      "      15/50      2.01G     0.2954     0.4662      1.021         28        640: 100%|██████████| 235/235 [00:52<00:00,  4.48it/s]\n",
      "                 Class     Images  Instances      Box(P          R      mAP50  mAP50-95): 100%|██████████| 34/34 [00:10<00:00,  3.18it/s]"
     ]
    },
    {
     "name": "stdout",
     "output_type": "stream",
     "text": [
      "                   all       1065       1192      0.976      0.874      0.948      0.881\n"
     ]
    },
    {
     "name": "stderr",
     "output_type": "stream",
     "text": [
      "\n"
     ]
    },
    {
     "name": "stdout",
     "output_type": "stream",
     "text": [
      "\n",
      "      Epoch    GPU_mem   box_loss   cls_loss   dfl_loss  Instances       Size\n"
     ]
    },
    {
     "name": "stderr",
     "output_type": "stream",
     "text": [
      "      16/50      1.97G     0.2899     0.4593      1.018         27        640: 100%|██████████| 235/235 [00:55<00:00,  4.24it/s]\n",
      "                 Class     Images  Instances      Box(P          R      mAP50  mAP50-95): 100%|██████████| 34/34 [00:11<00:00,  3.01it/s]\n"
     ]
    },
    {
     "name": "stdout",
     "output_type": "stream",
     "text": [
      "                   all       1065       1192      0.948      0.863      0.944      0.874\n",
      "\n",
      "      Epoch    GPU_mem   box_loss   cls_loss   dfl_loss  Instances       Size\n"
     ]
    },
    {
     "name": "stderr",
     "output_type": "stream",
     "text": [
      "      17/50      1.97G     0.2895     0.4483      1.014         33        640: 100%|██████████| 235/235 [00:56<00:00,  4.15it/s]\n",
      "                 Class     Images  Instances      Box(P          R      mAP50  mAP50-95): 100%|██████████| 34/34 [00:11<00:00,  2.86it/s]"
     ]
    },
    {
     "name": "stdout",
     "output_type": "stream",
     "text": [
      "                   all       1065       1192      0.976       0.88      0.949      0.883\n"
     ]
    },
    {
     "name": "stderr",
     "output_type": "stream",
     "text": [
      "\n"
     ]
    },
    {
     "name": "stdout",
     "output_type": "stream",
     "text": [
      "\n",
      "      Epoch    GPU_mem   box_loss   cls_loss   dfl_loss  Instances       Size\n"
     ]
    },
    {
     "name": "stderr",
     "output_type": "stream",
     "text": [
      "      18/50      1.98G     0.2776     0.4382      1.008         30        640: 100%|██████████| 235/235 [00:54<00:00,  4.34it/s]\n",
      "                 Class     Images  Instances      Box(P          R      mAP50  mAP50-95): 100%|██████████| 34/34 [00:11<00:00,  3.05it/s]\n"
     ]
    },
    {
     "name": "stdout",
     "output_type": "stream",
     "text": [
      "                   all       1065       1192      0.968      0.869      0.937      0.867\n",
      "\n",
      "      Epoch    GPU_mem   box_loss   cls_loss   dfl_loss  Instances       Size\n"
     ]
    },
    {
     "name": "stderr",
     "output_type": "stream",
     "text": [
      "      19/50         2G     0.2799     0.4316      1.007         27        640: 100%|██████████| 235/235 [00:53<00:00,  4.39it/s]\n",
      "                 Class     Images  Instances      Box(P          R      mAP50  mAP50-95): 100%|██████████| 34/34 [00:10<00:00,  3.22it/s]"
     ]
    },
    {
     "name": "stdout",
     "output_type": "stream",
     "text": [
      "                   all       1065       1192      0.987      0.883       0.95      0.879\n"
     ]
    },
    {
     "name": "stderr",
     "output_type": "stream",
     "text": [
      "\n"
     ]
    },
    {
     "name": "stdout",
     "output_type": "stream",
     "text": [
      "\n",
      "      Epoch    GPU_mem   box_loss   cls_loss   dfl_loss  Instances       Size\n"
     ]
    },
    {
     "name": "stderr",
     "output_type": "stream",
     "text": [
      "      20/50      2.02G     0.2782     0.4217      1.009         30        640: 100%|██████████| 235/235 [00:53<00:00,  4.39it/s]\n",
      "                 Class     Images  Instances      Box(P          R      mAP50  mAP50-95): 100%|██████████| 34/34 [00:11<00:00,  3.06it/s]"
     ]
    },
    {
     "name": "stdout",
     "output_type": "stream",
     "text": [
      "                   all       1065       1192      0.965      0.882       0.95      0.891\n"
     ]
    },
    {
     "name": "stderr",
     "output_type": "stream",
     "text": [
      "\n"
     ]
    },
    {
     "name": "stdout",
     "output_type": "stream",
     "text": [
      "\n",
      "      Epoch    GPU_mem   box_loss   cls_loss   dfl_loss  Instances       Size\n"
     ]
    },
    {
     "name": "stderr",
     "output_type": "stream",
     "text": [
      "      21/50         2G      0.272     0.4212      1.003         26        640: 100%|██████████| 235/235 [00:53<00:00,  4.38it/s]\n",
      "                 Class     Images  Instances      Box(P          R      mAP50  mAP50-95): 100%|██████████| 34/34 [00:11<00:00,  3.04it/s]"
     ]
    },
    {
     "name": "stdout",
     "output_type": "stream",
     "text": [
      "                   all       1065       1192      0.977      0.886      0.951      0.889\n"
     ]
    },
    {
     "name": "stderr",
     "output_type": "stream",
     "text": [
      "\n"
     ]
    },
    {
     "name": "stdout",
     "output_type": "stream",
     "text": [
      "\n",
      "      Epoch    GPU_mem   box_loss   cls_loss   dfl_loss  Instances       Size\n"
     ]
    },
    {
     "name": "stderr",
     "output_type": "stream",
     "text": [
      "      22/50      1.96G     0.2674     0.4072     0.9967         32        640: 100%|██████████| 235/235 [01:19<00:00,  2.97it/s]\n",
      "                 Class     Images  Instances      Box(P          R      mAP50  mAP50-95): 100%|██████████| 34/34 [00:21<00:00,  1.55it/s]"
     ]
    },
    {
     "name": "stdout",
     "output_type": "stream",
     "text": [
      "                   all       1065       1192      0.975      0.872      0.944      0.881\n"
     ]
    },
    {
     "name": "stderr",
     "output_type": "stream",
     "text": [
      "\n"
     ]
    },
    {
     "name": "stdout",
     "output_type": "stream",
     "text": [
      "\n",
      "      Epoch    GPU_mem   box_loss   cls_loss   dfl_loss  Instances       Size\n"
     ]
    },
    {
     "name": "stderr",
     "output_type": "stream",
     "text": [
      "      23/50      1.96G     0.2657     0.4085     0.9979         30        640: 100%|██████████| 235/235 [01:31<00:00,  2.57it/s]\n",
      "                 Class     Images  Instances      Box(P          R      mAP50  mAP50-95): 100%|██████████| 34/34 [00:22<00:00,  1.51it/s]"
     ]
    },
    {
     "name": "stdout",
     "output_type": "stream",
     "text": [
      "                   all       1065       1192      0.965      0.888      0.954        0.9\n"
     ]
    },
    {
     "name": "stderr",
     "output_type": "stream",
     "text": [
      "\n"
     ]
    },
    {
     "name": "stdout",
     "output_type": "stream",
     "text": [
      "\n",
      "      Epoch    GPU_mem   box_loss   cls_loss   dfl_loss  Instances       Size\n"
     ]
    },
    {
     "name": "stderr",
     "output_type": "stream",
     "text": [
      "      24/50      1.98G     0.2652     0.4036     0.9947         23        640: 100%|██████████| 235/235 [01:37<00:00,  2.42it/s]\n",
      "                 Class     Images  Instances      Box(P          R      mAP50  mAP50-95): 100%|██████████| 34/34 [00:23<00:00,  1.44it/s]"
     ]
    },
    {
     "name": "stdout",
     "output_type": "stream",
     "text": [
      "                   all       1065       1192       0.98       0.89       0.95      0.891\n"
     ]
    },
    {
     "name": "stderr",
     "output_type": "stream",
     "text": [
      "\n"
     ]
    },
    {
     "name": "stdout",
     "output_type": "stream",
     "text": [
      "\n",
      "      Epoch    GPU_mem   box_loss   cls_loss   dfl_loss  Instances       Size\n"
     ]
    },
    {
     "name": "stderr",
     "output_type": "stream",
     "text": [
      "      25/50      1.99G     0.2637     0.3904     0.9955         31        640: 100%|██████████| 235/235 [01:32<00:00,  2.54it/s]\n",
      "                 Class     Images  Instances      Box(P          R      mAP50  mAP50-95): 100%|██████████| 34/34 [00:22<00:00,  1.50it/s]"
     ]
    },
    {
     "name": "stdout",
     "output_type": "stream",
     "text": [
      "                   all       1065       1192      0.962      0.875      0.951      0.869\n"
     ]
    },
    {
     "name": "stderr",
     "output_type": "stream",
     "text": [
      "\n"
     ]
    },
    {
     "name": "stdout",
     "output_type": "stream",
     "text": [
      "\n",
      "      Epoch    GPU_mem   box_loss   cls_loss   dfl_loss  Instances       Size\n"
     ]
    },
    {
     "name": "stderr",
     "output_type": "stream",
     "text": [
      "      26/50      2.01G     0.2606      0.386     0.9975         29        640: 100%|██████████| 235/235 [01:32<00:00,  2.53it/s]\n",
      "                 Class     Images  Instances      Box(P          R      mAP50  mAP50-95): 100%|██████████| 34/34 [00:22<00:00,  1.54it/s]"
     ]
    },
    {
     "name": "stdout",
     "output_type": "stream",
     "text": [
      "                   all       1065       1192      0.953      0.908       0.96      0.902\n"
     ]
    },
    {
     "name": "stderr",
     "output_type": "stream",
     "text": [
      "\n"
     ]
    },
    {
     "name": "stdout",
     "output_type": "stream",
     "text": [
      "\n",
      "      Epoch    GPU_mem   box_loss   cls_loss   dfl_loss  Instances       Size\n"
     ]
    },
    {
     "name": "stderr",
     "output_type": "stream",
     "text": [
      "      27/50      1.98G     0.2604     0.3806     0.9939         33        640: 100%|██████████| 235/235 [02:00<00:00,  1.95it/s]\n",
      "                 Class     Images  Instances      Box(P          R      mAP50  mAP50-95): 100%|██████████| 34/34 [00:25<00:00,  1.34it/s]"
     ]
    },
    {
     "name": "stdout",
     "output_type": "stream",
     "text": [
      "                   all       1065       1192      0.981      0.892      0.958      0.903\n"
     ]
    },
    {
     "name": "stderr",
     "output_type": "stream",
     "text": [
      "\n"
     ]
    },
    {
     "name": "stdout",
     "output_type": "stream",
     "text": [
      "\n",
      "      Epoch    GPU_mem   box_loss   cls_loss   dfl_loss  Instances       Size\n"
     ]
    },
    {
     "name": "stderr",
     "output_type": "stream",
     "text": [
      "      28/50      1.98G     0.2557     0.3801     0.9943         31        640: 100%|██████████| 235/235 [01:37<00:00,  2.42it/s]\n",
      "                 Class     Images  Instances      Box(P          R      mAP50  mAP50-95): 100%|██████████| 34/34 [00:24<00:00,  1.42it/s]"
     ]
    },
    {
     "name": "stdout",
     "output_type": "stream",
     "text": [
      "                   all       1065       1192       0.98      0.892      0.962      0.907\n"
     ]
    },
    {
     "name": "stderr",
     "output_type": "stream",
     "text": [
      "\n"
     ]
    },
    {
     "name": "stdout",
     "output_type": "stream",
     "text": [
      "\n",
      "      Epoch    GPU_mem   box_loss   cls_loss   dfl_loss  Instances       Size\n"
     ]
    },
    {
     "name": "stderr",
     "output_type": "stream",
     "text": [
      "      29/50      1.99G     0.2483      0.362     0.9873         31        640: 100%|██████████| 235/235 [00:56<00:00,  4.14it/s]\n",
      "                 Class     Images  Instances      Box(P          R      mAP50  mAP50-95): 100%|██████████| 34/34 [00:11<00:00,  3.06it/s]"
     ]
    },
    {
     "name": "stdout",
     "output_type": "stream",
     "text": [
      "                   all       1065       1192      0.946      0.921      0.959       0.91\n"
     ]
    },
    {
     "name": "stderr",
     "output_type": "stream",
     "text": [
      "\n"
     ]
    },
    {
     "name": "stdout",
     "output_type": "stream",
     "text": [
      "\n",
      "      Epoch    GPU_mem   box_loss   cls_loss   dfl_loss  Instances       Size\n"
     ]
    },
    {
     "name": "stderr",
     "output_type": "stream",
     "text": [
      "      30/50      2.01G     0.2516     0.3704     0.9896         26        640: 100%|██████████| 235/235 [00:52<00:00,  4.49it/s]\n",
      "                 Class     Images  Instances      Box(P          R      mAP50  mAP50-95): 100%|██████████| 34/34 [00:10<00:00,  3.15it/s]"
     ]
    },
    {
     "name": "stdout",
     "output_type": "stream",
     "text": [
      "                   all       1065       1192      0.988      0.885       0.96      0.905\n"
     ]
    },
    {
     "name": "stderr",
     "output_type": "stream",
     "text": [
      "\n"
     ]
    },
    {
     "name": "stdout",
     "output_type": "stream",
     "text": [
      "\n",
      "      Epoch    GPU_mem   box_loss   cls_loss   dfl_loss  Instances       Size\n"
     ]
    },
    {
     "name": "stderr",
     "output_type": "stream",
     "text": [
      "      31/50      1.96G     0.2522     0.3527     0.9903         34        640: 100%|██████████| 235/235 [00:52<00:00,  4.46it/s]\n",
      "                 Class     Images  Instances      Box(P          R      mAP50  mAP50-95): 100%|██████████| 34/34 [00:10<00:00,  3.10it/s]"
     ]
    },
    {
     "name": "stdout",
     "output_type": "stream",
     "text": [
      "                   all       1065       1192      0.976      0.893      0.961      0.905\n"
     ]
    },
    {
     "name": "stderr",
     "output_type": "stream",
     "text": [
      "\n"
     ]
    },
    {
     "name": "stdout",
     "output_type": "stream",
     "text": [
      "\n",
      "      Epoch    GPU_mem   box_loss   cls_loss   dfl_loss  Instances       Size\n"
     ]
    },
    {
     "name": "stderr",
     "output_type": "stream",
     "text": [
      "      32/50      1.96G     0.2557     0.3648     0.9927         28        640: 100%|██████████| 235/235 [00:52<00:00,  4.48it/s]\n",
      "                 Class     Images  Instances      Box(P          R      mAP50  mAP50-95): 100%|██████████| 34/34 [00:10<00:00,  3.20it/s]"
     ]
    },
    {
     "name": "stdout",
     "output_type": "stream",
     "text": [
      "                   all       1065       1192      0.957      0.913       0.96      0.907\n"
     ]
    },
    {
     "name": "stderr",
     "output_type": "stream",
     "text": [
      "\n"
     ]
    },
    {
     "name": "stdout",
     "output_type": "stream",
     "text": [
      "\u001b[34m\u001b[1mEarlyStopping: \u001b[0mTraining stopped early as no improvement observed in last 3 epochs. Best results observed at epoch 29, best model saved as best.pt.\n",
      "To update EarlyStopping(patience=3) pass a new patience value, i.e. `patience=300` or use `patience=0` to disable EarlyStopping.\n",
      "\n",
      "32 epochs completed in 0.697 hours.\n",
      "Optimizer stripped from runs\\detect\\motorcycle-yolo18\\weights\\last.pt, 6.2MB\n",
      "Optimizer stripped from runs\\detect\\motorcycle-yolo18\\weights\\best.pt, 6.2MB\n",
      "\n",
      "Validating runs\\detect\\motorcycle-yolo18\\weights\\best.pt...\n",
      "Ultralytics 8.3.158  Python-3.10.18 torch-2.7.1+cu118 CUDA:0 (NVIDIA GeForce RTX 3050 Laptop GPU, 4096MiB)\n",
      "Model summary (fused): 72 layers, 3,006,428 parameters, 0 gradients, 8.1 GFLOPs\n"
     ]
    },
    {
     "name": "stderr",
     "output_type": "stream",
     "text": [
      "                 Class     Images  Instances      Box(P          R      mAP50  mAP50-95): 100%|██████████| 34/34 [00:12<00:00,  2.79it/s]\n"
     ]
    },
    {
     "name": "stdout",
     "output_type": "stream",
     "text": [
      "                   all       1065       1192      0.947      0.921      0.959       0.91\n",
      "               cordana        189        310      0.847      0.716      0.868       0.78\n",
      "              fusarium        261        261      0.965      0.989      0.987      0.907\n",
      "               healthy        291        294      0.981       0.99      0.994       0.97\n",
      "              sigatoka        323        327      0.995      0.988      0.987      0.984\n",
      "Speed: 0.4ms preprocess, 3.0ms inference, 0.0ms loss, 2.3ms postprocess per image\n",
      "Results saved to \u001b[1mruns\\detect\\motorcycle-yolo18\u001b[0m\n"
     ]
    },
    {
     "data": {
      "text/plain": [
       "ultralytics.utils.metrics.DetMetrics object with attributes:\n",
       "\n",
       "ap_class_index: array([0, 1, 2, 3])\n",
       "box: ultralytics.utils.metrics.Metric object\n",
       "confusion_matrix: <ultralytics.utils.metrics.ConfusionMatrix object at 0x0000029C73F31390>\n",
       "curves: ['Precision-Recall(B)', 'F1-Confidence(B)', 'Precision-Confidence(B)', 'Recall-Confidence(B)']\n",
       "curves_results: [[array([          0,    0.001001,    0.002002,    0.003003,    0.004004,    0.005005,    0.006006,    0.007007,    0.008008,    0.009009,     0.01001,    0.011011,    0.012012,    0.013013,    0.014014,    0.015015,    0.016016,    0.017017,    0.018018,    0.019019,     0.02002,    0.021021,    0.022022,    0.023023,\n",
       "          0.024024,    0.025025,    0.026026,    0.027027,    0.028028,    0.029029,     0.03003,    0.031031,    0.032032,    0.033033,    0.034034,    0.035035,    0.036036,    0.037037,    0.038038,    0.039039,     0.04004,    0.041041,    0.042042,    0.043043,    0.044044,    0.045045,    0.046046,    0.047047,\n",
       "          0.048048,    0.049049,     0.05005,    0.051051,    0.052052,    0.053053,    0.054054,    0.055055,    0.056056,    0.057057,    0.058058,    0.059059,     0.06006,    0.061061,    0.062062,    0.063063,    0.064064,    0.065065,    0.066066,    0.067067,    0.068068,    0.069069,     0.07007,    0.071071,\n",
       "          0.072072,    0.073073,    0.074074,    0.075075,    0.076076,    0.077077,    0.078078,    0.079079,     0.08008,    0.081081,    0.082082,    0.083083,    0.084084,    0.085085,    0.086086,    0.087087,    0.088088,    0.089089,     0.09009,    0.091091,    0.092092,    0.093093,    0.094094,    0.095095,\n",
       "          0.096096,    0.097097,    0.098098,    0.099099,      0.1001,      0.1011,      0.1021,      0.1031,      0.1041,     0.10511,     0.10611,     0.10711,     0.10811,     0.10911,     0.11011,     0.11111,     0.11211,     0.11311,     0.11411,     0.11512,     0.11612,     0.11712,     0.11812,     0.11912,\n",
       "           0.12012,     0.12112,     0.12212,     0.12312,     0.12412,     0.12513,     0.12613,     0.12713,     0.12813,     0.12913,     0.13013,     0.13113,     0.13213,     0.13313,     0.13413,     0.13514,     0.13614,     0.13714,     0.13814,     0.13914,     0.14014,     0.14114,     0.14214,     0.14314,\n",
       "           0.14414,     0.14515,     0.14615,     0.14715,     0.14815,     0.14915,     0.15015,     0.15115,     0.15215,     0.15315,     0.15415,     0.15516,     0.15616,     0.15716,     0.15816,     0.15916,     0.16016,     0.16116,     0.16216,     0.16316,     0.16416,     0.16517,     0.16617,     0.16717,\n",
       "           0.16817,     0.16917,     0.17017,     0.17117,     0.17217,     0.17317,     0.17417,     0.17518,     0.17618,     0.17718,     0.17818,     0.17918,     0.18018,     0.18118,     0.18218,     0.18318,     0.18418,     0.18519,     0.18619,     0.18719,     0.18819,     0.18919,     0.19019,     0.19119,\n",
       "           0.19219,     0.19319,     0.19419,      0.1952,      0.1962,      0.1972,      0.1982,      0.1992,      0.2002,      0.2012,      0.2022,      0.2032,      0.2042,     0.20521,     0.20621,     0.20721,     0.20821,     0.20921,     0.21021,     0.21121,     0.21221,     0.21321,     0.21421,     0.21522,\n",
       "           0.21622,     0.21722,     0.21822,     0.21922,     0.22022,     0.22122,     0.22222,     0.22322,     0.22422,     0.22523,     0.22623,     0.22723,     0.22823,     0.22923,     0.23023,     0.23123,     0.23223,     0.23323,     0.23423,     0.23524,     0.23624,     0.23724,     0.23824,     0.23924,\n",
       "           0.24024,     0.24124,     0.24224,     0.24324,     0.24424,     0.24525,     0.24625,     0.24725,     0.24825,     0.24925,     0.25025,     0.25125,     0.25225,     0.25325,     0.25425,     0.25526,     0.25626,     0.25726,     0.25826,     0.25926,     0.26026,     0.26126,     0.26226,     0.26326,\n",
       "           0.26426,     0.26527,     0.26627,     0.26727,     0.26827,     0.26927,     0.27027,     0.27127,     0.27227,     0.27327,     0.27427,     0.27528,     0.27628,     0.27728,     0.27828,     0.27928,     0.28028,     0.28128,     0.28228,     0.28328,     0.28428,     0.28529,     0.28629,     0.28729,\n",
       "           0.28829,     0.28929,     0.29029,     0.29129,     0.29229,     0.29329,     0.29429,      0.2953,      0.2963,      0.2973,      0.2983,      0.2993,      0.3003,      0.3013,      0.3023,      0.3033,      0.3043,     0.30531,     0.30631,     0.30731,     0.30831,     0.30931,     0.31031,     0.31131,\n",
       "           0.31231,     0.31331,     0.31431,     0.31532,     0.31632,     0.31732,     0.31832,     0.31932,     0.32032,     0.32132,     0.32232,     0.32332,     0.32432,     0.32533,     0.32633,     0.32733,     0.32833,     0.32933,     0.33033,     0.33133,     0.33233,     0.33333,     0.33433,     0.33534,\n",
       "           0.33634,     0.33734,     0.33834,     0.33934,     0.34034,     0.34134,     0.34234,     0.34334,     0.34434,     0.34535,     0.34635,     0.34735,     0.34835,     0.34935,     0.35035,     0.35135,     0.35235,     0.35335,     0.35435,     0.35536,     0.35636,     0.35736,     0.35836,     0.35936,\n",
       "           0.36036,     0.36136,     0.36236,     0.36336,     0.36436,     0.36537,     0.36637,     0.36737,     0.36837,     0.36937,     0.37037,     0.37137,     0.37237,     0.37337,     0.37437,     0.37538,     0.37638,     0.37738,     0.37838,     0.37938,     0.38038,     0.38138,     0.38238,     0.38338,\n",
       "           0.38438,     0.38539,     0.38639,     0.38739,     0.38839,     0.38939,     0.39039,     0.39139,     0.39239,     0.39339,     0.39439,      0.3954,      0.3964,      0.3974,      0.3984,      0.3994,      0.4004,      0.4014,      0.4024,      0.4034,      0.4044,     0.40541,     0.40641,     0.40741,\n",
       "           0.40841,     0.40941,     0.41041,     0.41141,     0.41241,     0.41341,     0.41441,     0.41542,     0.41642,     0.41742,     0.41842,     0.41942,     0.42042,     0.42142,     0.42242,     0.42342,     0.42442,     0.42543,     0.42643,     0.42743,     0.42843,     0.42943,     0.43043,     0.43143,\n",
       "           0.43243,     0.43343,     0.43443,     0.43544,     0.43644,     0.43744,     0.43844,     0.43944,     0.44044,     0.44144,     0.44244,     0.44344,     0.44444,     0.44545,     0.44645,     0.44745,     0.44845,     0.44945,     0.45045,     0.45145,     0.45245,     0.45345,     0.45445,     0.45546,\n",
       "           0.45646,     0.45746,     0.45846,     0.45946,     0.46046,     0.46146,     0.46246,     0.46346,     0.46446,     0.46547,     0.46647,     0.46747,     0.46847,     0.46947,     0.47047,     0.47147,     0.47247,     0.47347,     0.47447,     0.47548,     0.47648,     0.47748,     0.47848,     0.47948,\n",
       "           0.48048,     0.48148,     0.48248,     0.48348,     0.48448,     0.48549,     0.48649,     0.48749,     0.48849,     0.48949,     0.49049,     0.49149,     0.49249,     0.49349,     0.49449,      0.4955,      0.4965,      0.4975,      0.4985,      0.4995,      0.5005,      0.5015,      0.5025,      0.5035,\n",
       "            0.5045,     0.50551,     0.50651,     0.50751,     0.50851,     0.50951,     0.51051,     0.51151,     0.51251,     0.51351,     0.51451,     0.51552,     0.51652,     0.51752,     0.51852,     0.51952,     0.52052,     0.52152,     0.52252,     0.52352,     0.52452,     0.52553,     0.52653,     0.52753,\n",
       "           0.52853,     0.52953,     0.53053,     0.53153,     0.53253,     0.53353,     0.53453,     0.53554,     0.53654,     0.53754,     0.53854,     0.53954,     0.54054,     0.54154,     0.54254,     0.54354,     0.54454,     0.54555,     0.54655,     0.54755,     0.54855,     0.54955,     0.55055,     0.55155,\n",
       "           0.55255,     0.55355,     0.55455,     0.55556,     0.55656,     0.55756,     0.55856,     0.55956,     0.56056,     0.56156,     0.56256,     0.56356,     0.56456,     0.56557,     0.56657,     0.56757,     0.56857,     0.56957,     0.57057,     0.57157,     0.57257,     0.57357,     0.57457,     0.57558,\n",
       "           0.57658,     0.57758,     0.57858,     0.57958,     0.58058,     0.58158,     0.58258,     0.58358,     0.58458,     0.58559,     0.58659,     0.58759,     0.58859,     0.58959,     0.59059,     0.59159,     0.59259,     0.59359,     0.59459,      0.5956,      0.5966,      0.5976,      0.5986,      0.5996,\n",
       "            0.6006,      0.6016,      0.6026,      0.6036,      0.6046,     0.60561,     0.60661,     0.60761,     0.60861,     0.60961,     0.61061,     0.61161,     0.61261,     0.61361,     0.61461,     0.61562,     0.61662,     0.61762,     0.61862,     0.61962,     0.62062,     0.62162,     0.62262,     0.62362,\n",
       "           0.62462,     0.62563,     0.62663,     0.62763,     0.62863,     0.62963,     0.63063,     0.63163,     0.63263,     0.63363,     0.63463,     0.63564,     0.63664,     0.63764,     0.63864,     0.63964,     0.64064,     0.64164,     0.64264,     0.64364,     0.64464,     0.64565,     0.64665,     0.64765,\n",
       "           0.64865,     0.64965,     0.65065,     0.65165,     0.65265,     0.65365,     0.65465,     0.65566,     0.65666,     0.65766,     0.65866,     0.65966,     0.66066,     0.66166,     0.66266,     0.66366,     0.66466,     0.66567,     0.66667,     0.66767,     0.66867,     0.66967,     0.67067,     0.67167,\n",
       "           0.67267,     0.67367,     0.67467,     0.67568,     0.67668,     0.67768,     0.67868,     0.67968,     0.68068,     0.68168,     0.68268,     0.68368,     0.68468,     0.68569,     0.68669,     0.68769,     0.68869,     0.68969,     0.69069,     0.69169,     0.69269,     0.69369,     0.69469,      0.6957,\n",
       "            0.6967,      0.6977,      0.6987,      0.6997,      0.7007,      0.7017,      0.7027,      0.7037,      0.7047,     0.70571,     0.70671,     0.70771,     0.70871,     0.70971,     0.71071,     0.71171,     0.71271,     0.71371,     0.71471,     0.71572,     0.71672,     0.71772,     0.71872,     0.71972,\n",
       "           0.72072,     0.72172,     0.72272,     0.72372,     0.72472,     0.72573,     0.72673,     0.72773,     0.72873,     0.72973,     0.73073,     0.73173,     0.73273,     0.73373,     0.73473,     0.73574,     0.73674,     0.73774,     0.73874,     0.73974,     0.74074,     0.74174,     0.74274,     0.74374,\n",
       "           0.74474,     0.74575,     0.74675,     0.74775,     0.74875,     0.74975,     0.75075,     0.75175,     0.75275,     0.75375,     0.75475,     0.75576,     0.75676,     0.75776,     0.75876,     0.75976,     0.76076,     0.76176,     0.76276,     0.76376,     0.76476,     0.76577,     0.76677,     0.76777,\n",
       "           0.76877,     0.76977,     0.77077,     0.77177,     0.77277,     0.77377,     0.77477,     0.77578,     0.77678,     0.77778,     0.77878,     0.77978,     0.78078,     0.78178,     0.78278,     0.78378,     0.78478,     0.78579,     0.78679,     0.78779,     0.78879,     0.78979,     0.79079,     0.79179,\n",
       "           0.79279,     0.79379,     0.79479,      0.7958,      0.7968,      0.7978,      0.7988,      0.7998,      0.8008,      0.8018,      0.8028,      0.8038,      0.8048,     0.80581,     0.80681,     0.80781,     0.80881,     0.80981,     0.81081,     0.81181,     0.81281,     0.81381,     0.81481,     0.81582,\n",
       "           0.81682,     0.81782,     0.81882,     0.81982,     0.82082,     0.82182,     0.82282,     0.82382,     0.82482,     0.82583,     0.82683,     0.82783,     0.82883,     0.82983,     0.83083,     0.83183,     0.83283,     0.83383,     0.83483,     0.83584,     0.83684,     0.83784,     0.83884,     0.83984,\n",
       "           0.84084,     0.84184,     0.84284,     0.84384,     0.84484,     0.84585,     0.84685,     0.84785,     0.84885,     0.84985,     0.85085,     0.85185,     0.85285,     0.85385,     0.85485,     0.85586,     0.85686,     0.85786,     0.85886,     0.85986,     0.86086,     0.86186,     0.86286,     0.86386,\n",
       "           0.86486,     0.86587,     0.86687,     0.86787,     0.86887,     0.86987,     0.87087,     0.87187,     0.87287,     0.87387,     0.87487,     0.87588,     0.87688,     0.87788,     0.87888,     0.87988,     0.88088,     0.88188,     0.88288,     0.88388,     0.88488,     0.88589,     0.88689,     0.88789,\n",
       "           0.88889,     0.88989,     0.89089,     0.89189,     0.89289,     0.89389,     0.89489,      0.8959,      0.8969,      0.8979,      0.8989,      0.8999,      0.9009,      0.9019,      0.9029,      0.9039,      0.9049,     0.90591,     0.90691,     0.90791,     0.90891,     0.90991,     0.91091,     0.91191,\n",
       "           0.91291,     0.91391,     0.91491,     0.91592,     0.91692,     0.91792,     0.91892,     0.91992,     0.92092,     0.92192,     0.92292,     0.92392,     0.92492,     0.92593,     0.92693,     0.92793,     0.92893,     0.92993,     0.93093,     0.93193,     0.93293,     0.93393,     0.93493,     0.93594,\n",
       "           0.93694,     0.93794,     0.93894,     0.93994,     0.94094,     0.94194,     0.94294,     0.94394,     0.94494,     0.94595,     0.94695,     0.94795,     0.94895,     0.94995,     0.95095,     0.95195,     0.95295,     0.95395,     0.95495,     0.95596,     0.95696,     0.95796,     0.95896,     0.95996,\n",
       "           0.96096,     0.96196,     0.96296,     0.96396,     0.96496,     0.96597,     0.96697,     0.96797,     0.96897,     0.96997,     0.97097,     0.97197,     0.97297,     0.97397,     0.97497,     0.97598,     0.97698,     0.97798,     0.97898,     0.97998,     0.98098,     0.98198,     0.98298,     0.98398,\n",
       "           0.98498,     0.98599,     0.98699,     0.98799,     0.98899,     0.98999,     0.99099,     0.99199,     0.99299,     0.99399,     0.99499,       0.996,       0.997,       0.998,       0.999,           1]), array([[          1,           1,           1, ...,   0.0035558,   0.0017779,           0],\n",
       "       [          1,           1,           1, ...,         0.9,         0.9,           0],\n",
       "       [          1,           1,           1, ...,    0.081463,    0.040731,           0],\n",
       "       [          1,           1,           1, ...,     0.18548,     0.18548,           0]]), 'Recall', 'Precision'], [array([          0,    0.001001,    0.002002,    0.003003,    0.004004,    0.005005,    0.006006,    0.007007,    0.008008,    0.009009,     0.01001,    0.011011,    0.012012,    0.013013,    0.014014,    0.015015,    0.016016,    0.017017,    0.018018,    0.019019,     0.02002,    0.021021,    0.022022,    0.023023,\n",
       "          0.024024,    0.025025,    0.026026,    0.027027,    0.028028,    0.029029,     0.03003,    0.031031,    0.032032,    0.033033,    0.034034,    0.035035,    0.036036,    0.037037,    0.038038,    0.039039,     0.04004,    0.041041,    0.042042,    0.043043,    0.044044,    0.045045,    0.046046,    0.047047,\n",
       "          0.048048,    0.049049,     0.05005,    0.051051,    0.052052,    0.053053,    0.054054,    0.055055,    0.056056,    0.057057,    0.058058,    0.059059,     0.06006,    0.061061,    0.062062,    0.063063,    0.064064,    0.065065,    0.066066,    0.067067,    0.068068,    0.069069,     0.07007,    0.071071,\n",
       "          0.072072,    0.073073,    0.074074,    0.075075,    0.076076,    0.077077,    0.078078,    0.079079,     0.08008,    0.081081,    0.082082,    0.083083,    0.084084,    0.085085,    0.086086,    0.087087,    0.088088,    0.089089,     0.09009,    0.091091,    0.092092,    0.093093,    0.094094,    0.095095,\n",
       "          0.096096,    0.097097,    0.098098,    0.099099,      0.1001,      0.1011,      0.1021,      0.1031,      0.1041,     0.10511,     0.10611,     0.10711,     0.10811,     0.10911,     0.11011,     0.11111,     0.11211,     0.11311,     0.11411,     0.11512,     0.11612,     0.11712,     0.11812,     0.11912,\n",
       "           0.12012,     0.12112,     0.12212,     0.12312,     0.12412,     0.12513,     0.12613,     0.12713,     0.12813,     0.12913,     0.13013,     0.13113,     0.13213,     0.13313,     0.13413,     0.13514,     0.13614,     0.13714,     0.13814,     0.13914,     0.14014,     0.14114,     0.14214,     0.14314,\n",
       "           0.14414,     0.14515,     0.14615,     0.14715,     0.14815,     0.14915,     0.15015,     0.15115,     0.15215,     0.15315,     0.15415,     0.15516,     0.15616,     0.15716,     0.15816,     0.15916,     0.16016,     0.16116,     0.16216,     0.16316,     0.16416,     0.16517,     0.16617,     0.16717,\n",
       "           0.16817,     0.16917,     0.17017,     0.17117,     0.17217,     0.17317,     0.17417,     0.17518,     0.17618,     0.17718,     0.17818,     0.17918,     0.18018,     0.18118,     0.18218,     0.18318,     0.18418,     0.18519,     0.18619,     0.18719,     0.18819,     0.18919,     0.19019,     0.19119,\n",
       "           0.19219,     0.19319,     0.19419,      0.1952,      0.1962,      0.1972,      0.1982,      0.1992,      0.2002,      0.2012,      0.2022,      0.2032,      0.2042,     0.20521,     0.20621,     0.20721,     0.20821,     0.20921,     0.21021,     0.21121,     0.21221,     0.21321,     0.21421,     0.21522,\n",
       "           0.21622,     0.21722,     0.21822,     0.21922,     0.22022,     0.22122,     0.22222,     0.22322,     0.22422,     0.22523,     0.22623,     0.22723,     0.22823,     0.22923,     0.23023,     0.23123,     0.23223,     0.23323,     0.23423,     0.23524,     0.23624,     0.23724,     0.23824,     0.23924,\n",
       "           0.24024,     0.24124,     0.24224,     0.24324,     0.24424,     0.24525,     0.24625,     0.24725,     0.24825,     0.24925,     0.25025,     0.25125,     0.25225,     0.25325,     0.25425,     0.25526,     0.25626,     0.25726,     0.25826,     0.25926,     0.26026,     0.26126,     0.26226,     0.26326,\n",
       "           0.26426,     0.26527,     0.26627,     0.26727,     0.26827,     0.26927,     0.27027,     0.27127,     0.27227,     0.27327,     0.27427,     0.27528,     0.27628,     0.27728,     0.27828,     0.27928,     0.28028,     0.28128,     0.28228,     0.28328,     0.28428,     0.28529,     0.28629,     0.28729,\n",
       "           0.28829,     0.28929,     0.29029,     0.29129,     0.29229,     0.29329,     0.29429,      0.2953,      0.2963,      0.2973,      0.2983,      0.2993,      0.3003,      0.3013,      0.3023,      0.3033,      0.3043,     0.30531,     0.30631,     0.30731,     0.30831,     0.30931,     0.31031,     0.31131,\n",
       "           0.31231,     0.31331,     0.31431,     0.31532,     0.31632,     0.31732,     0.31832,     0.31932,     0.32032,     0.32132,     0.32232,     0.32332,     0.32432,     0.32533,     0.32633,     0.32733,     0.32833,     0.32933,     0.33033,     0.33133,     0.33233,     0.33333,     0.33433,     0.33534,\n",
       "           0.33634,     0.33734,     0.33834,     0.33934,     0.34034,     0.34134,     0.34234,     0.34334,     0.34434,     0.34535,     0.34635,     0.34735,     0.34835,     0.34935,     0.35035,     0.35135,     0.35235,     0.35335,     0.35435,     0.35536,     0.35636,     0.35736,     0.35836,     0.35936,\n",
       "           0.36036,     0.36136,     0.36236,     0.36336,     0.36436,     0.36537,     0.36637,     0.36737,     0.36837,     0.36937,     0.37037,     0.37137,     0.37237,     0.37337,     0.37437,     0.37538,     0.37638,     0.37738,     0.37838,     0.37938,     0.38038,     0.38138,     0.38238,     0.38338,\n",
       "           0.38438,     0.38539,     0.38639,     0.38739,     0.38839,     0.38939,     0.39039,     0.39139,     0.39239,     0.39339,     0.39439,      0.3954,      0.3964,      0.3974,      0.3984,      0.3994,      0.4004,      0.4014,      0.4024,      0.4034,      0.4044,     0.40541,     0.40641,     0.40741,\n",
       "           0.40841,     0.40941,     0.41041,     0.41141,     0.41241,     0.41341,     0.41441,     0.41542,     0.41642,     0.41742,     0.41842,     0.41942,     0.42042,     0.42142,     0.42242,     0.42342,     0.42442,     0.42543,     0.42643,     0.42743,     0.42843,     0.42943,     0.43043,     0.43143,\n",
       "           0.43243,     0.43343,     0.43443,     0.43544,     0.43644,     0.43744,     0.43844,     0.43944,     0.44044,     0.44144,     0.44244,     0.44344,     0.44444,     0.44545,     0.44645,     0.44745,     0.44845,     0.44945,     0.45045,     0.45145,     0.45245,     0.45345,     0.45445,     0.45546,\n",
       "           0.45646,     0.45746,     0.45846,     0.45946,     0.46046,     0.46146,     0.46246,     0.46346,     0.46446,     0.46547,     0.46647,     0.46747,     0.46847,     0.46947,     0.47047,     0.47147,     0.47247,     0.47347,     0.47447,     0.47548,     0.47648,     0.47748,     0.47848,     0.47948,\n",
       "           0.48048,     0.48148,     0.48248,     0.48348,     0.48448,     0.48549,     0.48649,     0.48749,     0.48849,     0.48949,     0.49049,     0.49149,     0.49249,     0.49349,     0.49449,      0.4955,      0.4965,      0.4975,      0.4985,      0.4995,      0.5005,      0.5015,      0.5025,      0.5035,\n",
       "            0.5045,     0.50551,     0.50651,     0.50751,     0.50851,     0.50951,     0.51051,     0.51151,     0.51251,     0.51351,     0.51451,     0.51552,     0.51652,     0.51752,     0.51852,     0.51952,     0.52052,     0.52152,     0.52252,     0.52352,     0.52452,     0.52553,     0.52653,     0.52753,\n",
       "           0.52853,     0.52953,     0.53053,     0.53153,     0.53253,     0.53353,     0.53453,     0.53554,     0.53654,     0.53754,     0.53854,     0.53954,     0.54054,     0.54154,     0.54254,     0.54354,     0.54454,     0.54555,     0.54655,     0.54755,     0.54855,     0.54955,     0.55055,     0.55155,\n",
       "           0.55255,     0.55355,     0.55455,     0.55556,     0.55656,     0.55756,     0.55856,     0.55956,     0.56056,     0.56156,     0.56256,     0.56356,     0.56456,     0.56557,     0.56657,     0.56757,     0.56857,     0.56957,     0.57057,     0.57157,     0.57257,     0.57357,     0.57457,     0.57558,\n",
       "           0.57658,     0.57758,     0.57858,     0.57958,     0.58058,     0.58158,     0.58258,     0.58358,     0.58458,     0.58559,     0.58659,     0.58759,     0.58859,     0.58959,     0.59059,     0.59159,     0.59259,     0.59359,     0.59459,      0.5956,      0.5966,      0.5976,      0.5986,      0.5996,\n",
       "            0.6006,      0.6016,      0.6026,      0.6036,      0.6046,     0.60561,     0.60661,     0.60761,     0.60861,     0.60961,     0.61061,     0.61161,     0.61261,     0.61361,     0.61461,     0.61562,     0.61662,     0.61762,     0.61862,     0.61962,     0.62062,     0.62162,     0.62262,     0.62362,\n",
       "           0.62462,     0.62563,     0.62663,     0.62763,     0.62863,     0.62963,     0.63063,     0.63163,     0.63263,     0.63363,     0.63463,     0.63564,     0.63664,     0.63764,     0.63864,     0.63964,     0.64064,     0.64164,     0.64264,     0.64364,     0.64464,     0.64565,     0.64665,     0.64765,\n",
       "           0.64865,     0.64965,     0.65065,     0.65165,     0.65265,     0.65365,     0.65465,     0.65566,     0.65666,     0.65766,     0.65866,     0.65966,     0.66066,     0.66166,     0.66266,     0.66366,     0.66466,     0.66567,     0.66667,     0.66767,     0.66867,     0.66967,     0.67067,     0.67167,\n",
       "           0.67267,     0.67367,     0.67467,     0.67568,     0.67668,     0.67768,     0.67868,     0.67968,     0.68068,     0.68168,     0.68268,     0.68368,     0.68468,     0.68569,     0.68669,     0.68769,     0.68869,     0.68969,     0.69069,     0.69169,     0.69269,     0.69369,     0.69469,      0.6957,\n",
       "            0.6967,      0.6977,      0.6987,      0.6997,      0.7007,      0.7017,      0.7027,      0.7037,      0.7047,     0.70571,     0.70671,     0.70771,     0.70871,     0.70971,     0.71071,     0.71171,     0.71271,     0.71371,     0.71471,     0.71572,     0.71672,     0.71772,     0.71872,     0.71972,\n",
       "           0.72072,     0.72172,     0.72272,     0.72372,     0.72472,     0.72573,     0.72673,     0.72773,     0.72873,     0.72973,     0.73073,     0.73173,     0.73273,     0.73373,     0.73473,     0.73574,     0.73674,     0.73774,     0.73874,     0.73974,     0.74074,     0.74174,     0.74274,     0.74374,\n",
       "           0.74474,     0.74575,     0.74675,     0.74775,     0.74875,     0.74975,     0.75075,     0.75175,     0.75275,     0.75375,     0.75475,     0.75576,     0.75676,     0.75776,     0.75876,     0.75976,     0.76076,     0.76176,     0.76276,     0.76376,     0.76476,     0.76577,     0.76677,     0.76777,\n",
       "           0.76877,     0.76977,     0.77077,     0.77177,     0.77277,     0.77377,     0.77477,     0.77578,     0.77678,     0.77778,     0.77878,     0.77978,     0.78078,     0.78178,     0.78278,     0.78378,     0.78478,     0.78579,     0.78679,     0.78779,     0.78879,     0.78979,     0.79079,     0.79179,\n",
       "           0.79279,     0.79379,     0.79479,      0.7958,      0.7968,      0.7978,      0.7988,      0.7998,      0.8008,      0.8018,      0.8028,      0.8038,      0.8048,     0.80581,     0.80681,     0.80781,     0.80881,     0.80981,     0.81081,     0.81181,     0.81281,     0.81381,     0.81481,     0.81582,\n",
       "           0.81682,     0.81782,     0.81882,     0.81982,     0.82082,     0.82182,     0.82282,     0.82382,     0.82482,     0.82583,     0.82683,     0.82783,     0.82883,     0.82983,     0.83083,     0.83183,     0.83283,     0.83383,     0.83483,     0.83584,     0.83684,     0.83784,     0.83884,     0.83984,\n",
       "           0.84084,     0.84184,     0.84284,     0.84384,     0.84484,     0.84585,     0.84685,     0.84785,     0.84885,     0.84985,     0.85085,     0.85185,     0.85285,     0.85385,     0.85485,     0.85586,     0.85686,     0.85786,     0.85886,     0.85986,     0.86086,     0.86186,     0.86286,     0.86386,\n",
       "           0.86486,     0.86587,     0.86687,     0.86787,     0.86887,     0.86987,     0.87087,     0.87187,     0.87287,     0.87387,     0.87487,     0.87588,     0.87688,     0.87788,     0.87888,     0.87988,     0.88088,     0.88188,     0.88288,     0.88388,     0.88488,     0.88589,     0.88689,     0.88789,\n",
       "           0.88889,     0.88989,     0.89089,     0.89189,     0.89289,     0.89389,     0.89489,      0.8959,      0.8969,      0.8979,      0.8989,      0.8999,      0.9009,      0.9019,      0.9029,      0.9039,      0.9049,     0.90591,     0.90691,     0.90791,     0.90891,     0.90991,     0.91091,     0.91191,\n",
       "           0.91291,     0.91391,     0.91491,     0.91592,     0.91692,     0.91792,     0.91892,     0.91992,     0.92092,     0.92192,     0.92292,     0.92392,     0.92492,     0.92593,     0.92693,     0.92793,     0.92893,     0.92993,     0.93093,     0.93193,     0.93293,     0.93393,     0.93493,     0.93594,\n",
       "           0.93694,     0.93794,     0.93894,     0.93994,     0.94094,     0.94194,     0.94294,     0.94394,     0.94494,     0.94595,     0.94695,     0.94795,     0.94895,     0.94995,     0.95095,     0.95195,     0.95295,     0.95395,     0.95495,     0.95596,     0.95696,     0.95796,     0.95896,     0.95996,\n",
       "           0.96096,     0.96196,     0.96296,     0.96396,     0.96496,     0.96597,     0.96697,     0.96797,     0.96897,     0.96997,     0.97097,     0.97197,     0.97297,     0.97397,     0.97497,     0.97598,     0.97698,     0.97798,     0.97898,     0.97998,     0.98098,     0.98198,     0.98298,     0.98398,\n",
       "           0.98498,     0.98599,     0.98699,     0.98799,     0.98899,     0.98999,     0.99099,     0.99199,     0.99299,     0.99399,     0.99499,       0.996,       0.997,       0.998,       0.999,           1]), array([[    0.07705,     0.07705,     0.12407, ...,           0,           0,           0],\n",
       "       [    0.20616,     0.20616,     0.31711, ...,           0,           0,           0],\n",
       "       [    0.24305,     0.24305,      0.3626, ...,           0,           0,           0],\n",
       "       [    0.27724,     0.27724,     0.38032, ...,           0,           0,           0]]), 'Confidence', 'F1'], [array([          0,    0.001001,    0.002002,    0.003003,    0.004004,    0.005005,    0.006006,    0.007007,    0.008008,    0.009009,     0.01001,    0.011011,    0.012012,    0.013013,    0.014014,    0.015015,    0.016016,    0.017017,    0.018018,    0.019019,     0.02002,    0.021021,    0.022022,    0.023023,\n",
       "          0.024024,    0.025025,    0.026026,    0.027027,    0.028028,    0.029029,     0.03003,    0.031031,    0.032032,    0.033033,    0.034034,    0.035035,    0.036036,    0.037037,    0.038038,    0.039039,     0.04004,    0.041041,    0.042042,    0.043043,    0.044044,    0.045045,    0.046046,    0.047047,\n",
       "          0.048048,    0.049049,     0.05005,    0.051051,    0.052052,    0.053053,    0.054054,    0.055055,    0.056056,    0.057057,    0.058058,    0.059059,     0.06006,    0.061061,    0.062062,    0.063063,    0.064064,    0.065065,    0.066066,    0.067067,    0.068068,    0.069069,     0.07007,    0.071071,\n",
       "          0.072072,    0.073073,    0.074074,    0.075075,    0.076076,    0.077077,    0.078078,    0.079079,     0.08008,    0.081081,    0.082082,    0.083083,    0.084084,    0.085085,    0.086086,    0.087087,    0.088088,    0.089089,     0.09009,    0.091091,    0.092092,    0.093093,    0.094094,    0.095095,\n",
       "          0.096096,    0.097097,    0.098098,    0.099099,      0.1001,      0.1011,      0.1021,      0.1031,      0.1041,     0.10511,     0.10611,     0.10711,     0.10811,     0.10911,     0.11011,     0.11111,     0.11211,     0.11311,     0.11411,     0.11512,     0.11612,     0.11712,     0.11812,     0.11912,\n",
       "           0.12012,     0.12112,     0.12212,     0.12312,     0.12412,     0.12513,     0.12613,     0.12713,     0.12813,     0.12913,     0.13013,     0.13113,     0.13213,     0.13313,     0.13413,     0.13514,     0.13614,     0.13714,     0.13814,     0.13914,     0.14014,     0.14114,     0.14214,     0.14314,\n",
       "           0.14414,     0.14515,     0.14615,     0.14715,     0.14815,     0.14915,     0.15015,     0.15115,     0.15215,     0.15315,     0.15415,     0.15516,     0.15616,     0.15716,     0.15816,     0.15916,     0.16016,     0.16116,     0.16216,     0.16316,     0.16416,     0.16517,     0.16617,     0.16717,\n",
       "           0.16817,     0.16917,     0.17017,     0.17117,     0.17217,     0.17317,     0.17417,     0.17518,     0.17618,     0.17718,     0.17818,     0.17918,     0.18018,     0.18118,     0.18218,     0.18318,     0.18418,     0.18519,     0.18619,     0.18719,     0.18819,     0.18919,     0.19019,     0.19119,\n",
       "           0.19219,     0.19319,     0.19419,      0.1952,      0.1962,      0.1972,      0.1982,      0.1992,      0.2002,      0.2012,      0.2022,      0.2032,      0.2042,     0.20521,     0.20621,     0.20721,     0.20821,     0.20921,     0.21021,     0.21121,     0.21221,     0.21321,     0.21421,     0.21522,\n",
       "           0.21622,     0.21722,     0.21822,     0.21922,     0.22022,     0.22122,     0.22222,     0.22322,     0.22422,     0.22523,     0.22623,     0.22723,     0.22823,     0.22923,     0.23023,     0.23123,     0.23223,     0.23323,     0.23423,     0.23524,     0.23624,     0.23724,     0.23824,     0.23924,\n",
       "           0.24024,     0.24124,     0.24224,     0.24324,     0.24424,     0.24525,     0.24625,     0.24725,     0.24825,     0.24925,     0.25025,     0.25125,     0.25225,     0.25325,     0.25425,     0.25526,     0.25626,     0.25726,     0.25826,     0.25926,     0.26026,     0.26126,     0.26226,     0.26326,\n",
       "           0.26426,     0.26527,     0.26627,     0.26727,     0.26827,     0.26927,     0.27027,     0.27127,     0.27227,     0.27327,     0.27427,     0.27528,     0.27628,     0.27728,     0.27828,     0.27928,     0.28028,     0.28128,     0.28228,     0.28328,     0.28428,     0.28529,     0.28629,     0.28729,\n",
       "           0.28829,     0.28929,     0.29029,     0.29129,     0.29229,     0.29329,     0.29429,      0.2953,      0.2963,      0.2973,      0.2983,      0.2993,      0.3003,      0.3013,      0.3023,      0.3033,      0.3043,     0.30531,     0.30631,     0.30731,     0.30831,     0.30931,     0.31031,     0.31131,\n",
       "           0.31231,     0.31331,     0.31431,     0.31532,     0.31632,     0.31732,     0.31832,     0.31932,     0.32032,     0.32132,     0.32232,     0.32332,     0.32432,     0.32533,     0.32633,     0.32733,     0.32833,     0.32933,     0.33033,     0.33133,     0.33233,     0.33333,     0.33433,     0.33534,\n",
       "           0.33634,     0.33734,     0.33834,     0.33934,     0.34034,     0.34134,     0.34234,     0.34334,     0.34434,     0.34535,     0.34635,     0.34735,     0.34835,     0.34935,     0.35035,     0.35135,     0.35235,     0.35335,     0.35435,     0.35536,     0.35636,     0.35736,     0.35836,     0.35936,\n",
       "           0.36036,     0.36136,     0.36236,     0.36336,     0.36436,     0.36537,     0.36637,     0.36737,     0.36837,     0.36937,     0.37037,     0.37137,     0.37237,     0.37337,     0.37437,     0.37538,     0.37638,     0.37738,     0.37838,     0.37938,     0.38038,     0.38138,     0.38238,     0.38338,\n",
       "           0.38438,     0.38539,     0.38639,     0.38739,     0.38839,     0.38939,     0.39039,     0.39139,     0.39239,     0.39339,     0.39439,      0.3954,      0.3964,      0.3974,      0.3984,      0.3994,      0.4004,      0.4014,      0.4024,      0.4034,      0.4044,     0.40541,     0.40641,     0.40741,\n",
       "           0.40841,     0.40941,     0.41041,     0.41141,     0.41241,     0.41341,     0.41441,     0.41542,     0.41642,     0.41742,     0.41842,     0.41942,     0.42042,     0.42142,     0.42242,     0.42342,     0.42442,     0.42543,     0.42643,     0.42743,     0.42843,     0.42943,     0.43043,     0.43143,\n",
       "           0.43243,     0.43343,     0.43443,     0.43544,     0.43644,     0.43744,     0.43844,     0.43944,     0.44044,     0.44144,     0.44244,     0.44344,     0.44444,     0.44545,     0.44645,     0.44745,     0.44845,     0.44945,     0.45045,     0.45145,     0.45245,     0.45345,     0.45445,     0.45546,\n",
       "           0.45646,     0.45746,     0.45846,     0.45946,     0.46046,     0.46146,     0.46246,     0.46346,     0.46446,     0.46547,     0.46647,     0.46747,     0.46847,     0.46947,     0.47047,     0.47147,     0.47247,     0.47347,     0.47447,     0.47548,     0.47648,     0.47748,     0.47848,     0.47948,\n",
       "           0.48048,     0.48148,     0.48248,     0.48348,     0.48448,     0.48549,     0.48649,     0.48749,     0.48849,     0.48949,     0.49049,     0.49149,     0.49249,     0.49349,     0.49449,      0.4955,      0.4965,      0.4975,      0.4985,      0.4995,      0.5005,      0.5015,      0.5025,      0.5035,\n",
       "            0.5045,     0.50551,     0.50651,     0.50751,     0.50851,     0.50951,     0.51051,     0.51151,     0.51251,     0.51351,     0.51451,     0.51552,     0.51652,     0.51752,     0.51852,     0.51952,     0.52052,     0.52152,     0.52252,     0.52352,     0.52452,     0.52553,     0.52653,     0.52753,\n",
       "           0.52853,     0.52953,     0.53053,     0.53153,     0.53253,     0.53353,     0.53453,     0.53554,     0.53654,     0.53754,     0.53854,     0.53954,     0.54054,     0.54154,     0.54254,     0.54354,     0.54454,     0.54555,     0.54655,     0.54755,     0.54855,     0.54955,     0.55055,     0.55155,\n",
       "           0.55255,     0.55355,     0.55455,     0.55556,     0.55656,     0.55756,     0.55856,     0.55956,     0.56056,     0.56156,     0.56256,     0.56356,     0.56456,     0.56557,     0.56657,     0.56757,     0.56857,     0.56957,     0.57057,     0.57157,     0.57257,     0.57357,     0.57457,     0.57558,\n",
       "           0.57658,     0.57758,     0.57858,     0.57958,     0.58058,     0.58158,     0.58258,     0.58358,     0.58458,     0.58559,     0.58659,     0.58759,     0.58859,     0.58959,     0.59059,     0.59159,     0.59259,     0.59359,     0.59459,      0.5956,      0.5966,      0.5976,      0.5986,      0.5996,\n",
       "            0.6006,      0.6016,      0.6026,      0.6036,      0.6046,     0.60561,     0.60661,     0.60761,     0.60861,     0.60961,     0.61061,     0.61161,     0.61261,     0.61361,     0.61461,     0.61562,     0.61662,     0.61762,     0.61862,     0.61962,     0.62062,     0.62162,     0.62262,     0.62362,\n",
       "           0.62462,     0.62563,     0.62663,     0.62763,     0.62863,     0.62963,     0.63063,     0.63163,     0.63263,     0.63363,     0.63463,     0.63564,     0.63664,     0.63764,     0.63864,     0.63964,     0.64064,     0.64164,     0.64264,     0.64364,     0.64464,     0.64565,     0.64665,     0.64765,\n",
       "           0.64865,     0.64965,     0.65065,     0.65165,     0.65265,     0.65365,     0.65465,     0.65566,     0.65666,     0.65766,     0.65866,     0.65966,     0.66066,     0.66166,     0.66266,     0.66366,     0.66466,     0.66567,     0.66667,     0.66767,     0.66867,     0.66967,     0.67067,     0.67167,\n",
       "           0.67267,     0.67367,     0.67467,     0.67568,     0.67668,     0.67768,     0.67868,     0.67968,     0.68068,     0.68168,     0.68268,     0.68368,     0.68468,     0.68569,     0.68669,     0.68769,     0.68869,     0.68969,     0.69069,     0.69169,     0.69269,     0.69369,     0.69469,      0.6957,\n",
       "            0.6967,      0.6977,      0.6987,      0.6997,      0.7007,      0.7017,      0.7027,      0.7037,      0.7047,     0.70571,     0.70671,     0.70771,     0.70871,     0.70971,     0.71071,     0.71171,     0.71271,     0.71371,     0.71471,     0.71572,     0.71672,     0.71772,     0.71872,     0.71972,\n",
       "           0.72072,     0.72172,     0.72272,     0.72372,     0.72472,     0.72573,     0.72673,     0.72773,     0.72873,     0.72973,     0.73073,     0.73173,     0.73273,     0.73373,     0.73473,     0.73574,     0.73674,     0.73774,     0.73874,     0.73974,     0.74074,     0.74174,     0.74274,     0.74374,\n",
       "           0.74474,     0.74575,     0.74675,     0.74775,     0.74875,     0.74975,     0.75075,     0.75175,     0.75275,     0.75375,     0.75475,     0.75576,     0.75676,     0.75776,     0.75876,     0.75976,     0.76076,     0.76176,     0.76276,     0.76376,     0.76476,     0.76577,     0.76677,     0.76777,\n",
       "           0.76877,     0.76977,     0.77077,     0.77177,     0.77277,     0.77377,     0.77477,     0.77578,     0.77678,     0.77778,     0.77878,     0.77978,     0.78078,     0.78178,     0.78278,     0.78378,     0.78478,     0.78579,     0.78679,     0.78779,     0.78879,     0.78979,     0.79079,     0.79179,\n",
       "           0.79279,     0.79379,     0.79479,      0.7958,      0.7968,      0.7978,      0.7988,      0.7998,      0.8008,      0.8018,      0.8028,      0.8038,      0.8048,     0.80581,     0.80681,     0.80781,     0.80881,     0.80981,     0.81081,     0.81181,     0.81281,     0.81381,     0.81481,     0.81582,\n",
       "           0.81682,     0.81782,     0.81882,     0.81982,     0.82082,     0.82182,     0.82282,     0.82382,     0.82482,     0.82583,     0.82683,     0.82783,     0.82883,     0.82983,     0.83083,     0.83183,     0.83283,     0.83383,     0.83483,     0.83584,     0.83684,     0.83784,     0.83884,     0.83984,\n",
       "           0.84084,     0.84184,     0.84284,     0.84384,     0.84484,     0.84585,     0.84685,     0.84785,     0.84885,     0.84985,     0.85085,     0.85185,     0.85285,     0.85385,     0.85485,     0.85586,     0.85686,     0.85786,     0.85886,     0.85986,     0.86086,     0.86186,     0.86286,     0.86386,\n",
       "           0.86486,     0.86587,     0.86687,     0.86787,     0.86887,     0.86987,     0.87087,     0.87187,     0.87287,     0.87387,     0.87487,     0.87588,     0.87688,     0.87788,     0.87888,     0.87988,     0.88088,     0.88188,     0.88288,     0.88388,     0.88488,     0.88589,     0.88689,     0.88789,\n",
       "           0.88889,     0.88989,     0.89089,     0.89189,     0.89289,     0.89389,     0.89489,      0.8959,      0.8969,      0.8979,      0.8989,      0.8999,      0.9009,      0.9019,      0.9029,      0.9039,      0.9049,     0.90591,     0.90691,     0.90791,     0.90891,     0.90991,     0.91091,     0.91191,\n",
       "           0.91291,     0.91391,     0.91491,     0.91592,     0.91692,     0.91792,     0.91892,     0.91992,     0.92092,     0.92192,     0.92292,     0.92392,     0.92492,     0.92593,     0.92693,     0.92793,     0.92893,     0.92993,     0.93093,     0.93193,     0.93293,     0.93393,     0.93493,     0.93594,\n",
       "           0.93694,     0.93794,     0.93894,     0.93994,     0.94094,     0.94194,     0.94294,     0.94394,     0.94494,     0.94595,     0.94695,     0.94795,     0.94895,     0.94995,     0.95095,     0.95195,     0.95295,     0.95395,     0.95495,     0.95596,     0.95696,     0.95796,     0.95896,     0.95996,\n",
       "           0.96096,     0.96196,     0.96296,     0.96396,     0.96496,     0.96597,     0.96697,     0.96797,     0.96897,     0.96997,     0.97097,     0.97197,     0.97297,     0.97397,     0.97497,     0.97598,     0.97698,     0.97798,     0.97898,     0.97998,     0.98098,     0.98198,     0.98298,     0.98398,\n",
       "           0.98498,     0.98599,     0.98699,     0.98799,     0.98899,     0.98999,     0.99099,     0.99199,     0.99299,     0.99399,     0.99499,       0.996,       0.997,       0.998,       0.999,           1]), array([[   0.040106,    0.040106,    0.066256, ...,           1,           1,           1],\n",
       "       [    0.11493,     0.11493,     0.18843, ...,           1,           1,           1],\n",
       "       [     0.1384,      0.1384,     0.22162, ...,           1,           1,           1],\n",
       "       [    0.16093,     0.16093,     0.23515, ...,           1,           1,           1]]), 'Confidence', 'Precision'], [array([          0,    0.001001,    0.002002,    0.003003,    0.004004,    0.005005,    0.006006,    0.007007,    0.008008,    0.009009,     0.01001,    0.011011,    0.012012,    0.013013,    0.014014,    0.015015,    0.016016,    0.017017,    0.018018,    0.019019,     0.02002,    0.021021,    0.022022,    0.023023,\n",
       "          0.024024,    0.025025,    0.026026,    0.027027,    0.028028,    0.029029,     0.03003,    0.031031,    0.032032,    0.033033,    0.034034,    0.035035,    0.036036,    0.037037,    0.038038,    0.039039,     0.04004,    0.041041,    0.042042,    0.043043,    0.044044,    0.045045,    0.046046,    0.047047,\n",
       "          0.048048,    0.049049,     0.05005,    0.051051,    0.052052,    0.053053,    0.054054,    0.055055,    0.056056,    0.057057,    0.058058,    0.059059,     0.06006,    0.061061,    0.062062,    0.063063,    0.064064,    0.065065,    0.066066,    0.067067,    0.068068,    0.069069,     0.07007,    0.071071,\n",
       "          0.072072,    0.073073,    0.074074,    0.075075,    0.076076,    0.077077,    0.078078,    0.079079,     0.08008,    0.081081,    0.082082,    0.083083,    0.084084,    0.085085,    0.086086,    0.087087,    0.088088,    0.089089,     0.09009,    0.091091,    0.092092,    0.093093,    0.094094,    0.095095,\n",
       "          0.096096,    0.097097,    0.098098,    0.099099,      0.1001,      0.1011,      0.1021,      0.1031,      0.1041,     0.10511,     0.10611,     0.10711,     0.10811,     0.10911,     0.11011,     0.11111,     0.11211,     0.11311,     0.11411,     0.11512,     0.11612,     0.11712,     0.11812,     0.11912,\n",
       "           0.12012,     0.12112,     0.12212,     0.12312,     0.12412,     0.12513,     0.12613,     0.12713,     0.12813,     0.12913,     0.13013,     0.13113,     0.13213,     0.13313,     0.13413,     0.13514,     0.13614,     0.13714,     0.13814,     0.13914,     0.14014,     0.14114,     0.14214,     0.14314,\n",
       "           0.14414,     0.14515,     0.14615,     0.14715,     0.14815,     0.14915,     0.15015,     0.15115,     0.15215,     0.15315,     0.15415,     0.15516,     0.15616,     0.15716,     0.15816,     0.15916,     0.16016,     0.16116,     0.16216,     0.16316,     0.16416,     0.16517,     0.16617,     0.16717,\n",
       "           0.16817,     0.16917,     0.17017,     0.17117,     0.17217,     0.17317,     0.17417,     0.17518,     0.17618,     0.17718,     0.17818,     0.17918,     0.18018,     0.18118,     0.18218,     0.18318,     0.18418,     0.18519,     0.18619,     0.18719,     0.18819,     0.18919,     0.19019,     0.19119,\n",
       "           0.19219,     0.19319,     0.19419,      0.1952,      0.1962,      0.1972,      0.1982,      0.1992,      0.2002,      0.2012,      0.2022,      0.2032,      0.2042,     0.20521,     0.20621,     0.20721,     0.20821,     0.20921,     0.21021,     0.21121,     0.21221,     0.21321,     0.21421,     0.21522,\n",
       "           0.21622,     0.21722,     0.21822,     0.21922,     0.22022,     0.22122,     0.22222,     0.22322,     0.22422,     0.22523,     0.22623,     0.22723,     0.22823,     0.22923,     0.23023,     0.23123,     0.23223,     0.23323,     0.23423,     0.23524,     0.23624,     0.23724,     0.23824,     0.23924,\n",
       "           0.24024,     0.24124,     0.24224,     0.24324,     0.24424,     0.24525,     0.24625,     0.24725,     0.24825,     0.24925,     0.25025,     0.25125,     0.25225,     0.25325,     0.25425,     0.25526,     0.25626,     0.25726,     0.25826,     0.25926,     0.26026,     0.26126,     0.26226,     0.26326,\n",
       "           0.26426,     0.26527,     0.26627,     0.26727,     0.26827,     0.26927,     0.27027,     0.27127,     0.27227,     0.27327,     0.27427,     0.27528,     0.27628,     0.27728,     0.27828,     0.27928,     0.28028,     0.28128,     0.28228,     0.28328,     0.28428,     0.28529,     0.28629,     0.28729,\n",
       "           0.28829,     0.28929,     0.29029,     0.29129,     0.29229,     0.29329,     0.29429,      0.2953,      0.2963,      0.2973,      0.2983,      0.2993,      0.3003,      0.3013,      0.3023,      0.3033,      0.3043,     0.30531,     0.30631,     0.30731,     0.30831,     0.30931,     0.31031,     0.31131,\n",
       "           0.31231,     0.31331,     0.31431,     0.31532,     0.31632,     0.31732,     0.31832,     0.31932,     0.32032,     0.32132,     0.32232,     0.32332,     0.32432,     0.32533,     0.32633,     0.32733,     0.32833,     0.32933,     0.33033,     0.33133,     0.33233,     0.33333,     0.33433,     0.33534,\n",
       "           0.33634,     0.33734,     0.33834,     0.33934,     0.34034,     0.34134,     0.34234,     0.34334,     0.34434,     0.34535,     0.34635,     0.34735,     0.34835,     0.34935,     0.35035,     0.35135,     0.35235,     0.35335,     0.35435,     0.35536,     0.35636,     0.35736,     0.35836,     0.35936,\n",
       "           0.36036,     0.36136,     0.36236,     0.36336,     0.36436,     0.36537,     0.36637,     0.36737,     0.36837,     0.36937,     0.37037,     0.37137,     0.37237,     0.37337,     0.37437,     0.37538,     0.37638,     0.37738,     0.37838,     0.37938,     0.38038,     0.38138,     0.38238,     0.38338,\n",
       "           0.38438,     0.38539,     0.38639,     0.38739,     0.38839,     0.38939,     0.39039,     0.39139,     0.39239,     0.39339,     0.39439,      0.3954,      0.3964,      0.3974,      0.3984,      0.3994,      0.4004,      0.4014,      0.4024,      0.4034,      0.4044,     0.40541,     0.40641,     0.40741,\n",
       "           0.40841,     0.40941,     0.41041,     0.41141,     0.41241,     0.41341,     0.41441,     0.41542,     0.41642,     0.41742,     0.41842,     0.41942,     0.42042,     0.42142,     0.42242,     0.42342,     0.42442,     0.42543,     0.42643,     0.42743,     0.42843,     0.42943,     0.43043,     0.43143,\n",
       "           0.43243,     0.43343,     0.43443,     0.43544,     0.43644,     0.43744,     0.43844,     0.43944,     0.44044,     0.44144,     0.44244,     0.44344,     0.44444,     0.44545,     0.44645,     0.44745,     0.44845,     0.44945,     0.45045,     0.45145,     0.45245,     0.45345,     0.45445,     0.45546,\n",
       "           0.45646,     0.45746,     0.45846,     0.45946,     0.46046,     0.46146,     0.46246,     0.46346,     0.46446,     0.46547,     0.46647,     0.46747,     0.46847,     0.46947,     0.47047,     0.47147,     0.47247,     0.47347,     0.47447,     0.47548,     0.47648,     0.47748,     0.47848,     0.47948,\n",
       "           0.48048,     0.48148,     0.48248,     0.48348,     0.48448,     0.48549,     0.48649,     0.48749,     0.48849,     0.48949,     0.49049,     0.49149,     0.49249,     0.49349,     0.49449,      0.4955,      0.4965,      0.4975,      0.4985,      0.4995,      0.5005,      0.5015,      0.5025,      0.5035,\n",
       "            0.5045,     0.50551,     0.50651,     0.50751,     0.50851,     0.50951,     0.51051,     0.51151,     0.51251,     0.51351,     0.51451,     0.51552,     0.51652,     0.51752,     0.51852,     0.51952,     0.52052,     0.52152,     0.52252,     0.52352,     0.52452,     0.52553,     0.52653,     0.52753,\n",
       "           0.52853,     0.52953,     0.53053,     0.53153,     0.53253,     0.53353,     0.53453,     0.53554,     0.53654,     0.53754,     0.53854,     0.53954,     0.54054,     0.54154,     0.54254,     0.54354,     0.54454,     0.54555,     0.54655,     0.54755,     0.54855,     0.54955,     0.55055,     0.55155,\n",
       "           0.55255,     0.55355,     0.55455,     0.55556,     0.55656,     0.55756,     0.55856,     0.55956,     0.56056,     0.56156,     0.56256,     0.56356,     0.56456,     0.56557,     0.56657,     0.56757,     0.56857,     0.56957,     0.57057,     0.57157,     0.57257,     0.57357,     0.57457,     0.57558,\n",
       "           0.57658,     0.57758,     0.57858,     0.57958,     0.58058,     0.58158,     0.58258,     0.58358,     0.58458,     0.58559,     0.58659,     0.58759,     0.58859,     0.58959,     0.59059,     0.59159,     0.59259,     0.59359,     0.59459,      0.5956,      0.5966,      0.5976,      0.5986,      0.5996,\n",
       "            0.6006,      0.6016,      0.6026,      0.6036,      0.6046,     0.60561,     0.60661,     0.60761,     0.60861,     0.60961,     0.61061,     0.61161,     0.61261,     0.61361,     0.61461,     0.61562,     0.61662,     0.61762,     0.61862,     0.61962,     0.62062,     0.62162,     0.62262,     0.62362,\n",
       "           0.62462,     0.62563,     0.62663,     0.62763,     0.62863,     0.62963,     0.63063,     0.63163,     0.63263,     0.63363,     0.63463,     0.63564,     0.63664,     0.63764,     0.63864,     0.63964,     0.64064,     0.64164,     0.64264,     0.64364,     0.64464,     0.64565,     0.64665,     0.64765,\n",
       "           0.64865,     0.64965,     0.65065,     0.65165,     0.65265,     0.65365,     0.65465,     0.65566,     0.65666,     0.65766,     0.65866,     0.65966,     0.66066,     0.66166,     0.66266,     0.66366,     0.66466,     0.66567,     0.66667,     0.66767,     0.66867,     0.66967,     0.67067,     0.67167,\n",
       "           0.67267,     0.67367,     0.67467,     0.67568,     0.67668,     0.67768,     0.67868,     0.67968,     0.68068,     0.68168,     0.68268,     0.68368,     0.68468,     0.68569,     0.68669,     0.68769,     0.68869,     0.68969,     0.69069,     0.69169,     0.69269,     0.69369,     0.69469,      0.6957,\n",
       "            0.6967,      0.6977,      0.6987,      0.6997,      0.7007,      0.7017,      0.7027,      0.7037,      0.7047,     0.70571,     0.70671,     0.70771,     0.70871,     0.70971,     0.71071,     0.71171,     0.71271,     0.71371,     0.71471,     0.71572,     0.71672,     0.71772,     0.71872,     0.71972,\n",
       "           0.72072,     0.72172,     0.72272,     0.72372,     0.72472,     0.72573,     0.72673,     0.72773,     0.72873,     0.72973,     0.73073,     0.73173,     0.73273,     0.73373,     0.73473,     0.73574,     0.73674,     0.73774,     0.73874,     0.73974,     0.74074,     0.74174,     0.74274,     0.74374,\n",
       "           0.74474,     0.74575,     0.74675,     0.74775,     0.74875,     0.74975,     0.75075,     0.75175,     0.75275,     0.75375,     0.75475,     0.75576,     0.75676,     0.75776,     0.75876,     0.75976,     0.76076,     0.76176,     0.76276,     0.76376,     0.76476,     0.76577,     0.76677,     0.76777,\n",
       "           0.76877,     0.76977,     0.77077,     0.77177,     0.77277,     0.77377,     0.77477,     0.77578,     0.77678,     0.77778,     0.77878,     0.77978,     0.78078,     0.78178,     0.78278,     0.78378,     0.78478,     0.78579,     0.78679,     0.78779,     0.78879,     0.78979,     0.79079,     0.79179,\n",
       "           0.79279,     0.79379,     0.79479,      0.7958,      0.7968,      0.7978,      0.7988,      0.7998,      0.8008,      0.8018,      0.8028,      0.8038,      0.8048,     0.80581,     0.80681,     0.80781,     0.80881,     0.80981,     0.81081,     0.81181,     0.81281,     0.81381,     0.81481,     0.81582,\n",
       "           0.81682,     0.81782,     0.81882,     0.81982,     0.82082,     0.82182,     0.82282,     0.82382,     0.82482,     0.82583,     0.82683,     0.82783,     0.82883,     0.82983,     0.83083,     0.83183,     0.83283,     0.83383,     0.83483,     0.83584,     0.83684,     0.83784,     0.83884,     0.83984,\n",
       "           0.84084,     0.84184,     0.84284,     0.84384,     0.84484,     0.84585,     0.84685,     0.84785,     0.84885,     0.84985,     0.85085,     0.85185,     0.85285,     0.85385,     0.85485,     0.85586,     0.85686,     0.85786,     0.85886,     0.85986,     0.86086,     0.86186,     0.86286,     0.86386,\n",
       "           0.86486,     0.86587,     0.86687,     0.86787,     0.86887,     0.86987,     0.87087,     0.87187,     0.87287,     0.87387,     0.87487,     0.87588,     0.87688,     0.87788,     0.87888,     0.87988,     0.88088,     0.88188,     0.88288,     0.88388,     0.88488,     0.88589,     0.88689,     0.88789,\n",
       "           0.88889,     0.88989,     0.89089,     0.89189,     0.89289,     0.89389,     0.89489,      0.8959,      0.8969,      0.8979,      0.8989,      0.8999,      0.9009,      0.9019,      0.9029,      0.9039,      0.9049,     0.90591,     0.90691,     0.90791,     0.90891,     0.90991,     0.91091,     0.91191,\n",
       "           0.91291,     0.91391,     0.91491,     0.91592,     0.91692,     0.91792,     0.91892,     0.91992,     0.92092,     0.92192,     0.92292,     0.92392,     0.92492,     0.92593,     0.92693,     0.92793,     0.92893,     0.92993,     0.93093,     0.93193,     0.93293,     0.93393,     0.93493,     0.93594,\n",
       "           0.93694,     0.93794,     0.93894,     0.93994,     0.94094,     0.94194,     0.94294,     0.94394,     0.94494,     0.94595,     0.94695,     0.94795,     0.94895,     0.94995,     0.95095,     0.95195,     0.95295,     0.95395,     0.95495,     0.95596,     0.95696,     0.95796,     0.95896,     0.95996,\n",
       "           0.96096,     0.96196,     0.96296,     0.96396,     0.96496,     0.96597,     0.96697,     0.96797,     0.96897,     0.96997,     0.97097,     0.97197,     0.97297,     0.97397,     0.97497,     0.97598,     0.97698,     0.97798,     0.97898,     0.97998,     0.98098,     0.98198,     0.98298,     0.98398,\n",
       "           0.98498,     0.98599,     0.98699,     0.98799,     0.98899,     0.98999,     0.99099,     0.99199,     0.99299,     0.99399,     0.99499,       0.996,       0.997,       0.998,       0.999,           1]), array([[    0.97742,     0.97742,     0.97419, ...,           0,           0,           0],\n",
       "       [          1,           1,           1, ...,           0,           0,           0],\n",
       "       [     0.9966,      0.9966,      0.9966, ...,           0,           0,           0],\n",
       "       [          1,           1,     0.99388, ...,           0,           0,           0]]), 'Confidence', 'Recall']]\n",
       "fitness: np.float64(0.9150697195400267)\n",
       "keys: ['metrics/precision(B)', 'metrics/recall(B)', 'metrics/mAP50(B)', 'metrics/mAP50-95(B)']\n",
       "maps: array([    0.77957,     0.90675,     0.97044,     0.98387])\n",
       "names: {0: 'cordana', 1: 'fusarium', 2: 'healthy', 3: 'sigatoka'}\n",
       "nt_per_class: array([310, 261, 294, 327])\n",
       "nt_per_image: array([189, 261, 291, 323])\n",
       "results_dict: {'metrics/precision(B)': np.float64(0.9469311943664454), 'metrics/recall(B)': np.float64(0.9205495704624269), 'metrics/mAP50(B)': np.float64(0.9592965824050221), 'metrics/mAP50-95(B)': np.float64(0.9101556236661382), 'fitness': np.float64(0.9150697195400267)}\n",
       "speed: {'preprocess': 0.390641032862958, 'inference': 2.961112863851215, 'loss': 0.0009707042280892828, 'postprocess': 2.321814929579797}\n",
       "stats: {'tp': [], 'conf': [], 'pred_cls': [], 'target_cls': [], 'target_img': []}\n",
       "task: 'detect'"
      ]
     },
     "execution_count": 3,
     "metadata": {},
     "output_type": "execute_result"
    }
   ],
   "source": [
    "from ultralytics import YOLO\n",
    "\n",
    "print(\"\\n--- Starting YOLO Training with Early Stopping ---\")\n",
    "model = YOLO('yolov8n.pt')\n",
    "\n",
    "model.train(\n",
    "    data=\"C:/Users/samue/Dataset-Pisang-7/data.yaml\",\n",
    "    epochs=50,\n",
    "    imgsz=640,\n",
    "    batch=16,\n",
    "    name='motorcycle-yolo',\n",
    "    patience=3  # <-- stop training jika val loss tidak membaik selama 10 epoch\n",
    ")\n"
   ]
  },
  {
   "cell_type": "code",
   "execution_count": 5,
   "id": "d3e09085-4723-477b-9e8b-0ca1b626035b",
   "metadata": {
    "colab": {
     "base_uri": "https://localhost:8080/",
     "height": 1000
    },
    "id": "d3e09085-4723-477b-9e8b-0ca1b626035b",
    "outputId": "e7aa0c0d-96b8-4073-c578-26d8691d86aa"
   },
   "outputs": [
    {
     "name": "stdout",
     "output_type": "stream",
     "text": [
      "\n",
      "image 1/1 C:\\Users\\samue\\Dataset-Pisang-7\\test\\images\\0_jpg.rf.0e188e31c6b2a793b8e4bccd309c847f.jpg: 640x640 1 cordana, 58.0ms\n",
      "Speed: 11.6ms preprocess, 58.0ms inference, 7.3ms postprocess per image at shape (1, 3, 640, 640)\n"
     ]
    },
    {
     "data": {
      "text/plain": [
       "<Figure size 800x800 with 1 Axes>"
      ]
     },
     "metadata": {},
     "output_type": "display_data"
    },
    {
     "name": "stdout",
     "output_type": "stream",
     "text": [
      "\n",
      "image 1/1 C:\\Users\\samue\\Dataset-Pisang-7\\test\\images\\102_jpg.rf.0f12e4f48c9fdb096ef01e85a27f89a2.jpg: 640x640 1 cordana, 57.2ms\n",
      "Speed: 7.9ms preprocess, 57.2ms inference, 4.1ms postprocess per image at shape (1, 3, 640, 640)\n"
     ]
    },
    {
     "data": {
      "text/plain": [
       "<Figure size 800x800 with 1 Axes>"
      ]
     },
     "metadata": {},
     "output_type": "display_data"
    },
    {
     "name": "stdout",
     "output_type": "stream",
     "text": [
      "\n",
      "image 1/1 C:\\Users\\samue\\Dataset-Pisang-7\\test\\images\\102_jpg.rf.50c220f49a87d3fb7672b430d70e903a.jpg: 640x640 1 cordana, 57.4ms\n",
      "Speed: 7.7ms preprocess, 57.4ms inference, 4.1ms postprocess per image at shape (1, 3, 640, 640)\n"
     ]
    },
    {
     "data": {
      "text/plain": [
       "<Figure size 800x800 with 1 Axes>"
      ]
     },
     "metadata": {},
     "output_type": "display_data"
    },
    {
     "name": "stdout",
     "output_type": "stream",
     "text": [
      "\n",
      "image 1/1 C:\\Users\\samue\\Dataset-Pisang-7\\test\\images\\102_jpg.rf.bac542580e361ddce7e00eebea221d6f.jpg: 640x640 1 healthy, 51.9ms\n",
      "Speed: 8.2ms preprocess, 51.9ms inference, 3.1ms postprocess per image at shape (1, 3, 640, 640)\n"
     ]
    },
    {
     "data": {
      "text/plain": [
       "<Figure size 800x800 with 1 Axes>"
      ]
     },
     "metadata": {},
     "output_type": "display_data"
    },
    {
     "name": "stdout",
     "output_type": "stream",
     "text": [
      "\n",
      "image 1/1 C:\\Users\\samue\\Dataset-Pisang-7\\test\\images\\104_jpg.rf.32c3290601ebe7705cf2540828f75c49.jpg: 640x640 2 cordanas, 51.4ms\n",
      "Speed: 7.5ms preprocess, 51.4ms inference, 2.8ms postprocess per image at shape (1, 3, 640, 640)\n"
     ]
    },
    {
     "data": {
      "text/plain": [
       "<Figure size 800x800 with 1 Axes>"
      ]
     },
     "metadata": {},
     "output_type": "display_data"
    },
    {
     "name": "stdout",
     "output_type": "stream",
     "text": [
      "\n",
      "image 1/1 C:\\Users\\samue\\Dataset-Pisang-7\\test\\images\\105_jpg.rf.5ffb490aa8cf428bb88c294aaad2a852.jpg: 640x640 2 cordanas, 51.0ms\n",
      "Speed: 8.3ms preprocess, 51.0ms inference, 4.2ms postprocess per image at shape (1, 3, 640, 640)\n"
     ]
    },
    {
     "data": {
      "text/plain": [
       "<Figure size 800x800 with 1 Axes>"
      ]
     },
     "metadata": {},
     "output_type": "display_data"
    },
    {
     "name": "stdout",
     "output_type": "stream",
     "text": [
      "\n",
      "image 1/1 C:\\Users\\samue\\Dataset-Pisang-7\\test\\images\\106_jpg.rf.39d957a91866ab4ed928455733fbdc3d.jpg: 640x640 1 cordana, 40.4ms\n",
      "Speed: 9.5ms preprocess, 40.4ms inference, 4.4ms postprocess per image at shape (1, 3, 640, 640)\n"
     ]
    },
    {
     "data": {
      "text/plain": [
       "<Figure size 800x800 with 1 Axes>"
      ]
     },
     "metadata": {},
     "output_type": "display_data"
    },
    {
     "name": "stdout",
     "output_type": "stream",
     "text": [
      "\n",
      "image 1/1 C:\\Users\\samue\\Dataset-Pisang-7\\test\\images\\106_jpg.rf.7458a5820f721a9be7f51848bc34ce1d.jpg: 640x640 1 cordana, 25.8ms\n",
      "Speed: 5.9ms preprocess, 25.8ms inference, 3.7ms postprocess per image at shape (1, 3, 640, 640)\n"
     ]
    },
    {
     "data": {
      "text/plain": [
       "<Figure size 800x800 with 1 Axes>"
      ]
     },
     "metadata": {},
     "output_type": "display_data"
    },
    {
     "name": "stdout",
     "output_type": "stream",
     "text": [
      "\n",
      "image 1/1 C:\\Users\\samue\\Dataset-Pisang-7\\test\\images\\106_jpg.rf.f4176cb4972588bf5e3a03e055ac112d.jpg: 640x640 1 healthy, 26.1ms\n",
      "Speed: 6.8ms preprocess, 26.1ms inference, 3.0ms postprocess per image at shape (1, 3, 640, 640)\n"
     ]
    },
    {
     "data": {
      "text/plain": [
       "<Figure size 800x800 with 1 Axes>"
      ]
     },
     "metadata": {},
     "output_type": "display_data"
    },
    {
     "name": "stdout",
     "output_type": "stream",
     "text": [
      "\n",
      "image 1/1 C:\\Users\\samue\\Dataset-Pisang-7\\test\\images\\108_jpg.rf.fc46a6d58fe3df03a3f4fe8ad6fdc2a1.jpg: 640x640 1 cordana, 25.5ms\n",
      "Speed: 4.6ms preprocess, 25.5ms inference, 3.2ms postprocess per image at shape (1, 3, 640, 640)\n"
     ]
    },
    {
     "data": {
      "text/plain": [
       "<Figure size 800x800 with 1 Axes>"
      ]
     },
     "metadata": {},
     "output_type": "display_data"
    },
    {
     "name": "stdout",
     "output_type": "stream",
     "text": [
      "\n",
      "image 1/1 C:\\Users\\samue\\Dataset-Pisang-7\\test\\images\\109_jpg.rf.68e5391b6f5128c12db95c49ab4ed32d.jpg: 640x640 3 cordanas, 25.2ms\n",
      "Speed: 4.8ms preprocess, 25.2ms inference, 2.8ms postprocess per image at shape (1, 3, 640, 640)\n"
     ]
    },
    {
     "data": {
      "text/plain": [
       "<Figure size 800x800 with 1 Axes>"
      ]
     },
     "metadata": {},
     "output_type": "display_data"
    },
    {
     "name": "stdout",
     "output_type": "stream",
     "text": [
      "\n",
      "image 1/1 C:\\Users\\samue\\Dataset-Pisang-7\\test\\images\\110_jpeg.rf.95daa9273e90a659d99e5b4a9d7511ff.jpg: 640x640 1 cordana, 29.1ms\n",
      "Speed: 5.4ms preprocess, 29.1ms inference, 4.4ms postprocess per image at shape (1, 3, 640, 640)\n"
     ]
    },
    {
     "data": {
      "text/plain": [
       "<Figure size 800x800 with 1 Axes>"
      ]
     },
     "metadata": {},
     "output_type": "display_data"
    },
    {
     "name": "stdout",
     "output_type": "stream",
     "text": [
      "\n",
      "image 1/1 C:\\Users\\samue\\Dataset-Pisang-7\\test\\images\\110_jpg.rf.da4687784ad2052f7e2915826f78dba4.jpg: 640x640 1 healthy, 25.1ms\n",
      "Speed: 5.0ms preprocess, 25.1ms inference, 2.8ms postprocess per image at shape (1, 3, 640, 640)\n"
     ]
    },
    {
     "data": {
      "text/plain": [
       "<Figure size 800x800 with 1 Axes>"
      ]
     },
     "metadata": {},
     "output_type": "display_data"
    },
    {
     "name": "stdout",
     "output_type": "stream",
     "text": [
      "\n",
      "image 1/1 C:\\Users\\samue\\Dataset-Pisang-7\\test\\images\\112_jpg.rf.40ed4f24eea99478446986a3436f8ca2.jpg: 640x640 1 healthy, 24.6ms\n",
      "Speed: 5.2ms preprocess, 24.6ms inference, 2.6ms postprocess per image at shape (1, 3, 640, 640)\n"
     ]
    },
    {
     "data": {
      "text/plain": [
       "<Figure size 800x800 with 1 Axes>"
      ]
     },
     "metadata": {},
     "output_type": "display_data"
    },
    {
     "name": "stdout",
     "output_type": "stream",
     "text": [
      "\n",
      "image 1/1 C:\\Users\\samue\\Dataset-Pisang-7\\test\\images\\114_jpeg.rf.0300a41891949c65131267f9e00617f3.jpg: 640x640 3 cordanas, 24.6ms\n",
      "Speed: 4.7ms preprocess, 24.6ms inference, 2.5ms postprocess per image at shape (1, 3, 640, 640)\n"
     ]
    },
    {
     "data": {
      "text/plain": [
       "<Figure size 800x800 with 1 Axes>"
      ]
     },
     "metadata": {},
     "output_type": "display_data"
    },
    {
     "name": "stdout",
     "output_type": "stream",
     "text": [
      "\n",
      "image 1/1 C:\\Users\\samue\\Dataset-Pisang-7\\test\\images\\114_jpg.rf.65b85f012ae1b2e72af0bcb50a245cb6.jpg: 640x640 2 cordanas, 24.8ms\n",
      "Speed: 6.8ms preprocess, 24.8ms inference, 3.6ms postprocess per image at shape (1, 3, 640, 640)\n"
     ]
    },
    {
     "data": {
      "text/plain": [
       "<Figure size 800x800 with 1 Axes>"
      ]
     },
     "metadata": {},
     "output_type": "display_data"
    },
    {
     "name": "stdout",
     "output_type": "stream",
     "text": [
      "\n",
      "image 1/1 C:\\Users\\samue\\Dataset-Pisang-7\\test\\images\\115_jpg.rf.5770db5f139ab3208317256452d23230.jpg: 640x640 2 cordanas, 24.2ms\n",
      "Speed: 4.7ms preprocess, 24.2ms inference, 2.6ms postprocess per image at shape (1, 3, 640, 640)\n"
     ]
    },
    {
     "data": {
      "text/plain": [
       "<Figure size 800x800 with 1 Axes>"
      ]
     },
     "metadata": {},
     "output_type": "display_data"
    },
    {
     "name": "stdout",
     "output_type": "stream",
     "text": [
      "\n",
      "image 1/1 C:\\Users\\samue\\Dataset-Pisang-7\\test\\images\\116_jpg.rf.e8de0d0646fcefc32ce361107cf2a163.jpg: 640x640 1 healthy, 24.0ms\n",
      "Speed: 6.2ms preprocess, 24.0ms inference, 3.2ms postprocess per image at shape (1, 3, 640, 640)\n"
     ]
    },
    {
     "data": {
      "text/plain": [
       "<Figure size 800x800 with 1 Axes>"
      ]
     },
     "metadata": {},
     "output_type": "display_data"
    },
    {
     "name": "stdout",
     "output_type": "stream",
     "text": [
      "\n",
      "image 1/1 C:\\Users\\samue\\Dataset-Pisang-7\\test\\images\\117_jpg.rf.faa513337d1fdb4d7e73d2a69c6dca81.jpg: 640x640 1 healthy, 24.2ms\n",
      "Speed: 6.1ms preprocess, 24.2ms inference, 3.3ms postprocess per image at shape (1, 3, 640, 640)\n"
     ]
    },
    {
     "data": {
      "text/plain": [
       "<Figure size 800x800 with 1 Axes>"
      ]
     },
     "metadata": {},
     "output_type": "display_data"
    },
    {
     "name": "stdout",
     "output_type": "stream",
     "text": [
      "\n",
      "image 1/1 C:\\Users\\samue\\Dataset-Pisang-7\\test\\images\\119_jpeg.rf.7eba7f924bad0ef2b4ff9ccd915b7f5a.jpg: 640x640 2 cordanas, 24.0ms\n",
      "Speed: 6.3ms preprocess, 24.0ms inference, 4.8ms postprocess per image at shape (1, 3, 640, 640)\n"
     ]
    },
    {
     "data": {
      "text/plain": [
       "<Figure size 800x800 with 1 Axes>"
      ]
     },
     "metadata": {},
     "output_type": "display_data"
    },
    {
     "name": "stdout",
     "output_type": "stream",
     "text": [
      "\n",
      "image 1/1 C:\\Users\\samue\\Dataset-Pisang-7\\test\\images\\119_jpg.rf.90e21b2f48c063a80e4e32e212405cda.jpg: 640x640 1 healthy, 23.9ms\n",
      "Speed: 4.8ms preprocess, 23.9ms inference, 3.3ms postprocess per image at shape (1, 3, 640, 640)\n"
     ]
    },
    {
     "data": {
      "text/plain": [
       "<Figure size 800x800 with 1 Axes>"
      ]
     },
     "metadata": {},
     "output_type": "display_data"
    },
    {
     "name": "stdout",
     "output_type": "stream",
     "text": [
      "\n",
      "image 1/1 C:\\Users\\samue\\Dataset-Pisang-7\\test\\images\\120_jpg.rf.0f700262d631b357429884dae150b56a.jpg: 640x640 2 cordanas, 23.9ms\n",
      "Speed: 4.3ms preprocess, 23.9ms inference, 2.5ms postprocess per image at shape (1, 3, 640, 640)\n"
     ]
    },
    {
     "data": {
      "text/plain": [
       "<Figure size 800x800 with 1 Axes>"
      ]
     },
     "metadata": {},
     "output_type": "display_data"
    },
    {
     "name": "stdout",
     "output_type": "stream",
     "text": [
      "\n",
      "image 1/1 C:\\Users\\samue\\Dataset-Pisang-7\\test\\images\\120_jpg.rf.490f9a7329a9f6a4e0a2a0c93eb746a9.jpg: 640x640 2 cordanas, 23.8ms\n",
      "Speed: 5.5ms preprocess, 23.8ms inference, 2.6ms postprocess per image at shape (1, 3, 640, 640)\n"
     ]
    },
    {
     "data": {
      "text/plain": [
       "<Figure size 800x800 with 1 Axes>"
      ]
     },
     "metadata": {},
     "output_type": "display_data"
    },
    {
     "name": "stdout",
     "output_type": "stream",
     "text": [
      "\n",
      "image 1/1 C:\\Users\\samue\\Dataset-Pisang-7\\test\\images\\124_jpg.rf.7db40cf75403035fa487355ceeb9d2e7.jpg: 640x640 2 cordanas, 23.8ms\n",
      "Speed: 4.8ms preprocess, 23.8ms inference, 2.8ms postprocess per image at shape (1, 3, 640, 640)\n"
     ]
    },
    {
     "data": {
      "text/plain": [
       "<Figure size 800x800 with 1 Axes>"
      ]
     },
     "metadata": {},
     "output_type": "display_data"
    },
    {
     "name": "stdout",
     "output_type": "stream",
     "text": [
      "\n",
      "image 1/1 C:\\Users\\samue\\Dataset-Pisang-7\\test\\images\\124_jpg.rf.f49d62a6c2ceb9e2a1945131f605f40c.jpg: 640x640 1 cordana, 23.8ms\n",
      "Speed: 5.5ms preprocess, 23.8ms inference, 4.1ms postprocess per image at shape (1, 3, 640, 640)\n"
     ]
    },
    {
     "data": {
      "text/plain": [
       "<Figure size 800x800 with 1 Axes>"
      ]
     },
     "metadata": {},
     "output_type": "display_data"
    },
    {
     "name": "stdout",
     "output_type": "stream",
     "text": [
      "\n",
      "image 1/1 C:\\Users\\samue\\Dataset-Pisang-7\\test\\images\\125_jpeg.rf.7a9e1d9dc5e2a810d05c0637313f77a5.jpg: 640x640 2 cordanas, 23.8ms\n",
      "Speed: 7.0ms preprocess, 23.8ms inference, 3.2ms postprocess per image at shape (1, 3, 640, 640)\n"
     ]
    },
    {
     "data": {
      "text/plain": [
       "<Figure size 800x800 with 1 Axes>"
      ]
     },
     "metadata": {},
     "output_type": "display_data"
    },
    {
     "name": "stdout",
     "output_type": "stream",
     "text": [
      "\n",
      "image 1/1 C:\\Users\\samue\\Dataset-Pisang-7\\test\\images\\126_jpg.rf.e02c67933d423aa7cd19d410fe4b131d.jpg: 640x640 1 healthy, 23.1ms\n",
      "Speed: 7.5ms preprocess, 23.1ms inference, 3.4ms postprocess per image at shape (1, 3, 640, 640)\n"
     ]
    },
    {
     "data": {
      "text/plain": [
       "<Figure size 800x800 with 1 Axes>"
      ]
     },
     "metadata": {},
     "output_type": "display_data"
    },
    {
     "name": "stdout",
     "output_type": "stream",
     "text": [
      "\n",
      "image 1/1 C:\\Users\\samue\\Dataset-Pisang-7\\test\\images\\127_jpg.rf.4a4e394a8afbb5637eb7cb1a82f444ff.jpg: 640x640 1 cordana, 23.3ms\n",
      "Speed: 4.3ms preprocess, 23.3ms inference, 3.9ms postprocess per image at shape (1, 3, 640, 640)\n"
     ]
    },
    {
     "data": {
      "text/plain": [
       "<Figure size 800x800 with 1 Axes>"
      ]
     },
     "metadata": {},
     "output_type": "display_data"
    },
    {
     "name": "stdout",
     "output_type": "stream",
     "text": [
      "\n",
      "image 1/1 C:\\Users\\samue\\Dataset-Pisang-7\\test\\images\\128_jpg.rf.ac1e38618bf6b81c50e6ab641b878f61.jpg: 640x640 1 cordana, 23.2ms\n",
      "Speed: 7.0ms preprocess, 23.2ms inference, 3.1ms postprocess per image at shape (1, 3, 640, 640)\n"
     ]
    },
    {
     "data": {
      "text/plain": [
       "<Figure size 800x800 with 1 Axes>"
      ]
     },
     "metadata": {},
     "output_type": "display_data"
    },
    {
     "name": "stdout",
     "output_type": "stream",
     "text": [
      "\n",
      "image 1/1 C:\\Users\\samue\\Dataset-Pisang-7\\test\\images\\12_jpg.rf.4672ef6239124cbfd0b158f1bf0dfd6b.jpg: 640x640 3 cordanas, 23.1ms\n",
      "Speed: 4.7ms preprocess, 23.1ms inference, 3.7ms postprocess per image at shape (1, 3, 640, 640)\n"
     ]
    },
    {
     "data": {
      "text/plain": [
       "<Figure size 800x800 with 1 Axes>"
      ]
     },
     "metadata": {},
     "output_type": "display_data"
    },
    {
     "name": "stdout",
     "output_type": "stream",
     "text": [
      "\n",
      "image 1/1 C:\\Users\\samue\\Dataset-Pisang-7\\test\\images\\132_jpg.rf.a17bd77f2da9b78684c504148b55de1b.jpg: 640x640 1 cordana, 23.0ms\n",
      "Speed: 5.0ms preprocess, 23.0ms inference, 3.2ms postprocess per image at shape (1, 3, 640, 640)\n"
     ]
    },
    {
     "data": {
      "text/plain": [
       "<Figure size 800x800 with 1 Axes>"
      ]
     },
     "metadata": {},
     "output_type": "display_data"
    },
    {
     "name": "stdout",
     "output_type": "stream",
     "text": [
      "\n",
      "image 1/1 C:\\Users\\samue\\Dataset-Pisang-7\\test\\images\\133_jpeg.rf.d7cc6c39b47e39b7e2ed326bb3d49f77.jpg: 640x640 2 cordanas, 23.6ms\n",
      "Speed: 6.1ms preprocess, 23.6ms inference, 5.3ms postprocess per image at shape (1, 3, 640, 640)\n"
     ]
    },
    {
     "data": {
      "text/plain": [
       "<Figure size 800x800 with 1 Axes>"
      ]
     },
     "metadata": {},
     "output_type": "display_data"
    },
    {
     "name": "stdout",
     "output_type": "stream",
     "text": [
      "\n",
      "image 1/1 C:\\Users\\samue\\Dataset-Pisang-7\\test\\images\\133_jpg.rf.f3eaef93840bcea9899b3ac409ab7a6c.jpg: 640x640 2 cordanas, 13.5ms\n",
      "Speed: 3.3ms preprocess, 13.5ms inference, 3.2ms postprocess per image at shape (1, 3, 640, 640)\n"
     ]
    },
    {
     "data": {
      "text/plain": [
       "<Figure size 800x800 with 1 Axes>"
      ]
     },
     "metadata": {},
     "output_type": "display_data"
    },
    {
     "name": "stdout",
     "output_type": "stream",
     "text": [
      "\n",
      "image 1/1 C:\\Users\\samue\\Dataset-Pisang-7\\test\\images\\139_jpeg.rf.7cbd55fc3107ca63646602c9a2b9e380.jpg: 640x640 2 cordanas, 13.7ms\n",
      "Speed: 3.3ms preprocess, 13.7ms inference, 2.2ms postprocess per image at shape (1, 3, 640, 640)\n"
     ]
    },
    {
     "data": {
      "text/plain": [
       "<Figure size 800x800 with 1 Axes>"
      ]
     },
     "metadata": {},
     "output_type": "display_data"
    },
    {
     "name": "stdout",
     "output_type": "stream",
     "text": [
      "\n",
      "image 1/1 C:\\Users\\samue\\Dataset-Pisang-7\\test\\images\\142_jpg.rf.46f56a44cdd2ad446265e456eadeba70.jpg: 640x640 2 cordanas, 16.8ms\n",
      "Speed: 3.5ms preprocess, 16.8ms inference, 5.8ms postprocess per image at shape (1, 3, 640, 640)\n"
     ]
    },
    {
     "data": {
      "text/plain": [
       "<Figure size 800x800 with 1 Axes>"
      ]
     },
     "metadata": {},
     "output_type": "display_data"
    },
    {
     "name": "stdout",
     "output_type": "stream",
     "text": [
      "\n",
      "image 1/1 C:\\Users\\samue\\Dataset-Pisang-7\\test\\images\\143_jpg.rf.4ef61dd8869228904c6e7e7755f21e70.jpg: 640x640 1 cordana, 13.3ms\n",
      "Speed: 4.4ms preprocess, 13.3ms inference, 3.8ms postprocess per image at shape (1, 3, 640, 640)\n"
     ]
    },
    {
     "data": {
      "text/plain": [
       "<Figure size 800x800 with 1 Axes>"
      ]
     },
     "metadata": {},
     "output_type": "display_data"
    },
    {
     "name": "stdout",
     "output_type": "stream",
     "text": [
      "\n",
      "image 1/1 C:\\Users\\samue\\Dataset-Pisang-7\\test\\images\\144_jpg.rf.50f9dd360561c28f1fef19a4134e82c7.jpg: 640x640 2 cordanas, 12.8ms\n",
      "Speed: 3.5ms preprocess, 12.8ms inference, 3.3ms postprocess per image at shape (1, 3, 640, 640)\n"
     ]
    },
    {
     "data": {
      "text/plain": [
       "<Figure size 800x800 with 1 Axes>"
      ]
     },
     "metadata": {},
     "output_type": "display_data"
    },
    {
     "name": "stdout",
     "output_type": "stream",
     "text": [
      "\n",
      "image 1/1 C:\\Users\\samue\\Dataset-Pisang-7\\test\\images\\148_jpg.rf.6fceac91c16635e7677b8d7db538af04.jpg: 640x640 1 cordana, 15.0ms\n",
      "Speed: 3.2ms preprocess, 15.0ms inference, 3.1ms postprocess per image at shape (1, 3, 640, 640)\n"
     ]
    },
    {
     "data": {
      "text/plain": [
       "<Figure size 800x800 with 1 Axes>"
      ]
     },
     "metadata": {},
     "output_type": "display_data"
    },
    {
     "name": "stdout",
     "output_type": "stream",
     "text": [
      "\n",
      "image 1/1 C:\\Users\\samue\\Dataset-Pisang-7\\test\\images\\152_jpg.rf.ebd171d7377c89ea7243815c51a74f93.jpg: 640x640 1 cordana, 20.2ms\n",
      "Speed: 3.9ms preprocess, 20.2ms inference, 5.0ms postprocess per image at shape (1, 3, 640, 640)\n"
     ]
    },
    {
     "data": {
      "text/plain": [
       "<Figure size 800x800 with 1 Axes>"
      ]
     },
     "metadata": {},
     "output_type": "display_data"
    },
    {
     "name": "stdout",
     "output_type": "stream",
     "text": [
      "\n",
      "image 1/1 C:\\Users\\samue\\Dataset-Pisang-7\\test\\images\\154_jpeg.rf.b0af9c75b726efb88bf45c74800ca48a.jpg: 640x640 1 cordana, 12.4ms\n",
      "Speed: 3.5ms preprocess, 12.4ms inference, 3.6ms postprocess per image at shape (1, 3, 640, 640)\n"
     ]
    },
    {
     "data": {
      "text/plain": [
       "<Figure size 800x800 with 1 Axes>"
      ]
     },
     "metadata": {},
     "output_type": "display_data"
    },
    {
     "name": "stdout",
     "output_type": "stream",
     "text": [
      "\n",
      "image 1/1 C:\\Users\\samue\\Dataset-Pisang-7\\test\\images\\154_jpg.rf.f0f9ace21bb40b8cac9a99b5e2dc6a92.jpg: 640x640 2 cordanas, 14.9ms\n",
      "Speed: 3.0ms preprocess, 14.9ms inference, 3.3ms postprocess per image at shape (1, 3, 640, 640)\n"
     ]
    },
    {
     "data": {
      "text/plain": [
       "<Figure size 800x800 with 1 Axes>"
      ]
     },
     "metadata": {},
     "output_type": "display_data"
    },
    {
     "name": "stdout",
     "output_type": "stream",
     "text": [
      "\n",
      "image 1/1 C:\\Users\\samue\\Dataset-Pisang-7\\test\\images\\155_jpeg.rf.2191001b30741605104c12f9d005f87f.jpg: 640x640 4 cordanas, 1 sigatoka, 10.8ms\n",
      "Speed: 2.9ms preprocess, 10.8ms inference, 3.6ms postprocess per image at shape (1, 3, 640, 640)\n"
     ]
    },
    {
     "data": {
      "text/plain": [
       "<Figure size 800x800 with 1 Axes>"
      ]
     },
     "metadata": {},
     "output_type": "display_data"
    },
    {
     "name": "stdout",
     "output_type": "stream",
     "text": [
      "\n",
      "image 1/1 C:\\Users\\samue\\Dataset-Pisang-7\\test\\images\\156_jpeg.rf.4778ef1ae77efe61c5541452f99ea43f.jpg: 640x640 2 cordanas, 17.3ms\n",
      "Speed: 4.0ms preprocess, 17.3ms inference, 3.1ms postprocess per image at shape (1, 3, 640, 640)\n"
     ]
    },
    {
     "data": {
      "text/plain": [
       "<Figure size 800x800 with 1 Axes>"
      ]
     },
     "metadata": {},
     "output_type": "display_data"
    },
    {
     "name": "stdout",
     "output_type": "stream",
     "text": [
      "\n",
      "image 1/1 C:\\Users\\samue\\Dataset-Pisang-7\\test\\images\\158_jpg.rf.f57f98e3b7686af73a7dbe8666edb710.jpg: 640x640 2 cordanas, 14.6ms\n",
      "Speed: 3.9ms preprocess, 14.6ms inference, 3.5ms postprocess per image at shape (1, 3, 640, 640)\n"
     ]
    },
    {
     "data": {
      "text/plain": [
       "<Figure size 800x800 with 1 Axes>"
      ]
     },
     "metadata": {},
     "output_type": "display_data"
    },
    {
     "name": "stdout",
     "output_type": "stream",
     "text": [
      "\n",
      "image 1/1 C:\\Users\\samue\\Dataset-Pisang-7\\test\\images\\15_jpg.rf.1858d15fdcbf9fcee113ec2df97390cf.jpg: 640x640 1 healthy, 15.7ms\n",
      "Speed: 3.6ms preprocess, 15.7ms inference, 3.3ms postprocess per image at shape (1, 3, 640, 640)\n"
     ]
    },
    {
     "data": {
      "text/plain": [
       "<Figure size 800x800 with 1 Axes>"
      ]
     },
     "metadata": {},
     "output_type": "display_data"
    },
    {
     "name": "stdout",
     "output_type": "stream",
     "text": [
      "\n",
      "image 1/1 C:\\Users\\samue\\Dataset-Pisang-7\\test\\images\\15_jpg.rf.2fadbee0a8715db7f50779058610d25d.jpg: 640x640 1 healthy, 17.1ms\n",
      "Speed: 4.1ms preprocess, 17.1ms inference, 3.6ms postprocess per image at shape (1, 3, 640, 640)\n"
     ]
    },
    {
     "data": {
      "text/plain": [
       "<Figure size 800x800 with 1 Axes>"
      ]
     },
     "metadata": {},
     "output_type": "display_data"
    },
    {
     "name": "stdout",
     "output_type": "stream",
     "text": [
      "\n",
      "image 1/1 C:\\Users\\samue\\Dataset-Pisang-7\\test\\images\\15_jpg.rf.9d107a76ca04bd1eb3782a92bc00ae04.jpg: 640x640 2 cordanas, 14.1ms\n",
      "Speed: 2.9ms preprocess, 14.1ms inference, 3.5ms postprocess per image at shape (1, 3, 640, 640)\n"
     ]
    },
    {
     "data": {
      "text/plain": [
       "<Figure size 800x800 with 1 Axes>"
      ]
     },
     "metadata": {},
     "output_type": "display_data"
    },
    {
     "name": "stdout",
     "output_type": "stream",
     "text": [
      "\n",
      "image 1/1 C:\\Users\\samue\\Dataset-Pisang-7\\test\\images\\161_jpg.rf.1e9f64a0cd292f45179e2e1305c0fdfa.jpg: 640x640 2 cordanas, 16.8ms\n",
      "Speed: 3.6ms preprocess, 16.8ms inference, 3.3ms postprocess per image at shape (1, 3, 640, 640)\n"
     ]
    },
    {
     "data": {
      "text/plain": [
       "<Figure size 800x800 with 1 Axes>"
      ]
     },
     "metadata": {},
     "output_type": "display_data"
    },
    {
     "name": "stdout",
     "output_type": "stream",
     "text": [
      "\n",
      "image 1/1 C:\\Users\\samue\\Dataset-Pisang-7\\test\\images\\178_jpeg.rf.d056f79f40a807e6c5554a1031c64729.jpg: 640x640 4 cordanas, 16.3ms\n",
      "Speed: 3.7ms preprocess, 16.3ms inference, 2.6ms postprocess per image at shape (1, 3, 640, 640)\n"
     ]
    },
    {
     "data": {
      "text/plain": [
       "<Figure size 800x800 with 1 Axes>"
      ]
     },
     "metadata": {},
     "output_type": "display_data"
    },
    {
     "name": "stdout",
     "output_type": "stream",
     "text": [
      "\n",
      "image 1/1 C:\\Users\\samue\\Dataset-Pisang-7\\test\\images\\18_jpeg.rf.3f15b1ce2f8152ecf71e9aba7df2cbc9.jpg: 640x640 2 cordanas, 15.6ms\n",
      "Speed: 3.5ms preprocess, 15.6ms inference, 3.0ms postprocess per image at shape (1, 3, 640, 640)\n"
     ]
    },
    {
     "data": {
      "text/plain": [
       "<Figure size 800x800 with 1 Axes>"
      ]
     },
     "metadata": {},
     "output_type": "display_data"
    },
    {
     "name": "stdout",
     "output_type": "stream",
     "text": [
      "\n",
      "image 1/1 C:\\Users\\samue\\Dataset-Pisang-7\\test\\images\\18_jpg.rf.ec4a0b601058f26f5c3f125ab9de9dbc.jpg: 640x640 1 cordana, 14.0ms\n",
      "Speed: 4.1ms preprocess, 14.0ms inference, 5.2ms postprocess per image at shape (1, 3, 640, 640)\n"
     ]
    },
    {
     "data": {
      "text/plain": [
       "<Figure size 800x800 with 1 Axes>"
      ]
     },
     "metadata": {},
     "output_type": "display_data"
    },
    {
     "name": "stdout",
     "output_type": "stream",
     "text": [
      "\n",
      "image 1/1 C:\\Users\\samue\\Dataset-Pisang-7\\test\\images\\19_jpg.rf.2775a8491bae2f1019574ffa3ed76498.jpg: 640x640 1 healthy, 14.5ms\n",
      "Speed: 3.1ms preprocess, 14.5ms inference, 3.2ms postprocess per image at shape (1, 3, 640, 640)\n"
     ]
    },
    {
     "data": {
      "text/plain": [
       "<Figure size 800x800 with 1 Axes>"
      ]
     },
     "metadata": {},
     "output_type": "display_data"
    },
    {
     "name": "stdout",
     "output_type": "stream",
     "text": [
      "\n",
      "image 1/1 C:\\Users\\samue\\Dataset-Pisang-7\\test\\images\\19_jpg.rf.bb546c637f795d34ec63c78b3d468799.jpg: 640x640 3 cordanas, 14.3ms\n",
      "Speed: 3.3ms preprocess, 14.3ms inference, 2.7ms postprocess per image at shape (1, 3, 640, 640)\n"
     ]
    },
    {
     "data": {
      "text/plain": [
       "<Figure size 800x800 with 1 Axes>"
      ]
     },
     "metadata": {},
     "output_type": "display_data"
    },
    {
     "name": "stdout",
     "output_type": "stream",
     "text": [
      "\n",
      "image 1/1 C:\\Users\\samue\\Dataset-Pisang-7\\test\\images\\1_jpeg.rf.0418eab46f8e97b4d12da4df2d4334e4.jpg: 640x640 2 cordanas, 15.1ms\n",
      "Speed: 3.8ms preprocess, 15.1ms inference, 3.0ms postprocess per image at shape (1, 3, 640, 640)\n"
     ]
    },
    {
     "data": {
      "text/plain": [
       "<Figure size 800x800 with 1 Axes>"
      ]
     },
     "metadata": {},
     "output_type": "display_data"
    },
    {
     "name": "stdout",
     "output_type": "stream",
     "text": [
      "\n",
      "image 1/1 C:\\Users\\samue\\Dataset-Pisang-7\\test\\images\\200_jpg.rf.d9f06dd2f67e5304e6f9a42cc504b056.jpg: 640x640 1 sigatoka, 13.4ms\n",
      "Speed: 3.2ms preprocess, 13.4ms inference, 2.7ms postprocess per image at shape (1, 3, 640, 640)\n"
     ]
    },
    {
     "data": {
      "text/plain": [
       "<Figure size 800x800 with 1 Axes>"
      ]
     },
     "metadata": {},
     "output_type": "display_data"
    },
    {
     "name": "stdout",
     "output_type": "stream",
     "text": [
      "\n",
      "image 1/1 C:\\Users\\samue\\Dataset-Pisang-7\\test\\images\\207_jpg.rf.6174c1550ce7a20e2c2645d60b70ff1b.jpg: 640x640 1 sigatoka, 9.9ms\n",
      "Speed: 2.7ms preprocess, 9.9ms inference, 2.4ms postprocess per image at shape (1, 3, 640, 640)\n"
     ]
    },
    {
     "data": {
      "text/plain": [
       "<Figure size 800x800 with 1 Axes>"
      ]
     },
     "metadata": {},
     "output_type": "display_data"
    },
    {
     "name": "stdout",
     "output_type": "stream",
     "text": [
      "\n",
      "image 1/1 C:\\Users\\samue\\Dataset-Pisang-7\\test\\images\\208_jpg.rf.ea3703ec85d312cdc11c3a09de3be598.jpg: 640x640 1 sigatoka, 13.7ms\n",
      "Speed: 4.2ms preprocess, 13.7ms inference, 2.8ms postprocess per image at shape (1, 3, 640, 640)\n"
     ]
    },
    {
     "data": {
      "text/plain": [
       "<Figure size 800x800 with 1 Axes>"
      ]
     },
     "metadata": {},
     "output_type": "display_data"
    },
    {
     "name": "stdout",
     "output_type": "stream",
     "text": [
      "\n",
      "image 1/1 C:\\Users\\samue\\Dataset-Pisang-7\\test\\images\\210_jpeg.rf.6c7d9cb298b2e4f6a4af7064acee1072.jpg: 640x640 1 cordana, 18.3ms\n",
      "Speed: 4.0ms preprocess, 18.3ms inference, 4.1ms postprocess per image at shape (1, 3, 640, 640)\n"
     ]
    },
    {
     "data": {
      "text/plain": [
       "<Figure size 800x800 with 1 Axes>"
      ]
     },
     "metadata": {},
     "output_type": "display_data"
    },
    {
     "name": "stdout",
     "output_type": "stream",
     "text": [
      "\n",
      "image 1/1 C:\\Users\\samue\\Dataset-Pisang-7\\test\\images\\220_jpg.rf.86dd3f7aade4f9018cf6695a5e6ad5e4.jpg: 640x640 1 sigatoka, 17.8ms\n",
      "Speed: 3.4ms preprocess, 17.8ms inference, 2.6ms postprocess per image at shape (1, 3, 640, 640)\n"
     ]
    },
    {
     "data": {
      "text/plain": [
       "<Figure size 800x800 with 1 Axes>"
      ]
     },
     "metadata": {},
     "output_type": "display_data"
    },
    {
     "name": "stdout",
     "output_type": "stream",
     "text": [
      "\n",
      "image 1/1 C:\\Users\\samue\\Dataset-Pisang-7\\test\\images\\225_jpg.rf.35c6f880467c06facddcaaf3f3a5027f.jpg: 640x640 1 sigatoka, 17.7ms\n",
      "Speed: 4.2ms preprocess, 17.7ms inference, 5.3ms postprocess per image at shape (1, 3, 640, 640)\n"
     ]
    },
    {
     "data": {
      "text/plain": [
       "<Figure size 800x800 with 1 Axes>"
      ]
     },
     "metadata": {},
     "output_type": "display_data"
    },
    {
     "name": "stdout",
     "output_type": "stream",
     "text": [
      "\n",
      "image 1/1 C:\\Users\\samue\\Dataset-Pisang-7\\test\\images\\226_jpg.rf.fb548934ae93d09c0049573c93765d16.jpg: 640x640 1 sigatoka, 19.3ms\n",
      "Speed: 5.6ms preprocess, 19.3ms inference, 4.5ms postprocess per image at shape (1, 3, 640, 640)\n"
     ]
    },
    {
     "data": {
      "text/plain": [
       "<Figure size 800x800 with 1 Axes>"
      ]
     },
     "metadata": {},
     "output_type": "display_data"
    },
    {
     "name": "stdout",
     "output_type": "stream",
     "text": [
      "\n",
      "image 1/1 C:\\Users\\samue\\Dataset-Pisang-7\\test\\images\\227_jpeg.rf.12be48d066e4ff504c1d51264e8ddbf2.jpg: 640x640 2 cordanas, 1 fusarium, 18.5ms\n",
      "Speed: 6.1ms preprocess, 18.5ms inference, 2.2ms postprocess per image at shape (1, 3, 640, 640)\n"
     ]
    },
    {
     "data": {
      "text/plain": [
       "<Figure size 800x800 with 1 Axes>"
      ]
     },
     "metadata": {},
     "output_type": "display_data"
    },
    {
     "name": "stdout",
     "output_type": "stream",
     "text": [
      "\n",
      "image 1/1 C:\\Users\\samue\\Dataset-Pisang-7\\test\\images\\229_jpeg.rf.59421777068808f8e1936904763f7fb5.jpg: 640x640 2 cordanas, 17.7ms\n",
      "Speed: 5.3ms preprocess, 17.7ms inference, 3.8ms postprocess per image at shape (1, 3, 640, 640)\n"
     ]
    },
    {
     "data": {
      "text/plain": [
       "<Figure size 800x800 with 1 Axes>"
      ]
     },
     "metadata": {},
     "output_type": "display_data"
    },
    {
     "name": "stdout",
     "output_type": "stream",
     "text": [
      "\n",
      "image 1/1 C:\\Users\\samue\\Dataset-Pisang-7\\test\\images\\22_jpg.rf.cecaaa5b06aef652f310709d0a15b102.jpg: 640x640 2 cordanas, 18.5ms\n",
      "Speed: 4.3ms preprocess, 18.5ms inference, 4.6ms postprocess per image at shape (1, 3, 640, 640)\n"
     ]
    },
    {
     "data": {
      "text/plain": [
       "<Figure size 800x800 with 1 Axes>"
      ]
     },
     "metadata": {},
     "output_type": "display_data"
    },
    {
     "name": "stdout",
     "output_type": "stream",
     "text": [
      "\n",
      "image 1/1 C:\\Users\\samue\\Dataset-Pisang-7\\test\\images\\230_jpeg.rf.83247627993535e147eef2c555312995.jpg: 640x640 2 cordanas, 1 healthy, 20.6ms\n",
      "Speed: 5.5ms preprocess, 20.6ms inference, 3.7ms postprocess per image at shape (1, 3, 640, 640)\n"
     ]
    },
    {
     "data": {
      "text/plain": [
       "<Figure size 800x800 with 1 Axes>"
      ]
     },
     "metadata": {},
     "output_type": "display_data"
    },
    {
     "name": "stdout",
     "output_type": "stream",
     "text": [
      "\n",
      "image 1/1 C:\\Users\\samue\\Dataset-Pisang-7\\test\\images\\230_jpg.rf.58b7fd084073ea6ea198d6e610762065.jpg: 640x640 1 sigatoka, 23.1ms\n",
      "Speed: 4.9ms preprocess, 23.1ms inference, 2.4ms postprocess per image at shape (1, 3, 640, 640)\n"
     ]
    },
    {
     "data": {
      "text/plain": [
       "<Figure size 800x800 with 1 Axes>"
      ]
     },
     "metadata": {},
     "output_type": "display_data"
    },
    {
     "name": "stdout",
     "output_type": "stream",
     "text": [
      "\n",
      "image 1/1 C:\\Users\\samue\\Dataset-Pisang-7\\test\\images\\233_jpg.rf.0e5caaa48843a920b95cf295f7cf3226.jpg: 640x640 1 sigatoka, 16.0ms\n",
      "Speed: 2.9ms preprocess, 16.0ms inference, 2.6ms postprocess per image at shape (1, 3, 640, 640)\n"
     ]
    },
    {
     "data": {
      "text/plain": [
       "<Figure size 800x800 with 1 Axes>"
      ]
     },
     "metadata": {},
     "output_type": "display_data"
    },
    {
     "name": "stdout",
     "output_type": "stream",
     "text": [
      "\n",
      "image 1/1 C:\\Users\\samue\\Dataset-Pisang-7\\test\\images\\233_jpg.rf.59d31d0708d164285b64b622246cceea.jpg: 640x640 1 sigatoka, 16.2ms\n",
      "Speed: 4.8ms preprocess, 16.2ms inference, 3.4ms postprocess per image at shape (1, 3, 640, 640)\n"
     ]
    },
    {
     "data": {
      "text/plain": [
       "<Figure size 800x800 with 1 Axes>"
      ]
     },
     "metadata": {},
     "output_type": "display_data"
    },
    {
     "name": "stdout",
     "output_type": "stream",
     "text": [
      "\n",
      "image 1/1 C:\\Users\\samue\\Dataset-Pisang-7\\test\\images\\234_jpeg.rf.73944c190ba63dbc67ed2c84e1c39779.jpg: 640x640 1 cordana, 18.2ms\n",
      "Speed: 5.6ms preprocess, 18.2ms inference, 3.5ms postprocess per image at shape (1, 3, 640, 640)\n"
     ]
    },
    {
     "data": {
      "text/plain": [
       "<Figure size 800x800 with 1 Axes>"
      ]
     },
     "metadata": {},
     "output_type": "display_data"
    },
    {
     "name": "stdout",
     "output_type": "stream",
     "text": [
      "\n",
      "image 1/1 C:\\Users\\samue\\Dataset-Pisang-7\\test\\images\\234_jpg.rf.153871e7bf458c51d14c59b796cb6755.jpg: 640x640 1 sigatoka, 18.0ms\n",
      "Speed: 4.8ms preprocess, 18.0ms inference, 5.0ms postprocess per image at shape (1, 3, 640, 640)\n"
     ]
    },
    {
     "data": {
      "text/plain": [
       "<Figure size 800x800 with 1 Axes>"
      ]
     },
     "metadata": {},
     "output_type": "display_data"
    },
    {
     "name": "stdout",
     "output_type": "stream",
     "text": [
      "\n",
      "image 1/1 C:\\Users\\samue\\Dataset-Pisang-7\\test\\images\\236_jpg.rf.fa9448ab0b4dc8d5d1a72e5dc84528d3.jpg: 640x640 1 sigatoka, 18.2ms\n",
      "Speed: 2.8ms preprocess, 18.2ms inference, 3.8ms postprocess per image at shape (1, 3, 640, 640)\n"
     ]
    },
    {
     "data": {
      "text/plain": [
       "<Figure size 800x800 with 1 Axes>"
      ]
     },
     "metadata": {},
     "output_type": "display_data"
    },
    {
     "name": "stdout",
     "output_type": "stream",
     "text": [
      "\n",
      "image 1/1 C:\\Users\\samue\\Dataset-Pisang-7\\test\\images\\238_jpg.rf.5279d4ea6dbd33d0ff2c4719b6e68805.jpg: 640x640 1 sigatoka, 21.9ms\n",
      "Speed: 5.1ms preprocess, 21.9ms inference, 3.0ms postprocess per image at shape (1, 3, 640, 640)\n"
     ]
    },
    {
     "data": {
      "text/plain": [
       "<Figure size 800x800 with 1 Axes>"
      ]
     },
     "metadata": {},
     "output_type": "display_data"
    },
    {
     "name": "stdout",
     "output_type": "stream",
     "text": [
      "\n",
      "image 1/1 C:\\Users\\samue\\Dataset-Pisang-7\\test\\images\\242_jpeg.rf.5fa65ae0ccd702207b18230b5063f962.jpg: 640x640 3 cordanas, 15.9ms\n",
      "Speed: 2.9ms preprocess, 15.9ms inference, 4.5ms postprocess per image at shape (1, 3, 640, 640)\n"
     ]
    },
    {
     "data": {
      "text/plain": [
       "<Figure size 800x800 with 1 Axes>"
      ]
     },
     "metadata": {},
     "output_type": "display_data"
    },
    {
     "name": "stdout",
     "output_type": "stream",
     "text": [
      "\n",
      "image 1/1 C:\\Users\\samue\\Dataset-Pisang-7\\test\\images\\243_jpg.rf.c0ae5dfb91f8717dd0668c254cc642fc.jpg: 640x640 1 sigatoka, 19.1ms\n",
      "Speed: 3.2ms preprocess, 19.1ms inference, 4.4ms postprocess per image at shape (1, 3, 640, 640)\n"
     ]
    },
    {
     "data": {
      "text/plain": [
       "<Figure size 800x800 with 1 Axes>"
      ]
     },
     "metadata": {},
     "output_type": "display_data"
    },
    {
     "name": "stdout",
     "output_type": "stream",
     "text": [
      "\n",
      "image 1/1 C:\\Users\\samue\\Dataset-Pisang-7\\test\\images\\245_jpg.rf.5a0c0e9c2fb702065c1247b09f5e49e6.jpg: 640x640 1 sigatoka, 15.2ms\n",
      "Speed: 3.5ms preprocess, 15.2ms inference, 4.8ms postprocess per image at shape (1, 3, 640, 640)\n"
     ]
    },
    {
     "data": {
      "text/plain": [
       "<Figure size 800x800 with 1 Axes>"
      ]
     },
     "metadata": {},
     "output_type": "display_data"
    },
    {
     "name": "stdout",
     "output_type": "stream",
     "text": [
      "\n",
      "image 1/1 C:\\Users\\samue\\Dataset-Pisang-7\\test\\images\\246_jpg.rf.e0bab0693d81ad1b5de63eafefa6f0e0.jpg: 640x640 1 sigatoka, 15.4ms\n",
      "Speed: 3.0ms preprocess, 15.4ms inference, 3.7ms postprocess per image at shape (1, 3, 640, 640)\n"
     ]
    },
    {
     "data": {
      "text/plain": [
       "<Figure size 800x800 with 1 Axes>"
      ]
     },
     "metadata": {},
     "output_type": "display_data"
    },
    {
     "name": "stdout",
     "output_type": "stream",
     "text": [
      "\n",
      "image 1/1 C:\\Users\\samue\\Dataset-Pisang-7\\test\\images\\246_jpg.rf.e50dc60eba06a0257782ec698e3c554b.jpg: 640x640 1 sigatoka, 15.1ms\n",
      "Speed: 3.4ms preprocess, 15.1ms inference, 2.7ms postprocess per image at shape (1, 3, 640, 640)\n"
     ]
    },
    {
     "data": {
      "text/plain": [
       "<Figure size 800x800 with 1 Axes>"
      ]
     },
     "metadata": {},
     "output_type": "display_data"
    },
    {
     "name": "stdout",
     "output_type": "stream",
     "text": [
      "\n",
      "image 1/1 C:\\Users\\samue\\Dataset-Pisang-7\\test\\images\\24_jpeg.rf.3bb817e26ad6acf17aa93364319ce472.jpg: 640x640 3 cordanas, 16.8ms\n",
      "Speed: 3.2ms preprocess, 16.8ms inference, 2.8ms postprocess per image at shape (1, 3, 640, 640)\n"
     ]
    },
    {
     "data": {
      "text/plain": [
       "<Figure size 800x800 with 1 Axes>"
      ]
     },
     "metadata": {},
     "output_type": "display_data"
    },
    {
     "name": "stdout",
     "output_type": "stream",
     "text": [
      "\n",
      "image 1/1 C:\\Users\\samue\\Dataset-Pisang-7\\test\\images\\24_jpg.rf.058ca9e6db0e9e3470bd1943898dc6b2.jpg: 640x640 1 sigatoka, 15.3ms\n",
      "Speed: 3.4ms preprocess, 15.3ms inference, 3.9ms postprocess per image at shape (1, 3, 640, 640)\n"
     ]
    },
    {
     "data": {
      "text/plain": [
       "<Figure size 800x800 with 1 Axes>"
      ]
     },
     "metadata": {},
     "output_type": "display_data"
    },
    {
     "name": "stdout",
     "output_type": "stream",
     "text": [
      "\n",
      "image 1/1 C:\\Users\\samue\\Dataset-Pisang-7\\test\\images\\24_jpg.rf.1362f71a1f587953909bbf26b3d8f0ad.jpg: 640x640 3 cordanas, 15.2ms\n",
      "Speed: 3.5ms preprocess, 15.2ms inference, 6.3ms postprocess per image at shape (1, 3, 640, 640)\n"
     ]
    },
    {
     "data": {
      "text/plain": [
       "<Figure size 800x800 with 1 Axes>"
      ]
     },
     "metadata": {},
     "output_type": "display_data"
    },
    {
     "name": "stdout",
     "output_type": "stream",
     "text": [
      "\n",
      "image 1/1 C:\\Users\\samue\\Dataset-Pisang-7\\test\\images\\256_jpg.rf.ed0ec79d8666fafbdadc80cfec2e9ca4.jpg: 640x640 1 sigatoka, 15.2ms\n",
      "Speed: 3.4ms preprocess, 15.2ms inference, 4.0ms postprocess per image at shape (1, 3, 640, 640)\n"
     ]
    },
    {
     "data": {
      "text/plain": [
       "<Figure size 800x800 with 1 Axes>"
      ]
     },
     "metadata": {},
     "output_type": "display_data"
    },
    {
     "name": "stdout",
     "output_type": "stream",
     "text": [
      "\n",
      "image 1/1 C:\\Users\\samue\\Dataset-Pisang-7\\test\\images\\25_jpg.rf.e3f9469b519842969ddf04874fa5e7b1.jpg: 640x640 3 cordanas, 15.3ms\n",
      "Speed: 3.0ms preprocess, 15.3ms inference, 2.9ms postprocess per image at shape (1, 3, 640, 640)\n"
     ]
    },
    {
     "data": {
      "text/plain": [
       "<Figure size 800x800 with 1 Axes>"
      ]
     },
     "metadata": {},
     "output_type": "display_data"
    },
    {
     "name": "stdout",
     "output_type": "stream",
     "text": [
      "\n",
      "image 1/1 C:\\Users\\samue\\Dataset-Pisang-7\\test\\images\\262_jpg.rf.bd1a46ec14d814580648e08df5f1ab60.jpg: 640x640 1 sigatoka, 15.5ms\n",
      "Speed: 4.3ms preprocess, 15.5ms inference, 4.2ms postprocess per image at shape (1, 3, 640, 640)\n"
     ]
    },
    {
     "data": {
      "text/plain": [
       "<Figure size 800x800 with 1 Axes>"
      ]
     },
     "metadata": {},
     "output_type": "display_data"
    },
    {
     "name": "stdout",
     "output_type": "stream",
     "text": [
      "\n",
      "image 1/1 C:\\Users\\samue\\Dataset-Pisang-7\\test\\images\\265_jpg.rf.a806876acb4cee0e1c859a3e9382636f.jpg: 640x640 1 sigatoka, 15.6ms\n",
      "Speed: 3.9ms preprocess, 15.6ms inference, 3.8ms postprocess per image at shape (1, 3, 640, 640)\n"
     ]
    },
    {
     "data": {
      "text/plain": [
       "<Figure size 800x800 with 1 Axes>"
      ]
     },
     "metadata": {},
     "output_type": "display_data"
    },
    {
     "name": "stdout",
     "output_type": "stream",
     "text": [
      "\n",
      "image 1/1 C:\\Users\\samue\\Dataset-Pisang-7\\test\\images\\266_jpg.rf.caa032c94e5219c80613eed68e2f2e67.jpg: 640x640 1 sigatoka, 17.9ms\n",
      "Speed: 3.0ms preprocess, 17.9ms inference, 2.7ms postprocess per image at shape (1, 3, 640, 640)\n"
     ]
    },
    {
     "data": {
      "text/plain": [
       "<Figure size 800x800 with 1 Axes>"
      ]
     },
     "metadata": {},
     "output_type": "display_data"
    },
    {
     "name": "stdout",
     "output_type": "stream",
     "text": [
      "\n",
      "image 1/1 C:\\Users\\samue\\Dataset-Pisang-7\\test\\images\\268_jpg.rf.33608b56ea4a72189307bffadc936031.jpg: 640x640 1 sigatoka, 20.6ms\n",
      "Speed: 4.6ms preprocess, 20.6ms inference, 2.7ms postprocess per image at shape (1, 3, 640, 640)\n"
     ]
    },
    {
     "data": {
      "text/plain": [
       "<Figure size 800x800 with 1 Axes>"
      ]
     },
     "metadata": {},
     "output_type": "display_data"
    },
    {
     "name": "stdout",
     "output_type": "stream",
     "text": [
      "\n",
      "image 1/1 C:\\Users\\samue\\Dataset-Pisang-7\\test\\images\\268_jpg.rf.f845d4e8e279a91c0cd43c7926a0dec5.jpg: 640x640 1 sigatoka, 16.2ms\n",
      "Speed: 4.1ms preprocess, 16.2ms inference, 3.8ms postprocess per image at shape (1, 3, 640, 640)\n"
     ]
    },
    {
     "data": {
      "text/plain": [
       "<Figure size 800x800 with 1 Axes>"
      ]
     },
     "metadata": {},
     "output_type": "display_data"
    },
    {
     "name": "stdout",
     "output_type": "stream",
     "text": [
      "\n",
      "image 1/1 C:\\Users\\samue\\Dataset-Pisang-7\\test\\images\\26_jpeg.rf.eb81ae3d8cb853e9f5a3cc3117d18eb9.jpg: 640x640 2 cordanas, 15.5ms\n",
      "Speed: 3.5ms preprocess, 15.5ms inference, 3.8ms postprocess per image at shape (1, 3, 640, 640)\n"
     ]
    },
    {
     "data": {
      "text/plain": [
       "<Figure size 800x800 with 1 Axes>"
      ]
     },
     "metadata": {},
     "output_type": "display_data"
    },
    {
     "name": "stdout",
     "output_type": "stream",
     "text": [
      "\n",
      "image 1/1 C:\\Users\\samue\\Dataset-Pisang-7\\test\\images\\270_jpg.rf.9f1c4d6964512ab6d309e54b59125ff1.jpg: 640x640 1 sigatoka, 15.9ms\n",
      "Speed: 3.1ms preprocess, 15.9ms inference, 3.6ms postprocess per image at shape (1, 3, 640, 640)\n"
     ]
    },
    {
     "data": {
      "text/plain": [
       "<Figure size 800x800 with 1 Axes>"
      ]
     },
     "metadata": {},
     "output_type": "display_data"
    },
    {
     "name": "stdout",
     "output_type": "stream",
     "text": [
      "\n",
      "image 1/1 C:\\Users\\samue\\Dataset-Pisang-7\\test\\images\\274_jpg.rf.091a3521c021f2ad98af4f411a2d5631.jpg: 640x640 1 sigatoka, 15.7ms\n",
      "Speed: 3.0ms preprocess, 15.7ms inference, 2.4ms postprocess per image at shape (1, 3, 640, 640)\n"
     ]
    },
    {
     "data": {
      "text/plain": [
       "<Figure size 800x800 with 1 Axes>"
      ]
     },
     "metadata": {},
     "output_type": "display_data"
    },
    {
     "name": "stdout",
     "output_type": "stream",
     "text": [
      "\n",
      "image 1/1 C:\\Users\\samue\\Dataset-Pisang-7\\test\\images\\277_jpg.rf.6650b845e18ff0617b36fc66efe80faf.jpg: 640x640 1 sigatoka, 21.4ms\n",
      "Speed: 3.2ms preprocess, 21.4ms inference, 3.4ms postprocess per image at shape (1, 3, 640, 640)\n"
     ]
    },
    {
     "data": {
      "text/plain": [
       "<Figure size 800x800 with 1 Axes>"
      ]
     },
     "metadata": {},
     "output_type": "display_data"
    },
    {
     "name": "stdout",
     "output_type": "stream",
     "text": [
      "\n",
      "image 1/1 C:\\Users\\samue\\Dataset-Pisang-7\\test\\images\\280_jpg.rf.a8f5cf386e491f70b3381811f71ed803.jpg: 640x640 1 sigatoka, 22.2ms\n",
      "Speed: 4.3ms preprocess, 22.2ms inference, 3.0ms postprocess per image at shape (1, 3, 640, 640)\n"
     ]
    },
    {
     "data": {
      "text/plain": [
       "<Figure size 800x800 with 1 Axes>"
      ]
     },
     "metadata": {},
     "output_type": "display_data"
    },
    {
     "name": "stdout",
     "output_type": "stream",
     "text": [
      "\n",
      "image 1/1 C:\\Users\\samue\\Dataset-Pisang-7\\test\\images\\284_jpg.rf.fe74cb7592c9947ef38a89b3ba524d53.jpg: 640x640 1 sigatoka, 19.5ms\n",
      "Speed: 3.2ms preprocess, 19.5ms inference, 3.3ms postprocess per image at shape (1, 3, 640, 640)\n"
     ]
    },
    {
     "data": {
      "text/plain": [
       "<Figure size 800x800 with 1 Axes>"
      ]
     },
     "metadata": {},
     "output_type": "display_data"
    },
    {
     "name": "stdout",
     "output_type": "stream",
     "text": [
      "\n",
      "image 1/1 C:\\Users\\samue\\Dataset-Pisang-7\\test\\images\\287_jpg.rf.6d97bd0bd2f0af0c5326fc50d59fb999.jpg: 640x640 1 sigatoka, 16.4ms\n",
      "Speed: 5.4ms preprocess, 16.4ms inference, 3.3ms postprocess per image at shape (1, 3, 640, 640)\n"
     ]
    },
    {
     "data": {
      "text/plain": [
       "<Figure size 800x800 with 1 Axes>"
      ]
     },
     "metadata": {},
     "output_type": "display_data"
    },
    {
     "name": "stdout",
     "output_type": "stream",
     "text": [
      "\n",
      "image 1/1 C:\\Users\\samue\\Dataset-Pisang-7\\test\\images\\288_jpg.rf.6cb6b66bf3e0036cfac984574812b1e4.jpg: 640x640 1 sigatoka, 16.4ms\n",
      "Speed: 4.2ms preprocess, 16.4ms inference, 3.6ms postprocess per image at shape (1, 3, 640, 640)\n"
     ]
    },
    {
     "data": {
      "text/plain": [
       "<Figure size 800x800 with 1 Axes>"
      ]
     },
     "metadata": {},
     "output_type": "display_data"
    },
    {
     "name": "stdout",
     "output_type": "stream",
     "text": [
      "\n",
      "image 1/1 C:\\Users\\samue\\Dataset-Pisang-7\\test\\images\\288_jpg.rf.c3b57bb415bcf8bdee254d847407ae90.jpg: 640x640 1 sigatoka, 16.4ms\n",
      "Speed: 3.6ms preprocess, 16.4ms inference, 3.6ms postprocess per image at shape (1, 3, 640, 640)\n"
     ]
    },
    {
     "data": {
      "text/plain": [
       "<Figure size 800x800 with 1 Axes>"
      ]
     },
     "metadata": {},
     "output_type": "display_data"
    },
    {
     "name": "stdout",
     "output_type": "stream",
     "text": [
      "\n",
      "image 1/1 C:\\Users\\samue\\Dataset-Pisang-7\\test\\images\\28_jpeg.rf.c0f2c2f1d1cb39cb4cc41180563a3753.jpg: 640x640 1 cordana, 1 sigatoka, 17.6ms\n",
      "Speed: 10.0ms preprocess, 17.6ms inference, 2.4ms postprocess per image at shape (1, 3, 640, 640)\n"
     ]
    },
    {
     "data": {
      "text/plain": [
       "<Figure size 800x800 with 1 Axes>"
      ]
     },
     "metadata": {},
     "output_type": "display_data"
    },
    {
     "name": "stdout",
     "output_type": "stream",
     "text": [
      "\n",
      "image 1/1 C:\\Users\\samue\\Dataset-Pisang-7\\test\\images\\290_jpeg.rf.ffab067489a98455705738e41c838f2a.jpg: 640x640 1 cordana, 16.6ms\n",
      "Speed: 3.0ms preprocess, 16.6ms inference, 3.0ms postprocess per image at shape (1, 3, 640, 640)\n"
     ]
    },
    {
     "data": {
      "text/plain": [
       "<Figure size 800x800 with 1 Axes>"
      ]
     },
     "metadata": {},
     "output_type": "display_data"
    },
    {
     "name": "stdout",
     "output_type": "stream",
     "text": [
      "\n",
      "image 1/1 C:\\Users\\samue\\Dataset-Pisang-7\\test\\images\\293_jpg.rf.4305b5e4ddc86c1592467fb49180007d.jpg: 640x640 1 cordana, 16.6ms\n",
      "Speed: 3.1ms preprocess, 16.6ms inference, 3.3ms postprocess per image at shape (1, 3, 640, 640)\n"
     ]
    },
    {
     "data": {
      "text/plain": [
       "<Figure size 800x800 with 1 Axes>"
      ]
     },
     "metadata": {},
     "output_type": "display_data"
    },
    {
     "name": "stdout",
     "output_type": "stream",
     "text": [
      "\n",
      "image 1/1 C:\\Users\\samue\\Dataset-Pisang-7\\test\\images\\293_jpg.rf.7fd2708b27af9414b7d914ba6181c465.jpg: 640x640 1 sigatoka, 16.5ms\n",
      "Speed: 4.0ms preprocess, 16.5ms inference, 4.0ms postprocess per image at shape (1, 3, 640, 640)\n"
     ]
    },
    {
     "data": {
      "text/plain": [
       "<Figure size 800x800 with 1 Axes>"
      ]
     },
     "metadata": {},
     "output_type": "display_data"
    },
    {
     "name": "stdout",
     "output_type": "stream",
     "text": [
      "\n",
      "image 1/1 C:\\Users\\samue\\Dataset-Pisang-7\\test\\images\\299_jpg.rf.5ed5cf150caa684eccb5dd6e15d2fdef.jpg: 640x640 1 sigatoka, 16.9ms\n",
      "Speed: 2.8ms preprocess, 16.9ms inference, 3.1ms postprocess per image at shape (1, 3, 640, 640)\n"
     ]
    },
    {
     "data": {
      "text/plain": [
       "<Figure size 800x800 with 1 Axes>"
      ]
     },
     "metadata": {},
     "output_type": "display_data"
    },
    {
     "name": "stdout",
     "output_type": "stream",
     "text": [
      "\n",
      "image 1/1 C:\\Users\\samue\\Dataset-Pisang-7\\test\\images\\299_jpg.rf.f490e520a55da7bd67062e7bf33ff59b.jpg: 640x640 1 sigatoka, 17.1ms\n",
      "Speed: 4.1ms preprocess, 17.1ms inference, 3.3ms postprocess per image at shape (1, 3, 640, 640)\n"
     ]
    },
    {
     "data": {
      "text/plain": [
       "<Figure size 800x800 with 1 Axes>"
      ]
     },
     "metadata": {},
     "output_type": "display_data"
    },
    {
     "name": "stdout",
     "output_type": "stream",
     "text": [
      "\n",
      "image 1/1 C:\\Users\\samue\\Dataset-Pisang-7\\test\\images\\2_jpg.rf.143324e06d1128c7a398ef8f022903a3.jpg: 640x640 1 healthy, 17.1ms\n",
      "Speed: 4.6ms preprocess, 17.1ms inference, 5.2ms postprocess per image at shape (1, 3, 640, 640)\n"
     ]
    },
    {
     "data": {
      "text/plain": [
       "<Figure size 800x800 with 1 Axes>"
      ]
     },
     "metadata": {},
     "output_type": "display_data"
    },
    {
     "name": "stdout",
     "output_type": "stream",
     "text": [
      "\n",
      "image 1/1 C:\\Users\\samue\\Dataset-Pisang-7\\test\\images\\2_jpg.rf.203183d794352927cb3b30fdf72a79af.jpg: 640x640 1 cordana, 17.0ms\n",
      "Speed: 3.5ms preprocess, 17.0ms inference, 4.7ms postprocess per image at shape (1, 3, 640, 640)\n"
     ]
    },
    {
     "data": {
      "text/plain": [
       "<Figure size 800x800 with 1 Axes>"
      ]
     },
     "metadata": {},
     "output_type": "display_data"
    },
    {
     "name": "stdout",
     "output_type": "stream",
     "text": [
      "\n",
      "image 1/1 C:\\Users\\samue\\Dataset-Pisang-7\\test\\images\\2_jpg.rf.9af1ff754afa705d94c56145673a6190.jpg: 640x640 1 cordana, 17.1ms\n",
      "Speed: 3.2ms preprocess, 17.1ms inference, 2.4ms postprocess per image at shape (1, 3, 640, 640)\n"
     ]
    },
    {
     "data": {
      "text/plain": [
       "<Figure size 800x800 with 1 Axes>"
      ]
     },
     "metadata": {},
     "output_type": "display_data"
    },
    {
     "name": "stdout",
     "output_type": "stream",
     "text": [
      "\n",
      "image 1/1 C:\\Users\\samue\\Dataset-Pisang-7\\test\\images\\2_jpg.rf.fe7d82ff90c00c5c7f1d05c34e5e287a.jpg: 640x640 1 healthy, 22.9ms\n",
      "Speed: 2.9ms preprocess, 22.9ms inference, 4.5ms postprocess per image at shape (1, 3, 640, 640)\n"
     ]
    },
    {
     "data": {
      "text/plain": [
       "<Figure size 800x800 with 1 Axes>"
      ]
     },
     "metadata": {},
     "output_type": "display_data"
    },
    {
     "name": "stdout",
     "output_type": "stream",
     "text": [
      "\n",
      "image 1/1 C:\\Users\\samue\\Dataset-Pisang-7\\test\\images\\300_jpeg.rf.11edeea981fca7a14101be9b6ae68b03.jpg: 640x640 1 cordana, 17.8ms\n",
      "Speed: 5.5ms preprocess, 17.8ms inference, 4.4ms postprocess per image at shape (1, 3, 640, 640)\n"
     ]
    },
    {
     "data": {
      "text/plain": [
       "<Figure size 800x800 with 1 Axes>"
      ]
     },
     "metadata": {},
     "output_type": "display_data"
    },
    {
     "name": "stdout",
     "output_type": "stream",
     "text": [
      "\n",
      "image 1/1 C:\\Users\\samue\\Dataset-Pisang-7\\test\\images\\305_jpg.rf.07c42aafe9a8506344be741c261fb1b8.jpg: 640x640 1 sigatoka, 22.2ms\n",
      "Speed: 5.9ms preprocess, 22.2ms inference, 4.7ms postprocess per image at shape (1, 3, 640, 640)\n"
     ]
    },
    {
     "data": {
      "text/plain": [
       "<Figure size 800x800 with 1 Axes>"
      ]
     },
     "metadata": {},
     "output_type": "display_data"
    },
    {
     "name": "stdout",
     "output_type": "stream",
     "text": [
      "\n",
      "image 1/1 C:\\Users\\samue\\Dataset-Pisang-7\\test\\images\\307_jpg.rf.aefc075508df592624bf920d25691bf6.jpg: 640x640 1 sigatoka, 17.7ms\n",
      "Speed: 4.0ms preprocess, 17.7ms inference, 2.5ms postprocess per image at shape (1, 3, 640, 640)\n"
     ]
    },
    {
     "data": {
      "text/plain": [
       "<Figure size 800x800 with 1 Axes>"
      ]
     },
     "metadata": {},
     "output_type": "display_data"
    },
    {
     "name": "stdout",
     "output_type": "stream",
     "text": [
      "\n",
      "image 1/1 C:\\Users\\samue\\Dataset-Pisang-7\\test\\images\\309_jpg.rf.64cc26c5cc00498995b750afdac8505a.jpg: 640x640 1 sigatoka, 17.7ms\n",
      "Speed: 3.0ms preprocess, 17.7ms inference, 2.4ms postprocess per image at shape (1, 3, 640, 640)\n"
     ]
    },
    {
     "data": {
      "text/plain": [
       "<Figure size 800x800 with 1 Axes>"
      ]
     },
     "metadata": {},
     "output_type": "display_data"
    },
    {
     "name": "stdout",
     "output_type": "stream",
     "text": [
      "\n",
      "image 1/1 C:\\Users\\samue\\Dataset-Pisang-7\\test\\images\\314_jpeg.rf.30544c507e4c8e1efe70e3daa3da66f4.jpg: 640x640 1 cordana, 18.2ms\n",
      "Speed: 6.2ms preprocess, 18.2ms inference, 3.3ms postprocess per image at shape (1, 3, 640, 640)\n"
     ]
    },
    {
     "data": {
      "text/plain": [
       "<Figure size 800x800 with 1 Axes>"
      ]
     },
     "metadata": {},
     "output_type": "display_data"
    },
    {
     "name": "stdout",
     "output_type": "stream",
     "text": [
      "\n",
      "image 1/1 C:\\Users\\samue\\Dataset-Pisang-7\\test\\images\\316_jpeg.rf.21882dc92b3c29728bb813e73786ea2e.jpg: 640x640 2 cordanas, 20.6ms\n",
      "Speed: 6.2ms preprocess, 20.6ms inference, 4.0ms postprocess per image at shape (1, 3, 640, 640)\n"
     ]
    },
    {
     "data": {
      "text/plain": [
       "<Figure size 800x800 with 1 Axes>"
      ]
     },
     "metadata": {},
     "output_type": "display_data"
    },
    {
     "name": "stdout",
     "output_type": "stream",
     "text": [
      "\n",
      "image 1/1 C:\\Users\\samue\\Dataset-Pisang-7\\test\\images\\31_jpg.rf.3f16c4cd6966a4f6de309b41b85a187e.jpg: 640x640 1 healthy, 17.8ms\n",
      "Speed: 5.8ms preprocess, 17.8ms inference, 3.7ms postprocess per image at shape (1, 3, 640, 640)\n"
     ]
    },
    {
     "data": {
      "text/plain": [
       "<Figure size 800x800 with 1 Axes>"
      ]
     },
     "metadata": {},
     "output_type": "display_data"
    },
    {
     "name": "stdout",
     "output_type": "stream",
     "text": [
      "\n",
      "image 1/1 C:\\Users\\samue\\Dataset-Pisang-7\\test\\images\\321_jpeg.rf.8baf632ff8f53ca5a781482306ea7cbd.jpg: 640x640 2 cordanas, 29.3ms\n",
      "Speed: 7.4ms preprocess, 29.3ms inference, 5.2ms postprocess per image at shape (1, 3, 640, 640)\n"
     ]
    },
    {
     "data": {
      "text/plain": [
       "<Figure size 800x800 with 1 Axes>"
      ]
     },
     "metadata": {},
     "output_type": "display_data"
    },
    {
     "name": "stdout",
     "output_type": "stream",
     "text": [
      "\n",
      "image 1/1 C:\\Users\\samue\\Dataset-Pisang-7\\test\\images\\322_jpg.rf.1bbd96086cae156c200ed9b79a4458dc.jpg: 640x640 1 sigatoka, 29.2ms\n",
      "Speed: 8.0ms preprocess, 29.2ms inference, 2.8ms postprocess per image at shape (1, 3, 640, 640)\n"
     ]
    },
    {
     "data": {
      "text/plain": [
       "<Figure size 800x800 with 1 Axes>"
      ]
     },
     "metadata": {},
     "output_type": "display_data"
    },
    {
     "name": "stdout",
     "output_type": "stream",
     "text": [
      "\n",
      "image 1/1 C:\\Users\\samue\\Dataset-Pisang-7\\test\\images\\322_jpg.rf.e1972e03b2637a7044bd2e948c09a2a6.jpg: 640x640 1 sigatoka, 32.1ms\n",
      "Speed: 8.1ms preprocess, 32.1ms inference, 5.3ms postprocess per image at shape (1, 3, 640, 640)\n"
     ]
    },
    {
     "data": {
      "text/plain": [
       "<Figure size 800x800 with 1 Axes>"
      ]
     },
     "metadata": {},
     "output_type": "display_data"
    },
    {
     "name": "stdout",
     "output_type": "stream",
     "text": [
      "\n",
      "image 1/1 C:\\Users\\samue\\Dataset-Pisang-7\\test\\images\\323_jpeg.rf.259e8668cc64cc55a595d3aa074fe0a5.jpg: 640x640 2 cordanas, 29.3ms\n",
      "Speed: 6.9ms preprocess, 29.3ms inference, 5.2ms postprocess per image at shape (1, 3, 640, 640)\n"
     ]
    },
    {
     "data": {
      "text/plain": [
       "<Figure size 800x800 with 1 Axes>"
      ]
     },
     "metadata": {},
     "output_type": "display_data"
    },
    {
     "name": "stdout",
     "output_type": "stream",
     "text": [
      "\n",
      "image 1/1 C:\\Users\\samue\\Dataset-Pisang-7\\test\\images\\32_jpg.rf.1f3c6becfd15257c5e6e000c8435fcab.jpg: 640x640 1 cordana, 29.8ms\n",
      "Speed: 7.1ms preprocess, 29.8ms inference, 5.0ms postprocess per image at shape (1, 3, 640, 640)\n"
     ]
    },
    {
     "data": {
      "text/plain": [
       "<Figure size 800x800 with 1 Axes>"
      ]
     },
     "metadata": {},
     "output_type": "display_data"
    },
    {
     "name": "stdout",
     "output_type": "stream",
     "text": [
      "\n",
      "image 1/1 C:\\Users\\samue\\Dataset-Pisang-7\\test\\images\\331_jpeg.rf.6a74111b9cb234cdeecad42d98eef253.jpg: 640x640 4 cordanas, 29.7ms\n",
      "Speed: 6.8ms preprocess, 29.7ms inference, 3.7ms postprocess per image at shape (1, 3, 640, 640)\n"
     ]
    },
    {
     "data": {
      "text/plain": [
       "<Figure size 800x800 with 1 Axes>"
      ]
     },
     "metadata": {},
     "output_type": "display_data"
    },
    {
     "name": "stdout",
     "output_type": "stream",
     "text": [
      "\n",
      "image 1/1 C:\\Users\\samue\\Dataset-Pisang-7\\test\\images\\333_jpg.rf.2491f5bd7f4ebf7105b98ed311a66c23.jpg: 640x640 1 sigatoka, 29.6ms\n",
      "Speed: 7.6ms preprocess, 29.6ms inference, 4.9ms postprocess per image at shape (1, 3, 640, 640)\n"
     ]
    },
    {
     "data": {
      "text/plain": [
       "<Figure size 800x800 with 1 Axes>"
      ]
     },
     "metadata": {},
     "output_type": "display_data"
    },
    {
     "name": "stdout",
     "output_type": "stream",
     "text": [
      "\n",
      "image 1/1 C:\\Users\\samue\\Dataset-Pisang-7\\test\\images\\334_jpg.rf.6e43d34003846ecd9b3ad8a94ded1ee6.jpg: 640x640 1 sigatoka, 29.1ms\n",
      "Speed: 7.7ms preprocess, 29.1ms inference, 4.6ms postprocess per image at shape (1, 3, 640, 640)\n"
     ]
    },
    {
     "data": {
      "text/plain": [
       "<Figure size 800x800 with 1 Axes>"
      ]
     },
     "metadata": {},
     "output_type": "display_data"
    },
    {
     "name": "stdout",
     "output_type": "stream",
     "text": [
      "\n",
      "image 1/1 C:\\Users\\samue\\Dataset-Pisang-7\\test\\images\\334_jpg.rf.7369b070b09132f05c840a21d2125df2.jpg: 640x640 1 sigatoka, 29.9ms\n",
      "Speed: 5.2ms preprocess, 29.9ms inference, 3.9ms postprocess per image at shape (1, 3, 640, 640)\n"
     ]
    },
    {
     "data": {
      "text/plain": [
       "<Figure size 800x800 with 1 Axes>"
      ]
     },
     "metadata": {},
     "output_type": "display_data"
    },
    {
     "name": "stdout",
     "output_type": "stream",
     "text": [
      "\n",
      "image 1/1 C:\\Users\\samue\\Dataset-Pisang-7\\test\\images\\334_jpg.rf.74239e5493d2876488ee606ba7fafadb.jpg: 640x640 1 sigatoka, 29.2ms\n",
      "Speed: 7.2ms preprocess, 29.2ms inference, 2.7ms postprocess per image at shape (1, 3, 640, 640)\n"
     ]
    },
    {
     "data": {
      "text/plain": [
       "<Figure size 800x800 with 1 Axes>"
      ]
     },
     "metadata": {},
     "output_type": "display_data"
    },
    {
     "name": "stdout",
     "output_type": "stream",
     "text": [
      "\n",
      "image 1/1 C:\\Users\\samue\\Dataset-Pisang-7\\test\\images\\336_jpg.rf.073b1531d9f535063bb232e96a34b49b.jpg: 640x640 1 sigatoka, 29.2ms\n",
      "Speed: 6.9ms preprocess, 29.2ms inference, 4.5ms postprocess per image at shape (1, 3, 640, 640)\n"
     ]
    },
    {
     "data": {
      "text/plain": [
       "<Figure size 800x800 with 1 Axes>"
      ]
     },
     "metadata": {},
     "output_type": "display_data"
    },
    {
     "name": "stdout",
     "output_type": "stream",
     "text": [
      "\n",
      "image 1/1 C:\\Users\\samue\\Dataset-Pisang-7\\test\\images\\336_jpg.rf.c57cb71385ede4a70d70fbcd63e42214.jpg: 640x640 1 sigatoka, 29.1ms\n",
      "Speed: 4.5ms preprocess, 29.1ms inference, 3.5ms postprocess per image at shape (1, 3, 640, 640)\n"
     ]
    },
    {
     "data": {
      "text/plain": [
       "<Figure size 800x800 with 1 Axes>"
      ]
     },
     "metadata": {},
     "output_type": "display_data"
    },
    {
     "name": "stdout",
     "output_type": "stream",
     "text": [
      "\n",
      "image 1/1 C:\\Users\\samue\\Dataset-Pisang-7\\test\\images\\338_jpg.rf.47ce1265285b8d770759db6d803859f3.jpg: 640x640 1 sigatoka, 29.1ms\n",
      "Speed: 7.4ms preprocess, 29.1ms inference, 3.3ms postprocess per image at shape (1, 3, 640, 640)\n"
     ]
    },
    {
     "data": {
      "text/plain": [
       "<Figure size 800x800 with 1 Axes>"
      ]
     },
     "metadata": {},
     "output_type": "display_data"
    },
    {
     "name": "stdout",
     "output_type": "stream",
     "text": [
      "\n",
      "image 1/1 C:\\Users\\samue\\Dataset-Pisang-7\\test\\images\\33_jpg.rf.8d24acd61e46be0884b947148ecc3339.jpg: 640x640 2 cordanas, 29.1ms\n",
      "Speed: 4.3ms preprocess, 29.1ms inference, 4.4ms postprocess per image at shape (1, 3, 640, 640)\n"
     ]
    },
    {
     "data": {
      "text/plain": [
       "<Figure size 800x800 with 1 Axes>"
      ]
     },
     "metadata": {},
     "output_type": "display_data"
    },
    {
     "name": "stdout",
     "output_type": "stream",
     "text": [
      "\n",
      "image 1/1 C:\\Users\\samue\\Dataset-Pisang-7\\test\\images\\340_jpg.rf.7cd61dcb999b9c589191e8fd4a9aad0c.jpg: 640x640 1 sigatoka, 32.9ms\n",
      "Speed: 7.5ms preprocess, 32.9ms inference, 4.2ms postprocess per image at shape (1, 3, 640, 640)\n"
     ]
    },
    {
     "data": {
      "text/plain": [
       "<Figure size 800x800 with 1 Axes>"
      ]
     },
     "metadata": {},
     "output_type": "display_data"
    },
    {
     "name": "stdout",
     "output_type": "stream",
     "text": [
      "\n",
      "image 1/1 C:\\Users\\samue\\Dataset-Pisang-7\\test\\images\\341_jpeg.rf.0aa805031449c837fd9388726354a0c9.jpg: 640x640 1 cordana, 27.4ms\n",
      "Speed: 7.8ms preprocess, 27.4ms inference, 4.6ms postprocess per image at shape (1, 3, 640, 640)\n"
     ]
    },
    {
     "data": {
      "text/plain": [
       "<Figure size 800x800 with 1 Axes>"
      ]
     },
     "metadata": {},
     "output_type": "display_data"
    },
    {
     "name": "stdout",
     "output_type": "stream",
     "text": [
      "\n",
      "image 1/1 C:\\Users\\samue\\Dataset-Pisang-7\\test\\images\\343_jpeg.rf.872fb28ffedd26e284a836b9045d0e1a.jpg: 640x640 2 cordanas, 27.5ms\n",
      "Speed: 7.8ms preprocess, 27.5ms inference, 4.4ms postprocess per image at shape (1, 3, 640, 640)\n"
     ]
    },
    {
     "data": {
      "text/plain": [
       "<Figure size 800x800 with 1 Axes>"
      ]
     },
     "metadata": {},
     "output_type": "display_data"
    },
    {
     "name": "stdout",
     "output_type": "stream",
     "text": [
      "\n",
      "image 1/1 C:\\Users\\samue\\Dataset-Pisang-7\\test\\images\\343_jpg.rf.4efbed973f3be70e5be9aac6aaf3ca0a.jpg: 640x640 1 sigatoka, 27.3ms\n",
      "Speed: 7.4ms preprocess, 27.3ms inference, 3.6ms postprocess per image at shape (1, 3, 640, 640)\n"
     ]
    },
    {
     "data": {
      "text/plain": [
       "<Figure size 800x800 with 1 Axes>"
      ]
     },
     "metadata": {},
     "output_type": "display_data"
    },
    {
     "name": "stdout",
     "output_type": "stream",
     "text": [
      "\n",
      "image 1/1 C:\\Users\\samue\\Dataset-Pisang-7\\test\\images\\343_jpg.rf.f21091bf18e8fbcc02750fa44030d11f.jpg: 640x640 1 sigatoka, 27.7ms\n",
      "Speed: 7.4ms preprocess, 27.7ms inference, 2.7ms postprocess per image at shape (1, 3, 640, 640)\n"
     ]
    },
    {
     "data": {
      "text/plain": [
       "<Figure size 800x800 with 1 Axes>"
      ]
     },
     "metadata": {},
     "output_type": "display_data"
    },
    {
     "name": "stdout",
     "output_type": "stream",
     "text": [
      "\n",
      "image 1/1 C:\\Users\\samue\\Dataset-Pisang-7\\test\\images\\344_jpg.rf.d82615599d4c3c5bf0982fd97e866dc7.jpg: 640x640 1 sigatoka, 27.2ms\n",
      "Speed: 4.2ms preprocess, 27.2ms inference, 2.8ms postprocess per image at shape (1, 3, 640, 640)\n"
     ]
    },
    {
     "data": {
      "text/plain": [
       "<Figure size 800x800 with 1 Axes>"
      ]
     },
     "metadata": {},
     "output_type": "display_data"
    },
    {
     "name": "stdout",
     "output_type": "stream",
     "text": [
      "\n",
      "image 1/1 C:\\Users\\samue\\Dataset-Pisang-7\\test\\images\\345_jpg.rf.80cae229fe5c5ca539bc5c4fd835b8e2.jpg: 640x640 1 sigatoka, 27.3ms\n",
      "Speed: 4.4ms preprocess, 27.3ms inference, 4.6ms postprocess per image at shape (1, 3, 640, 640)\n"
     ]
    },
    {
     "data": {
      "text/plain": [
       "<Figure size 800x800 with 1 Axes>"
      ]
     },
     "metadata": {},
     "output_type": "display_data"
    },
    {
     "name": "stdout",
     "output_type": "stream",
     "text": [
      "\n",
      "image 1/1 C:\\Users\\samue\\Dataset-Pisang-7\\test\\images\\347_jpg.rf.f4bcc222e303b29b01b6da098d64e042.jpg: 640x640 1 sigatoka, 27.3ms\n",
      "Speed: 5.8ms preprocess, 27.3ms inference, 3.3ms postprocess per image at shape (1, 3, 640, 640)\n"
     ]
    },
    {
     "data": {
      "text/plain": [
       "<Figure size 800x800 with 1 Axes>"
      ]
     },
     "metadata": {},
     "output_type": "display_data"
    },
    {
     "name": "stdout",
     "output_type": "stream",
     "text": [
      "\n",
      "image 1/1 C:\\Users\\samue\\Dataset-Pisang-7\\test\\images\\34_jpg.rf.35164181b069d50c0261a5a1168719de.jpg: 640x640 1 cordana, 26.7ms\n",
      "Speed: 7.3ms preprocess, 26.7ms inference, 2.9ms postprocess per image at shape (1, 3, 640, 640)\n"
     ]
    },
    {
     "data": {
      "text/plain": [
       "<Figure size 800x800 with 1 Axes>"
      ]
     },
     "metadata": {},
     "output_type": "display_data"
    },
    {
     "name": "stdout",
     "output_type": "stream",
     "text": [
      "\n",
      "image 1/1 C:\\Users\\samue\\Dataset-Pisang-7\\test\\images\\34_jpg.rf.bc5af9ee4ecdfdecf976f5d3b5b22b48.jpg: 640x640 1 sigatoka, 26.7ms\n",
      "Speed: 8.0ms preprocess, 26.7ms inference, 2.7ms postprocess per image at shape (1, 3, 640, 640)\n"
     ]
    },
    {
     "data": {
      "text/plain": [
       "<Figure size 800x800 with 1 Axes>"
      ]
     },
     "metadata": {},
     "output_type": "display_data"
    },
    {
     "name": "stdout",
     "output_type": "stream",
     "text": [
      "\n",
      "image 1/1 C:\\Users\\samue\\Dataset-Pisang-7\\test\\images\\34_jpg.rf.dcfcfd2b60be790199cc9fb0bf2a6d9a.jpg: 640x640 1 cordana, 27.1ms\n",
      "Speed: 8.2ms preprocess, 27.1ms inference, 3.5ms postprocess per image at shape (1, 3, 640, 640)\n"
     ]
    },
    {
     "data": {
      "text/plain": [
       "<Figure size 800x800 with 1 Axes>"
      ]
     },
     "metadata": {},
     "output_type": "display_data"
    },
    {
     "name": "stdout",
     "output_type": "stream",
     "text": [
      "\n",
      "image 1/1 C:\\Users\\samue\\Dataset-Pisang-7\\test\\images\\350_jpg.rf.3bfae7233f1afbfc71ea3792b2a30c5d.jpg: 640x640 1 sigatoka, 26.8ms\n",
      "Speed: 7.6ms preprocess, 26.8ms inference, 5.2ms postprocess per image at shape (1, 3, 640, 640)\n"
     ]
    },
    {
     "data": {
      "text/plain": [
       "<Figure size 800x800 with 1 Axes>"
      ]
     },
     "metadata": {},
     "output_type": "display_data"
    },
    {
     "name": "stdout",
     "output_type": "stream",
     "text": [
      "\n",
      "image 1/1 C:\\Users\\samue\\Dataset-Pisang-7\\test\\images\\352_jpg.rf.125815e7b8064c765036f53591c39072.jpg: 640x640 1 sigatoka, 26.7ms\n",
      "Speed: 7.2ms preprocess, 26.7ms inference, 5.0ms postprocess per image at shape (1, 3, 640, 640)\n"
     ]
    },
    {
     "data": {
      "text/plain": [
       "<Figure size 800x800 with 1 Axes>"
      ]
     },
     "metadata": {},
     "output_type": "display_data"
    },
    {
     "name": "stdout",
     "output_type": "stream",
     "text": [
      "\n",
      "image 1/1 C:\\Users\\samue\\Dataset-Pisang-7\\test\\images\\358_jpeg.rf.31626a74a3b76a792e95737bc65a0148.jpg: 640x640 2 cordanas, 26.6ms\n",
      "Speed: 7.1ms preprocess, 26.6ms inference, 5.0ms postprocess per image at shape (1, 3, 640, 640)\n"
     ]
    },
    {
     "data": {
      "text/plain": [
       "<Figure size 800x800 with 1 Axes>"
      ]
     },
     "metadata": {},
     "output_type": "display_data"
    },
    {
     "name": "stdout",
     "output_type": "stream",
     "text": [
      "\n",
      "image 1/1 C:\\Users\\samue\\Dataset-Pisang-7\\test\\images\\35_jpg.rf.788813ab4229dd9f8c553da3143dc34b.jpg: 640x640 1 cordana, 26.6ms\n",
      "Speed: 4.4ms preprocess, 26.6ms inference, 4.3ms postprocess per image at shape (1, 3, 640, 640)\n"
     ]
    },
    {
     "data": {
      "text/plain": [
       "<Figure size 800x800 with 1 Axes>"
      ]
     },
     "metadata": {},
     "output_type": "display_data"
    },
    {
     "name": "stdout",
     "output_type": "stream",
     "text": [
      "\n",
      "image 1/1 C:\\Users\\samue\\Dataset-Pisang-7\\test\\images\\366_jpg.rf.8fcadb3a78b971841a0a818eebe01504.jpg: 640x640 1 sigatoka, 26.3ms\n",
      "Speed: 8.0ms preprocess, 26.3ms inference, 6.9ms postprocess per image at shape (1, 3, 640, 640)\n"
     ]
    },
    {
     "data": {
      "text/plain": [
       "<Figure size 800x800 with 1 Axes>"
      ]
     },
     "metadata": {},
     "output_type": "display_data"
    },
    {
     "name": "stdout",
     "output_type": "stream",
     "text": [
      "\n",
      "image 1/1 C:\\Users\\samue\\Dataset-Pisang-7\\test\\images\\368_jpg.rf.7b1199ef3afddf0cbd3b684ac4658e34.jpg: 640x640 1 sigatoka, 26.0ms\n",
      "Speed: 7.7ms preprocess, 26.0ms inference, 5.0ms postprocess per image at shape (1, 3, 640, 640)\n"
     ]
    },
    {
     "data": {
      "text/plain": [
       "<Figure size 800x800 with 1 Axes>"
      ]
     },
     "metadata": {},
     "output_type": "display_data"
    },
    {
     "name": "stdout",
     "output_type": "stream",
     "text": [
      "\n",
      "image 1/1 C:\\Users\\samue\\Dataset-Pisang-7\\test\\images\\36_jpg.rf.1379149caa515f0cf6aa5580f6f09273.jpg: 640x640 1 healthy, 26.1ms\n",
      "Speed: 7.6ms preprocess, 26.1ms inference, 4.4ms postprocess per image at shape (1, 3, 640, 640)\n"
     ]
    },
    {
     "data": {
      "text/plain": [
       "<Figure size 800x800 with 1 Axes>"
      ]
     },
     "metadata": {},
     "output_type": "display_data"
    },
    {
     "name": "stdout",
     "output_type": "stream",
     "text": [
      "\n",
      "image 1/1 C:\\Users\\samue\\Dataset-Pisang-7\\test\\images\\36_jpg.rf.52ad6adaf4b074c822fec7d33da5ce12.jpg: 640x640 1 sigatoka, 26.9ms\n",
      "Speed: 6.8ms preprocess, 26.9ms inference, 4.1ms postprocess per image at shape (1, 3, 640, 640)\n"
     ]
    },
    {
     "data": {
      "text/plain": [
       "<Figure size 800x800 with 1 Axes>"
      ]
     },
     "metadata": {},
     "output_type": "display_data"
    },
    {
     "name": "stdout",
     "output_type": "stream",
     "text": [
      "\n",
      "image 1/1 C:\\Users\\samue\\Dataset-Pisang-7\\test\\images\\372_jpg.rf.cb73390b68ef1e8499d3ec681b9e80d1.jpg: 640x640 1 sigatoka, 25.9ms\n",
      "Speed: 4.6ms preprocess, 25.9ms inference, 2.6ms postprocess per image at shape (1, 3, 640, 640)\n"
     ]
    },
    {
     "data": {
      "text/plain": [
       "<Figure size 800x800 with 1 Axes>"
      ]
     },
     "metadata": {},
     "output_type": "display_data"
    },
    {
     "name": "stdout",
     "output_type": "stream",
     "text": [
      "\n",
      "image 1/1 C:\\Users\\samue\\Dataset-Pisang-7\\test\\images\\376_jpg.rf.3a538685af23342eb9fc640cf7537e1c.jpg: 640x640 1 sigatoka, 26.0ms\n",
      "Speed: 5.9ms preprocess, 26.0ms inference, 4.5ms postprocess per image at shape (1, 3, 640, 640)\n"
     ]
    },
    {
     "data": {
      "text/plain": [
       "<Figure size 800x800 with 1 Axes>"
      ]
     },
     "metadata": {},
     "output_type": "display_data"
    },
    {
     "name": "stdout",
     "output_type": "stream",
     "text": [
      "\n",
      "image 1/1 C:\\Users\\samue\\Dataset-Pisang-7\\test\\images\\378_jpeg.rf.b3d19b6dd06dc2de9bef5da27d5c9643.jpg: 640x640 2 cordanas, 26.1ms\n",
      "Speed: 7.0ms preprocess, 26.1ms inference, 6.1ms postprocess per image at shape (1, 3, 640, 640)\n"
     ]
    },
    {
     "data": {
      "text/plain": [
       "<Figure size 800x800 with 1 Axes>"
      ]
     },
     "metadata": {},
     "output_type": "display_data"
    },
    {
     "name": "stdout",
     "output_type": "stream",
     "text": [
      "\n",
      "image 1/1 C:\\Users\\samue\\Dataset-Pisang-7\\test\\images\\37_jpg.rf.30553422d6bc296c95d76ea6e1a7d64f.jpg: 640x640 2 cordanas, 26.2ms\n",
      "Speed: 4.6ms preprocess, 26.2ms inference, 2.6ms postprocess per image at shape (1, 3, 640, 640)\n"
     ]
    },
    {
     "data": {
      "text/plain": [
       "<Figure size 800x800 with 1 Axes>"
      ]
     },
     "metadata": {},
     "output_type": "display_data"
    },
    {
     "name": "stdout",
     "output_type": "stream",
     "text": [
      "\n",
      "image 1/1 C:\\Users\\samue\\Dataset-Pisang-7\\test\\images\\380_jpg.rf.63c5cbba7947346092c800d3021efeef.jpg: 640x640 1 sigatoka, 26.1ms\n",
      "Speed: 7.0ms preprocess, 26.1ms inference, 5.3ms postprocess per image at shape (1, 3, 640, 640)\n"
     ]
    },
    {
     "data": {
      "text/plain": [
       "<Figure size 800x800 with 1 Axes>"
      ]
     },
     "metadata": {},
     "output_type": "display_data"
    },
    {
     "name": "stdout",
     "output_type": "stream",
     "text": [
      "\n",
      "image 1/1 C:\\Users\\samue\\Dataset-Pisang-7\\test\\images\\385_jpeg.rf.09bd23b0f3e329a370be8eebb913153c.jpg: 640x640 2 cordanas, 26.2ms\n",
      "Speed: 6.8ms preprocess, 26.2ms inference, 2.9ms postprocess per image at shape (1, 3, 640, 640)\n"
     ]
    },
    {
     "data": {
      "text/plain": [
       "<Figure size 800x800 with 1 Axes>"
      ]
     },
     "metadata": {},
     "output_type": "display_data"
    },
    {
     "name": "stdout",
     "output_type": "stream",
     "text": [
      "\n",
      "image 1/1 C:\\Users\\samue\\Dataset-Pisang-7\\test\\images\\386_jpg.rf.4fcb68ebfdce03b093f69bf15f231b7c.jpg: 640x640 1 sigatoka, 26.3ms\n",
      "Speed: 4.3ms preprocess, 26.3ms inference, 3.2ms postprocess per image at shape (1, 3, 640, 640)\n"
     ]
    },
    {
     "data": {
      "text/plain": [
       "<Figure size 800x800 with 1 Axes>"
      ]
     },
     "metadata": {},
     "output_type": "display_data"
    },
    {
     "name": "stdout",
     "output_type": "stream",
     "text": [
      "\n",
      "image 1/1 C:\\Users\\samue\\Dataset-Pisang-7\\test\\images\\387_jpg.rf.ea342d6a5cf7673be520c7e9125a0822.jpg: 640x640 1 sigatoka, 25.6ms\n",
      "Speed: 4.8ms preprocess, 25.6ms inference, 3.9ms postprocess per image at shape (1, 3, 640, 640)\n"
     ]
    },
    {
     "data": {
      "text/plain": [
       "<Figure size 800x800 with 1 Axes>"
      ]
     },
     "metadata": {},
     "output_type": "display_data"
    },
    {
     "name": "stdout",
     "output_type": "stream",
     "text": [
      "\n",
      "image 1/1 C:\\Users\\samue\\Dataset-Pisang-7\\test\\images\\390_jpeg.rf.31f4279c573243185d451a92a85ad2b9.jpg: 640x640 1 cordana, 25.6ms\n",
      "Speed: 4.7ms preprocess, 25.6ms inference, 2.8ms postprocess per image at shape (1, 3, 640, 640)\n"
     ]
    },
    {
     "data": {
      "text/plain": [
       "<Figure size 800x800 with 1 Axes>"
      ]
     },
     "metadata": {},
     "output_type": "display_data"
    },
    {
     "name": "stdout",
     "output_type": "stream",
     "text": [
      "\n",
      "image 1/1 C:\\Users\\samue\\Dataset-Pisang-7\\test\\images\\390_jpg.rf.097d7ccde680c4734ff8aad40fc4dad2.jpg: 640x640 1 sigatoka, 25.6ms\n",
      "Speed: 4.7ms preprocess, 25.6ms inference, 2.6ms postprocess per image at shape (1, 3, 640, 640)\n"
     ]
    },
    {
     "data": {
      "text/plain": [
       "<Figure size 800x800 with 1 Axes>"
      ]
     },
     "metadata": {},
     "output_type": "display_data"
    },
    {
     "name": "stdout",
     "output_type": "stream",
     "text": [
      "\n",
      "image 1/1 C:\\Users\\samue\\Dataset-Pisang-7\\test\\images\\393_jpeg.rf.a2a1cd7412bb7b62dc8aaef348a90439.jpg: 640x640 1 cordana, 25.3ms\n",
      "Speed: 4.1ms preprocess, 25.3ms inference, 2.8ms postprocess per image at shape (1, 3, 640, 640)\n"
     ]
    },
    {
     "data": {
      "text/plain": [
       "<Figure size 800x800 with 1 Axes>"
      ]
     },
     "metadata": {},
     "output_type": "display_data"
    },
    {
     "name": "stdout",
     "output_type": "stream",
     "text": [
      "\n",
      "image 1/1 C:\\Users\\samue\\Dataset-Pisang-7\\test\\images\\394_jpg.rf.e2df22dd9726f5c71af410b6ec4b5409.jpg: 640x640 1 sigatoka, 25.4ms\n",
      "Speed: 4.1ms preprocess, 25.4ms inference, 2.9ms postprocess per image at shape (1, 3, 640, 640)\n"
     ]
    },
    {
     "data": {
      "text/plain": [
       "<Figure size 800x800 with 1 Axes>"
      ]
     },
     "metadata": {},
     "output_type": "display_data"
    },
    {
     "name": "stdout",
     "output_type": "stream",
     "text": [
      "\n",
      "image 1/1 C:\\Users\\samue\\Dataset-Pisang-7\\test\\images\\395_jpg.rf.23728f9b56df9e8044569ebd0b6d21df.jpg: 640x640 1 sigatoka, 25.3ms\n",
      "Speed: 4.4ms preprocess, 25.3ms inference, 2.8ms postprocess per image at shape (1, 3, 640, 640)\n"
     ]
    },
    {
     "data": {
      "text/plain": [
       "<Figure size 800x800 with 1 Axes>"
      ]
     },
     "metadata": {},
     "output_type": "display_data"
    },
    {
     "name": "stdout",
     "output_type": "stream",
     "text": [
      "\n",
      "image 1/1 C:\\Users\\samue\\Dataset-Pisang-7\\test\\images\\395_jpg.rf.a254e8c8f728f5d0c47c009e7b601cca.jpg: 640x640 1 sigatoka, 25.4ms\n",
      "Speed: 4.2ms preprocess, 25.4ms inference, 2.9ms postprocess per image at shape (1, 3, 640, 640)\n"
     ]
    },
    {
     "data": {
      "text/plain": [
       "<Figure size 800x800 with 1 Axes>"
      ]
     },
     "metadata": {},
     "output_type": "display_data"
    },
    {
     "name": "stdout",
     "output_type": "stream",
     "text": [
      "\n",
      "image 1/1 C:\\Users\\samue\\Dataset-Pisang-7\\test\\images\\396_jpeg.rf.b92bd702146f25ba05dc3c570737b86b.jpg: 640x640 2 cordanas, 23.5ms\n",
      "Speed: 7.5ms preprocess, 23.5ms inference, 3.8ms postprocess per image at shape (1, 3, 640, 640)\n"
     ]
    },
    {
     "data": {
      "text/plain": [
       "<Figure size 800x800 with 1 Axes>"
      ]
     },
     "metadata": {},
     "output_type": "display_data"
    },
    {
     "name": "stdout",
     "output_type": "stream",
     "text": [
      "\n",
      "image 1/1 C:\\Users\\samue\\Dataset-Pisang-7\\test\\images\\396_jpg.rf.f0d4fa22e43efdb10e36f59ecb8684af.jpg: 640x640 1 sigatoka, 23.5ms\n",
      "Speed: 4.4ms preprocess, 23.5ms inference, 2.7ms postprocess per image at shape (1, 3, 640, 640)\n"
     ]
    },
    {
     "data": {
      "text/plain": [
       "<Figure size 800x800 with 1 Axes>"
      ]
     },
     "metadata": {},
     "output_type": "display_data"
    },
    {
     "name": "stdout",
     "output_type": "stream",
     "text": [
      "\n",
      "image 1/1 C:\\Users\\samue\\Dataset-Pisang-7\\test\\images\\399_jpg.rf.8bb76ac0f08ce8f8e45822c5f8c9d402.jpg: 640x640 1 sigatoka, 23.4ms\n",
      "Speed: 5.5ms preprocess, 23.4ms inference, 4.7ms postprocess per image at shape (1, 3, 640, 640)\n"
     ]
    },
    {
     "data": {
      "text/plain": [
       "<Figure size 800x800 with 1 Axes>"
      ]
     },
     "metadata": {},
     "output_type": "display_data"
    },
    {
     "name": "stdout",
     "output_type": "stream",
     "text": [
      "\n",
      "image 1/1 C:\\Users\\samue\\Dataset-Pisang-7\\test\\images\\39_jpg.rf.bef85ff8226c114a9e63df8734a5d7e9.jpg: 640x640 1 cordana, 23.4ms\n",
      "Speed: 4.5ms preprocess, 23.4ms inference, 2.8ms postprocess per image at shape (1, 3, 640, 640)\n"
     ]
    },
    {
     "data": {
      "text/plain": [
       "<Figure size 800x800 with 1 Axes>"
      ]
     },
     "metadata": {},
     "output_type": "display_data"
    },
    {
     "name": "stdout",
     "output_type": "stream",
     "text": [
      "\n",
      "image 1/1 C:\\Users\\samue\\Dataset-Pisang-7\\test\\images\\3_jpg.rf.6f0d907d874fa705755365843ae32c3d.jpg: 640x640 1 sigatoka, 23.7ms\n",
      "Speed: 6.3ms preprocess, 23.7ms inference, 5.1ms postprocess per image at shape (1, 3, 640, 640)\n"
     ]
    },
    {
     "data": {
      "text/plain": [
       "<Figure size 800x800 with 1 Axes>"
      ]
     },
     "metadata": {},
     "output_type": "display_data"
    },
    {
     "name": "stdout",
     "output_type": "stream",
     "text": [
      "\n",
      "image 1/1 C:\\Users\\samue\\Dataset-Pisang-7\\test\\images\\400_jpg.rf.d01a1b652e56450b2bfa1fd94c17e940.jpg: 640x640 1 sigatoka, 23.4ms\n",
      "Speed: 5.4ms preprocess, 23.4ms inference, 2.6ms postprocess per image at shape (1, 3, 640, 640)\n"
     ]
    },
    {
     "data": {
      "text/plain": [
       "<Figure size 800x800 with 1 Axes>"
      ]
     },
     "metadata": {},
     "output_type": "display_data"
    },
    {
     "name": "stdout",
     "output_type": "stream",
     "text": [
      "\n",
      "image 1/1 C:\\Users\\samue\\Dataset-Pisang-7\\test\\images\\405_jpg.rf.cbb7c2885d966ee64a4c6b0b609f7a96.jpg: 640x640 1 sigatoka, 23.3ms\n",
      "Speed: 4.8ms preprocess, 23.3ms inference, 3.4ms postprocess per image at shape (1, 3, 640, 640)\n"
     ]
    },
    {
     "data": {
      "text/plain": [
       "<Figure size 800x800 with 1 Axes>"
      ]
     },
     "metadata": {},
     "output_type": "display_data"
    },
    {
     "name": "stdout",
     "output_type": "stream",
     "text": [
      "\n",
      "image 1/1 C:\\Users\\samue\\Dataset-Pisang-7\\test\\images\\408_jpg.rf.6b39afc1e79f476369b15eed7c226131.jpg: 640x640 1 sigatoka, 22.9ms\n",
      "Speed: 4.3ms preprocess, 22.9ms inference, 2.6ms postprocess per image at shape (1, 3, 640, 640)\n"
     ]
    },
    {
     "data": {
      "text/plain": [
       "<Figure size 800x800 with 1 Axes>"
      ]
     },
     "metadata": {},
     "output_type": "display_data"
    },
    {
     "name": "stdout",
     "output_type": "stream",
     "text": [
      "\n",
      "image 1/1 C:\\Users\\samue\\Dataset-Pisang-7\\test\\images\\40_jpeg.rf.86cd45e4d4d12215f79fbfa7bb8bbea2.jpg: 640x640 2 cordanas, 23.1ms\n",
      "Speed: 5.2ms preprocess, 23.1ms inference, 2.5ms postprocess per image at shape (1, 3, 640, 640)\n"
     ]
    },
    {
     "data": {
      "text/plain": [
       "<Figure size 800x800 with 1 Axes>"
      ]
     },
     "metadata": {},
     "output_type": "display_data"
    },
    {
     "name": "stdout",
     "output_type": "stream",
     "text": [
      "\n",
      "image 1/1 C:\\Users\\samue\\Dataset-Pisang-7\\test\\images\\41_jpg.rf.c10473dce6dcf037f220c59eca3da423.jpg: 640x640 1 cordana, 23.0ms\n",
      "Speed: 5.5ms preprocess, 23.0ms inference, 2.7ms postprocess per image at shape (1, 3, 640, 640)\n"
     ]
    },
    {
     "data": {
      "text/plain": [
       "<Figure size 800x800 with 1 Axes>"
      ]
     },
     "metadata": {},
     "output_type": "display_data"
    },
    {
     "name": "stdout",
     "output_type": "stream",
     "text": [
      "\n",
      "image 1/1 C:\\Users\\samue\\Dataset-Pisang-7\\test\\images\\424_jpg.rf.e12693f6d03827310333ee536d97a3bc.jpg: 640x640 1 sigatoka, 16.5ms\n",
      "Speed: 3.0ms preprocess, 16.5ms inference, 3.7ms postprocess per image at shape (1, 3, 640, 640)\n"
     ]
    },
    {
     "data": {
      "text/plain": [
       "<Figure size 800x800 with 1 Axes>"
      ]
     },
     "metadata": {},
     "output_type": "display_data"
    },
    {
     "name": "stdout",
     "output_type": "stream",
     "text": [
      "\n",
      "image 1/1 C:\\Users\\samue\\Dataset-Pisang-7\\test\\images\\430_jpg.rf.0be80ac90bbcb9403c6093eb09dd1b7e.jpg: 640x640 1 sigatoka, 16.8ms\n",
      "Speed: 2.9ms preprocess, 16.8ms inference, 2.6ms postprocess per image at shape (1, 3, 640, 640)\n"
     ]
    },
    {
     "data": {
      "text/plain": [
       "<Figure size 800x800 with 1 Axes>"
      ]
     },
     "metadata": {},
     "output_type": "display_data"
    },
    {
     "name": "stdout",
     "output_type": "stream",
     "text": [
      "\n",
      "image 1/1 C:\\Users\\samue\\Dataset-Pisang-7\\test\\images\\432_jpg.rf.2d9d6ff8b307e8e4eddfeebaf766f11d.jpg: 640x640 1 sigatoka, 11.2ms\n",
      "Speed: 2.6ms preprocess, 11.2ms inference, 2.7ms postprocess per image at shape (1, 3, 640, 640)\n"
     ]
    },
    {
     "data": {
      "text/plain": [
       "<Figure size 800x800 with 1 Axes>"
      ]
     },
     "metadata": {},
     "output_type": "display_data"
    },
    {
     "name": "stdout",
     "output_type": "stream",
     "text": [
      "\n",
      "image 1/1 C:\\Users\\samue\\Dataset-Pisang-7\\test\\images\\434_jpg.rf.1cd729fdfc839f77e6ef9bfa6e836c7b.jpg: 640x640 1 sigatoka, 10.4ms\n",
      "Speed: 2.6ms preprocess, 10.4ms inference, 2.4ms postprocess per image at shape (1, 3, 640, 640)\n"
     ]
    },
    {
     "data": {
      "text/plain": [
       "<Figure size 800x800 with 1 Axes>"
      ]
     },
     "metadata": {},
     "output_type": "display_data"
    },
    {
     "name": "stdout",
     "output_type": "stream",
     "text": [
      "\n",
      "image 1/1 C:\\Users\\samue\\Dataset-Pisang-7\\test\\images\\435_jpg.rf.afa9b36da76c6918efed5bc50ac1b219.jpg: 640x640 1 sigatoka, 19.1ms\n",
      "Speed: 2.5ms preprocess, 19.1ms inference, 4.7ms postprocess per image at shape (1, 3, 640, 640)\n"
     ]
    },
    {
     "data": {
      "text/plain": [
       "<Figure size 800x800 with 1 Axes>"
      ]
     },
     "metadata": {},
     "output_type": "display_data"
    },
    {
     "name": "stdout",
     "output_type": "stream",
     "text": [
      "\n",
      "image 1/1 C:\\Users\\samue\\Dataset-Pisang-7\\test\\images\\436_jpg.rf.014ea3a38efacefbc890a19ebf548d6e.jpg: 640x640 1 sigatoka, 10.6ms\n",
      "Speed: 2.6ms preprocess, 10.6ms inference, 2.3ms postprocess per image at shape (1, 3, 640, 640)\n"
     ]
    },
    {
     "data": {
      "text/plain": [
       "<Figure size 800x800 with 1 Axes>"
      ]
     },
     "metadata": {},
     "output_type": "display_data"
    },
    {
     "name": "stdout",
     "output_type": "stream",
     "text": [
      "\n",
      "image 1/1 C:\\Users\\samue\\Dataset-Pisang-7\\test\\images\\445_jpg.rf.7f33a2f39b1ffbbc96f0589d88dc3602.jpg: 640x640 1 sigatoka, 11.2ms\n",
      "Speed: 2.6ms preprocess, 11.2ms inference, 2.4ms postprocess per image at shape (1, 3, 640, 640)\n"
     ]
    },
    {
     "data": {
      "text/plain": [
       "<Figure size 800x800 with 1 Axes>"
      ]
     },
     "metadata": {},
     "output_type": "display_data"
    },
    {
     "name": "stdout",
     "output_type": "stream",
     "text": [
      "\n",
      "image 1/1 C:\\Users\\samue\\Dataset-Pisang-7\\test\\images\\453_jpg.rf.f512ac240bac3f2877e5bcda80625f97.jpg: 640x640 1 sigatoka, 11.1ms\n",
      "Speed: 2.6ms preprocess, 11.1ms inference, 2.5ms postprocess per image at shape (1, 3, 640, 640)\n"
     ]
    },
    {
     "data": {
      "text/plain": [
       "<Figure size 800x800 with 1 Axes>"
      ]
     },
     "metadata": {},
     "output_type": "display_data"
    },
    {
     "name": "stdout",
     "output_type": "stream",
     "text": [
      "\n",
      "image 1/1 C:\\Users\\samue\\Dataset-Pisang-7\\test\\images\\455_jpg.rf.cac5f900a27fcbea65a691811dbe2943.jpg: 640x640 1 sigatoka, 10.7ms\n",
      "Speed: 2.5ms preprocess, 10.7ms inference, 2.3ms postprocess per image at shape (1, 3, 640, 640)\n"
     ]
    },
    {
     "data": {
      "text/plain": [
       "<Figure size 800x800 with 1 Axes>"
      ]
     },
     "metadata": {},
     "output_type": "display_data"
    },
    {
     "name": "stdout",
     "output_type": "stream",
     "text": [
      "\n",
      "image 1/1 C:\\Users\\samue\\Dataset-Pisang-7\\test\\images\\45_jpg.rf.6d36fe7e3d252c54825754b5abcad5ab.jpg: 640x640 1 sigatoka, 11.2ms\n",
      "Speed: 3.2ms preprocess, 11.2ms inference, 2.8ms postprocess per image at shape (1, 3, 640, 640)\n"
     ]
    },
    {
     "data": {
      "text/plain": [
       "<Figure size 800x800 with 1 Axes>"
      ]
     },
     "metadata": {},
     "output_type": "display_data"
    },
    {
     "name": "stdout",
     "output_type": "stream",
     "text": [
      "\n",
      "image 1/1 C:\\Users\\samue\\Dataset-Pisang-7\\test\\images\\45_jpg.rf.6dd14633e2e56be38a192073f4bacf20.jpg: 640x640 1 cordana, 13.4ms\n",
      "Speed: 3.7ms preprocess, 13.4ms inference, 2.8ms postprocess per image at shape (1, 3, 640, 640)\n"
     ]
    },
    {
     "data": {
      "text/plain": [
       "<Figure size 800x800 with 1 Axes>"
      ]
     },
     "metadata": {},
     "output_type": "display_data"
    },
    {
     "name": "stdout",
     "output_type": "stream",
     "text": [
      "\n",
      "image 1/1 C:\\Users\\samue\\Dataset-Pisang-7\\test\\images\\460_jpg.rf.56c04d3bd4408b87acdc3e61226cfd82.jpg: 640x640 1 sigatoka, 10.8ms\n",
      "Speed: 3.2ms preprocess, 10.8ms inference, 2.5ms postprocess per image at shape (1, 3, 640, 640)\n"
     ]
    },
    {
     "data": {
      "text/plain": [
       "<Figure size 800x800 with 1 Axes>"
      ]
     },
     "metadata": {},
     "output_type": "display_data"
    },
    {
     "name": "stdout",
     "output_type": "stream",
     "text": [
      "\n",
      "image 1/1 C:\\Users\\samue\\Dataset-Pisang-7\\test\\images\\462_jpg.rf.08879ce753d7d5f55172dd8931cf8060.jpg: 640x640 1 sigatoka, 12.3ms\n",
      "Speed: 3.1ms preprocess, 12.3ms inference, 3.5ms postprocess per image at shape (1, 3, 640, 640)\n"
     ]
    },
    {
     "data": {
      "text/plain": [
       "<Figure size 800x800 with 1 Axes>"
      ]
     },
     "metadata": {},
     "output_type": "display_data"
    },
    {
     "name": "stdout",
     "output_type": "stream",
     "text": [
      "\n",
      "image 1/1 C:\\Users\\samue\\Dataset-Pisang-7\\test\\images\\464_jpg.rf.79492725436f6c8b07be6740270be23f.jpg: 640x640 1 sigatoka, 18.2ms\n",
      "Speed: 3.2ms preprocess, 18.2ms inference, 3.2ms postprocess per image at shape (1, 3, 640, 640)\n"
     ]
    },
    {
     "data": {
      "text/plain": [
       "<Figure size 800x800 with 1 Axes>"
      ]
     },
     "metadata": {},
     "output_type": "display_data"
    },
    {
     "name": "stdout",
     "output_type": "stream",
     "text": [
      "\n",
      "image 1/1 C:\\Users\\samue\\Dataset-Pisang-7\\test\\images\\472_jpg.rf.68b3ae247eebdca955a2ccb7c87739cd.jpg: 640x640 1 sigatoka, 13.7ms\n",
      "Speed: 5.1ms preprocess, 13.7ms inference, 3.9ms postprocess per image at shape (1, 3, 640, 640)\n"
     ]
    },
    {
     "data": {
      "text/plain": [
       "<Figure size 800x800 with 1 Axes>"
      ]
     },
     "metadata": {},
     "output_type": "display_data"
    },
    {
     "name": "stdout",
     "output_type": "stream",
     "text": [
      "\n",
      "image 1/1 C:\\Users\\samue\\Dataset-Pisang-7\\test\\images\\48_jpg.rf.39ad0208d18cc7b96ba4eda240a398b4.jpg: 640x640 1 sigatoka, 12.5ms\n",
      "Speed: 2.8ms preprocess, 12.5ms inference, 3.0ms postprocess per image at shape (1, 3, 640, 640)\n"
     ]
    },
    {
     "data": {
      "text/plain": [
       "<Figure size 800x800 with 1 Axes>"
      ]
     },
     "metadata": {},
     "output_type": "display_data"
    },
    {
     "name": "stdout",
     "output_type": "stream",
     "text": [
      "\n",
      "image 1/1 C:\\Users\\samue\\Dataset-Pisang-7\\test\\images\\48_jpg.rf.a9d3fdd239de9bfd8e0e156a9f45b7a5.jpg: 640x640 1 sigatoka, 11.6ms\n",
      "Speed: 2.9ms preprocess, 11.6ms inference, 2.3ms postprocess per image at shape (1, 3, 640, 640)\n"
     ]
    },
    {
     "data": {
      "text/plain": [
       "<Figure size 800x800 with 1 Axes>"
      ]
     },
     "metadata": {},
     "output_type": "display_data"
    },
    {
     "name": "stdout",
     "output_type": "stream",
     "text": [
      "\n",
      "image 1/1 C:\\Users\\samue\\Dataset-Pisang-7\\test\\images\\49_jpg.rf.43438458dc2446b585e5a5fbfc2cf79f.jpg: 640x640 1 healthy, 10.9ms\n",
      "Speed: 3.1ms preprocess, 10.9ms inference, 2.5ms postprocess per image at shape (1, 3, 640, 640)\n"
     ]
    },
    {
     "data": {
      "text/plain": [
       "<Figure size 800x800 with 1 Axes>"
      ]
     },
     "metadata": {},
     "output_type": "display_data"
    },
    {
     "name": "stdout",
     "output_type": "stream",
     "text": [
      "\n",
      "image 1/1 C:\\Users\\samue\\Dataset-Pisang-7\\test\\images\\49_jpg.rf.d65a2f9adaeb9e5f21506fccaec461e3.jpg: 640x640 1 sigatoka, 17.5ms\n",
      "Speed: 3.9ms preprocess, 17.5ms inference, 4.0ms postprocess per image at shape (1, 3, 640, 640)\n"
     ]
    },
    {
     "data": {
      "text/plain": [
       "<Figure size 800x800 with 1 Axes>"
      ]
     },
     "metadata": {},
     "output_type": "display_data"
    },
    {
     "name": "stdout",
     "output_type": "stream",
     "text": [
      "\n",
      "image 1/1 C:\\Users\\samue\\Dataset-Pisang-7\\test\\images\\4_jpg.rf.03266b96fe5b84e32ff36c37455d87a4.jpg: 640x640 1 sigatoka, 10.7ms\n",
      "Speed: 2.9ms preprocess, 10.7ms inference, 4.0ms postprocess per image at shape (1, 3, 640, 640)\n"
     ]
    },
    {
     "data": {
      "text/plain": [
       "<Figure size 800x800 with 1 Axes>"
      ]
     },
     "metadata": {},
     "output_type": "display_data"
    },
    {
     "name": "stdout",
     "output_type": "stream",
     "text": [
      "\n",
      "image 1/1 C:\\Users\\samue\\Dataset-Pisang-7\\test\\images\\4_jpg.rf.ba19f33b89d1bde0a9be4e620920caf9.jpg: 640x640 1 healthy, 8.8ms\n",
      "Speed: 2.5ms preprocess, 8.8ms inference, 2.0ms postprocess per image at shape (1, 3, 640, 640)\n"
     ]
    },
    {
     "data": {
      "text/plain": [
       "<Figure size 800x800 with 1 Axes>"
      ]
     },
     "metadata": {},
     "output_type": "display_data"
    },
    {
     "name": "stdout",
     "output_type": "stream",
     "text": [
      "\n",
      "image 1/1 C:\\Users\\samue\\Dataset-Pisang-7\\test\\images\\51_jpg.rf.323a5c4437966c8faae8a3841d7349fd.jpg: 640x640 1 healthy, 8.7ms\n",
      "Speed: 2.7ms preprocess, 8.7ms inference, 2.5ms postprocess per image at shape (1, 3, 640, 640)\n"
     ]
    },
    {
     "data": {
      "text/plain": [
       "<Figure size 800x800 with 1 Axes>"
      ]
     },
     "metadata": {},
     "output_type": "display_data"
    },
    {
     "name": "stdout",
     "output_type": "stream",
     "text": [
      "\n",
      "image 1/1 C:\\Users\\samue\\Dataset-Pisang-7\\test\\images\\53_jpg.rf.2721d8e4868b112f6bff9f3378db7c5f.jpg: 640x640 1 cordana, 13.6ms\n",
      "Speed: 2.7ms preprocess, 13.6ms inference, 3.1ms postprocess per image at shape (1, 3, 640, 640)\n"
     ]
    },
    {
     "data": {
      "text/plain": [
       "<Figure size 800x800 with 1 Axes>"
      ]
     },
     "metadata": {},
     "output_type": "display_data"
    },
    {
     "name": "stdout",
     "output_type": "stream",
     "text": [
      "\n",
      "image 1/1 C:\\Users\\samue\\Dataset-Pisang-7\\test\\images\\54_jpeg.rf.74a678e86bf4f3b8ce7bd620f4647ba2.jpg: 640x640 2 cordanas, 9.9ms\n",
      "Speed: 2.6ms preprocess, 9.9ms inference, 2.4ms postprocess per image at shape (1, 3, 640, 640)\n"
     ]
    },
    {
     "data": {
      "text/plain": [
       "<Figure size 800x800 with 1 Axes>"
      ]
     },
     "metadata": {},
     "output_type": "display_data"
    },
    {
     "name": "stdout",
     "output_type": "stream",
     "text": [
      "\n",
      "image 1/1 C:\\Users\\samue\\Dataset-Pisang-7\\test\\images\\56_jpg.rf.6f475b57b236ef787febab48ce7043ac.jpg: 640x640 1 cordana, 9.5ms\n",
      "Speed: 3.6ms preprocess, 9.5ms inference, 2.1ms postprocess per image at shape (1, 3, 640, 640)\n"
     ]
    },
    {
     "data": {
      "text/plain": [
       "<Figure size 800x800 with 1 Axes>"
      ]
     },
     "metadata": {},
     "output_type": "display_data"
    },
    {
     "name": "stdout",
     "output_type": "stream",
     "text": [
      "\n",
      "image 1/1 C:\\Users\\samue\\Dataset-Pisang-7\\test\\images\\56_jpg.rf.d419c5c49d1fae1909a339157fd715fa.jpg: 640x640 1 cordana, 21.9ms\n",
      "Speed: 2.8ms preprocess, 21.9ms inference, 2.2ms postprocess per image at shape (1, 3, 640, 640)\n"
     ]
    },
    {
     "data": {
      "text/plain": [
       "<Figure size 800x800 with 1 Axes>"
      ]
     },
     "metadata": {},
     "output_type": "display_data"
    },
    {
     "name": "stdout",
     "output_type": "stream",
     "text": [
      "\n",
      "image 1/1 C:\\Users\\samue\\Dataset-Pisang-7\\test\\images\\57_jpeg.rf.d877bd8ab6dfee254bb13e78613bd03e.jpg: 640x640 3 cordanas, 9.6ms\n",
      "Speed: 2.6ms preprocess, 9.6ms inference, 2.3ms postprocess per image at shape (1, 3, 640, 640)\n"
     ]
    },
    {
     "data": {
      "text/plain": [
       "<Figure size 800x800 with 1 Axes>"
      ]
     },
     "metadata": {},
     "output_type": "display_data"
    },
    {
     "name": "stdout",
     "output_type": "stream",
     "text": [
      "\n",
      "image 1/1 C:\\Users\\samue\\Dataset-Pisang-7\\test\\images\\57_jpg.rf.7f9c6ed2428b8ba8fa2939758c55e128.jpg: 640x640 1 sigatoka, 28.1ms\n",
      "Speed: 5.5ms preprocess, 28.1ms inference, 2.2ms postprocess per image at shape (1, 3, 640, 640)\n"
     ]
    },
    {
     "data": {
      "text/plain": [
       "<Figure size 800x800 with 1 Axes>"
      ]
     },
     "metadata": {},
     "output_type": "display_data"
    },
    {
     "name": "stdout",
     "output_type": "stream",
     "text": [
      "\n",
      "image 1/1 C:\\Users\\samue\\Dataset-Pisang-7\\test\\images\\59_jpg.rf.c385a96cfde5c2bd0a46c97be181b40f.jpg: 640x640 1 sigatoka, 16.5ms\n",
      "Speed: 6.6ms preprocess, 16.5ms inference, 2.3ms postprocess per image at shape (1, 3, 640, 640)\n"
     ]
    },
    {
     "data": {
      "text/plain": [
       "<Figure size 800x800 with 1 Axes>"
      ]
     },
     "metadata": {},
     "output_type": "display_data"
    },
    {
     "name": "stdout",
     "output_type": "stream",
     "text": [
      "\n",
      "image 1/1 C:\\Users\\samue\\Dataset-Pisang-7\\test\\images\\5_jpg.rf.2b4fa399f0ed64b2452f7cedc209be6c.jpg: 640x640 1 healthy, 24.3ms\n",
      "Speed: 3.0ms preprocess, 24.3ms inference, 2.5ms postprocess per image at shape (1, 3, 640, 640)\n"
     ]
    },
    {
     "data": {
      "text/plain": [
       "<Figure size 800x800 with 1 Axes>"
      ]
     },
     "metadata": {},
     "output_type": "display_data"
    },
    {
     "name": "stdout",
     "output_type": "stream",
     "text": [
      "\n",
      "image 1/1 C:\\Users\\samue\\Dataset-Pisang-7\\test\\images\\5_jpg.rf.7e703167475e47bafeddd9c6ff7b4906.jpg: 640x640 1 healthy, 19.7ms\n",
      "Speed: 4.1ms preprocess, 19.7ms inference, 2.8ms postprocess per image at shape (1, 3, 640, 640)\n"
     ]
    },
    {
     "data": {
      "text/plain": [
       "<Figure size 800x800 with 1 Axes>"
      ]
     },
     "metadata": {},
     "output_type": "display_data"
    },
    {
     "name": "stdout",
     "output_type": "stream",
     "text": [
      "\n",
      "image 1/1 C:\\Users\\samue\\Dataset-Pisang-7\\test\\images\\61_jpeg.rf.3973d8b71dd296d3c5e797a3e24d2437.jpg: 640x640 1 cordana, 24.9ms\n",
      "Speed: 5.0ms preprocess, 24.9ms inference, 4.2ms postprocess per image at shape (1, 3, 640, 640)\n"
     ]
    },
    {
     "data": {
      "text/plain": [
       "<Figure size 800x800 with 1 Axes>"
      ]
     },
     "metadata": {},
     "output_type": "display_data"
    },
    {
     "name": "stdout",
     "output_type": "stream",
     "text": [
      "\n",
      "image 1/1 C:\\Users\\samue\\Dataset-Pisang-7\\test\\images\\61_jpg.rf.10356703afea9719a709643a8ec8f352.jpg: 640x640 1 cordana, 19.2ms\n",
      "Speed: 2.5ms preprocess, 19.2ms inference, 4.1ms postprocess per image at shape (1, 3, 640, 640)\n"
     ]
    },
    {
     "data": {
      "text/plain": [
       "<Figure size 800x800 with 1 Axes>"
      ]
     },
     "metadata": {},
     "output_type": "display_data"
    },
    {
     "name": "stdout",
     "output_type": "stream",
     "text": [
      "\n",
      "image 1/1 C:\\Users\\samue\\Dataset-Pisang-7\\test\\images\\62_jpg.rf.bdd84f14fd92d01ac7ae10b802044499.jpg: 640x640 1 sigatoka, 25.8ms\n",
      "Speed: 6.6ms preprocess, 25.8ms inference, 6.3ms postprocess per image at shape (1, 3, 640, 640)\n"
     ]
    },
    {
     "data": {
      "text/plain": [
       "<Figure size 800x800 with 1 Axes>"
      ]
     },
     "metadata": {},
     "output_type": "display_data"
    },
    {
     "name": "stdout",
     "output_type": "stream",
     "text": [
      "\n",
      "image 1/1 C:\\Users\\samue\\Dataset-Pisang-7\\test\\images\\63_jpg.rf.75b6e891e2339393d7db280e781ec2a2.jpg: 640x640 1 sigatoka, 18.8ms\n",
      "Speed: 5.5ms preprocess, 18.8ms inference, 2.5ms postprocess per image at shape (1, 3, 640, 640)\n"
     ]
    },
    {
     "data": {
      "text/plain": [
       "<Figure size 800x800 with 1 Axes>"
      ]
     },
     "metadata": {},
     "output_type": "display_data"
    },
    {
     "name": "stdout",
     "output_type": "stream",
     "text": [
      "\n",
      "image 1/1 C:\\Users\\samue\\Dataset-Pisang-7\\test\\images\\63_jpg.rf.a57f30e5ca4778da0a0369275db63af7.jpg: 640x640 1 cordana, 16.6ms\n",
      "Speed: 5.1ms preprocess, 16.6ms inference, 4.0ms postprocess per image at shape (1, 3, 640, 640)\n"
     ]
    },
    {
     "data": {
      "text/plain": [
       "<Figure size 800x800 with 1 Axes>"
      ]
     },
     "metadata": {},
     "output_type": "display_data"
    },
    {
     "name": "stdout",
     "output_type": "stream",
     "text": [
      "\n",
      "image 1/1 C:\\Users\\samue\\Dataset-Pisang-7\\test\\images\\64_jpg.rf.78fc6500b10de72aa526a0abb42e20d7.jpg: 640x640 1 healthy, 18.1ms\n",
      "Speed: 4.5ms preprocess, 18.1ms inference, 3.6ms postprocess per image at shape (1, 3, 640, 640)\n"
     ]
    },
    {
     "data": {
      "text/plain": [
       "<Figure size 800x800 with 1 Axes>"
      ]
     },
     "metadata": {},
     "output_type": "display_data"
    },
    {
     "name": "stdout",
     "output_type": "stream",
     "text": [
      "\n",
      "image 1/1 C:\\Users\\samue\\Dataset-Pisang-7\\test\\images\\64_jpg.rf.aefb790bce9c397fd76bf15c0c71a8a6.jpg: 640x640 1 cordana, 18.2ms\n",
      "Speed: 4.7ms preprocess, 18.2ms inference, 4.2ms postprocess per image at shape (1, 3, 640, 640)\n"
     ]
    },
    {
     "data": {
      "text/plain": [
       "<Figure size 800x800 with 1 Axes>"
      ]
     },
     "metadata": {},
     "output_type": "display_data"
    },
    {
     "name": "stdout",
     "output_type": "stream",
     "text": [
      "\n",
      "image 1/1 C:\\Users\\samue\\Dataset-Pisang-7\\test\\images\\65_jpg.rf.64b4dc52f7b5a0e0642d209cf229a347.jpg: 640x640 2 cordanas, 12.3ms\n",
      "Speed: 2.9ms preprocess, 12.3ms inference, 2.7ms postprocess per image at shape (1, 3, 640, 640)\n"
     ]
    },
    {
     "data": {
      "text/plain": [
       "<Figure size 800x800 with 1 Axes>"
      ]
     },
     "metadata": {},
     "output_type": "display_data"
    },
    {
     "name": "stdout",
     "output_type": "stream",
     "text": [
      "\n",
      "image 1/1 C:\\Users\\samue\\Dataset-Pisang-7\\test\\images\\69_jpg.rf.23ce05f3dca72adeaf394d343c195488.jpg: 640x640 1 cordana, 12.6ms\n",
      "Speed: 5.1ms preprocess, 12.6ms inference, 2.6ms postprocess per image at shape (1, 3, 640, 640)\n"
     ]
    },
    {
     "data": {
      "text/plain": [
       "<Figure size 800x800 with 1 Axes>"
      ]
     },
     "metadata": {},
     "output_type": "display_data"
    },
    {
     "name": "stdout",
     "output_type": "stream",
     "text": [
      "\n",
      "image 1/1 C:\\Users\\samue\\Dataset-Pisang-7\\test\\images\\69_jpg.rf.860d005f0d5fca85d06772291b21116f.jpg: 640x640 1 cordana, 20.6ms\n",
      "Speed: 4.0ms preprocess, 20.6ms inference, 2.9ms postprocess per image at shape (1, 3, 640, 640)\n"
     ]
    },
    {
     "data": {
      "text/plain": [
       "<Figure size 800x800 with 1 Axes>"
      ]
     },
     "metadata": {},
     "output_type": "display_data"
    },
    {
     "name": "stdout",
     "output_type": "stream",
     "text": [
      "\n",
      "image 1/1 C:\\Users\\samue\\Dataset-Pisang-7\\test\\images\\72_jpg.rf.14ac1e33d79306116506c9fc0ccd2fa9.jpg: 640x640 1 cordana, 24.5ms\n",
      "Speed: 4.4ms preprocess, 24.5ms inference, 2.2ms postprocess per image at shape (1, 3, 640, 640)\n"
     ]
    },
    {
     "data": {
      "text/plain": [
       "<Figure size 800x800 with 1 Axes>"
      ]
     },
     "metadata": {},
     "output_type": "display_data"
    },
    {
     "name": "stdout",
     "output_type": "stream",
     "text": [
      "\n",
      "image 1/1 C:\\Users\\samue\\Dataset-Pisang-7\\test\\images\\72_jpg.rf.b9ebe34b27076b85d8435662770689e6.jpg: 640x640 1 sigatoka, 19.1ms\n",
      "Speed: 4.4ms preprocess, 19.1ms inference, 2.3ms postprocess per image at shape (1, 3, 640, 640)\n"
     ]
    },
    {
     "data": {
      "text/plain": [
       "<Figure size 800x800 with 1 Axes>"
      ]
     },
     "metadata": {},
     "output_type": "display_data"
    },
    {
     "name": "stdout",
     "output_type": "stream",
     "text": [
      "\n",
      "image 1/1 C:\\Users\\samue\\Dataset-Pisang-7\\test\\images\\73_jpg.rf.fa1a0beab46d59652214f4c4aa07230a.jpg: 640x640 2 cordanas, 18.4ms\n",
      "Speed: 4.1ms preprocess, 18.4ms inference, 2.9ms postprocess per image at shape (1, 3, 640, 640)\n"
     ]
    },
    {
     "data": {
      "text/plain": [
       "<Figure size 800x800 with 1 Axes>"
      ]
     },
     "metadata": {},
     "output_type": "display_data"
    },
    {
     "name": "stdout",
     "output_type": "stream",
     "text": [
      "\n",
      "image 1/1 C:\\Users\\samue\\Dataset-Pisang-7\\test\\images\\74_jpg.rf.1af5023b8ff6c5b0ac59fc227628ff29.jpg: 640x640 2 cordanas, 15.8ms\n",
      "Speed: 4.1ms preprocess, 15.8ms inference, 2.5ms postprocess per image at shape (1, 3, 640, 640)\n"
     ]
    },
    {
     "data": {
      "text/plain": [
       "<Figure size 800x800 with 1 Axes>"
      ]
     },
     "metadata": {},
     "output_type": "display_data"
    },
    {
     "name": "stdout",
     "output_type": "stream",
     "text": [
      "\n",
      "image 1/1 C:\\Users\\samue\\Dataset-Pisang-7\\test\\images\\77_jpeg.rf.e117d82fd0176e2bc519195cf51a9bc0.jpg: 640x640 1 cordana, 17.3ms\n",
      "Speed: 5.4ms preprocess, 17.3ms inference, 2.5ms postprocess per image at shape (1, 3, 640, 640)\n"
     ]
    },
    {
     "data": {
      "text/plain": [
       "<Figure size 800x800 with 1 Axes>"
      ]
     },
     "metadata": {},
     "output_type": "display_data"
    },
    {
     "name": "stdout",
     "output_type": "stream",
     "text": [
      "\n",
      "image 1/1 C:\\Users\\samue\\Dataset-Pisang-7\\test\\images\\77_jpg.rf.7ef8126b9b4c83160e535854230c0e04.jpg: 640x640 1 sigatoka, 20.6ms\n",
      "Speed: 5.8ms preprocess, 20.6ms inference, 4.4ms postprocess per image at shape (1, 3, 640, 640)\n"
     ]
    },
    {
     "data": {
      "text/plain": [
       "<Figure size 800x800 with 1 Axes>"
      ]
     },
     "metadata": {},
     "output_type": "display_data"
    },
    {
     "name": "stdout",
     "output_type": "stream",
     "text": [
      "\n",
      "image 1/1 C:\\Users\\samue\\Dataset-Pisang-7\\test\\images\\77_jpg.rf.c8ec3278986fdeea343432fba04bec6b.jpg: 640x640 1 cordana, 26.4ms\n",
      "Speed: 6.8ms preprocess, 26.4ms inference, 2.7ms postprocess per image at shape (1, 3, 640, 640)\n"
     ]
    },
    {
     "data": {
      "text/plain": [
       "<Figure size 800x800 with 1 Axes>"
      ]
     },
     "metadata": {},
     "output_type": "display_data"
    },
    {
     "name": "stdout",
     "output_type": "stream",
     "text": [
      "\n",
      "image 1/1 C:\\Users\\samue\\Dataset-Pisang-7\\test\\images\\79_jpg.rf.2160aea3348c72b5fb5c198cf04aa0c6.jpg: 640x640 1 sigatoka, 26.1ms\n",
      "Speed: 4.7ms preprocess, 26.1ms inference, 2.7ms postprocess per image at shape (1, 3, 640, 640)\n"
     ]
    },
    {
     "data": {
      "text/plain": [
       "<Figure size 800x800 with 1 Axes>"
      ]
     },
     "metadata": {},
     "output_type": "display_data"
    },
    {
     "name": "stdout",
     "output_type": "stream",
     "text": [
      "\n",
      "image 1/1 C:\\Users\\samue\\Dataset-Pisang-7\\test\\images\\79_jpg.rf.4460d268731ae495984073233c1de9d3.jpg: 640x640 1 sigatoka, 25.9ms\n",
      "Speed: 4.0ms preprocess, 25.9ms inference, 3.2ms postprocess per image at shape (1, 3, 640, 640)\n"
     ]
    },
    {
     "data": {
      "text/plain": [
       "<Figure size 800x800 with 1 Axes>"
      ]
     },
     "metadata": {},
     "output_type": "display_data"
    },
    {
     "name": "stdout",
     "output_type": "stream",
     "text": [
      "\n",
      "image 1/1 C:\\Users\\samue\\Dataset-Pisang-7\\test\\images\\81_jpg.rf.ca1fb8837ea8e85d2c7911da6e44bf73.jpg: 640x640 2 cordanas, 25.6ms\n",
      "Speed: 5.1ms preprocess, 25.6ms inference, 3.3ms postprocess per image at shape (1, 3, 640, 640)\n"
     ]
    },
    {
     "data": {
      "text/plain": [
       "<Figure size 800x800 with 1 Axes>"
      ]
     },
     "metadata": {},
     "output_type": "display_data"
    },
    {
     "name": "stdout",
     "output_type": "stream",
     "text": [
      "\n",
      "image 1/1 C:\\Users\\samue\\Dataset-Pisang-7\\test\\images\\84_jpg.rf.91b6a5fa4df557cb18d07aa5e9c278c1.jpg: 640x640 1 sigatoka, 25.6ms\n",
      "Speed: 6.7ms preprocess, 25.6ms inference, 4.3ms postprocess per image at shape (1, 3, 640, 640)\n"
     ]
    },
    {
     "data": {
      "text/plain": [
       "<Figure size 800x800 with 1 Axes>"
      ]
     },
     "metadata": {},
     "output_type": "display_data"
    },
    {
     "name": "stdout",
     "output_type": "stream",
     "text": [
      "\n",
      "image 1/1 C:\\Users\\samue\\Dataset-Pisang-7\\test\\images\\85_jpg.rf.28b288be5e996ff9b81405746e58ad85.jpg: 640x640 2 cordanas, 25.6ms\n",
      "Speed: 7.3ms preprocess, 25.6ms inference, 2.8ms postprocess per image at shape (1, 3, 640, 640)\n"
     ]
    },
    {
     "data": {
      "text/plain": [
       "<Figure size 800x800 with 1 Axes>"
      ]
     },
     "metadata": {},
     "output_type": "display_data"
    },
    {
     "name": "stdout",
     "output_type": "stream",
     "text": [
      "\n",
      "image 1/1 C:\\Users\\samue\\Dataset-Pisang-7\\test\\images\\87_jpg.rf.3eed025b4a821960b2ce3867a229e2be.jpg: 640x640 1 sigatoka, 25.4ms\n",
      "Speed: 4.3ms preprocess, 25.4ms inference, 4.3ms postprocess per image at shape (1, 3, 640, 640)\n"
     ]
    },
    {
     "data": {
      "text/plain": [
       "<Figure size 800x800 with 1 Axes>"
      ]
     },
     "metadata": {},
     "output_type": "display_data"
    },
    {
     "name": "stdout",
     "output_type": "stream",
     "text": [
      "\n",
      "image 1/1 C:\\Users\\samue\\Dataset-Pisang-7\\test\\images\\88_jpg.rf.5689e11697209173667a53c20917ca79.jpg: 640x640 1 sigatoka, 26.4ms\n",
      "Speed: 7.8ms preprocess, 26.4ms inference, 5.9ms postprocess per image at shape (1, 3, 640, 640)\n"
     ]
    },
    {
     "data": {
      "text/plain": [
       "<Figure size 800x800 with 1 Axes>"
      ]
     },
     "metadata": {},
     "output_type": "display_data"
    },
    {
     "name": "stdout",
     "output_type": "stream",
     "text": [
      "\n",
      "image 1/1 C:\\Users\\samue\\Dataset-Pisang-7\\test\\images\\88_jpg.rf.dec17514430730be2dd59e440e11c9f8.jpg: 640x640 2 cordanas, 25.6ms\n",
      "Speed: 5.4ms preprocess, 25.6ms inference, 2.8ms postprocess per image at shape (1, 3, 640, 640)\n"
     ]
    },
    {
     "data": {
      "text/plain": [
       "<Figure size 800x800 with 1 Axes>"
      ]
     },
     "metadata": {},
     "output_type": "display_data"
    },
    {
     "name": "stdout",
     "output_type": "stream",
     "text": [
      "\n",
      "image 1/1 C:\\Users\\samue\\Dataset-Pisang-7\\test\\images\\8_jpeg.rf.228fa19c901ab965e3490273ac59edfa.jpg: 640x640 2 cordanas, 25.9ms\n",
      "Speed: 4.6ms preprocess, 25.9ms inference, 4.0ms postprocess per image at shape (1, 3, 640, 640)\n"
     ]
    },
    {
     "data": {
      "text/plain": [
       "<Figure size 800x800 with 1 Axes>"
      ]
     },
     "metadata": {},
     "output_type": "display_data"
    },
    {
     "name": "stdout",
     "output_type": "stream",
     "text": [
      "\n",
      "image 1/1 C:\\Users\\samue\\Dataset-Pisang-7\\test\\images\\91_jpg.rf.a76dbb5583e9ac602b48daf1bfb19233.jpg: 640x640 1 cordana, 25.5ms\n",
      "Speed: 7.3ms preprocess, 25.5ms inference, 4.8ms postprocess per image at shape (1, 3, 640, 640)\n"
     ]
    },
    {
     "data": {
      "text/plain": [
       "<Figure size 800x800 with 1 Axes>"
      ]
     },
     "metadata": {},
     "output_type": "display_data"
    },
    {
     "name": "stdout",
     "output_type": "stream",
     "text": [
      "\n",
      "image 1/1 C:\\Users\\samue\\Dataset-Pisang-7\\test\\images\\92_jpg.rf.31085f7d2cee782504b42bc1506d301b.jpg: 640x640 1 healthy, 25.5ms\n",
      "Speed: 7.6ms preprocess, 25.5ms inference, 4.9ms postprocess per image at shape (1, 3, 640, 640)\n"
     ]
    },
    {
     "data": {
      "text/plain": [
       "<Figure size 800x800 with 1 Axes>"
      ]
     },
     "metadata": {},
     "output_type": "display_data"
    },
    {
     "name": "stdout",
     "output_type": "stream",
     "text": [
      "\n",
      "image 1/1 C:\\Users\\samue\\Dataset-Pisang-7\\test\\images\\93_jpeg.rf.9193d69e5a2eb77b03ad472276618b93.jpg: 640x640 1 cordana, 25.4ms\n",
      "Speed: 5.6ms preprocess, 25.4ms inference, 5.2ms postprocess per image at shape (1, 3, 640, 640)\n"
     ]
    },
    {
     "data": {
      "text/plain": [
       "<Figure size 800x800 with 1 Axes>"
      ]
     },
     "metadata": {},
     "output_type": "display_data"
    },
    {
     "name": "stdout",
     "output_type": "stream",
     "text": [
      "\n",
      "image 1/1 C:\\Users\\samue\\Dataset-Pisang-7\\test\\images\\93_jpg.rf.a23a116dcdbef269b2a1ba2ff547e951.jpg: 640x640 1 healthy, 25.4ms\n",
      "Speed: 7.1ms preprocess, 25.4ms inference, 4.8ms postprocess per image at shape (1, 3, 640, 640)\n"
     ]
    },
    {
     "data": {
      "text/plain": [
       "<Figure size 800x800 with 1 Axes>"
      ]
     },
     "metadata": {},
     "output_type": "display_data"
    },
    {
     "name": "stdout",
     "output_type": "stream",
     "text": [
      "\n",
      "image 1/1 C:\\Users\\samue\\Dataset-Pisang-7\\test\\images\\94_jpg.rf.443d0272eac79946cf1d009a009e0a8c.jpg: 640x640 1 sigatoka, 26.7ms\n",
      "Speed: 8.0ms preprocess, 26.7ms inference, 3.9ms postprocess per image at shape (1, 3, 640, 640)\n"
     ]
    },
    {
     "data": {
      "text/plain": [
       "<Figure size 800x800 with 1 Axes>"
      ]
     },
     "metadata": {},
     "output_type": "display_data"
    },
    {
     "name": "stdout",
     "output_type": "stream",
     "text": [
      "\n",
      "image 1/1 C:\\Users\\samue\\Dataset-Pisang-7\\test\\images\\94_jpg.rf.973ba8d3c74b781470ec2f5302f10a00.jpg: 640x640 1 healthy, 25.5ms\n",
      "Speed: 6.3ms preprocess, 25.5ms inference, 4.2ms postprocess per image at shape (1, 3, 640, 640)\n"
     ]
    },
    {
     "data": {
      "text/plain": [
       "<Figure size 800x800 with 1 Axes>"
      ]
     },
     "metadata": {},
     "output_type": "display_data"
    },
    {
     "name": "stdout",
     "output_type": "stream",
     "text": [
      "\n",
      "image 1/1 C:\\Users\\samue\\Dataset-Pisang-7\\test\\images\\95_jpeg.rf.ff616316cccf7413affa9b5a888f8878.jpg: 640x640 1 cordana, 29.8ms\n",
      "Speed: 7.6ms preprocess, 29.8ms inference, 6.5ms postprocess per image at shape (1, 3, 640, 640)\n"
     ]
    },
    {
     "data": {
      "text/plain": [
       "<Figure size 800x800 with 1 Axes>"
      ]
     },
     "metadata": {},
     "output_type": "display_data"
    },
    {
     "name": "stdout",
     "output_type": "stream",
     "text": [
      "\n",
      "image 1/1 C:\\Users\\samue\\Dataset-Pisang-7\\test\\images\\95_jpg.rf.05f9f545a21d34ee0a0c70dc60c256a8.jpg: 640x640 1 sigatoka, 25.5ms\n",
      "Speed: 7.3ms preprocess, 25.5ms inference, 3.6ms postprocess per image at shape (1, 3, 640, 640)\n"
     ]
    },
    {
     "data": {
      "text/plain": [
       "<Figure size 800x800 with 1 Axes>"
      ]
     },
     "metadata": {},
     "output_type": "display_data"
    },
    {
     "name": "stdout",
     "output_type": "stream",
     "text": [
      "\n",
      "image 1/1 C:\\Users\\samue\\Dataset-Pisang-7\\test\\images\\97_jpg.rf.5d4951d54b7db9efd9b3f434c51da4bd.jpg: 640x640 2 cordanas, 26.0ms\n",
      "Speed: 7.7ms preprocess, 26.0ms inference, 4.5ms postprocess per image at shape (1, 3, 640, 640)\n"
     ]
    },
    {
     "data": {
      "text/plain": [
       "<Figure size 800x800 with 1 Axes>"
      ]
     },
     "metadata": {},
     "output_type": "display_data"
    },
    {
     "name": "stdout",
     "output_type": "stream",
     "text": [
      "\n",
      "image 1/1 C:\\Users\\samue\\Dataset-Pisang-7\\test\\images\\97_jpg.rf.99e08c59ef85b88ba1d637a67b23f9fa.jpg: 640x640 1 healthy, 25.5ms\n",
      "Speed: 6.7ms preprocess, 25.5ms inference, 4.8ms postprocess per image at shape (1, 3, 640, 640)\n"
     ]
    },
    {
     "data": {
      "text/plain": [
       "<Figure size 800x800 with 1 Axes>"
      ]
     },
     "metadata": {},
     "output_type": "display_data"
    },
    {
     "name": "stdout",
     "output_type": "stream",
     "text": [
      "\n",
      "image 1/1 C:\\Users\\samue\\Dataset-Pisang-7\\test\\images\\97_jpg.rf.9e09e133b0d8ff2a84e10006973e2977.jpg: 640x640 1 sigatoka, 25.5ms\n",
      "Speed: 5.4ms preprocess, 25.5ms inference, 4.2ms postprocess per image at shape (1, 3, 640, 640)\n"
     ]
    },
    {
     "data": {
      "text/plain": [
       "<Figure size 800x800 with 1 Axes>"
      ]
     },
     "metadata": {},
     "output_type": "display_data"
    },
    {
     "name": "stdout",
     "output_type": "stream",
     "text": [
      "\n",
      "image 1/1 C:\\Users\\samue\\Dataset-Pisang-7\\test\\images\\9_jpg.rf.7d07e157a11e48619178ed423b32c909.jpg: 640x640 3 cordanas, 26.0ms\n",
      "Speed: 7.8ms preprocess, 26.0ms inference, 5.9ms postprocess per image at shape (1, 3, 640, 640)\n"
     ]
    },
    {
     "data": {
      "text/plain": [
       "<Figure size 800x800 with 1 Axes>"
      ]
     },
     "metadata": {},
     "output_type": "display_data"
    },
    {
     "name": "stdout",
     "output_type": "stream",
     "text": [
      "\n",
      "image 1/1 C:\\Users\\samue\\Dataset-Pisang-7\\test\\images\\9_jpg.rf.7f33b7b868b399f6ca550b6504065e9f.jpg: 640x640 1 sigatoka, 29.7ms\n",
      "Speed: 5.9ms preprocess, 29.7ms inference, 4.6ms postprocess per image at shape (1, 3, 640, 640)\n"
     ]
    },
    {
     "data": {
      "text/plain": [
       "<Figure size 800x800 with 1 Axes>"
      ]
     },
     "metadata": {},
     "output_type": "display_data"
    },
    {
     "name": "stdout",
     "output_type": "stream",
     "text": [
      "\n",
      "image 1/1 C:\\Users\\samue\\Dataset-Pisang-7\\test\\images\\cordana101_jpeg.rf.44e2c817dfdadceadd61a2a3e4651337.jpg: 640x640 2 cordanas, 25.5ms\n",
      "Speed: 6.5ms preprocess, 25.5ms inference, 4.4ms postprocess per image at shape (1, 3, 640, 640)\n"
     ]
    },
    {
     "data": {
      "text/plain": [
       "<Figure size 800x800 with 1 Axes>"
      ]
     },
     "metadata": {},
     "output_type": "display_data"
    },
    {
     "name": "stdout",
     "output_type": "stream",
     "text": [
      "\n",
      "image 1/1 C:\\Users\\samue\\Dataset-Pisang-7\\test\\images\\cordana121_jpeg.rf.8c98f516dd3580626b3ff1ff224ca7d3.jpg: 640x640 2 cordanas, 25.6ms\n",
      "Speed: 7.9ms preprocess, 25.6ms inference, 4.7ms postprocess per image at shape (1, 3, 640, 640)\n"
     ]
    },
    {
     "data": {
      "text/plain": [
       "<Figure size 800x800 with 1 Axes>"
      ]
     },
     "metadata": {},
     "output_type": "display_data"
    },
    {
     "name": "stdout",
     "output_type": "stream",
     "text": [
      "\n",
      "image 1/1 C:\\Users\\samue\\Dataset-Pisang-7\\test\\images\\cordana12_jpeg.rf.e38813f981fddeaf3c8886e0d5bddf28.jpg: 640x640 3 cordanas, 27.9ms\n",
      "Speed: 7.3ms preprocess, 27.9ms inference, 4.4ms postprocess per image at shape (1, 3, 640, 640)\n"
     ]
    },
    {
     "data": {
      "text/plain": [
       "<Figure size 800x800 with 1 Axes>"
      ]
     },
     "metadata": {},
     "output_type": "display_data"
    },
    {
     "name": "stdout",
     "output_type": "stream",
     "text": [
      "\n",
      "image 1/1 C:\\Users\\samue\\Dataset-Pisang-7\\test\\images\\cordana134_jpeg.rf.f012ba1cffd30041c3a919e5da905c6b.jpg: 640x640 2 cordanas, 25.7ms\n",
      "Speed: 7.8ms preprocess, 25.7ms inference, 7.0ms postprocess per image at shape (1, 3, 640, 640)\n"
     ]
    },
    {
     "data": {
      "text/plain": [
       "<Figure size 800x800 with 1 Axes>"
      ]
     },
     "metadata": {},
     "output_type": "display_data"
    },
    {
     "name": "stdout",
     "output_type": "stream",
     "text": [
      "\n",
      "image 1/1 C:\\Users\\samue\\Dataset-Pisang-7\\test\\images\\cordana136_jpeg.rf.7f9f37b8563fc495b93f3dd7edd01a3e.jpg: 640x640 1 cordana, 25.5ms\n",
      "Speed: 7.3ms preprocess, 25.5ms inference, 4.4ms postprocess per image at shape (1, 3, 640, 640)\n"
     ]
    },
    {
     "data": {
      "text/plain": [
       "<Figure size 800x800 with 1 Axes>"
      ]
     },
     "metadata": {},
     "output_type": "display_data"
    },
    {
     "name": "stdout",
     "output_type": "stream",
     "text": [
      "\n",
      "image 1/1 C:\\Users\\samue\\Dataset-Pisang-7\\test\\images\\cordana137_jpeg.rf.118075625e90b5993681df65fde1d2a2.jpg: 640x640 1 cordana, 25.7ms\n",
      "Speed: 5.5ms preprocess, 25.7ms inference, 3.5ms postprocess per image at shape (1, 3, 640, 640)\n"
     ]
    },
    {
     "data": {
      "text/plain": [
       "<Figure size 800x800 with 1 Axes>"
      ]
     },
     "metadata": {},
     "output_type": "display_data"
    },
    {
     "name": "stdout",
     "output_type": "stream",
     "text": [
      "\n",
      "image 1/1 C:\\Users\\samue\\Dataset-Pisang-7\\test\\images\\cordana141_jpeg.rf.bfeb5816cad6fe1094d314fb032e2341.jpg: 640x640 1 cordana, 28.7ms\n",
      "Speed: 7.8ms preprocess, 28.7ms inference, 4.1ms postprocess per image at shape (1, 3, 640, 640)\n"
     ]
    },
    {
     "data": {
      "text/plain": [
       "<Figure size 800x800 with 1 Axes>"
      ]
     },
     "metadata": {},
     "output_type": "display_data"
    },
    {
     "name": "stdout",
     "output_type": "stream",
     "text": [
      "\n",
      "image 1/1 C:\\Users\\samue\\Dataset-Pisang-7\\test\\images\\cordana149_jpeg.rf.a7fbb5fad87c06ba20be57d49f5bb019.jpg: 640x640 1 cordana, 25.8ms\n",
      "Speed: 7.5ms preprocess, 25.8ms inference, 3.7ms postprocess per image at shape (1, 3, 640, 640)\n"
     ]
    },
    {
     "data": {
      "text/plain": [
       "<Figure size 800x800 with 1 Axes>"
      ]
     },
     "metadata": {},
     "output_type": "display_data"
    },
    {
     "name": "stdout",
     "output_type": "stream",
     "text": [
      "\n",
      "image 1/1 C:\\Users\\samue\\Dataset-Pisang-7\\test\\images\\cordana18_jpeg.rf.428f8fa9e2add2454c5b3882128cd481.jpg: 640x640 1 cordana, 25.8ms\n",
      "Speed: 7.7ms preprocess, 25.8ms inference, 4.4ms postprocess per image at shape (1, 3, 640, 640)\n"
     ]
    },
    {
     "data": {
      "text/plain": [
       "<Figure size 800x800 with 1 Axes>"
      ]
     },
     "metadata": {},
     "output_type": "display_data"
    },
    {
     "name": "stdout",
     "output_type": "stream",
     "text": [
      "\n",
      "image 1/1 C:\\Users\\samue\\Dataset-Pisang-7\\test\\images\\cordana30_jpeg.rf.4f2520b8a0b1027402f775c2ae5b9991.jpg: 640x640 2 cordanas, 25.8ms\n",
      "Speed: 7.8ms preprocess, 25.8ms inference, 3.1ms postprocess per image at shape (1, 3, 640, 640)\n"
     ]
    },
    {
     "data": {
      "text/plain": [
       "<Figure size 800x800 with 1 Axes>"
      ]
     },
     "metadata": {},
     "output_type": "display_data"
    },
    {
     "name": "stdout",
     "output_type": "stream",
     "text": [
      "\n",
      "image 1/1 C:\\Users\\samue\\Dataset-Pisang-7\\test\\images\\cordana32_jpeg.rf.2a44957b401a0e709fe6e170d8e53222.jpg: 640x640 2 cordanas, 26.1ms\n",
      "Speed: 5.7ms preprocess, 26.1ms inference, 3.2ms postprocess per image at shape (1, 3, 640, 640)\n"
     ]
    },
    {
     "data": {
      "text/plain": [
       "<Figure size 800x800 with 1 Axes>"
      ]
     },
     "metadata": {},
     "output_type": "display_data"
    },
    {
     "name": "stdout",
     "output_type": "stream",
     "text": [
      "\n",
      "image 1/1 C:\\Users\\samue\\Dataset-Pisang-7\\test\\images\\cordana51_jpeg.rf.0ba9b95852e394bb027bb1a2245ac547.jpg: 640x640 3 cordanas, 25.8ms\n",
      "Speed: 7.1ms preprocess, 25.8ms inference, 4.9ms postprocess per image at shape (1, 3, 640, 640)\n"
     ]
    },
    {
     "data": {
      "text/plain": [
       "<Figure size 800x800 with 1 Axes>"
      ]
     },
     "metadata": {},
     "output_type": "display_data"
    },
    {
     "name": "stdout",
     "output_type": "stream",
     "text": [
      "\n",
      "image 1/1 C:\\Users\\samue\\Dataset-Pisang-7\\test\\images\\cordana65_jpeg.rf.e7f1c7e17598fac3aa119861d543b19e.jpg: 640x640 3 cordanas, 25.9ms\n",
      "Speed: 7.5ms preprocess, 25.9ms inference, 3.9ms postprocess per image at shape (1, 3, 640, 640)\n"
     ]
    },
    {
     "data": {
      "text/plain": [
       "<Figure size 800x800 with 1 Axes>"
      ]
     },
     "metadata": {},
     "output_type": "display_data"
    },
    {
     "name": "stdout",
     "output_type": "stream",
     "text": [
      "\n",
      "image 1/1 C:\\Users\\samue\\Dataset-Pisang-7\\test\\images\\cordana70_jpeg.rf.14092555074ec7a40fab8835cae867a9.jpg: 640x640 2 cordanas, 25.9ms\n",
      "Speed: 5.6ms preprocess, 25.9ms inference, 4.0ms postprocess per image at shape (1, 3, 640, 640)\n"
     ]
    },
    {
     "data": {
      "text/plain": [
       "<Figure size 800x800 with 1 Axes>"
      ]
     },
     "metadata": {},
     "output_type": "display_data"
    },
    {
     "name": "stdout",
     "output_type": "stream",
     "text": [
      "\n",
      "image 1/1 C:\\Users\\samue\\Dataset-Pisang-7\\test\\images\\cordana74_jpeg.rf.ce5290200fc6737f9110f5a99f91ef5f.jpg: 640x640 2 cordanas, 25.9ms\n",
      "Speed: 5.3ms preprocess, 25.9ms inference, 4.6ms postprocess per image at shape (1, 3, 640, 640)\n"
     ]
    },
    {
     "data": {
      "text/plain": [
       "<Figure size 800x800 with 1 Axes>"
      ]
     },
     "metadata": {},
     "output_type": "display_data"
    },
    {
     "name": "stdout",
     "output_type": "stream",
     "text": [
      "\n",
      "image 1/1 C:\\Users\\samue\\Dataset-Pisang-7\\test\\images\\cordana82_jpeg.rf.855d8e37efdb617034552e880213f849.jpg: 640x640 1 cordana, 26.1ms\n",
      "Speed: 6.3ms preprocess, 26.1ms inference, 3.1ms postprocess per image at shape (1, 3, 640, 640)\n"
     ]
    },
    {
     "data": {
      "text/plain": [
       "<Figure size 800x800 with 1 Axes>"
      ]
     },
     "metadata": {},
     "output_type": "display_data"
    },
    {
     "name": "stdout",
     "output_type": "stream",
     "text": [
      "\n",
      "image 1/1 C:\\Users\\samue\\Dataset-Pisang-7\\test\\images\\cordana83_jpeg.rf.2a1859efd5ccf5fb501aeb7ab52839af.jpg: 640x640 2 cordanas, 26.2ms\n",
      "Speed: 7.2ms preprocess, 26.2ms inference, 3.2ms postprocess per image at shape (1, 3, 640, 640)\n"
     ]
    },
    {
     "data": {
      "text/plain": [
       "<Figure size 800x800 with 1 Axes>"
      ]
     },
     "metadata": {},
     "output_type": "display_data"
    },
    {
     "name": "stdout",
     "output_type": "stream",
     "text": [
      "\n",
      "image 1/1 C:\\Users\\samue\\Dataset-Pisang-7\\test\\images\\cordana86_jpeg.rf.137d7f2370ae51b5a9e57fce2058895d.jpg: 640x640 2 cordanas, 28.2ms\n",
      "Speed: 6.3ms preprocess, 28.2ms inference, 3.5ms postprocess per image at shape (1, 3, 640, 640)\n"
     ]
    },
    {
     "data": {
      "text/plain": [
       "<Figure size 800x800 with 1 Axes>"
      ]
     },
     "metadata": {},
     "output_type": "display_data"
    },
    {
     "name": "stdout",
     "output_type": "stream",
     "text": [
      "\n",
      "image 1/1 C:\\Users\\samue\\Dataset-Pisang-7\\test\\images\\cordana88_jpeg.rf.69329bb0f8ca9c64f34d49cc91dc69b4.jpg: 640x640 2 cordanas, 25.8ms\n",
      "Speed: 7.2ms preprocess, 25.8ms inference, 5.4ms postprocess per image at shape (1, 3, 640, 640)\n"
     ]
    },
    {
     "data": {
      "text/plain": [
       "<Figure size 800x800 with 1 Axes>"
      ]
     },
     "metadata": {},
     "output_type": "display_data"
    },
    {
     "name": "stdout",
     "output_type": "stream",
     "text": [
      "\n",
      "image 1/1 C:\\Users\\samue\\Dataset-Pisang-7\\test\\images\\Image_100_jpg.rf.783c982f8a7b874fd278e167c9ba21b5.jpg: 640x640 1 healthy, 25.7ms\n",
      "Speed: 7.2ms preprocess, 25.7ms inference, 2.8ms postprocess per image at shape (1, 3, 640, 640)\n"
     ]
    },
    {
     "data": {
      "text/plain": [
       "<Figure size 800x800 with 1 Axes>"
      ]
     },
     "metadata": {},
     "output_type": "display_data"
    },
    {
     "name": "stdout",
     "output_type": "stream",
     "text": [
      "\n",
      "image 1/1 C:\\Users\\samue\\Dataset-Pisang-7\\test\\images\\Image_101_jpg.rf.adbe330791481afe01fdd5eeeb5edb2c.jpg: 640x640 1 sigatoka, 25.7ms\n",
      "Speed: 6.6ms preprocess, 25.7ms inference, 4.0ms postprocess per image at shape (1, 3, 640, 640)\n"
     ]
    },
    {
     "data": {
      "text/plain": [
       "<Figure size 800x800 with 1 Axes>"
      ]
     },
     "metadata": {},
     "output_type": "display_data"
    },
    {
     "name": "stdout",
     "output_type": "stream",
     "text": [
      "\n",
      "image 1/1 C:\\Users\\samue\\Dataset-Pisang-7\\test\\images\\Image_103_jpg.rf.6db8120d8a4d36aafbf2e28083642f92.jpg: 640x640 1 healthy, 27.8ms\n",
      "Speed: 8.1ms preprocess, 27.8ms inference, 4.7ms postprocess per image at shape (1, 3, 640, 640)\n"
     ]
    },
    {
     "data": {
      "text/plain": [
       "<Figure size 800x800 with 1 Axes>"
      ]
     },
     "metadata": {},
     "output_type": "display_data"
    },
    {
     "name": "stdout",
     "output_type": "stream",
     "text": [
      "\n",
      "image 1/1 C:\\Users\\samue\\Dataset-Pisang-7\\test\\images\\Image_104_jpg.rf.63af5bf3bbfa9a1b0b61073c15f0f820.jpg: 640x640 1 healthy, 25.7ms\n",
      "Speed: 4.9ms preprocess, 25.7ms inference, 3.9ms postprocess per image at shape (1, 3, 640, 640)\n"
     ]
    },
    {
     "data": {
      "text/plain": [
       "<Figure size 800x800 with 1 Axes>"
      ]
     },
     "metadata": {},
     "output_type": "display_data"
    },
    {
     "name": "stdout",
     "output_type": "stream",
     "text": [
      "\n",
      "image 1/1 C:\\Users\\samue\\Dataset-Pisang-7\\test\\images\\Image_104_jpg.rf.b148f094d2c2585a23287b6cb2f550b4.jpg: 640x640 1 fusarium, 25.8ms\n",
      "Speed: 4.6ms preprocess, 25.8ms inference, 4.4ms postprocess per image at shape (1, 3, 640, 640)\n"
     ]
    },
    {
     "data": {
      "text/plain": [
       "<Figure size 800x800 with 1 Axes>"
      ]
     },
     "metadata": {},
     "output_type": "display_data"
    },
    {
     "name": "stdout",
     "output_type": "stream",
     "text": [
      "\n",
      "image 1/1 C:\\Users\\samue\\Dataset-Pisang-7\\test\\images\\Image_104_jpg.rf.d194195ff1bdfae3b4ea484b05e8f733.jpg: 640x640 1 fusarium, 25.7ms\n",
      "Speed: 7.5ms preprocess, 25.7ms inference, 4.7ms postprocess per image at shape (1, 3, 640, 640)\n"
     ]
    },
    {
     "data": {
      "text/plain": [
       "<Figure size 800x800 with 1 Axes>"
      ]
     },
     "metadata": {},
     "output_type": "display_data"
    },
    {
     "name": "stdout",
     "output_type": "stream",
     "text": [
      "\n",
      "image 1/1 C:\\Users\\samue\\Dataset-Pisang-7\\test\\images\\Image_106_jpg.rf.9da5061e26a49704c6c66618583d3178.jpg: 640x640 1 healthy, 26.0ms\n",
      "Speed: 7.6ms preprocess, 26.0ms inference, 4.4ms postprocess per image at shape (1, 3, 640, 640)\n"
     ]
    },
    {
     "data": {
      "text/plain": [
       "<Figure size 800x800 with 1 Axes>"
      ]
     },
     "metadata": {},
     "output_type": "display_data"
    },
    {
     "name": "stdout",
     "output_type": "stream",
     "text": [
      "\n",
      "image 1/1 C:\\Users\\samue\\Dataset-Pisang-7\\test\\images\\Image_106_jpg.rf.ea296969e3daef6200d1b562276a0192.jpg: 640x640 1 fusarium, 25.8ms\n",
      "Speed: 7.9ms preprocess, 25.8ms inference, 5.0ms postprocess per image at shape (1, 3, 640, 640)\n"
     ]
    },
    {
     "data": {
      "text/plain": [
       "<Figure size 800x800 with 1 Axes>"
      ]
     },
     "metadata": {},
     "output_type": "display_data"
    },
    {
     "name": "stdout",
     "output_type": "stream",
     "text": [
      "\n",
      "image 1/1 C:\\Users\\samue\\Dataset-Pisang-7\\test\\images\\Image_10_jpg.rf.371fd6c2760033bf25083a16efde7fca.jpg: 640x640 5 fusariums, 26.4ms\n",
      "Speed: 5.9ms preprocess, 26.4ms inference, 4.4ms postprocess per image at shape (1, 3, 640, 640)\n"
     ]
    },
    {
     "data": {
      "text/plain": [
       "<Figure size 800x800 with 1 Axes>"
      ]
     },
     "metadata": {},
     "output_type": "display_data"
    },
    {
     "name": "stdout",
     "output_type": "stream",
     "text": [
      "\n",
      "image 1/1 C:\\Users\\samue\\Dataset-Pisang-7\\test\\images\\Image_110_jpg.rf.f9b0871d97d1e0961362ee08fb5c737c.jpg: 640x640 1 sigatoka, 25.9ms\n",
      "Speed: 6.8ms preprocess, 25.9ms inference, 7.2ms postprocess per image at shape (1, 3, 640, 640)\n"
     ]
    },
    {
     "data": {
      "text/plain": [
       "<Figure size 800x800 with 1 Axes>"
      ]
     },
     "metadata": {},
     "output_type": "display_data"
    },
    {
     "name": "stdout",
     "output_type": "stream",
     "text": [
      "\n",
      "image 1/1 C:\\Users\\samue\\Dataset-Pisang-7\\test\\images\\Image_111_jpg.rf.e267a28ab70b3d35044fad40fd285c41.jpg: 640x640 1 fusarium, 25.9ms\n",
      "Speed: 7.3ms preprocess, 25.9ms inference, 3.3ms postprocess per image at shape (1, 3, 640, 640)\n"
     ]
    },
    {
     "data": {
      "text/plain": [
       "<Figure size 800x800 with 1 Axes>"
      ]
     },
     "metadata": {},
     "output_type": "display_data"
    },
    {
     "name": "stdout",
     "output_type": "stream",
     "text": [
      "\n",
      "image 1/1 C:\\Users\\samue\\Dataset-Pisang-7\\test\\images\\Image_112_jpg.rf.b79be32965391c78f1eabc9dad8de929.jpg: 640x640 1 healthy, 25.9ms\n",
      "Speed: 6.4ms preprocess, 25.9ms inference, 4.8ms postprocess per image at shape (1, 3, 640, 640)\n"
     ]
    },
    {
     "data": {
      "text/plain": [
       "<Figure size 800x800 with 1 Axes>"
      ]
     },
     "metadata": {},
     "output_type": "display_data"
    },
    {
     "name": "stdout",
     "output_type": "stream",
     "text": [
      "\n",
      "image 1/1 C:\\Users\\samue\\Dataset-Pisang-7\\test\\images\\Image_112_jpg.rf.f8ac46aa7767516aa7d852ccdd1614d6.jpg: 640x640 1 sigatoka, 30.1ms\n",
      "Speed: 7.4ms preprocess, 30.1ms inference, 4.7ms postprocess per image at shape (1, 3, 640, 640)\n"
     ]
    },
    {
     "data": {
      "text/plain": [
       "<Figure size 800x800 with 1 Axes>"
      ]
     },
     "metadata": {},
     "output_type": "display_data"
    },
    {
     "name": "stdout",
     "output_type": "stream",
     "text": [
      "\n",
      "image 1/1 C:\\Users\\samue\\Dataset-Pisang-7\\test\\images\\Image_113_jpg.rf.3ff28989a182c747a3047f460f35055d.jpg: 640x640 1 fusarium, 26.1ms\n",
      "Speed: 7.4ms preprocess, 26.1ms inference, 3.8ms postprocess per image at shape (1, 3, 640, 640)\n"
     ]
    },
    {
     "data": {
      "text/plain": [
       "<Figure size 800x800 with 1 Axes>"
      ]
     },
     "metadata": {},
     "output_type": "display_data"
    },
    {
     "name": "stdout",
     "output_type": "stream",
     "text": [
      "\n",
      "image 1/1 C:\\Users\\samue\\Dataset-Pisang-7\\test\\images\\Image_115_jpg.rf.87eb499a99c3494b67b921e258074b89.jpg: 640x640 1 fusarium, 26.0ms\n",
      "Speed: 7.0ms preprocess, 26.0ms inference, 4.8ms postprocess per image at shape (1, 3, 640, 640)\n"
     ]
    },
    {
     "data": {
      "text/plain": [
       "<Figure size 800x800 with 1 Axes>"
      ]
     },
     "metadata": {},
     "output_type": "display_data"
    },
    {
     "name": "stdout",
     "output_type": "stream",
     "text": [
      "\n",
      "image 1/1 C:\\Users\\samue\\Dataset-Pisang-7\\test\\images\\Image_117_jpg.rf.f686167981ce8aa9871c86c42b1c3857.jpg: 640x640 1 fusarium, 26.0ms\n",
      "Speed: 4.8ms preprocess, 26.0ms inference, 3.0ms postprocess per image at shape (1, 3, 640, 640)\n"
     ]
    },
    {
     "data": {
      "text/plain": [
       "<Figure size 800x800 with 1 Axes>"
      ]
     },
     "metadata": {},
     "output_type": "display_data"
    },
    {
     "name": "stdout",
     "output_type": "stream",
     "text": [
      "\n",
      "image 1/1 C:\\Users\\samue\\Dataset-Pisang-7\\test\\images\\Image_118_jpg.rf.0fe2c9e5046c0be63b29ef892f0da077.jpg: 640x640 1 healthy, 26.0ms\n",
      "Speed: 6.4ms preprocess, 26.0ms inference, 4.7ms postprocess per image at shape (1, 3, 640, 640)\n"
     ]
    },
    {
     "data": {
      "text/plain": [
       "<Figure size 800x800 with 1 Axes>"
      ]
     },
     "metadata": {},
     "output_type": "display_data"
    },
    {
     "name": "stdout",
     "output_type": "stream",
     "text": [
      "\n",
      "image 1/1 C:\\Users\\samue\\Dataset-Pisang-7\\test\\images\\Image_124_jpg.rf.46c13cb6575cecb8158b0d9f22a82b1c.jpg: 640x640 1 healthy, 26.0ms\n",
      "Speed: 7.7ms preprocess, 26.0ms inference, 3.3ms postprocess per image at shape (1, 3, 640, 640)\n"
     ]
    },
    {
     "data": {
      "text/plain": [
       "<Figure size 800x800 with 1 Axes>"
      ]
     },
     "metadata": {},
     "output_type": "display_data"
    },
    {
     "name": "stdout",
     "output_type": "stream",
     "text": [
      "\n",
      "image 1/1 C:\\Users\\samue\\Dataset-Pisang-7\\test\\images\\Image_127_jpg.rf.10012f085a4693ba8a8efe1882ec7e94.jpg: 640x640 1 fusarium, 29.5ms\n",
      "Speed: 7.8ms preprocess, 29.5ms inference, 4.1ms postprocess per image at shape (1, 3, 640, 640)\n"
     ]
    },
    {
     "data": {
      "text/plain": [
       "<Figure size 800x800 with 1 Axes>"
      ]
     },
     "metadata": {},
     "output_type": "display_data"
    },
    {
     "name": "stdout",
     "output_type": "stream",
     "text": [
      "\n",
      "image 1/1 C:\\Users\\samue\\Dataset-Pisang-7\\test\\images\\Image_127_jpg.rf.ca90c68c58b28d9c98e127faba2649f0.jpg: 640x640 1 healthy, 26.0ms\n",
      "Speed: 7.6ms preprocess, 26.0ms inference, 5.0ms postprocess per image at shape (1, 3, 640, 640)\n"
     ]
    },
    {
     "data": {
      "text/plain": [
       "<Figure size 800x800 with 1 Axes>"
      ]
     },
     "metadata": {},
     "output_type": "display_data"
    },
    {
     "name": "stdout",
     "output_type": "stream",
     "text": [
      "\n",
      "image 1/1 C:\\Users\\samue\\Dataset-Pisang-7\\test\\images\\Image_12_jpg.rf.6d28b9139cb104f0d66fc71189113163.jpg: 640x640 1 healthy, 26.6ms\n",
      "Speed: 9.6ms preprocess, 26.6ms inference, 5.2ms postprocess per image at shape (1, 3, 640, 640)\n"
     ]
    },
    {
     "data": {
      "text/plain": [
       "<Figure size 800x800 with 1 Axes>"
      ]
     },
     "metadata": {},
     "output_type": "display_data"
    },
    {
     "name": "stdout",
     "output_type": "stream",
     "text": [
      "\n",
      "image 1/1 C:\\Users\\samue\\Dataset-Pisang-7\\test\\images\\Image_130_jpg.rf.4e2104239bd04bff0bf9939f24fe627e.jpg: 640x640 1 healthy, 26.6ms\n",
      "Speed: 6.9ms preprocess, 26.6ms inference, 3.1ms postprocess per image at shape (1, 3, 640, 640)\n"
     ]
    },
    {
     "data": {
      "text/plain": [
       "<Figure size 800x800 with 1 Axes>"
      ]
     },
     "metadata": {},
     "output_type": "display_data"
    },
    {
     "name": "stdout",
     "output_type": "stream",
     "text": [
      "\n",
      "image 1/1 C:\\Users\\samue\\Dataset-Pisang-7\\test\\images\\Image_132_jpg.rf.1f68bd2d209d8196beff4a5c53ed369f.jpg: 640x640 1 fusarium, 26.6ms\n",
      "Speed: 7.5ms preprocess, 26.6ms inference, 3.1ms postprocess per image at shape (1, 3, 640, 640)\n"
     ]
    },
    {
     "data": {
      "text/plain": [
       "<Figure size 800x800 with 1 Axes>"
      ]
     },
     "metadata": {},
     "output_type": "display_data"
    },
    {
     "name": "stdout",
     "output_type": "stream",
     "text": [
      "\n",
      "image 1/1 C:\\Users\\samue\\Dataset-Pisang-7\\test\\images\\Image_133_jpg.rf.7ca83f5e2858c7e88cb47863715d2502.jpg: 640x640 1 fusarium, 26.0ms\n",
      "Speed: 7.7ms preprocess, 26.0ms inference, 4.8ms postprocess per image at shape (1, 3, 640, 640)\n"
     ]
    },
    {
     "data": {
      "text/plain": [
       "<Figure size 800x800 with 1 Axes>"
      ]
     },
     "metadata": {},
     "output_type": "display_data"
    },
    {
     "name": "stdout",
     "output_type": "stream",
     "text": [
      "\n",
      "image 1/1 C:\\Users\\samue\\Dataset-Pisang-7\\test\\images\\Image_135_jpg.rf.d51547c03c2e1f73c08f7088c533d3c2.jpg: 640x640 1 fusarium, 29.6ms\n",
      "Speed: 7.1ms preprocess, 29.6ms inference, 4.7ms postprocess per image at shape (1, 3, 640, 640)\n"
     ]
    },
    {
     "data": {
      "text/plain": [
       "<Figure size 800x800 with 1 Axes>"
      ]
     },
     "metadata": {},
     "output_type": "display_data"
    },
    {
     "name": "stdout",
     "output_type": "stream",
     "text": [
      "\n",
      "image 1/1 C:\\Users\\samue\\Dataset-Pisang-7\\test\\images\\Image_136_jpg.rf.48a894a92d00aae4ca48655c3464b903.jpg: 640x640 1 fusarium, 26.0ms\n",
      "Speed: 7.3ms preprocess, 26.0ms inference, 2.8ms postprocess per image at shape (1, 3, 640, 640)\n"
     ]
    },
    {
     "data": {
      "text/plain": [
       "<Figure size 800x800 with 1 Axes>"
      ]
     },
     "metadata": {},
     "output_type": "display_data"
    },
    {
     "name": "stdout",
     "output_type": "stream",
     "text": [
      "\n",
      "image 1/1 C:\\Users\\samue\\Dataset-Pisang-7\\test\\images\\Image_136_jpg.rf.54738d7c9a02b31200be03c7f2c36d3c.jpg: 640x640 1 healthy, 26.0ms\n",
      "Speed: 7.0ms preprocess, 26.0ms inference, 4.8ms postprocess per image at shape (1, 3, 640, 640)\n"
     ]
    },
    {
     "data": {
      "text/plain": [
       "<Figure size 800x800 with 1 Axes>"
      ]
     },
     "metadata": {},
     "output_type": "display_data"
    },
    {
     "name": "stdout",
     "output_type": "stream",
     "text": [
      "\n",
      "image 1/1 C:\\Users\\samue\\Dataset-Pisang-7\\test\\images\\Image_137_jpg.rf.84d6abd175583ad48fc38c5ed7a25253.jpg: 640x640 1 fusarium, 26.0ms\n",
      "Speed: 7.1ms preprocess, 26.0ms inference, 3.3ms postprocess per image at shape (1, 3, 640, 640)\n"
     ]
    },
    {
     "data": {
      "text/plain": [
       "<Figure size 800x800 with 1 Axes>"
      ]
     },
     "metadata": {},
     "output_type": "display_data"
    },
    {
     "name": "stdout",
     "output_type": "stream",
     "text": [
      "\n",
      "image 1/1 C:\\Users\\samue\\Dataset-Pisang-7\\test\\images\\Image_138_jpg.rf.d7cd9677b525d0a2b49159a1dfa87485.jpg: 640x640 1 fusarium, 25.8ms\n",
      "Speed: 7.2ms preprocess, 25.8ms inference, 3.3ms postprocess per image at shape (1, 3, 640, 640)\n"
     ]
    },
    {
     "data": {
      "text/plain": [
       "<Figure size 800x800 with 1 Axes>"
      ]
     },
     "metadata": {},
     "output_type": "display_data"
    },
    {
     "name": "stdout",
     "output_type": "stream",
     "text": [
      "\n",
      "image 1/1 C:\\Users\\samue\\Dataset-Pisang-7\\test\\images\\Image_13_jpg.rf.0eddea72b1a225b6c42d23599392d014.jpg: 640x640 1 fusarium, 25.6ms\n",
      "Speed: 6.5ms preprocess, 25.6ms inference, 5.2ms postprocess per image at shape (1, 3, 640, 640)\n"
     ]
    },
    {
     "data": {
      "text/plain": [
       "<Figure size 800x800 with 1 Axes>"
      ]
     },
     "metadata": {},
     "output_type": "display_data"
    },
    {
     "name": "stdout",
     "output_type": "stream",
     "text": [
      "\n",
      "image 1/1 C:\\Users\\samue\\Dataset-Pisang-7\\test\\images\\Image_146_jpg.rf.dd70ac9ac567741daa843be90098ff3d.jpg: 640x640 1 healthy, 25.6ms\n",
      "Speed: 7.4ms preprocess, 25.6ms inference, 3.7ms postprocess per image at shape (1, 3, 640, 640)\n"
     ]
    },
    {
     "data": {
      "text/plain": [
       "<Figure size 800x800 with 1 Axes>"
      ]
     },
     "metadata": {},
     "output_type": "display_data"
    },
    {
     "name": "stdout",
     "output_type": "stream",
     "text": [
      "\n",
      "image 1/1 C:\\Users\\samue\\Dataset-Pisang-7\\test\\images\\Image_147_jpg.rf.ac2d3ff01f8b1474ef5997b92a99eab1.jpg: 640x640 1 healthy, 25.6ms\n",
      "Speed: 7.5ms preprocess, 25.6ms inference, 3.1ms postprocess per image at shape (1, 3, 640, 640)\n"
     ]
    },
    {
     "data": {
      "text/plain": [
       "<Figure size 800x800 with 1 Axes>"
      ]
     },
     "metadata": {},
     "output_type": "display_data"
    },
    {
     "name": "stdout",
     "output_type": "stream",
     "text": [
      "\n",
      "image 1/1 C:\\Users\\samue\\Dataset-Pisang-7\\test\\images\\Image_151_jpg.rf.b5663c6e924ab2de4bb7aaabce04532a.jpg: 640x640 1 healthy, 25.6ms\n",
      "Speed: 4.6ms preprocess, 25.6ms inference, 2.6ms postprocess per image at shape (1, 3, 640, 640)\n"
     ]
    },
    {
     "data": {
      "text/plain": [
       "<Figure size 800x800 with 1 Axes>"
      ]
     },
     "metadata": {},
     "output_type": "display_data"
    },
    {
     "name": "stdout",
     "output_type": "stream",
     "text": [
      "\n",
      "image 1/1 C:\\Users\\samue\\Dataset-Pisang-7\\test\\images\\Image_152_jpg.rf.6bb33c193ca5a817c3cdb3e3b720e08e.jpg: 640x640 1 healthy, 25.3ms\n",
      "Speed: 5.8ms preprocess, 25.3ms inference, 2.5ms postprocess per image at shape (1, 3, 640, 640)\n"
     ]
    },
    {
     "data": {
      "text/plain": [
       "<Figure size 800x800 with 1 Axes>"
      ]
     },
     "metadata": {},
     "output_type": "display_data"
    },
    {
     "name": "stdout",
     "output_type": "stream",
     "text": [
      "\n",
      "image 1/1 C:\\Users\\samue\\Dataset-Pisang-7\\test\\images\\Image_154_jpg.rf.04dfa71121f02a89f7b5de3130f0d345.jpg: 640x640 1 sigatoka, 25.6ms\n",
      "Speed: 7.4ms preprocess, 25.6ms inference, 4.5ms postprocess per image at shape (1, 3, 640, 640)\n"
     ]
    },
    {
     "data": {
      "text/plain": [
       "<Figure size 800x800 with 1 Axes>"
      ]
     },
     "metadata": {},
     "output_type": "display_data"
    },
    {
     "name": "stdout",
     "output_type": "stream",
     "text": [
      "\n",
      "image 1/1 C:\\Users\\samue\\Dataset-Pisang-7\\test\\images\\Image_155_jpg.rf.00329d0ef1a540b2eaf85047ea14ac03.jpg: 640x640 1 healthy, 25.4ms\n",
      "Speed: 6.9ms preprocess, 25.4ms inference, 4.2ms postprocess per image at shape (1, 3, 640, 640)\n"
     ]
    },
    {
     "data": {
      "text/plain": [
       "<Figure size 800x800 with 1 Axes>"
      ]
     },
     "metadata": {},
     "output_type": "display_data"
    },
    {
     "name": "stdout",
     "output_type": "stream",
     "text": [
      "\n",
      "image 1/1 C:\\Users\\samue\\Dataset-Pisang-7\\test\\images\\Image_155_jpg.rf.86cd89f0bbc25b5e7755bc5786a55bdd.jpg: 640x640 1 fusarium, 25.3ms\n",
      "Speed: 7.6ms preprocess, 25.3ms inference, 3.6ms postprocess per image at shape (1, 3, 640, 640)\n"
     ]
    },
    {
     "data": {
      "text/plain": [
       "<Figure size 800x800 with 1 Axes>"
      ]
     },
     "metadata": {},
     "output_type": "display_data"
    },
    {
     "name": "stdout",
     "output_type": "stream",
     "text": [
      "\n",
      "image 1/1 C:\\Users\\samue\\Dataset-Pisang-7\\test\\images\\Image_157_jpg.rf.14c0feaf3a25167df8b4b37348ed3dfa.jpg: 640x640 1 healthy, 25.2ms\n",
      "Speed: 7.2ms preprocess, 25.2ms inference, 6.4ms postprocess per image at shape (1, 3, 640, 640)\n"
     ]
    },
    {
     "data": {
      "text/plain": [
       "<Figure size 800x800 with 1 Axes>"
      ]
     },
     "metadata": {},
     "output_type": "display_data"
    },
    {
     "name": "stdout",
     "output_type": "stream",
     "text": [
      "\n",
      "image 1/1 C:\\Users\\samue\\Dataset-Pisang-7\\test\\images\\Image_157_jpg.rf.a68b4b50fae56b44896b3afa4ce75cb1.jpg: 640x640 1 fusarium, 26.1ms\n",
      "Speed: 7.2ms preprocess, 26.1ms inference, 3.5ms postprocess per image at shape (1, 3, 640, 640)\n"
     ]
    },
    {
     "data": {
      "text/plain": [
       "<Figure size 800x800 with 1 Axes>"
      ]
     },
     "metadata": {},
     "output_type": "display_data"
    },
    {
     "name": "stdout",
     "output_type": "stream",
     "text": [
      "\n",
      "image 1/1 C:\\Users\\samue\\Dataset-Pisang-7\\test\\images\\Image_158_jpg.rf.8f89034204f48db516feda0151bf83d2.jpg: 640x640 1 fusarium, 25.2ms\n",
      "Speed: 7.2ms preprocess, 25.2ms inference, 5.2ms postprocess per image at shape (1, 3, 640, 640)\n"
     ]
    },
    {
     "data": {
      "text/plain": [
       "<Figure size 800x800 with 1 Axes>"
      ]
     },
     "metadata": {},
     "output_type": "display_data"
    },
    {
     "name": "stdout",
     "output_type": "stream",
     "text": [
      "\n",
      "image 1/1 C:\\Users\\samue\\Dataset-Pisang-7\\test\\images\\Image_161_jpg.rf.4c7142c61e0c484c13293ba9a2446410.jpg: 640x640 1 fusarium, 25.3ms\n",
      "Speed: 7.5ms preprocess, 25.3ms inference, 3.1ms postprocess per image at shape (1, 3, 640, 640)\n"
     ]
    },
    {
     "data": {
      "text/plain": [
       "<Figure size 800x800 with 1 Axes>"
      ]
     },
     "metadata": {},
     "output_type": "display_data"
    },
    {
     "name": "stdout",
     "output_type": "stream",
     "text": [
      "\n",
      "image 1/1 C:\\Users\\samue\\Dataset-Pisang-7\\test\\images\\Image_161_jpg.rf.8ccac32e357d0b81444d38804c4ee4b2.jpg: 640x640 1 sigatoka, 25.1ms\n",
      "Speed: 7.5ms preprocess, 25.1ms inference, 2.7ms postprocess per image at shape (1, 3, 640, 640)\n"
     ]
    },
    {
     "data": {
      "text/plain": [
       "<Figure size 800x800 with 1 Axes>"
      ]
     },
     "metadata": {},
     "output_type": "display_data"
    },
    {
     "name": "stdout",
     "output_type": "stream",
     "text": [
      "\n",
      "image 1/1 C:\\Users\\samue\\Dataset-Pisang-7\\test\\images\\Image_161_jpg.rf.e618f39f35564d5dabb7309d2ccd42f5.jpg: 640x640 1 healthy, 24.9ms\n",
      "Speed: 4.2ms preprocess, 24.9ms inference, 4.5ms postprocess per image at shape (1, 3, 640, 640)\n"
     ]
    },
    {
     "data": {
      "text/plain": [
       "<Figure size 800x800 with 1 Axes>"
      ]
     },
     "metadata": {},
     "output_type": "display_data"
    },
    {
     "name": "stdout",
     "output_type": "stream",
     "text": [
      "\n",
      "image 1/1 C:\\Users\\samue\\Dataset-Pisang-7\\test\\images\\Image_162_jpg.rf.247f84f5d9be47bf942986bcd8487385.jpg: 640x640 1 fusarium, 25.0ms\n",
      "Speed: 7.2ms preprocess, 25.0ms inference, 2.5ms postprocess per image at shape (1, 3, 640, 640)\n"
     ]
    },
    {
     "data": {
      "text/plain": [
       "<Figure size 800x800 with 1 Axes>"
      ]
     },
     "metadata": {},
     "output_type": "display_data"
    },
    {
     "name": "stdout",
     "output_type": "stream",
     "text": [
      "\n",
      "image 1/1 C:\\Users\\samue\\Dataset-Pisang-7\\test\\images\\Image_164_jpg.rf.1cb889d4bcdc284d31f9820a26e80bcb.jpg: 640x640 1 healthy, 25.0ms\n",
      "Speed: 5.9ms preprocess, 25.0ms inference, 2.3ms postprocess per image at shape (1, 3, 640, 640)\n"
     ]
    },
    {
     "data": {
      "text/plain": [
       "<Figure size 800x800 with 1 Axes>"
      ]
     },
     "metadata": {},
     "output_type": "display_data"
    },
    {
     "name": "stdout",
     "output_type": "stream",
     "text": [
      "\n",
      "image 1/1 C:\\Users\\samue\\Dataset-Pisang-7\\test\\images\\Image_165_jpg.rf.6306bb4990cb46de91d23e0e17161573.jpg: 640x640 1 fusarium, 24.8ms\n",
      "Speed: 6.1ms preprocess, 24.8ms inference, 3.0ms postprocess per image at shape (1, 3, 640, 640)\n"
     ]
    },
    {
     "data": {
      "text/plain": [
       "<Figure size 800x800 with 1 Axes>"
      ]
     },
     "metadata": {},
     "output_type": "display_data"
    },
    {
     "name": "stdout",
     "output_type": "stream",
     "text": [
      "\n",
      "image 1/1 C:\\Users\\samue\\Dataset-Pisang-7\\test\\images\\Image_166_jpg.rf.3273771af13570606c8b12c32ba6fd36.jpg: 640x640 1 fusarium, 25.4ms\n",
      "Speed: 6.8ms preprocess, 25.4ms inference, 5.5ms postprocess per image at shape (1, 3, 640, 640)\n"
     ]
    },
    {
     "data": {
      "text/plain": [
       "<Figure size 800x800 with 1 Axes>"
      ]
     },
     "metadata": {},
     "output_type": "display_data"
    },
    {
     "name": "stdout",
     "output_type": "stream",
     "text": [
      "\n",
      "image 1/1 C:\\Users\\samue\\Dataset-Pisang-7\\test\\images\\Image_166_jpg.rf.786b37401f202cd37cf1e4a255f857ff.jpg: 640x640 1 healthy, 24.9ms\n",
      "Speed: 7.6ms preprocess, 24.9ms inference, 3.4ms postprocess per image at shape (1, 3, 640, 640)\n"
     ]
    },
    {
     "data": {
      "text/plain": [
       "<Figure size 800x800 with 1 Axes>"
      ]
     },
     "metadata": {},
     "output_type": "display_data"
    },
    {
     "name": "stdout",
     "output_type": "stream",
     "text": [
      "\n",
      "image 1/1 C:\\Users\\samue\\Dataset-Pisang-7\\test\\images\\Image_171_jpg.rf.bb994528fb21ad94c4e5c75b6d43b255.jpg: 640x640 1 fusarium, 24.8ms\n",
      "Speed: 7.1ms preprocess, 24.8ms inference, 2.5ms postprocess per image at shape (1, 3, 640, 640)\n"
     ]
    },
    {
     "data": {
      "text/plain": [
       "<Figure size 800x800 with 1 Axes>"
      ]
     },
     "metadata": {},
     "output_type": "display_data"
    },
    {
     "name": "stdout",
     "output_type": "stream",
     "text": [
      "\n",
      "image 1/1 C:\\Users\\samue\\Dataset-Pisang-7\\test\\images\\Image_173_jpg.rf.1383c86e060c56e56e7f507b521b1816.jpg: 640x640 2 fusariums, 1 sigatoka, 25.1ms\n",
      "Speed: 7.5ms preprocess, 25.1ms inference, 3.5ms postprocess per image at shape (1, 3, 640, 640)\n"
     ]
    },
    {
     "data": {
      "text/plain": [
       "<Figure size 800x800 with 1 Axes>"
      ]
     },
     "metadata": {},
     "output_type": "display_data"
    },
    {
     "name": "stdout",
     "output_type": "stream",
     "text": [
      "\n",
      "image 1/1 C:\\Users\\samue\\Dataset-Pisang-7\\test\\images\\Image_173_jpg.rf.f87f2be20c1c58700cfc00a6e8cca529.jpg: 640x640 1 sigatoka, 25.0ms\n",
      "Speed: 7.9ms preprocess, 25.0ms inference, 4.6ms postprocess per image at shape (1, 3, 640, 640)\n"
     ]
    },
    {
     "data": {
      "text/plain": [
       "<Figure size 800x800 with 1 Axes>"
      ]
     },
     "metadata": {},
     "output_type": "display_data"
    },
    {
     "name": "stdout",
     "output_type": "stream",
     "text": [
      "\n",
      "image 1/1 C:\\Users\\samue\\Dataset-Pisang-7\\test\\images\\Image_177_jpg.rf.85680e5154cd9dd67676c336e4acca4c.jpg: 640x640 1 healthy, 25.2ms\n",
      "Speed: 6.8ms preprocess, 25.2ms inference, 2.5ms postprocess per image at shape (1, 3, 640, 640)\n"
     ]
    },
    {
     "data": {
      "text/plain": [
       "<Figure size 800x800 with 1 Axes>"
      ]
     },
     "metadata": {},
     "output_type": "display_data"
    },
    {
     "name": "stdout",
     "output_type": "stream",
     "text": [
      "\n",
      "image 1/1 C:\\Users\\samue\\Dataset-Pisang-7\\test\\images\\Image_178_jpg.rf.c1d59ad7bd6b044e6a183ba4cf78056b.jpg: 640x640 1 fusarium, 25.3ms\n",
      "Speed: 6.9ms preprocess, 25.3ms inference, 4.9ms postprocess per image at shape (1, 3, 640, 640)\n"
     ]
    },
    {
     "data": {
      "text/plain": [
       "<Figure size 800x800 with 1 Axes>"
      ]
     },
     "metadata": {},
     "output_type": "display_data"
    },
    {
     "name": "stdout",
     "output_type": "stream",
     "text": [
      "\n",
      "image 1/1 C:\\Users\\samue\\Dataset-Pisang-7\\test\\images\\Image_179_jpg.rf.9b9257b8d097c877e62c3b97316448e2.jpg: 640x640 1 fusarium, 24.7ms\n",
      "Speed: 4.2ms preprocess, 24.7ms inference, 2.7ms postprocess per image at shape (1, 3, 640, 640)\n"
     ]
    },
    {
     "data": {
      "text/plain": [
       "<Figure size 800x800 with 1 Axes>"
      ]
     },
     "metadata": {},
     "output_type": "display_data"
    },
    {
     "name": "stdout",
     "output_type": "stream",
     "text": [
      "\n",
      "image 1/1 C:\\Users\\samue\\Dataset-Pisang-7\\test\\images\\Image_17_jpg.rf.4a31a0fc306bef518738e6a3e86a2a83.jpg: 640x640 1 fusarium, 24.8ms\n",
      "Speed: 4.7ms preprocess, 24.8ms inference, 5.2ms postprocess per image at shape (1, 3, 640, 640)\n"
     ]
    },
    {
     "data": {
      "text/plain": [
       "<Figure size 800x800 with 1 Axes>"
      ]
     },
     "metadata": {},
     "output_type": "display_data"
    },
    {
     "name": "stdout",
     "output_type": "stream",
     "text": [
      "\n",
      "image 1/1 C:\\Users\\samue\\Dataset-Pisang-7\\test\\images\\Image_17_jpg.rf.a98df3f6e92ad059d417c2c5d38abd9d.jpg: 640x640 1 healthy, 24.9ms\n",
      "Speed: 7.3ms preprocess, 24.9ms inference, 4.3ms postprocess per image at shape (1, 3, 640, 640)\n"
     ]
    },
    {
     "data": {
      "text/plain": [
       "<Figure size 800x800 with 1 Axes>"
      ]
     },
     "metadata": {},
     "output_type": "display_data"
    },
    {
     "name": "stdout",
     "output_type": "stream",
     "text": [
      "\n",
      "image 1/1 C:\\Users\\samue\\Dataset-Pisang-7\\test\\images\\Image_17_jpg.rf.c4426f1e756a1037e22facfbbf138d9b.jpg: 640x640 1 sigatoka, 25.0ms\n",
      "Speed: 7.3ms preprocess, 25.0ms inference, 6.4ms postprocess per image at shape (1, 3, 640, 640)\n"
     ]
    },
    {
     "data": {
      "text/plain": [
       "<Figure size 800x800 with 1 Axes>"
      ]
     },
     "metadata": {},
     "output_type": "display_data"
    },
    {
     "name": "stdout",
     "output_type": "stream",
     "text": [
      "\n",
      "image 1/1 C:\\Users\\samue\\Dataset-Pisang-7\\test\\images\\Image_180_jpg.rf.0f0c515e458ee39e00d8cab8f59d2566.jpg: 640x640 1 healthy, 25.0ms\n",
      "Speed: 7.3ms preprocess, 25.0ms inference, 3.8ms postprocess per image at shape (1, 3, 640, 640)\n"
     ]
    },
    {
     "data": {
      "text/plain": [
       "<Figure size 800x800 with 1 Axes>"
      ]
     },
     "metadata": {},
     "output_type": "display_data"
    },
    {
     "name": "stdout",
     "output_type": "stream",
     "text": [
      "\n",
      "image 1/1 C:\\Users\\samue\\Dataset-Pisang-7\\test\\images\\Image_183_jpg.rf.e3c83f37297aacbad6fc279a6dcfd448.jpg: 640x640 1 healthy, 24.7ms\n",
      "Speed: 4.2ms preprocess, 24.7ms inference, 2.8ms postprocess per image at shape (1, 3, 640, 640)\n"
     ]
    },
    {
     "data": {
      "text/plain": [
       "<Figure size 800x800 with 1 Axes>"
      ]
     },
     "metadata": {},
     "output_type": "display_data"
    },
    {
     "name": "stdout",
     "output_type": "stream",
     "text": [
      "\n",
      "image 1/1 C:\\Users\\samue\\Dataset-Pisang-7\\test\\images\\Image_186_jpg.rf.9bde80391c2ce5850e9b3708a18d0489.jpg: 640x640 1 fusarium, 24.7ms\n",
      "Speed: 4.5ms preprocess, 24.7ms inference, 2.6ms postprocess per image at shape (1, 3, 640, 640)\n"
     ]
    },
    {
     "data": {
      "text/plain": [
       "<Figure size 800x800 with 1 Axes>"
      ]
     },
     "metadata": {},
     "output_type": "display_data"
    },
    {
     "name": "stdout",
     "output_type": "stream",
     "text": [
      "\n",
      "image 1/1 C:\\Users\\samue\\Dataset-Pisang-7\\test\\images\\Image_187_jpg.rf.06d39488a0afe076ee621263209ff51e.jpg: 640x640 1 healthy, 24.7ms\n",
      "Speed: 6.4ms preprocess, 24.7ms inference, 2.8ms postprocess per image at shape (1, 3, 640, 640)\n"
     ]
    },
    {
     "data": {
      "text/plain": [
       "<Figure size 800x800 with 1 Axes>"
      ]
     },
     "metadata": {},
     "output_type": "display_data"
    },
    {
     "name": "stdout",
     "output_type": "stream",
     "text": [
      "\n",
      "image 1/1 C:\\Users\\samue\\Dataset-Pisang-7\\test\\images\\Image_187_jpg.rf.1806bd012ae2f3edcdd6f8a50efd4c84.jpg: 640x640 1 healthy, 24.7ms\n",
      "Speed: 7.2ms preprocess, 24.7ms inference, 2.6ms postprocess per image at shape (1, 3, 640, 640)\n"
     ]
    },
    {
     "data": {
      "text/plain": [
       "<Figure size 800x800 with 1 Axes>"
      ]
     },
     "metadata": {},
     "output_type": "display_data"
    },
    {
     "name": "stdout",
     "output_type": "stream",
     "text": [
      "\n",
      "image 1/1 C:\\Users\\samue\\Dataset-Pisang-7\\test\\images\\Image_187_jpg.rf.6c0bc82d61d0d1457578a92c4ce1a118.jpg: 640x640 1 fusarium, 24.8ms\n",
      "Speed: 7.2ms preprocess, 24.8ms inference, 5.0ms postprocess per image at shape (1, 3, 640, 640)\n"
     ]
    },
    {
     "data": {
      "text/plain": [
       "<Figure size 800x800 with 1 Axes>"
      ]
     },
     "metadata": {},
     "output_type": "display_data"
    },
    {
     "name": "stdout",
     "output_type": "stream",
     "text": [
      "\n",
      "image 1/1 C:\\Users\\samue\\Dataset-Pisang-7\\test\\images\\Image_188_jpg.rf.1e6c04160c30bbd015c78ded44e645bd.jpg: 640x640 1 healthy, 25.9ms\n",
      "Speed: 7.2ms preprocess, 25.9ms inference, 6.2ms postprocess per image at shape (1, 3, 640, 640)\n"
     ]
    },
    {
     "data": {
      "text/plain": [
       "<Figure size 800x800 with 1 Axes>"
      ]
     },
     "metadata": {},
     "output_type": "display_data"
    },
    {
     "name": "stdout",
     "output_type": "stream",
     "text": [
      "\n",
      "image 1/1 C:\\Users\\samue\\Dataset-Pisang-7\\test\\images\\Image_188_jpg.rf.a92ae69f8b58d8749fba9ff3c989aab7.jpg: 640x640 1 fusarium, 24.7ms\n",
      "Speed: 7.9ms preprocess, 24.7ms inference, 3.3ms postprocess per image at shape (1, 3, 640, 640)\n"
     ]
    },
    {
     "data": {
      "text/plain": [
       "<Figure size 800x800 with 1 Axes>"
      ]
     },
     "metadata": {},
     "output_type": "display_data"
    },
    {
     "name": "stdout",
     "output_type": "stream",
     "text": [
      "\n",
      "image 1/1 C:\\Users\\samue\\Dataset-Pisang-7\\test\\images\\Image_189_jpg.rf.6c2a19b9f6c6a4cf8fd387c0d92e636a.jpg: 640x640 1 fusarium, 33.3ms\n",
      "Speed: 7.2ms preprocess, 33.3ms inference, 4.5ms postprocess per image at shape (1, 3, 640, 640)\n"
     ]
    },
    {
     "data": {
      "text/plain": [
       "<Figure size 800x800 with 1 Axes>"
      ]
     },
     "metadata": {},
     "output_type": "display_data"
    },
    {
     "name": "stdout",
     "output_type": "stream",
     "text": [
      "\n",
      "image 1/1 C:\\Users\\samue\\Dataset-Pisang-7\\test\\images\\Image_18_jpg.rf.fb6457b5bf8dce8c136ac62f934ddf49.jpg: 640x640 1 fusarium, 25.0ms\n",
      "Speed: 5.8ms preprocess, 25.0ms inference, 3.2ms postprocess per image at shape (1, 3, 640, 640)\n"
     ]
    },
    {
     "data": {
      "text/plain": [
       "<Figure size 800x800 with 1 Axes>"
      ]
     },
     "metadata": {},
     "output_type": "display_data"
    },
    {
     "name": "stdout",
     "output_type": "stream",
     "text": [
      "\n",
      "image 1/1 C:\\Users\\samue\\Dataset-Pisang-7\\test\\images\\Image_193_jpg.rf.f98589d781f2e56ec0cb507aa13dd202.jpg: 640x640 1 healthy, 29.7ms\n",
      "Speed: 7.6ms preprocess, 29.7ms inference, 3.6ms postprocess per image at shape (1, 3, 640, 640)\n"
     ]
    },
    {
     "data": {
      "text/plain": [
       "<Figure size 800x800 with 1 Axes>"
      ]
     },
     "metadata": {},
     "output_type": "display_data"
    },
    {
     "name": "stdout",
     "output_type": "stream",
     "text": [
      "\n",
      "image 1/1 C:\\Users\\samue\\Dataset-Pisang-7\\test\\images\\Image_194_jpg.rf.43251848b2e04f788a3c04b50c1a8d67.jpg: 640x640 1 healthy, 25.6ms\n",
      "Speed: 7.4ms preprocess, 25.6ms inference, 3.6ms postprocess per image at shape (1, 3, 640, 640)\n"
     ]
    },
    {
     "data": {
      "text/plain": [
       "<Figure size 800x800 with 1 Axes>"
      ]
     },
     "metadata": {},
     "output_type": "display_data"
    },
    {
     "name": "stdout",
     "output_type": "stream",
     "text": [
      "\n",
      "image 1/1 C:\\Users\\samue\\Dataset-Pisang-7\\test\\images\\Image_195_jpg.rf.1fc536177028b8e955cfcb1542e4b7d9.jpg: 640x640 1 healthy, 24.8ms\n",
      "Speed: 7.6ms preprocess, 24.8ms inference, 4.8ms postprocess per image at shape (1, 3, 640, 640)\n"
     ]
    },
    {
     "data": {
      "text/plain": [
       "<Figure size 800x800 with 1 Axes>"
      ]
     },
     "metadata": {},
     "output_type": "display_data"
    },
    {
     "name": "stdout",
     "output_type": "stream",
     "text": [
      "\n",
      "image 1/1 C:\\Users\\samue\\Dataset-Pisang-7\\test\\images\\Image_195_jpg.rf.fb0bbf8dafa59344cea2134ab72f8e65.jpg: 640x640 1 healthy, 24.7ms\n",
      "Speed: 7.4ms preprocess, 24.7ms inference, 2.9ms postprocess per image at shape (1, 3, 640, 640)\n"
     ]
    },
    {
     "data": {
      "text/plain": [
       "<Figure size 800x800 with 1 Axes>"
      ]
     },
     "metadata": {},
     "output_type": "display_data"
    },
    {
     "name": "stdout",
     "output_type": "stream",
     "text": [
      "\n",
      "image 1/1 C:\\Users\\samue\\Dataset-Pisang-7\\test\\images\\Image_196_jpg.rf.0758fa31eb64b39e597adbecd97770c7.jpg: 640x640 1 fusarium, 24.8ms\n",
      "Speed: 7.2ms preprocess, 24.8ms inference, 4.5ms postprocess per image at shape (1, 3, 640, 640)\n"
     ]
    },
    {
     "data": {
      "text/plain": [
       "<Figure size 800x800 with 1 Axes>"
      ]
     },
     "metadata": {},
     "output_type": "display_data"
    },
    {
     "name": "stdout",
     "output_type": "stream",
     "text": [
      "\n",
      "image 1/1 C:\\Users\\samue\\Dataset-Pisang-7\\test\\images\\Image_196_jpg.rf.648d3b296f69b6d46f67f627a894c231.jpg: 640x640 1 fusarium, 24.7ms\n",
      "Speed: 7.0ms preprocess, 24.7ms inference, 4.7ms postprocess per image at shape (1, 3, 640, 640)\n"
     ]
    },
    {
     "data": {
      "text/plain": [
       "<Figure size 800x800 with 1 Axes>"
      ]
     },
     "metadata": {},
     "output_type": "display_data"
    },
    {
     "name": "stdout",
     "output_type": "stream",
     "text": [
      "\n",
      "image 1/1 C:\\Users\\samue\\Dataset-Pisang-7\\test\\images\\Image_197_jpg.rf.039950c471baa94d0854a2ff62e5b5fc.jpg: 640x640 1 healthy, 24.6ms\n",
      "Speed: 7.2ms preprocess, 24.6ms inference, 3.8ms postprocess per image at shape (1, 3, 640, 640)\n"
     ]
    },
    {
     "data": {
      "text/plain": [
       "<Figure size 800x800 with 1 Axes>"
      ]
     },
     "metadata": {},
     "output_type": "display_data"
    },
    {
     "name": "stdout",
     "output_type": "stream",
     "text": [
      "\n",
      "image 1/1 C:\\Users\\samue\\Dataset-Pisang-7\\test\\images\\Image_198_jpg.rf.209558d9e33cd953dbf09eb7d2c09f46.jpg: 640x640 1 healthy, 24.7ms\n",
      "Speed: 4.7ms preprocess, 24.7ms inference, 4.2ms postprocess per image at shape (1, 3, 640, 640)\n"
     ]
    },
    {
     "data": {
      "text/plain": [
       "<Figure size 800x800 with 1 Axes>"
      ]
     },
     "metadata": {},
     "output_type": "display_data"
    },
    {
     "name": "stdout",
     "output_type": "stream",
     "text": [
      "\n",
      "image 1/1 C:\\Users\\samue\\Dataset-Pisang-7\\test\\images\\Image_201_jpg.rf.01eff70fd9815a1e02a1060febb2f079.jpg: 640x640 1 sigatoka, 24.7ms\n",
      "Speed: 7.4ms preprocess, 24.7ms inference, 4.4ms postprocess per image at shape (1, 3, 640, 640)\n"
     ]
    },
    {
     "data": {
      "text/plain": [
       "<Figure size 800x800 with 1 Axes>"
      ]
     },
     "metadata": {},
     "output_type": "display_data"
    },
    {
     "name": "stdout",
     "output_type": "stream",
     "text": [
      "\n",
      "image 1/1 C:\\Users\\samue\\Dataset-Pisang-7\\test\\images\\Image_202_jpg.rf.8ead21f5f1ff861aa01bca21caafa293.jpg: 640x640 1 healthy, 24.6ms\n",
      "Speed: 7.4ms preprocess, 24.6ms inference, 4.6ms postprocess per image at shape (1, 3, 640, 640)\n"
     ]
    },
    {
     "data": {
      "text/plain": [
       "<Figure size 800x800 with 1 Axes>"
      ]
     },
     "metadata": {},
     "output_type": "display_data"
    },
    {
     "name": "stdout",
     "output_type": "stream",
     "text": [
      "\n",
      "image 1/1 C:\\Users\\samue\\Dataset-Pisang-7\\test\\images\\Image_202_jpg.rf.bf5793300f99843eca5c34e5ee5ea3ec.jpg: 640x640 1 sigatoka, 24.8ms\n",
      "Speed: 6.6ms preprocess, 24.8ms inference, 2.9ms postprocess per image at shape (1, 3, 640, 640)\n"
     ]
    },
    {
     "data": {
      "text/plain": [
       "<Figure size 800x800 with 1 Axes>"
      ]
     },
     "metadata": {},
     "output_type": "display_data"
    },
    {
     "name": "stdout",
     "output_type": "stream",
     "text": [
      "\n",
      "image 1/1 C:\\Users\\samue\\Dataset-Pisang-7\\test\\images\\Image_203_jpg.rf.ae22b61387dbc6c73a7f3f72ca658707.jpg: 640x640 1 healthy, 24.9ms\n",
      "Speed: 7.6ms preprocess, 24.9ms inference, 2.5ms postprocess per image at shape (1, 3, 640, 640)\n"
     ]
    },
    {
     "data": {
      "text/plain": [
       "<Figure size 800x800 with 1 Axes>"
      ]
     },
     "metadata": {},
     "output_type": "display_data"
    },
    {
     "name": "stdout",
     "output_type": "stream",
     "text": [
      "\n",
      "image 1/1 C:\\Users\\samue\\Dataset-Pisang-7\\test\\images\\Image_206_jpg.rf.32fdd899e8b460c2cc5f71888250f52b.jpg: 640x640 1 fusarium, 26.0ms\n",
      "Speed: 7.0ms preprocess, 26.0ms inference, 3.9ms postprocess per image at shape (1, 3, 640, 640)\n"
     ]
    },
    {
     "data": {
      "text/plain": [
       "<Figure size 800x800 with 1 Axes>"
      ]
     },
     "metadata": {},
     "output_type": "display_data"
    },
    {
     "name": "stdout",
     "output_type": "stream",
     "text": [
      "\n",
      "image 1/1 C:\\Users\\samue\\Dataset-Pisang-7\\test\\images\\Image_206_jpg.rf.8d21a91c268f20e0872f1aedcb21d6e7.jpg: 640x640 1 fusarium, 24.7ms\n",
      "Speed: 6.1ms preprocess, 24.7ms inference, 3.6ms postprocess per image at shape (1, 3, 640, 640)\n"
     ]
    },
    {
     "data": {
      "text/plain": [
       "<Figure size 800x800 with 1 Axes>"
      ]
     },
     "metadata": {},
     "output_type": "display_data"
    },
    {
     "name": "stdout",
     "output_type": "stream",
     "text": [
      "\n",
      "image 1/1 C:\\Users\\samue\\Dataset-Pisang-7\\test\\images\\Image_206_jpg.rf.f60ea1808d54575a9f0e7e5ea20ffe9c.jpg: 640x640 1 healthy, 24.9ms\n",
      "Speed: 8.0ms preprocess, 24.9ms inference, 4.6ms postprocess per image at shape (1, 3, 640, 640)\n"
     ]
    },
    {
     "data": {
      "text/plain": [
       "<Figure size 800x800 with 1 Axes>"
      ]
     },
     "metadata": {},
     "output_type": "display_data"
    },
    {
     "name": "stdout",
     "output_type": "stream",
     "text": [
      "\n",
      "image 1/1 C:\\Users\\samue\\Dataset-Pisang-7\\test\\images\\Image_207_jpg.rf.c6ee47f2886470c0eeb196bc937a7241.jpg: 640x640 1 fusarium, 24.7ms\n",
      "Speed: 5.9ms preprocess, 24.7ms inference, 3.8ms postprocess per image at shape (1, 3, 640, 640)\n"
     ]
    },
    {
     "data": {
      "text/plain": [
       "<Figure size 800x800 with 1 Axes>"
      ]
     },
     "metadata": {},
     "output_type": "display_data"
    },
    {
     "name": "stdout",
     "output_type": "stream",
     "text": [
      "\n",
      "image 1/1 C:\\Users\\samue\\Dataset-Pisang-7\\test\\images\\Image_207_jpg.rf.d45e68a6b978cb1edff050ee2078b5d5.jpg: 640x640 1 healthy, 24.8ms\n",
      "Speed: 4.6ms preprocess, 24.8ms inference, 3.2ms postprocess per image at shape (1, 3, 640, 640)\n"
     ]
    },
    {
     "data": {
      "text/plain": [
       "<Figure size 800x800 with 1 Axes>"
      ]
     },
     "metadata": {},
     "output_type": "display_data"
    },
    {
     "name": "stdout",
     "output_type": "stream",
     "text": [
      "\n",
      "image 1/1 C:\\Users\\samue\\Dataset-Pisang-7\\test\\images\\Image_20_jpg.rf.5fb4ffbab4930eb2897e9d443ac2d239.jpg: 640x640 1 healthy, 25.0ms\n",
      "Speed: 6.0ms preprocess, 25.0ms inference, 3.3ms postprocess per image at shape (1, 3, 640, 640)\n"
     ]
    },
    {
     "data": {
      "text/plain": [
       "<Figure size 800x800 with 1 Axes>"
      ]
     },
     "metadata": {},
     "output_type": "display_data"
    },
    {
     "name": "stdout",
     "output_type": "stream",
     "text": [
      "\n",
      "image 1/1 C:\\Users\\samue\\Dataset-Pisang-7\\test\\images\\Image_210_jpg.rf.48a2f05f0f3b016cac67d1212cf5ba4d.jpg: 640x640 1 fusarium, 24.7ms\n",
      "Speed: 4.7ms preprocess, 24.7ms inference, 4.5ms postprocess per image at shape (1, 3, 640, 640)\n"
     ]
    },
    {
     "data": {
      "text/plain": [
       "<Figure size 800x800 with 1 Axes>"
      ]
     },
     "metadata": {},
     "output_type": "display_data"
    },
    {
     "name": "stdout",
     "output_type": "stream",
     "text": [
      "\n",
      "image 1/1 C:\\Users\\samue\\Dataset-Pisang-7\\test\\images\\Image_211_jpg.rf.b93ba2447ea5c7613befd6b18fa24d02.jpg: 640x640 1 healthy, 24.7ms\n",
      "Speed: 4.6ms preprocess, 24.7ms inference, 5.1ms postprocess per image at shape (1, 3, 640, 640)\n"
     ]
    },
    {
     "data": {
      "text/plain": [
       "<Figure size 800x800 with 1 Axes>"
      ]
     },
     "metadata": {},
     "output_type": "display_data"
    },
    {
     "name": "stdout",
     "output_type": "stream",
     "text": [
      "\n",
      "image 1/1 C:\\Users\\samue\\Dataset-Pisang-7\\test\\images\\Image_216_jpg.rf.b2839cd5ecf5df39099a7144d650e658.jpg: 640x640 1 healthy, 24.5ms\n",
      "Speed: 6.4ms preprocess, 24.5ms inference, 2.6ms postprocess per image at shape (1, 3, 640, 640)\n"
     ]
    },
    {
     "data": {
      "text/plain": [
       "<Figure size 800x800 with 1 Axes>"
      ]
     },
     "metadata": {},
     "output_type": "display_data"
    },
    {
     "name": "stdout",
     "output_type": "stream",
     "text": [
      "\n",
      "image 1/1 C:\\Users\\samue\\Dataset-Pisang-7\\test\\images\\Image_217_jpg.rf.cd96987331a8ae02fe9ab7bc967cc57c.jpg: 640x640 1 healthy, 24.6ms\n",
      "Speed: 4.7ms preprocess, 24.6ms inference, 2.9ms postprocess per image at shape (1, 3, 640, 640)\n"
     ]
    },
    {
     "data": {
      "text/plain": [
       "<Figure size 800x800 with 1 Axes>"
      ]
     },
     "metadata": {},
     "output_type": "display_data"
    },
    {
     "name": "stdout",
     "output_type": "stream",
     "text": [
      "\n",
      "image 1/1 C:\\Users\\samue\\Dataset-Pisang-7\\test\\images\\Image_221_jpg.rf.aa476aab9920366b1441575198c84c2d.jpg: 640x640 1 fusarium, 24.5ms\n",
      "Speed: 5.7ms preprocess, 24.5ms inference, 4.1ms postprocess per image at shape (1, 3, 640, 640)\n"
     ]
    },
    {
     "data": {
      "text/plain": [
       "<Figure size 800x800 with 1 Axes>"
      ]
     },
     "metadata": {},
     "output_type": "display_data"
    },
    {
     "name": "stdout",
     "output_type": "stream",
     "text": [
      "\n",
      "image 1/1 C:\\Users\\samue\\Dataset-Pisang-7\\test\\images\\Image_222_jpg.rf.87c6179a69b4d63fcb83b7fdb15c6fbe.jpg: 640x640 1 healthy, 24.9ms\n",
      "Speed: 5.5ms preprocess, 24.9ms inference, 3.3ms postprocess per image at shape (1, 3, 640, 640)\n"
     ]
    },
    {
     "data": {
      "text/plain": [
       "<Figure size 800x800 with 1 Axes>"
      ]
     },
     "metadata": {},
     "output_type": "display_data"
    },
    {
     "name": "stdout",
     "output_type": "stream",
     "text": [
      "\n",
      "image 1/1 C:\\Users\\samue\\Dataset-Pisang-7\\test\\images\\Image_223_jpg.rf.537cdf8c38e01968d15ba80567a464df.jpg: 640x640 1 fusarium, 24.5ms\n",
      "Speed: 5.3ms preprocess, 24.5ms inference, 3.7ms postprocess per image at shape (1, 3, 640, 640)\n"
     ]
    },
    {
     "data": {
      "text/plain": [
       "<Figure size 800x800 with 1 Axes>"
      ]
     },
     "metadata": {},
     "output_type": "display_data"
    },
    {
     "name": "stdout",
     "output_type": "stream",
     "text": [
      "\n",
      "image 1/1 C:\\Users\\samue\\Dataset-Pisang-7\\test\\images\\Image_223_jpg.rf.6f95b83a7cd185e0575b3496ab60efcc.jpg: 640x640 1 healthy, 40.9ms\n",
      "Speed: 14.9ms preprocess, 40.9ms inference, 14.6ms postprocess per image at shape (1, 3, 640, 640)\n"
     ]
    },
    {
     "data": {
      "text/plain": [
       "<Figure size 800x800 with 1 Axes>"
      ]
     },
     "metadata": {},
     "output_type": "display_data"
    },
    {
     "name": "stdout",
     "output_type": "stream",
     "text": [
      "\n",
      "image 1/1 C:\\Users\\samue\\Dataset-Pisang-7\\test\\images\\Image_223_jpg.rf.9f9fd303d5b81f8a2e749a34b7bb9d79.jpg: 640x640 1 sigatoka, 24.3ms\n",
      "Speed: 4.3ms preprocess, 24.3ms inference, 4.8ms postprocess per image at shape (1, 3, 640, 640)\n"
     ]
    },
    {
     "data": {
      "text/plain": [
       "<Figure size 800x800 with 1 Axes>"
      ]
     },
     "metadata": {},
     "output_type": "display_data"
    },
    {
     "name": "stdout",
     "output_type": "stream",
     "text": [
      "\n",
      "image 1/1 C:\\Users\\samue\\Dataset-Pisang-7\\test\\images\\Image_223_jpg.rf.b5962b4749ad63384f848fc5f231708c.jpg: 640x640 1 fusarium, 24.5ms\n",
      "Speed: 4.4ms preprocess, 24.5ms inference, 2.9ms postprocess per image at shape (1, 3, 640, 640)\n"
     ]
    },
    {
     "data": {
      "text/plain": [
       "<Figure size 800x800 with 1 Axes>"
      ]
     },
     "metadata": {},
     "output_type": "display_data"
    },
    {
     "name": "stdout",
     "output_type": "stream",
     "text": [
      "\n",
      "image 1/1 C:\\Users\\samue\\Dataset-Pisang-7\\test\\images\\Image_223_jpg.rf.d65615d3af7e390dd5b49d333d9238c8.jpg: 640x640 1 healthy, 24.6ms\n",
      "Speed: 5.8ms preprocess, 24.6ms inference, 4.9ms postprocess per image at shape (1, 3, 640, 640)\n"
     ]
    },
    {
     "data": {
      "text/plain": [
       "<Figure size 800x800 with 1 Axes>"
      ]
     },
     "metadata": {},
     "output_type": "display_data"
    },
    {
     "name": "stdout",
     "output_type": "stream",
     "text": [
      "\n",
      "image 1/1 C:\\Users\\samue\\Dataset-Pisang-7\\test\\images\\Image_225_jpg.rf.1af3c8f5187c0dd49da4e702ad2ad9e3.jpg: 640x640 1 fusarium, 24.3ms\n",
      "Speed: 5.0ms preprocess, 24.3ms inference, 3.5ms postprocess per image at shape (1, 3, 640, 640)\n"
     ]
    },
    {
     "data": {
      "text/plain": [
       "<Figure size 800x800 with 1 Axes>"
      ]
     },
     "metadata": {},
     "output_type": "display_data"
    },
    {
     "name": "stdout",
     "output_type": "stream",
     "text": [
      "\n",
      "image 1/1 C:\\Users\\samue\\Dataset-Pisang-7\\test\\images\\Image_226_jpg.rf.54cf8689f6eff8f8476dc2c845a83581.jpg: 640x640 1 sigatoka, 23.7ms\n",
      "Speed: 4.8ms preprocess, 23.7ms inference, 4.8ms postprocess per image at shape (1, 3, 640, 640)\n"
     ]
    },
    {
     "data": {
      "text/plain": [
       "<Figure size 800x800 with 1 Axes>"
      ]
     },
     "metadata": {},
     "output_type": "display_data"
    },
    {
     "name": "stdout",
     "output_type": "stream",
     "text": [
      "\n",
      "image 1/1 C:\\Users\\samue\\Dataset-Pisang-7\\test\\images\\Image_228_jpg.rf.1ca69fa1ebe377255d46f07d0b9e642d.jpg: 640x640 1 healthy, 24.1ms\n",
      "Speed: 7.6ms preprocess, 24.1ms inference, 4.2ms postprocess per image at shape (1, 3, 640, 640)\n"
     ]
    },
    {
     "data": {
      "text/plain": [
       "<Figure size 800x800 with 1 Axes>"
      ]
     },
     "metadata": {},
     "output_type": "display_data"
    },
    {
     "name": "stdout",
     "output_type": "stream",
     "text": [
      "\n",
      "image 1/1 C:\\Users\\samue\\Dataset-Pisang-7\\test\\images\\Image_22_jpg.rf.5e6d81325f19f552b013cc7bd9f98ac1.jpg: 640x640 1 fusarium, 23.7ms\n",
      "Speed: 7.4ms preprocess, 23.7ms inference, 4.5ms postprocess per image at shape (1, 3, 640, 640)\n"
     ]
    },
    {
     "data": {
      "text/plain": [
       "<Figure size 800x800 with 1 Axes>"
      ]
     },
     "metadata": {},
     "output_type": "display_data"
    },
    {
     "name": "stdout",
     "output_type": "stream",
     "text": [
      "\n",
      "image 1/1 C:\\Users\\samue\\Dataset-Pisang-7\\test\\images\\Image_22_jpg.rf.a1819bf6875258fbbd5cd055ae5a5d30.jpg: 640x640 1 sigatoka, 23.7ms\n",
      "Speed: 7.5ms preprocess, 23.7ms inference, 4.7ms postprocess per image at shape (1, 3, 640, 640)\n"
     ]
    },
    {
     "data": {
      "text/plain": [
       "<Figure size 800x800 with 1 Axes>"
      ]
     },
     "metadata": {},
     "output_type": "display_data"
    },
    {
     "name": "stdout",
     "output_type": "stream",
     "text": [
      "\n",
      "image 1/1 C:\\Users\\samue\\Dataset-Pisang-7\\test\\images\\Image_230_jpg.rf.0674f3c0939f8032016692df642327a2.jpg: 640x640 1 sigatoka, 23.8ms\n",
      "Speed: 7.3ms preprocess, 23.8ms inference, 3.3ms postprocess per image at shape (1, 3, 640, 640)\n"
     ]
    },
    {
     "data": {
      "text/plain": [
       "<Figure size 800x800 with 1 Axes>"
      ]
     },
     "metadata": {},
     "output_type": "display_data"
    },
    {
     "name": "stdout",
     "output_type": "stream",
     "text": [
      "\n",
      "image 1/1 C:\\Users\\samue\\Dataset-Pisang-7\\test\\images\\Image_230_jpg.rf.7fc676f75c595395a1017cb20dc85be5.jpg: 640x640 1 healthy, 23.6ms\n",
      "Speed: 4.4ms preprocess, 23.6ms inference, 3.1ms postprocess per image at shape (1, 3, 640, 640)\n"
     ]
    },
    {
     "data": {
      "text/plain": [
       "<Figure size 800x800 with 1 Axes>"
      ]
     },
     "metadata": {},
     "output_type": "display_data"
    },
    {
     "name": "stdout",
     "output_type": "stream",
     "text": [
      "\n",
      "image 1/1 C:\\Users\\samue\\Dataset-Pisang-7\\test\\images\\Image_232_jpg.rf.36a7adcb2ce9da6deedc154d4b6f6c30.jpg: 640x640 1 sigatoka, 23.7ms\n",
      "Speed: 7.3ms preprocess, 23.7ms inference, 4.4ms postprocess per image at shape (1, 3, 640, 640)\n"
     ]
    },
    {
     "data": {
      "text/plain": [
       "<Figure size 800x800 with 1 Axes>"
      ]
     },
     "metadata": {},
     "output_type": "display_data"
    },
    {
     "name": "stdout",
     "output_type": "stream",
     "text": [
      "\n",
      "image 1/1 C:\\Users\\samue\\Dataset-Pisang-7\\test\\images\\Image_235_jpg.rf.fd1de5ae7c3680339ff032f7d23a66ce.jpg: 640x640 1 sigatoka, 23.9ms\n",
      "Speed: 7.6ms preprocess, 23.9ms inference, 3.0ms postprocess per image at shape (1, 3, 640, 640)\n"
     ]
    },
    {
     "data": {
      "text/plain": [
       "<Figure size 800x800 with 1 Axes>"
      ]
     },
     "metadata": {},
     "output_type": "display_data"
    },
    {
     "name": "stdout",
     "output_type": "stream",
     "text": [
      "\n",
      "image 1/1 C:\\Users\\samue\\Dataset-Pisang-7\\test\\images\\Image_238_jpg.rf.ae6667c9390a26c92d7b1998819955dc.jpg: 640x640 1 healthy, 23.6ms\n",
      "Speed: 6.4ms preprocess, 23.6ms inference, 5.0ms postprocess per image at shape (1, 3, 640, 640)\n"
     ]
    },
    {
     "data": {
      "text/plain": [
       "<Figure size 800x800 with 1 Axes>"
      ]
     },
     "metadata": {},
     "output_type": "display_data"
    },
    {
     "name": "stdout",
     "output_type": "stream",
     "text": [
      "\n",
      "image 1/1 C:\\Users\\samue\\Dataset-Pisang-7\\test\\images\\Image_23_jpg.rf.288ad607a7d3bedf204a470b79c399f4.jpg: 640x640 1 fusarium, 23.7ms\n",
      "Speed: 5.6ms preprocess, 23.7ms inference, 2.7ms postprocess per image at shape (1, 3, 640, 640)\n"
     ]
    },
    {
     "data": {
      "text/plain": [
       "<Figure size 800x800 with 1 Axes>"
      ]
     },
     "metadata": {},
     "output_type": "display_data"
    },
    {
     "name": "stdout",
     "output_type": "stream",
     "text": [
      "\n",
      "image 1/1 C:\\Users\\samue\\Dataset-Pisang-7\\test\\images\\Image_240_jpg.rf.a700e6fb2ac9693ceef72bc3a845a6c4.jpg: 640x640 1 sigatoka, 24.0ms\n",
      "Speed: 6.2ms preprocess, 24.0ms inference, 7.2ms postprocess per image at shape (1, 3, 640, 640)\n"
     ]
    },
    {
     "data": {
      "text/plain": [
       "<Figure size 800x800 with 1 Axes>"
      ]
     },
     "metadata": {},
     "output_type": "display_data"
    },
    {
     "name": "stdout",
     "output_type": "stream",
     "text": [
      "\n",
      "image 1/1 C:\\Users\\samue\\Dataset-Pisang-7\\test\\images\\Image_241_jpg.rf.8a1390c2983493a69039da39136e91f0.jpg: 640x640 1 fusarium, 23.7ms\n",
      "Speed: 5.0ms preprocess, 23.7ms inference, 3.7ms postprocess per image at shape (1, 3, 640, 640)\n"
     ]
    },
    {
     "data": {
      "text/plain": [
       "<Figure size 800x800 with 1 Axes>"
      ]
     },
     "metadata": {},
     "output_type": "display_data"
    },
    {
     "name": "stdout",
     "output_type": "stream",
     "text": [
      "\n",
      "image 1/1 C:\\Users\\samue\\Dataset-Pisang-7\\test\\images\\Image_243_jpg.rf.0fc82a5894e2e61aa98825d34aee6cf1.jpg: 640x640 1 healthy, 23.8ms\n",
      "Speed: 5.7ms preprocess, 23.8ms inference, 2.7ms postprocess per image at shape (1, 3, 640, 640)\n"
     ]
    },
    {
     "data": {
      "text/plain": [
       "<Figure size 800x800 with 1 Axes>"
      ]
     },
     "metadata": {},
     "output_type": "display_data"
    },
    {
     "name": "stdout",
     "output_type": "stream",
     "text": [
      "\n",
      "image 1/1 C:\\Users\\samue\\Dataset-Pisang-7\\test\\images\\Image_243_jpg.rf.8eb1e26efdaa4fe61c1dbb93dbc2ce70.jpg: 640x640 1 healthy, 23.7ms\n",
      "Speed: 5.7ms preprocess, 23.7ms inference, 3.8ms postprocess per image at shape (1, 3, 640, 640)\n"
     ]
    },
    {
     "data": {
      "text/plain": [
       "<Figure size 800x800 with 1 Axes>"
      ]
     },
     "metadata": {},
     "output_type": "display_data"
    },
    {
     "name": "stdout",
     "output_type": "stream",
     "text": [
      "\n",
      "image 1/1 C:\\Users\\samue\\Dataset-Pisang-7\\test\\images\\Image_244_jpg.rf.952f25d0d54ed9838599fef5afe6b5a9.jpg: 640x640 1 fusarium, 23.5ms\n",
      "Speed: 5.3ms preprocess, 23.5ms inference, 3.4ms postprocess per image at shape (1, 3, 640, 640)\n"
     ]
    },
    {
     "data": {
      "text/plain": [
       "<Figure size 800x800 with 1 Axes>"
      ]
     },
     "metadata": {},
     "output_type": "display_data"
    },
    {
     "name": "stdout",
     "output_type": "stream",
     "text": [
      "\n",
      "image 1/1 C:\\Users\\samue\\Dataset-Pisang-7\\test\\images\\Image_248_jpg.rf.78359e3404a04f5a0d69368c3f84773a.jpg: 640x640 1 healthy, 24.1ms\n",
      "Speed: 7.5ms preprocess, 24.1ms inference, 3.0ms postprocess per image at shape (1, 3, 640, 640)\n"
     ]
    },
    {
     "data": {
      "text/plain": [
       "<Figure size 800x800 with 1 Axes>"
      ]
     },
     "metadata": {},
     "output_type": "display_data"
    },
    {
     "name": "stdout",
     "output_type": "stream",
     "text": [
      "\n",
      "image 1/1 C:\\Users\\samue\\Dataset-Pisang-7\\test\\images\\Image_248_jpg.rf.93864b0810f5a50eb32990bf8984c5d5.jpg: 640x640 1 fusarium, 23.5ms\n",
      "Speed: 4.6ms preprocess, 23.5ms inference, 3.8ms postprocess per image at shape (1, 3, 640, 640)\n"
     ]
    },
    {
     "data": {
      "text/plain": [
       "<Figure size 800x800 with 1 Axes>"
      ]
     },
     "metadata": {},
     "output_type": "display_data"
    },
    {
     "name": "stdout",
     "output_type": "stream",
     "text": [
      "\n",
      "image 1/1 C:\\Users\\samue\\Dataset-Pisang-7\\test\\images\\Image_249_jpg.rf.596be98b107ac387258d5b5d814ba7b9.jpg: 640x640 1 fusarium, 23.5ms\n",
      "Speed: 4.9ms preprocess, 23.5ms inference, 6.4ms postprocess per image at shape (1, 3, 640, 640)\n"
     ]
    },
    {
     "data": {
      "text/plain": [
       "<Figure size 800x800 with 1 Axes>"
      ]
     },
     "metadata": {},
     "output_type": "display_data"
    },
    {
     "name": "stdout",
     "output_type": "stream",
     "text": [
      "\n",
      "image 1/1 C:\\Users\\samue\\Dataset-Pisang-7\\test\\images\\Image_24_jpg.rf.313f87f76775b31725623a9b369f7a88.jpg: 640x640 1 fusarium, 23.4ms\n",
      "Speed: 5.5ms preprocess, 23.4ms inference, 2.9ms postprocess per image at shape (1, 3, 640, 640)\n"
     ]
    },
    {
     "data": {
      "text/plain": [
       "<Figure size 800x800 with 1 Axes>"
      ]
     },
     "metadata": {},
     "output_type": "display_data"
    },
    {
     "name": "stdout",
     "output_type": "stream",
     "text": [
      "\n",
      "image 1/1 C:\\Users\\samue\\Dataset-Pisang-7\\test\\images\\Image_250_jpg.rf.5d2bdb4d3eb347d53f0a99c70fc44e10.jpg: 640x640 1 healthy, 23.3ms\n",
      "Speed: 5.8ms preprocess, 23.3ms inference, 3.1ms postprocess per image at shape (1, 3, 640, 640)\n"
     ]
    },
    {
     "data": {
      "text/plain": [
       "<Figure size 800x800 with 1 Axes>"
      ]
     },
     "metadata": {},
     "output_type": "display_data"
    },
    {
     "name": "stdout",
     "output_type": "stream",
     "text": [
      "\n",
      "image 1/1 C:\\Users\\samue\\Dataset-Pisang-7\\test\\images\\Image_250_jpg.rf.eae3f554590f39a8b1a640c0f87ac5f7.jpg: 640x640 1 fusarium, 23.4ms\n",
      "Speed: 6.2ms preprocess, 23.4ms inference, 3.7ms postprocess per image at shape (1, 3, 640, 640)\n"
     ]
    },
    {
     "data": {
      "text/plain": [
       "<Figure size 800x800 with 1 Axes>"
      ]
     },
     "metadata": {},
     "output_type": "display_data"
    },
    {
     "name": "stdout",
     "output_type": "stream",
     "text": [
      "\n",
      "image 1/1 C:\\Users\\samue\\Dataset-Pisang-7\\test\\images\\Image_252_jpg.rf.02063ff4473c000d3a3fe159a9f15c33.jpg: 640x640 1 sigatoka, 23.7ms\n",
      "Speed: 6.9ms preprocess, 23.7ms inference, 5.3ms postprocess per image at shape (1, 3, 640, 640)\n"
     ]
    },
    {
     "data": {
      "text/plain": [
       "<Figure size 800x800 with 1 Axes>"
      ]
     },
     "metadata": {},
     "output_type": "display_data"
    },
    {
     "name": "stdout",
     "output_type": "stream",
     "text": [
      "\n",
      "image 1/1 C:\\Users\\samue\\Dataset-Pisang-7\\test\\images\\Image_254_jpg.rf.050de5e6f6ee74bcbb734ed83a6d2cd4.jpg: 640x640 1 healthy, 23.4ms\n",
      "Speed: 4.3ms preprocess, 23.4ms inference, 3.2ms postprocess per image at shape (1, 3, 640, 640)\n"
     ]
    },
    {
     "data": {
      "text/plain": [
       "<Figure size 800x800 with 1 Axes>"
      ]
     },
     "metadata": {},
     "output_type": "display_data"
    },
    {
     "name": "stdout",
     "output_type": "stream",
     "text": [
      "\n",
      "image 1/1 C:\\Users\\samue\\Dataset-Pisang-7\\test\\images\\Image_256_jpg.rf.2f0d968a3048ff58bfa6c46ec6eb812a.jpg: 640x640 1 sigatoka, 23.4ms\n",
      "Speed: 5.8ms preprocess, 23.4ms inference, 3.2ms postprocess per image at shape (1, 3, 640, 640)\n"
     ]
    },
    {
     "data": {
      "text/plain": [
       "<Figure size 800x800 with 1 Axes>"
      ]
     },
     "metadata": {},
     "output_type": "display_data"
    },
    {
     "name": "stdout",
     "output_type": "stream",
     "text": [
      "\n",
      "image 1/1 C:\\Users\\samue\\Dataset-Pisang-7\\test\\images\\Image_258_jpg.rf.5ce86d7b9ebb023c5c3321456809184a.jpg: 640x640 1 fusarium, 23.4ms\n",
      "Speed: 5.1ms preprocess, 23.4ms inference, 2.6ms postprocess per image at shape (1, 3, 640, 640)\n"
     ]
    },
    {
     "data": {
      "text/plain": [
       "<Figure size 800x800 with 1 Axes>"
      ]
     },
     "metadata": {},
     "output_type": "display_data"
    },
    {
     "name": "stdout",
     "output_type": "stream",
     "text": [
      "\n",
      "image 1/1 C:\\Users\\samue\\Dataset-Pisang-7\\test\\images\\Image_25_jpg.rf.80d8099343145bf64e3793521f6f2e07.jpg: 640x640 1 fusarium, 23.4ms\n",
      "Speed: 5.3ms preprocess, 23.4ms inference, 3.9ms postprocess per image at shape (1, 3, 640, 640)\n"
     ]
    },
    {
     "data": {
      "text/plain": [
       "<Figure size 800x800 with 1 Axes>"
      ]
     },
     "metadata": {},
     "output_type": "display_data"
    },
    {
     "name": "stdout",
     "output_type": "stream",
     "text": [
      "\n",
      "image 1/1 C:\\Users\\samue\\Dataset-Pisang-7\\test\\images\\Image_261_jpg.rf.2386bc2b1c626611fcecea16c42a6880.jpg: 640x640 1 fusarium, 12.7ms\n",
      "Speed: 2.8ms preprocess, 12.7ms inference, 3.2ms postprocess per image at shape (1, 3, 640, 640)\n"
     ]
    },
    {
     "data": {
      "text/plain": [
       "<Figure size 800x800 with 1 Axes>"
      ]
     },
     "metadata": {},
     "output_type": "display_data"
    },
    {
     "name": "stdout",
     "output_type": "stream",
     "text": [
      "\n",
      "image 1/1 C:\\Users\\samue\\Dataset-Pisang-7\\test\\images\\Image_261_jpg.rf.27bee830dfa74bde00594441964fbbd7.jpg: 640x640 1 healthy, 20.1ms\n",
      "Speed: 5.7ms preprocess, 20.1ms inference, 4.5ms postprocess per image at shape (1, 3, 640, 640)\n"
     ]
    },
    {
     "data": {
      "text/plain": [
       "<Figure size 800x800 with 1 Axes>"
      ]
     },
     "metadata": {},
     "output_type": "display_data"
    },
    {
     "name": "stdout",
     "output_type": "stream",
     "text": [
      "\n",
      "image 1/1 C:\\Users\\samue\\Dataset-Pisang-7\\test\\images\\Image_264_jpg.rf.2bcffc0b6bc3958647fc4b424fe1e8c2.jpg: 640x640 1 healthy, 18.7ms\n",
      "Speed: 5.5ms preprocess, 18.7ms inference, 4.0ms postprocess per image at shape (1, 3, 640, 640)\n"
     ]
    },
    {
     "data": {
      "text/plain": [
       "<Figure size 800x800 with 1 Axes>"
      ]
     },
     "metadata": {},
     "output_type": "display_data"
    },
    {
     "name": "stdout",
     "output_type": "stream",
     "text": [
      "\n",
      "image 1/1 C:\\Users\\samue\\Dataset-Pisang-7\\test\\images\\Image_265_jpg.rf.ae3ae1e771d55af97494597c627aba23.jpg: 640x640 1 fusarium, 10.7ms\n",
      "Speed: 3.3ms preprocess, 10.7ms inference, 2.2ms postprocess per image at shape (1, 3, 640, 640)\n"
     ]
    },
    {
     "data": {
      "text/plain": [
       "<Figure size 800x800 with 1 Axes>"
      ]
     },
     "metadata": {},
     "output_type": "display_data"
    },
    {
     "name": "stdout",
     "output_type": "stream",
     "text": [
      "\n",
      "image 1/1 C:\\Users\\samue\\Dataset-Pisang-7\\test\\images\\Image_268_jpg.rf.504ddd9d7efdaabda4cd7d4e09525d7f.jpg: 640x640 1 fusarium, 19.4ms\n",
      "Speed: 5.4ms preprocess, 19.4ms inference, 2.9ms postprocess per image at shape (1, 3, 640, 640)\n"
     ]
    },
    {
     "data": {
      "text/plain": [
       "<Figure size 800x800 with 1 Axes>"
      ]
     },
     "metadata": {},
     "output_type": "display_data"
    },
    {
     "name": "stdout",
     "output_type": "stream",
     "text": [
      "\n",
      "image 1/1 C:\\Users\\samue\\Dataset-Pisang-7\\test\\images\\Image_269_jpg.rf.c68e30ee9c2e41f19629867443a0ba18.jpg: 640x640 1 fusarium, 22.0ms\n",
      "Speed: 5.8ms preprocess, 22.0ms inference, 4.5ms postprocess per image at shape (1, 3, 640, 640)\n"
     ]
    },
    {
     "data": {
      "text/plain": [
       "<Figure size 800x800 with 1 Axes>"
      ]
     },
     "metadata": {},
     "output_type": "display_data"
    },
    {
     "name": "stdout",
     "output_type": "stream",
     "text": [
      "\n",
      "image 1/1 C:\\Users\\samue\\Dataset-Pisang-7\\test\\images\\Image_26_jpg.rf.32b9a15c8b0d5ded701a04c79345dba8.jpg: 640x640 1 fusarium, 15.0ms\n",
      "Speed: 2.4ms preprocess, 15.0ms inference, 2.2ms postprocess per image at shape (1, 3, 640, 640)\n"
     ]
    },
    {
     "data": {
      "text/plain": [
       "<Figure size 800x800 with 1 Axes>"
      ]
     },
     "metadata": {},
     "output_type": "display_data"
    },
    {
     "name": "stdout",
     "output_type": "stream",
     "text": [
      "\n",
      "image 1/1 C:\\Users\\samue\\Dataset-Pisang-7\\test\\images\\Image_270_jpg.rf.272d809a858d99fe5933df161c7cfa38.jpg: 640x640 1 sigatoka, 14.5ms\n",
      "Speed: 3.4ms preprocess, 14.5ms inference, 3.3ms postprocess per image at shape (1, 3, 640, 640)\n"
     ]
    },
    {
     "data": {
      "text/plain": [
       "<Figure size 800x800 with 1 Axes>"
      ]
     },
     "metadata": {},
     "output_type": "display_data"
    },
    {
     "name": "stdout",
     "output_type": "stream",
     "text": [
      "\n",
      "image 1/1 C:\\Users\\samue\\Dataset-Pisang-7\\test\\images\\Image_270_jpg.rf.9325a566a6b5aff1cbed586826b655c8.jpg: 640x640 1 sigatoka, 16.7ms\n",
      "Speed: 3.8ms preprocess, 16.7ms inference, 3.7ms postprocess per image at shape (1, 3, 640, 640)\n"
     ]
    },
    {
     "data": {
      "text/plain": [
       "<Figure size 800x800 with 1 Axes>"
      ]
     },
     "metadata": {},
     "output_type": "display_data"
    },
    {
     "name": "stdout",
     "output_type": "stream",
     "text": [
      "\n",
      "image 1/1 C:\\Users\\samue\\Dataset-Pisang-7\\test\\images\\Image_272_jpg.rf.1e8648f7706011a38e4883e2a6f5a6cf.jpg: 640x640 1 healthy, 12.5ms\n",
      "Speed: 4.1ms preprocess, 12.5ms inference, 3.3ms postprocess per image at shape (1, 3, 640, 640)\n"
     ]
    },
    {
     "data": {
      "text/plain": [
       "<Figure size 800x800 with 1 Axes>"
      ]
     },
     "metadata": {},
     "output_type": "display_data"
    },
    {
     "name": "stdout",
     "output_type": "stream",
     "text": [
      "\n",
      "image 1/1 C:\\Users\\samue\\Dataset-Pisang-7\\test\\images\\Image_273_jpg.rf.bcea657a1ee5eb5850f8eef00d6c199e.jpg: 640x640 1 fusarium, 14.0ms\n",
      "Speed: 3.1ms preprocess, 14.0ms inference, 3.8ms postprocess per image at shape (1, 3, 640, 640)\n"
     ]
    },
    {
     "data": {
      "text/plain": [
       "<Figure size 800x800 with 1 Axes>"
      ]
     },
     "metadata": {},
     "output_type": "display_data"
    },
    {
     "name": "stdout",
     "output_type": "stream",
     "text": [
      "\n",
      "image 1/1 C:\\Users\\samue\\Dataset-Pisang-7\\test\\images\\Image_275_jpg.rf.07229e21b4911ce03f9f08d259d527a4.jpg: 640x640 1 healthy, 14.9ms\n",
      "Speed: 5.3ms preprocess, 14.9ms inference, 4.2ms postprocess per image at shape (1, 3, 640, 640)\n"
     ]
    },
    {
     "data": {
      "text/plain": [
       "<Figure size 800x800 with 1 Axes>"
      ]
     },
     "metadata": {},
     "output_type": "display_data"
    },
    {
     "name": "stdout",
     "output_type": "stream",
     "text": [
      "\n",
      "image 1/1 C:\\Users\\samue\\Dataset-Pisang-7\\test\\images\\Image_276_jpg.rf.7339dba42ce0c928d91ab4925b5e8b3a.jpg: 640x640 1 sigatoka, 11.2ms\n",
      "Speed: 4.8ms preprocess, 11.2ms inference, 2.3ms postprocess per image at shape (1, 3, 640, 640)\n"
     ]
    },
    {
     "data": {
      "text/plain": [
       "<Figure size 800x800 with 1 Axes>"
      ]
     },
     "metadata": {},
     "output_type": "display_data"
    },
    {
     "name": "stdout",
     "output_type": "stream",
     "text": [
      "\n",
      "image 1/1 C:\\Users\\samue\\Dataset-Pisang-7\\test\\images\\Image_277_jpg.rf.49b5e7db8b19a32c35242882ac91509e.jpg: 640x640 1 healthy, 18.9ms\n",
      "Speed: 2.9ms preprocess, 18.9ms inference, 2.7ms postprocess per image at shape (1, 3, 640, 640)\n"
     ]
    },
    {
     "data": {
      "text/plain": [
       "<Figure size 800x800 with 1 Axes>"
      ]
     },
     "metadata": {},
     "output_type": "display_data"
    },
    {
     "name": "stdout",
     "output_type": "stream",
     "text": [
      "\n",
      "image 1/1 C:\\Users\\samue\\Dataset-Pisang-7\\test\\images\\Image_277_jpg.rf.4a751dd5bc522705f84fa2667c4fe6f9.jpg: 640x640 1 healthy, 15.4ms\n",
      "Speed: 3.4ms preprocess, 15.4ms inference, 3.1ms postprocess per image at shape (1, 3, 640, 640)\n"
     ]
    },
    {
     "data": {
      "text/plain": [
       "<Figure size 800x800 with 1 Axes>"
      ]
     },
     "metadata": {},
     "output_type": "display_data"
    },
    {
     "name": "stdout",
     "output_type": "stream",
     "text": [
      "\n",
      "image 1/1 C:\\Users\\samue\\Dataset-Pisang-7\\test\\images\\Image_277_jpg.rf.70ece8fdaec8970cea568a5ada799ee1.jpg: 640x640 1 fusarium, 16.6ms\n",
      "Speed: 3.7ms preprocess, 16.6ms inference, 4.5ms postprocess per image at shape (1, 3, 640, 640)\n"
     ]
    },
    {
     "data": {
      "text/plain": [
       "<Figure size 800x800 with 1 Axes>"
      ]
     },
     "metadata": {},
     "output_type": "display_data"
    },
    {
     "name": "stdout",
     "output_type": "stream",
     "text": [
      "\n",
      "image 1/1 C:\\Users\\samue\\Dataset-Pisang-7\\test\\images\\Image_279_jpg.rf.59ef5633bed85a82d5981b2bf0b9dec4.jpg: 640x640 1 healthy, 12.7ms\n",
      "Speed: 3.0ms preprocess, 12.7ms inference, 2.1ms postprocess per image at shape (1, 3, 640, 640)\n"
     ]
    },
    {
     "data": {
      "text/plain": [
       "<Figure size 800x800 with 1 Axes>"
      ]
     },
     "metadata": {},
     "output_type": "display_data"
    },
    {
     "name": "stdout",
     "output_type": "stream",
     "text": [
      "\n",
      "image 1/1 C:\\Users\\samue\\Dataset-Pisang-7\\test\\images\\Image_27_jpg.rf.d91cfb7ae160bcd474de0bc8fe2615c0.jpg: 640x640 1 healthy, 13.3ms\n",
      "Speed: 3.5ms preprocess, 13.3ms inference, 2.4ms postprocess per image at shape (1, 3, 640, 640)\n"
     ]
    },
    {
     "data": {
      "text/plain": [
       "<Figure size 800x800 with 1 Axes>"
      ]
     },
     "metadata": {},
     "output_type": "display_data"
    },
    {
     "name": "stdout",
     "output_type": "stream",
     "text": [
      "\n",
      "image 1/1 C:\\Users\\samue\\Dataset-Pisang-7\\test\\images\\Image_281_jpg.rf.5c83389f97f6fbf6241f1c8bfbf640fc.jpg: 640x640 1 sigatoka, 15.9ms\n",
      "Speed: 3.7ms preprocess, 15.9ms inference, 2.0ms postprocess per image at shape (1, 3, 640, 640)\n"
     ]
    },
    {
     "data": {
      "text/plain": [
       "<Figure size 800x800 with 1 Axes>"
      ]
     },
     "metadata": {},
     "output_type": "display_data"
    },
    {
     "name": "stdout",
     "output_type": "stream",
     "text": [
      "\n",
      "image 1/1 C:\\Users\\samue\\Dataset-Pisang-7\\test\\images\\Image_282_jpg.rf.0e4ee214d5a11c3dfec7793f4c7e0d97.jpg: 640x640 1 healthy, 10.9ms\n",
      "Speed: 2.6ms preprocess, 10.9ms inference, 1.9ms postprocess per image at shape (1, 3, 640, 640)\n"
     ]
    },
    {
     "data": {
      "text/plain": [
       "<Figure size 800x800 with 1 Axes>"
      ]
     },
     "metadata": {},
     "output_type": "display_data"
    },
    {
     "name": "stdout",
     "output_type": "stream",
     "text": [
      "\n",
      "image 1/1 C:\\Users\\samue\\Dataset-Pisang-7\\test\\images\\Image_284_jpg.rf.870252704459addb55a9014fe5fda2e8.jpg: 640x640 1 sigatoka, 15.6ms\n",
      "Speed: 3.4ms preprocess, 15.6ms inference, 2.5ms postprocess per image at shape (1, 3, 640, 640)\n"
     ]
    },
    {
     "data": {
      "text/plain": [
       "<Figure size 800x800 with 1 Axes>"
      ]
     },
     "metadata": {},
     "output_type": "display_data"
    },
    {
     "name": "stdout",
     "output_type": "stream",
     "text": [
      "\n",
      "image 1/1 C:\\Users\\samue\\Dataset-Pisang-7\\test\\images\\Image_285_jpg.rf.a7d2dd19c73cbecfa2f5bdbb36265f7d.jpg: 640x640 1 fusarium, 24.9ms\n",
      "Speed: 4.1ms preprocess, 24.9ms inference, 3.9ms postprocess per image at shape (1, 3, 640, 640)\n"
     ]
    },
    {
     "data": {
      "text/plain": [
       "<Figure size 800x800 with 1 Axes>"
      ]
     },
     "metadata": {},
     "output_type": "display_data"
    },
    {
     "name": "stdout",
     "output_type": "stream",
     "text": [
      "\n",
      "image 1/1 C:\\Users\\samue\\Dataset-Pisang-7\\test\\images\\Image_286_jpg.rf.1ed6d69af28b9b8fde8b143e70e72cd8.jpg: 640x640 1 sigatoka, 16.4ms\n",
      "Speed: 3.5ms preprocess, 16.4ms inference, 4.1ms postprocess per image at shape (1, 3, 640, 640)\n"
     ]
    },
    {
     "data": {
      "text/plain": [
       "<Figure size 800x800 with 1 Axes>"
      ]
     },
     "metadata": {},
     "output_type": "display_data"
    },
    {
     "name": "stdout",
     "output_type": "stream",
     "text": [
      "\n",
      "image 1/1 C:\\Users\\samue\\Dataset-Pisang-7\\test\\images\\Image_289_jpg.rf.534de36cafb403eb9549454f271e6b03.jpg: 640x640 1 healthy, 14.1ms\n",
      "Speed: 2.8ms preprocess, 14.1ms inference, 3.8ms postprocess per image at shape (1, 3, 640, 640)\n"
     ]
    },
    {
     "data": {
      "text/plain": [
       "<Figure size 800x800 with 1 Axes>"
      ]
     },
     "metadata": {},
     "output_type": "display_data"
    },
    {
     "name": "stdout",
     "output_type": "stream",
     "text": [
      "\n",
      "image 1/1 C:\\Users\\samue\\Dataset-Pisang-7\\test\\images\\Image_289_jpg.rf.77345b825572b8ee3e3c2e713ba19d91.jpg: 640x640 1 fusarium, 18.6ms\n",
      "Speed: 4.3ms preprocess, 18.6ms inference, 4.3ms postprocess per image at shape (1, 3, 640, 640)\n"
     ]
    },
    {
     "data": {
      "text/plain": [
       "<Figure size 800x800 with 1 Axes>"
      ]
     },
     "metadata": {},
     "output_type": "display_data"
    },
    {
     "name": "stdout",
     "output_type": "stream",
     "text": [
      "\n",
      "image 1/1 C:\\Users\\samue\\Dataset-Pisang-7\\test\\images\\Image_28_jpg.rf.3bb69f47c55a5aa489f2db7d0b0b5f9a.jpg: 640x640 1 healthy, 16.3ms\n",
      "Speed: 2.9ms preprocess, 16.3ms inference, 3.1ms postprocess per image at shape (1, 3, 640, 640)\n"
     ]
    },
    {
     "data": {
      "text/plain": [
       "<Figure size 800x800 with 1 Axes>"
      ]
     },
     "metadata": {},
     "output_type": "display_data"
    },
    {
     "name": "stdout",
     "output_type": "stream",
     "text": [
      "\n",
      "image 1/1 C:\\Users\\samue\\Dataset-Pisang-7\\test\\images\\Image_292_jpg.rf.403c3e4e2ca9d4c2af89a69bea5882fe.jpg: 640x640 1 sigatoka, 14.0ms\n",
      "Speed: 4.0ms preprocess, 14.0ms inference, 2.5ms postprocess per image at shape (1, 3, 640, 640)\n"
     ]
    },
    {
     "data": {
      "text/plain": [
       "<Figure size 800x800 with 1 Axes>"
      ]
     },
     "metadata": {},
     "output_type": "display_data"
    },
    {
     "name": "stdout",
     "output_type": "stream",
     "text": [
      "\n",
      "image 1/1 C:\\Users\\samue\\Dataset-Pisang-7\\test\\images\\Image_294_jpg.rf.8fa5193ff78a9fcb9162f808e0c317ba.jpg: 640x640 1 sigatoka, 16.4ms\n",
      "Speed: 3.5ms preprocess, 16.4ms inference, 4.4ms postprocess per image at shape (1, 3, 640, 640)\n"
     ]
    },
    {
     "data": {
      "text/plain": [
       "<Figure size 800x800 with 1 Axes>"
      ]
     },
     "metadata": {},
     "output_type": "display_data"
    },
    {
     "name": "stdout",
     "output_type": "stream",
     "text": [
      "\n",
      "image 1/1 C:\\Users\\samue\\Dataset-Pisang-7\\test\\images\\Image_294_jpg.rf.d5c6ee477f79411050dc7144b3d629af.jpg: 640x640 1 fusarium, 57.5ms\n",
      "Speed: 12.9ms preprocess, 57.5ms inference, 7.4ms postprocess per image at shape (1, 3, 640, 640)\n"
     ]
    },
    {
     "data": {
      "text/plain": [
       "<Figure size 800x800 with 1 Axes>"
      ]
     },
     "metadata": {},
     "output_type": "display_data"
    },
    {
     "name": "stdout",
     "output_type": "stream",
     "text": [
      "\n",
      "image 1/1 C:\\Users\\samue\\Dataset-Pisang-7\\test\\images\\Image_296_jpg.rf.43777de245055dd3763b13060d00c398.jpg: 640x640 1 healthy, 25.8ms\n",
      "Speed: 5.8ms preprocess, 25.8ms inference, 5.6ms postprocess per image at shape (1, 3, 640, 640)\n"
     ]
    },
    {
     "data": {
      "text/plain": [
       "<Figure size 800x800 with 1 Axes>"
      ]
     },
     "metadata": {},
     "output_type": "display_data"
    },
    {
     "name": "stdout",
     "output_type": "stream",
     "text": [
      "\n",
      "image 1/1 C:\\Users\\samue\\Dataset-Pisang-7\\test\\images\\Image_296_jpg.rf.98541a237dbc0c492fcbcbb1280e285a.jpg: 640x640 1 fusarium, 25.6ms\n",
      "Speed: 4.1ms preprocess, 25.6ms inference, 4.5ms postprocess per image at shape (1, 3, 640, 640)\n"
     ]
    },
    {
     "data": {
      "text/plain": [
       "<Figure size 800x800 with 1 Axes>"
      ]
     },
     "metadata": {},
     "output_type": "display_data"
    },
    {
     "name": "stdout",
     "output_type": "stream",
     "text": [
      "\n",
      "image 1/1 C:\\Users\\samue\\Dataset-Pisang-7\\test\\images\\Image_298_jpg.rf.c209ad71606c2853f635538a3fa134b3.jpg: 640x640 1 healthy, 25.7ms\n",
      "Speed: 5.3ms preprocess, 25.7ms inference, 3.2ms postprocess per image at shape (1, 3, 640, 640)\n"
     ]
    },
    {
     "data": {
      "text/plain": [
       "<Figure size 800x800 with 1 Axes>"
      ]
     },
     "metadata": {},
     "output_type": "display_data"
    },
    {
     "name": "stdout",
     "output_type": "stream",
     "text": [
      "\n",
      "image 1/1 C:\\Users\\samue\\Dataset-Pisang-7\\test\\images\\Image_299_jpg.rf.993bc2b17dfb6270a8dbdf4027277498.jpg: 640x640 1 sigatoka, 25.7ms\n",
      "Speed: 4.2ms preprocess, 25.7ms inference, 5.8ms postprocess per image at shape (1, 3, 640, 640)\n"
     ]
    },
    {
     "data": {
      "text/plain": [
       "<Figure size 800x800 with 1 Axes>"
      ]
     },
     "metadata": {},
     "output_type": "display_data"
    },
    {
     "name": "stdout",
     "output_type": "stream",
     "text": [
      "\n",
      "image 1/1 C:\\Users\\samue\\Dataset-Pisang-7\\test\\images\\Image_299_jpg.rf.a200438afe6a2fe5a9da77685b9e9897.jpg: 640x640 1 fusarium, 25.3ms\n",
      "Speed: 4.0ms preprocess, 25.3ms inference, 3.6ms postprocess per image at shape (1, 3, 640, 640)\n"
     ]
    },
    {
     "data": {
      "text/plain": [
       "<Figure size 800x800 with 1 Axes>"
      ]
     },
     "metadata": {},
     "output_type": "display_data"
    },
    {
     "name": "stdout",
     "output_type": "stream",
     "text": [
      "\n",
      "image 1/1 C:\\Users\\samue\\Dataset-Pisang-7\\test\\images\\Image_2_jpg.rf.6fd93a03a28b60e0334bbdd1286b3548.jpg: 640x640 2 fusariums, 25.7ms\n",
      "Speed: 4.5ms preprocess, 25.7ms inference, 3.8ms postprocess per image at shape (1, 3, 640, 640)\n"
     ]
    },
    {
     "data": {
      "text/plain": [
       "<Figure size 800x800 with 1 Axes>"
      ]
     },
     "metadata": {},
     "output_type": "display_data"
    },
    {
     "name": "stdout",
     "output_type": "stream",
     "text": [
      "\n",
      "image 1/1 C:\\Users\\samue\\Dataset-Pisang-7\\test\\images\\Image_300_jpg.rf.6542eddecd901ee39d7348330f2f7877.jpg: 640x640 1 sigatoka, 25.7ms\n",
      "Speed: 4.7ms preprocess, 25.7ms inference, 3.1ms postprocess per image at shape (1, 3, 640, 640)\n"
     ]
    },
    {
     "data": {
      "text/plain": [
       "<Figure size 800x800 with 1 Axes>"
      ]
     },
     "metadata": {},
     "output_type": "display_data"
    },
    {
     "name": "stdout",
     "output_type": "stream",
     "text": [
      "\n",
      "image 1/1 C:\\Users\\samue\\Dataset-Pisang-7\\test\\images\\Image_300_jpg.rf.d6516def1145bbd7c29ce4bbc7b50475.jpg: 640x640 1 fusarium, 25.2ms\n",
      "Speed: 3.9ms preprocess, 25.2ms inference, 2.7ms postprocess per image at shape (1, 3, 640, 640)\n"
     ]
    },
    {
     "data": {
      "text/plain": [
       "<Figure size 800x800 with 1 Axes>"
      ]
     },
     "metadata": {},
     "output_type": "display_data"
    },
    {
     "name": "stdout",
     "output_type": "stream",
     "text": [
      "\n",
      "image 1/1 C:\\Users\\samue\\Dataset-Pisang-7\\test\\images\\Image_303_jpg.rf.799a825efb4aebc56c368f42240191c4.jpg: 640x640 1 sigatoka, 25.2ms\n",
      "Speed: 5.3ms preprocess, 25.2ms inference, 2.5ms postprocess per image at shape (1, 3, 640, 640)\n"
     ]
    },
    {
     "data": {
      "text/plain": [
       "<Figure size 800x800 with 1 Axes>"
      ]
     },
     "metadata": {},
     "output_type": "display_data"
    },
    {
     "name": "stdout",
     "output_type": "stream",
     "text": [
      "\n",
      "image 1/1 C:\\Users\\samue\\Dataset-Pisang-7\\test\\images\\Image_303_jpg.rf.caa8090f547eb36e24fa14e1560a8654.jpg: 640x640 1 healthy, 25.4ms\n",
      "Speed: 4.4ms preprocess, 25.4ms inference, 4.8ms postprocess per image at shape (1, 3, 640, 640)\n"
     ]
    },
    {
     "data": {
      "text/plain": [
       "<Figure size 800x800 with 1 Axes>"
      ]
     },
     "metadata": {},
     "output_type": "display_data"
    },
    {
     "name": "stdout",
     "output_type": "stream",
     "text": [
      "\n",
      "image 1/1 C:\\Users\\samue\\Dataset-Pisang-7\\test\\images\\Image_304_jpg.rf.4a18b436c2037250abae9b20549e6c6d.jpg: 640x640 1 sigatoka, 25.0ms\n",
      "Speed: 6.0ms preprocess, 25.0ms inference, 4.3ms postprocess per image at shape (1, 3, 640, 640)\n"
     ]
    },
    {
     "data": {
      "text/plain": [
       "<Figure size 800x800 with 1 Axes>"
      ]
     },
     "metadata": {},
     "output_type": "display_data"
    },
    {
     "name": "stdout",
     "output_type": "stream",
     "text": [
      "\n",
      "image 1/1 C:\\Users\\samue\\Dataset-Pisang-7\\test\\images\\Image_305_jpg.rf.437b9c65bff225959894dd443a231e94.jpg: 640x640 1 fusarium, 25.0ms\n",
      "Speed: 4.1ms preprocess, 25.0ms inference, 3.2ms postprocess per image at shape (1, 3, 640, 640)\n"
     ]
    },
    {
     "data": {
      "text/plain": [
       "<Figure size 800x800 with 1 Axes>"
      ]
     },
     "metadata": {},
     "output_type": "display_data"
    },
    {
     "name": "stdout",
     "output_type": "stream",
     "text": [
      "\n",
      "image 1/1 C:\\Users\\samue\\Dataset-Pisang-7\\test\\images\\Image_305_jpg.rf.b9ebefecdb9a64b9293fb6b79f22644b.jpg: 640x640 1 sigatoka, 25.5ms\n",
      "Speed: 5.2ms preprocess, 25.5ms inference, 3.8ms postprocess per image at shape (1, 3, 640, 640)\n"
     ]
    },
    {
     "data": {
      "text/plain": [
       "<Figure size 800x800 with 1 Axes>"
      ]
     },
     "metadata": {},
     "output_type": "display_data"
    },
    {
     "name": "stdout",
     "output_type": "stream",
     "text": [
      "\n",
      "image 1/1 C:\\Users\\samue\\Dataset-Pisang-7\\test\\images\\Image_309_jpg.rf.116b86f48332a43e49333a214ee13cb3.jpg: 640x640 1 healthy, 24.9ms\n",
      "Speed: 4.5ms preprocess, 24.9ms inference, 3.7ms postprocess per image at shape (1, 3, 640, 640)\n"
     ]
    },
    {
     "data": {
      "text/plain": [
       "<Figure size 800x800 with 1 Axes>"
      ]
     },
     "metadata": {},
     "output_type": "display_data"
    },
    {
     "name": "stdout",
     "output_type": "stream",
     "text": [
      "\n",
      "image 1/1 C:\\Users\\samue\\Dataset-Pisang-7\\test\\images\\Image_309_jpg.rf.3eb78e9ddc9a9fa283a2da44fbb6f68c.jpg: 640x640 1 sigatoka, 25.0ms\n",
      "Speed: 5.4ms preprocess, 25.0ms inference, 4.6ms postprocess per image at shape (1, 3, 640, 640)\n"
     ]
    },
    {
     "data": {
      "text/plain": [
       "<Figure size 800x800 with 1 Axes>"
      ]
     },
     "metadata": {},
     "output_type": "display_data"
    },
    {
     "name": "stdout",
     "output_type": "stream",
     "text": [
      "\n",
      "image 1/1 C:\\Users\\samue\\Dataset-Pisang-7\\test\\images\\Image_314_jpg.rf.c806adf09f407c1238b01f841ff9cfc7.jpg: 640x640 1 fusarium, 25.6ms\n",
      "Speed: 25.7ms preprocess, 25.6ms inference, 5.3ms postprocess per image at shape (1, 3, 640, 640)\n"
     ]
    },
    {
     "data": {
      "text/plain": [
       "<Figure size 800x800 with 1 Axes>"
      ]
     },
     "metadata": {},
     "output_type": "display_data"
    },
    {
     "name": "stdout",
     "output_type": "stream",
     "text": [
      "\n",
      "image 1/1 C:\\Users\\samue\\Dataset-Pisang-7\\test\\images\\Image_316_jpg.rf.0ed1a326f7d92e85d5796070323671e5.jpg: 640x640 1 fusarium, 24.9ms\n",
      "Speed: 4.8ms preprocess, 24.9ms inference, 3.7ms postprocess per image at shape (1, 3, 640, 640)\n"
     ]
    },
    {
     "data": {
      "text/plain": [
       "<Figure size 800x800 with 1 Axes>"
      ]
     },
     "metadata": {},
     "output_type": "display_data"
    },
    {
     "name": "stdout",
     "output_type": "stream",
     "text": [
      "\n",
      "image 1/1 C:\\Users\\samue\\Dataset-Pisang-7\\test\\images\\Image_316_jpg.rf.aa7b2ae964de53a53bc769012ffeef75.jpg: 640x640 1 sigatoka, 24.8ms\n",
      "Speed: 5.1ms preprocess, 24.8ms inference, 2.5ms postprocess per image at shape (1, 3, 640, 640)\n"
     ]
    },
    {
     "data": {
      "text/plain": [
       "<Figure size 800x800 with 1 Axes>"
      ]
     },
     "metadata": {},
     "output_type": "display_data"
    },
    {
     "name": "stdout",
     "output_type": "stream",
     "text": [
      "\n",
      "image 1/1 C:\\Users\\samue\\Dataset-Pisang-7\\test\\images\\Image_316_jpg.rf.f733448cc46fb4c0fc43bfd4e2647fd0.jpg: 640x640 1 sigatoka, 24.8ms\n",
      "Speed: 5.0ms preprocess, 24.8ms inference, 3.6ms postprocess per image at shape (1, 3, 640, 640)\n"
     ]
    },
    {
     "data": {
      "text/plain": [
       "<Figure size 800x800 with 1 Axes>"
      ]
     },
     "metadata": {},
     "output_type": "display_data"
    },
    {
     "name": "stdout",
     "output_type": "stream",
     "text": [
      "\n",
      "image 1/1 C:\\Users\\samue\\Dataset-Pisang-7\\test\\images\\Image_317_jpg.rf.006c966c7f12529f6d37d917958ece1a.jpg: 640x640 1 healthy, 24.9ms\n",
      "Speed: 6.8ms preprocess, 24.9ms inference, 3.3ms postprocess per image at shape (1, 3, 640, 640)\n"
     ]
    },
    {
     "data": {
      "text/plain": [
       "<Figure size 800x800 with 1 Axes>"
      ]
     },
     "metadata": {},
     "output_type": "display_data"
    },
    {
     "name": "stdout",
     "output_type": "stream",
     "text": [
      "\n",
      "image 1/1 C:\\Users\\samue\\Dataset-Pisang-7\\test\\images\\Image_31_jpg.rf.e7a8b77226382c3ec2724251aabd564a.jpg: 640x640 1 healthy, 24.9ms\n",
      "Speed: 6.6ms preprocess, 24.9ms inference, 4.0ms postprocess per image at shape (1, 3, 640, 640)\n"
     ]
    },
    {
     "data": {
      "text/plain": [
       "<Figure size 800x800 with 1 Axes>"
      ]
     },
     "metadata": {},
     "output_type": "display_data"
    },
    {
     "name": "stdout",
     "output_type": "stream",
     "text": [
      "\n",
      "image 1/1 C:\\Users\\samue\\Dataset-Pisang-7\\test\\images\\Image_322_jpg.rf.3967df89b272269aa84ee1029ac2952f.jpg: 640x640 1 fusarium, 25.1ms\n",
      "Speed: 6.2ms preprocess, 25.1ms inference, 5.1ms postprocess per image at shape (1, 3, 640, 640)\n"
     ]
    },
    {
     "data": {
      "text/plain": [
       "<Figure size 800x800 with 1 Axes>"
      ]
     },
     "metadata": {},
     "output_type": "display_data"
    },
    {
     "name": "stdout",
     "output_type": "stream",
     "text": [
      "\n",
      "image 1/1 C:\\Users\\samue\\Dataset-Pisang-7\\test\\images\\Image_322_jpg.rf.d6789621c039383006035a8294847579.jpg: 640x640 1 healthy, 25.0ms\n",
      "Speed: 6.3ms preprocess, 25.0ms inference, 2.7ms postprocess per image at shape (1, 3, 640, 640)\n"
     ]
    },
    {
     "data": {
      "text/plain": [
       "<Figure size 800x800 with 1 Axes>"
      ]
     },
     "metadata": {},
     "output_type": "display_data"
    },
    {
     "name": "stdout",
     "output_type": "stream",
     "text": [
      "\n",
      "image 1/1 C:\\Users\\samue\\Dataset-Pisang-7\\test\\images\\Image_323_jpg.rf.dfb3b18dc94bc3af301259d4f4784c08.jpg: 640x640 1 healthy, 24.9ms\n",
      "Speed: 6.7ms preprocess, 24.9ms inference, 2.5ms postprocess per image at shape (1, 3, 640, 640)\n"
     ]
    },
    {
     "data": {
      "text/plain": [
       "<Figure size 800x800 with 1 Axes>"
      ]
     },
     "metadata": {},
     "output_type": "display_data"
    },
    {
     "name": "stdout",
     "output_type": "stream",
     "text": [
      "\n",
      "image 1/1 C:\\Users\\samue\\Dataset-Pisang-7\\test\\images\\Image_328_jpg.rf.580c2c67162141a06b7a063948c8913a.jpg: 640x640 1 fusarium, 25.0ms\n",
      "Speed: 4.3ms preprocess, 25.0ms inference, 2.7ms postprocess per image at shape (1, 3, 640, 640)\n"
     ]
    },
    {
     "data": {
      "text/plain": [
       "<Figure size 800x800 with 1 Axes>"
      ]
     },
     "metadata": {},
     "output_type": "display_data"
    },
    {
     "name": "stdout",
     "output_type": "stream",
     "text": [
      "\n",
      "image 1/1 C:\\Users\\samue\\Dataset-Pisang-7\\test\\images\\Image_32_jpg.rf.7094285e8d7bae92dcfff8667df732e9.jpg: 640x640 1 sigatoka, 25.0ms\n",
      "Speed: 6.7ms preprocess, 25.0ms inference, 4.9ms postprocess per image at shape (1, 3, 640, 640)\n"
     ]
    },
    {
     "data": {
      "text/plain": [
       "<Figure size 800x800 with 1 Axes>"
      ]
     },
     "metadata": {},
     "output_type": "display_data"
    },
    {
     "name": "stdout",
     "output_type": "stream",
     "text": [
      "\n",
      "image 1/1 C:\\Users\\samue\\Dataset-Pisang-7\\test\\images\\Image_331_jpg.rf.2cc54612778571521651291b65eded13.jpg: 640x640 1 healthy, 24.8ms\n",
      "Speed: 4.3ms preprocess, 24.8ms inference, 2.9ms postprocess per image at shape (1, 3, 640, 640)\n"
     ]
    },
    {
     "data": {
      "text/plain": [
       "<Figure size 800x800 with 1 Axes>"
      ]
     },
     "metadata": {},
     "output_type": "display_data"
    },
    {
     "name": "stdout",
     "output_type": "stream",
     "text": [
      "\n",
      "image 1/1 C:\\Users\\samue\\Dataset-Pisang-7\\test\\images\\Image_334_jpg.rf.406f8c6a59a8d45190b76e0d93b53367.jpg: 640x640 1 sigatoka, 24.7ms\n",
      "Speed: 4.7ms preprocess, 24.7ms inference, 4.0ms postprocess per image at shape (1, 3, 640, 640)\n"
     ]
    },
    {
     "data": {
      "text/plain": [
       "<Figure size 800x800 with 1 Axes>"
      ]
     },
     "metadata": {},
     "output_type": "display_data"
    },
    {
     "name": "stdout",
     "output_type": "stream",
     "text": [
      "\n",
      "image 1/1 C:\\Users\\samue\\Dataset-Pisang-7\\test\\images\\Image_33_jpg.rf.16723d29d454eb6d03ff0874b3bfe5b6.jpg: 640x640 1 healthy, 25.1ms\n",
      "Speed: 5.7ms preprocess, 25.1ms inference, 4.4ms postprocess per image at shape (1, 3, 640, 640)\n"
     ]
    },
    {
     "data": {
      "text/plain": [
       "<Figure size 800x800 with 1 Axes>"
      ]
     },
     "metadata": {},
     "output_type": "display_data"
    },
    {
     "name": "stdout",
     "output_type": "stream",
     "text": [
      "\n",
      "image 1/1 C:\\Users\\samue\\Dataset-Pisang-7\\test\\images\\Image_33_jpg.rf.59db14ba9b9548539167685fbf51e9fa.jpg: 640x640 1 sigatoka, 24.7ms\n",
      "Speed: 4.6ms preprocess, 24.7ms inference, 5.1ms postprocess per image at shape (1, 3, 640, 640)\n"
     ]
    },
    {
     "data": {
      "text/plain": [
       "<Figure size 800x800 with 1 Axes>"
      ]
     },
     "metadata": {},
     "output_type": "display_data"
    },
    {
     "name": "stdout",
     "output_type": "stream",
     "text": [
      "\n",
      "image 1/1 C:\\Users\\samue\\Dataset-Pisang-7\\test\\images\\Image_340_jpg.rf.33b0c1e441aa7f7ae082af0a8e5946da.jpg: 640x640 1 fusarium, 24.6ms\n",
      "Speed: 7.4ms preprocess, 24.6ms inference, 3.6ms postprocess per image at shape (1, 3, 640, 640)\n"
     ]
    },
    {
     "data": {
      "text/plain": [
       "<Figure size 800x800 with 1 Axes>"
      ]
     },
     "metadata": {},
     "output_type": "display_data"
    },
    {
     "name": "stdout",
     "output_type": "stream",
     "text": [
      "\n",
      "image 1/1 C:\\Users\\samue\\Dataset-Pisang-7\\test\\images\\Image_341_jpg.rf.d8d45407561a5c468e799126d468868e.jpg: 640x640 1 healthy, 25.2ms\n",
      "Speed: 7.7ms preprocess, 25.2ms inference, 4.2ms postprocess per image at shape (1, 3, 640, 640)\n"
     ]
    },
    {
     "data": {
      "text/plain": [
       "<Figure size 800x800 with 1 Axes>"
      ]
     },
     "metadata": {},
     "output_type": "display_data"
    },
    {
     "name": "stdout",
     "output_type": "stream",
     "text": [
      "\n",
      "image 1/1 C:\\Users\\samue\\Dataset-Pisang-7\\test\\images\\Image_342_jpg.rf.8a39c3c761c2c094743c066c148e75c4.jpg: 640x640 1 healthy, 24.7ms\n",
      "Speed: 4.6ms preprocess, 24.7ms inference, 2.6ms postprocess per image at shape (1, 3, 640, 640)\n"
     ]
    },
    {
     "data": {
      "text/plain": [
       "<Figure size 800x800 with 1 Axes>"
      ]
     },
     "metadata": {},
     "output_type": "display_data"
    },
    {
     "name": "stdout",
     "output_type": "stream",
     "text": [
      "\n",
      "image 1/1 C:\\Users\\samue\\Dataset-Pisang-7\\test\\images\\Image_343_jpg.rf.670602f7f1a7e534c0647ca86591a9b0.jpg: 640x640 1 fusarium, 24.8ms\n",
      "Speed: 7.2ms preprocess, 24.8ms inference, 3.8ms postprocess per image at shape (1, 3, 640, 640)\n"
     ]
    },
    {
     "data": {
      "text/plain": [
       "<Figure size 800x800 with 1 Axes>"
      ]
     },
     "metadata": {},
     "output_type": "display_data"
    },
    {
     "name": "stdout",
     "output_type": "stream",
     "text": [
      "\n",
      "image 1/1 C:\\Users\\samue\\Dataset-Pisang-7\\test\\images\\Image_346_jpg.rf.e3979bf278c3c2b826f546f4151443a0.jpg: 640x640 1 fusarium, 24.7ms\n",
      "Speed: 4.6ms preprocess, 24.7ms inference, 5.4ms postprocess per image at shape (1, 3, 640, 640)\n"
     ]
    },
    {
     "data": {
      "text/plain": [
       "<Figure size 800x800 with 1 Axes>"
      ]
     },
     "metadata": {},
     "output_type": "display_data"
    },
    {
     "name": "stdout",
     "output_type": "stream",
     "text": [
      "\n",
      "image 1/1 C:\\Users\\samue\\Dataset-Pisang-7\\test\\images\\Image_34_jpg.rf.e0e6dd266ca49abbb3a84015cf49b0c0.jpg: 640x640 1 sigatoka, 23.8ms\n",
      "Speed: 7.3ms preprocess, 23.8ms inference, 3.7ms postprocess per image at shape (1, 3, 640, 640)\n"
     ]
    },
    {
     "data": {
      "text/plain": [
       "<Figure size 800x800 with 1 Axes>"
      ]
     },
     "metadata": {},
     "output_type": "display_data"
    },
    {
     "name": "stdout",
     "output_type": "stream",
     "text": [
      "\n",
      "image 1/1 C:\\Users\\samue\\Dataset-Pisang-7\\test\\images\\Image_350_jpg.rf.bcc4b7e5f597770959828060a8e2a6f8.jpg: 640x640 1 fusarium, 23.7ms\n",
      "Speed: 4.3ms preprocess, 23.7ms inference, 4.3ms postprocess per image at shape (1, 3, 640, 640)\n"
     ]
    },
    {
     "data": {
      "text/plain": [
       "<Figure size 800x800 with 1 Axes>"
      ]
     },
     "metadata": {},
     "output_type": "display_data"
    },
    {
     "name": "stdout",
     "output_type": "stream",
     "text": [
      "\n",
      "image 1/1 C:\\Users\\samue\\Dataset-Pisang-7\\test\\images\\Image_351_jpg.rf.4e74ef61ba956307db36186c57db3391.jpg: 640x640 1 sigatoka, 23.8ms\n",
      "Speed: 7.4ms preprocess, 23.8ms inference, 3.5ms postprocess per image at shape (1, 3, 640, 640)\n"
     ]
    },
    {
     "data": {
      "text/plain": [
       "<Figure size 800x800 with 1 Axes>"
      ]
     },
     "metadata": {},
     "output_type": "display_data"
    },
    {
     "name": "stdout",
     "output_type": "stream",
     "text": [
      "\n",
      "image 1/1 C:\\Users\\samue\\Dataset-Pisang-7\\test\\images\\Image_351_jpg.rf.6724c5fc3bd8f760d4e60d0a776732c9.jpg: 640x640 1 fusarium, 23.8ms\n",
      "Speed: 7.5ms preprocess, 23.8ms inference, 3.0ms postprocess per image at shape (1, 3, 640, 640)\n"
     ]
    },
    {
     "data": {
      "text/plain": [
       "<Figure size 800x800 with 1 Axes>"
      ]
     },
     "metadata": {},
     "output_type": "display_data"
    },
    {
     "name": "stdout",
     "output_type": "stream",
     "text": [
      "\n",
      "image 1/1 C:\\Users\\samue\\Dataset-Pisang-7\\test\\images\\Image_353_jpg.rf.f0d1c2f6d25c09479b415250ba6109db.jpg: 640x640 1 sigatoka, 23.7ms\n",
      "Speed: 4.5ms preprocess, 23.7ms inference, 6.0ms postprocess per image at shape (1, 3, 640, 640)\n"
     ]
    },
    {
     "data": {
      "text/plain": [
       "<Figure size 800x800 with 1 Axes>"
      ]
     },
     "metadata": {},
     "output_type": "display_data"
    },
    {
     "name": "stdout",
     "output_type": "stream",
     "text": [
      "\n",
      "image 1/1 C:\\Users\\samue\\Dataset-Pisang-7\\test\\images\\Image_358_jpg.rf.0724147be83dd4014e9b91398cc021a9.jpg: 640x640 1 fusarium, 23.8ms\n",
      "Speed: 7.2ms preprocess, 23.8ms inference, 4.7ms postprocess per image at shape (1, 3, 640, 640)\n"
     ]
    },
    {
     "data": {
      "text/plain": [
       "<Figure size 800x800 with 1 Axes>"
      ]
     },
     "metadata": {},
     "output_type": "display_data"
    },
    {
     "name": "stdout",
     "output_type": "stream",
     "text": [
      "\n",
      "image 1/1 C:\\Users\\samue\\Dataset-Pisang-7\\test\\images\\Image_359_jpg.rf.1a82bc3b229771f2615a0686166cc9e1.jpg: 640x640 1 healthy, 23.8ms\n",
      "Speed: 8.0ms preprocess, 23.8ms inference, 5.0ms postprocess per image at shape (1, 3, 640, 640)\n"
     ]
    },
    {
     "data": {
      "text/plain": [
       "<Figure size 800x800 with 1 Axes>"
      ]
     },
     "metadata": {},
     "output_type": "display_data"
    },
    {
     "name": "stdout",
     "output_type": "stream",
     "text": [
      "\n",
      "image 1/1 C:\\Users\\samue\\Dataset-Pisang-7\\test\\images\\Image_360_jpg.rf.aa71747ce5244e2eef15c66045352c01.jpg: 640x640 1 sigatoka, 23.7ms\n",
      "Speed: 5.3ms preprocess, 23.7ms inference, 3.2ms postprocess per image at shape (1, 3, 640, 640)\n"
     ]
    },
    {
     "data": {
      "text/plain": [
       "<Figure size 800x800 with 1 Axes>"
      ]
     },
     "metadata": {},
     "output_type": "display_data"
    },
    {
     "name": "stdout",
     "output_type": "stream",
     "text": [
      "\n",
      "image 1/1 C:\\Users\\samue\\Dataset-Pisang-7\\test\\images\\Image_361_jpg.rf.91e72f3110ce4339fb1b81c9561b18ad.jpg: 640x640 1 healthy, 23.8ms\n",
      "Speed: 9.1ms preprocess, 23.8ms inference, 2.9ms postprocess per image at shape (1, 3, 640, 640)\n"
     ]
    },
    {
     "data": {
      "text/plain": [
       "<Figure size 800x800 with 1 Axes>"
      ]
     },
     "metadata": {},
     "output_type": "display_data"
    },
    {
     "name": "stdout",
     "output_type": "stream",
     "text": [
      "\n",
      "image 1/1 C:\\Users\\samue\\Dataset-Pisang-7\\test\\images\\Image_362_jpg.rf.131173f61928a14a358d95a16d666bf1.jpg: 640x640 1 fusarium, 23.7ms\n",
      "Speed: 4.2ms preprocess, 23.7ms inference, 3.2ms postprocess per image at shape (1, 3, 640, 640)\n"
     ]
    },
    {
     "data": {
      "text/plain": [
       "<Figure size 800x800 with 1 Axes>"
      ]
     },
     "metadata": {},
     "output_type": "display_data"
    },
    {
     "name": "stdout",
     "output_type": "stream",
     "text": [
      "\n",
      "image 1/1 C:\\Users\\samue\\Dataset-Pisang-7\\test\\images\\Image_362_jpg.rf.75069388094396eaa4391c1cc4cbbb1a.jpg: 640x640 1 sigatoka, 24.2ms\n",
      "Speed: 7.4ms preprocess, 24.2ms inference, 3.2ms postprocess per image at shape (1, 3, 640, 640)\n"
     ]
    },
    {
     "data": {
      "text/plain": [
       "<Figure size 800x800 with 1 Axes>"
      ]
     },
     "metadata": {},
     "output_type": "display_data"
    },
    {
     "name": "stdout",
     "output_type": "stream",
     "text": [
      "\n",
      "image 1/1 C:\\Users\\samue\\Dataset-Pisang-7\\test\\images\\Image_362_jpg.rf.e70f97bf82d31c9f97f18c02f433e3a1.jpg: 640x640 1 fusarium, 24.0ms\n",
      "Speed: 7.4ms preprocess, 24.0ms inference, 2.4ms postprocess per image at shape (1, 3, 640, 640)\n"
     ]
    },
    {
     "data": {
      "text/plain": [
       "<Figure size 800x800 with 1 Axes>"
      ]
     },
     "metadata": {},
     "output_type": "display_data"
    },
    {
     "name": "stdout",
     "output_type": "stream",
     "text": [
      "\n",
      "image 1/1 C:\\Users\\samue\\Dataset-Pisang-7\\test\\images\\Image_364_jpg.rf.c0029ea0e122d2aa3c851d4a568895d8.jpg: 640x640 1 sigatoka, 23.9ms\n",
      "Speed: 7.6ms preprocess, 23.9ms inference, 6.1ms postprocess per image at shape (1, 3, 640, 640)\n"
     ]
    },
    {
     "data": {
      "text/plain": [
       "<Figure size 800x800 with 1 Axes>"
      ]
     },
     "metadata": {},
     "output_type": "display_data"
    },
    {
     "name": "stdout",
     "output_type": "stream",
     "text": [
      "\n",
      "image 1/1 C:\\Users\\samue\\Dataset-Pisang-7\\test\\images\\Image_36_jpg.rf.6e115ec716c57433b32262cc53f36060.jpg: 640x640 1 fusarium, 23.8ms\n",
      "Speed: 4.9ms preprocess, 23.8ms inference, 2.6ms postprocess per image at shape (1, 3, 640, 640)\n"
     ]
    },
    {
     "data": {
      "text/plain": [
       "<Figure size 800x800 with 1 Axes>"
      ]
     },
     "metadata": {},
     "output_type": "display_data"
    },
    {
     "name": "stdout",
     "output_type": "stream",
     "text": [
      "\n",
      "image 1/1 C:\\Users\\samue\\Dataset-Pisang-7\\test\\images\\Image_370_jpg.rf.16b77df94a7a42cabbdac7193739507e.jpg: 640x640 1 healthy, 24.5ms\n",
      "Speed: 7.3ms preprocess, 24.5ms inference, 6.7ms postprocess per image at shape (1, 3, 640, 640)\n"
     ]
    },
    {
     "data": {
      "text/plain": [
       "<Figure size 800x800 with 1 Axes>"
      ]
     },
     "metadata": {},
     "output_type": "display_data"
    },
    {
     "name": "stdout",
     "output_type": "stream",
     "text": [
      "\n",
      "image 1/1 C:\\Users\\samue\\Dataset-Pisang-7\\test\\images\\Image_372_jpg.rf.7c04877ed69f9900c0f6c5c40e34b70b.jpg: 640x640 1 sigatoka, 24.8ms\n",
      "Speed: 7.3ms preprocess, 24.8ms inference, 3.9ms postprocess per image at shape (1, 3, 640, 640)\n"
     ]
    },
    {
     "data": {
      "text/plain": [
       "<Figure size 800x800 with 1 Axes>"
      ]
     },
     "metadata": {},
     "output_type": "display_data"
    },
    {
     "name": "stdout",
     "output_type": "stream",
     "text": [
      "\n",
      "image 1/1 C:\\Users\\samue\\Dataset-Pisang-7\\test\\images\\Image_373_jpg.rf.36fcffe848bbebed010be31dbb7182cf.jpg: 640x640 1 fusarium, 23.8ms\n",
      "Speed: 6.5ms preprocess, 23.8ms inference, 4.6ms postprocess per image at shape (1, 3, 640, 640)\n"
     ]
    },
    {
     "data": {
      "text/plain": [
       "<Figure size 800x800 with 1 Axes>"
      ]
     },
     "metadata": {},
     "output_type": "display_data"
    },
    {
     "name": "stdout",
     "output_type": "stream",
     "text": [
      "\n",
      "image 1/1 C:\\Users\\samue\\Dataset-Pisang-7\\test\\images\\Image_375_jpg.rf.29547ae0b982e8ccc2392aefa55e90e4.jpg: 640x640 1 healthy, 23.8ms\n",
      "Speed: 6.8ms preprocess, 23.8ms inference, 3.5ms postprocess per image at shape (1, 3, 640, 640)\n"
     ]
    },
    {
     "data": {
      "text/plain": [
       "<Figure size 800x800 with 1 Axes>"
      ]
     },
     "metadata": {},
     "output_type": "display_data"
    },
    {
     "name": "stdout",
     "output_type": "stream",
     "text": [
      "\n",
      "image 1/1 C:\\Users\\samue\\Dataset-Pisang-7\\test\\images\\Image_376_jpg.rf.e8ce577f78b3224bf2ae3d97a663d900.jpg: 640x640 1 fusarium, 23.6ms\n",
      "Speed: 4.7ms preprocess, 23.6ms inference, 2.5ms postprocess per image at shape (1, 3, 640, 640)\n"
     ]
    },
    {
     "data": {
      "text/plain": [
       "<Figure size 800x800 with 1 Axes>"
      ]
     },
     "metadata": {},
     "output_type": "display_data"
    },
    {
     "name": "stdout",
     "output_type": "stream",
     "text": [
      "\n",
      "image 1/1 C:\\Users\\samue\\Dataset-Pisang-7\\test\\images\\Image_377_jpg.rf.7a7b3b5befb8b0bb8a98c20f5a72f33f.jpg: 640x640 1 fusarium, 23.7ms\n",
      "Speed: 4.9ms preprocess, 23.7ms inference, 3.4ms postprocess per image at shape (1, 3, 640, 640)\n"
     ]
    },
    {
     "data": {
      "text/plain": [
       "<Figure size 800x800 with 1 Axes>"
      ]
     },
     "metadata": {},
     "output_type": "display_data"
    },
    {
     "name": "stdout",
     "output_type": "stream",
     "text": [
      "\n",
      "image 1/1 C:\\Users\\samue\\Dataset-Pisang-7\\test\\images\\Image_377_jpg.rf.ff250985843cfe080b9c12b0d73f4de0.jpg: 640x640 1 sigatoka, 23.7ms\n",
      "Speed: 5.8ms preprocess, 23.7ms inference, 2.9ms postprocess per image at shape (1, 3, 640, 640)\n"
     ]
    },
    {
     "data": {
      "text/plain": [
       "<Figure size 800x800 with 1 Axes>"
      ]
     },
     "metadata": {},
     "output_type": "display_data"
    },
    {
     "name": "stdout",
     "output_type": "stream",
     "text": [
      "\n",
      "image 1/1 C:\\Users\\samue\\Dataset-Pisang-7\\test\\images\\Image_382_jpg.rf.4e3c5ffaa2c2fc12abf5ad99c0d25e17.jpg: 640x640 1 fusarium, 23.7ms\n",
      "Speed: 4.2ms preprocess, 23.7ms inference, 2.6ms postprocess per image at shape (1, 3, 640, 640)\n"
     ]
    },
    {
     "data": {
      "text/plain": [
       "<Figure size 800x800 with 1 Axes>"
      ]
     },
     "metadata": {},
     "output_type": "display_data"
    },
    {
     "name": "stdout",
     "output_type": "stream",
     "text": [
      "\n",
      "image 1/1 C:\\Users\\samue\\Dataset-Pisang-7\\test\\images\\Image_382_jpg.rf.9c28897421c557e8fe44682493229ad9.jpg: 640x640 1 fusarium, 24.0ms\n",
      "Speed: 4.4ms preprocess, 24.0ms inference, 2.7ms postprocess per image at shape (1, 3, 640, 640)\n"
     ]
    },
    {
     "data": {
      "text/plain": [
       "<Figure size 800x800 with 1 Axes>"
      ]
     },
     "metadata": {},
     "output_type": "display_data"
    },
    {
     "name": "stdout",
     "output_type": "stream",
     "text": [
      "\n",
      "image 1/1 C:\\Users\\samue\\Dataset-Pisang-7\\test\\images\\Image_382_jpg.rf.d8e489fb33d078739674970be6e620e5.jpg: 640x640 1 sigatoka, 23.7ms\n",
      "Speed: 4.3ms preprocess, 23.7ms inference, 4.1ms postprocess per image at shape (1, 3, 640, 640)\n"
     ]
    },
    {
     "data": {
      "text/plain": [
       "<Figure size 800x800 with 1 Axes>"
      ]
     },
     "metadata": {},
     "output_type": "display_data"
    },
    {
     "name": "stdout",
     "output_type": "stream",
     "text": [
      "\n",
      "image 1/1 C:\\Users\\samue\\Dataset-Pisang-7\\test\\images\\Image_388_jpg.rf.64a36152eb893c3616c8c32c9e3858ae.jpg: 640x640 1 fusarium, 23.8ms\n",
      "Speed: 7.7ms preprocess, 23.8ms inference, 2.5ms postprocess per image at shape (1, 3, 640, 640)\n"
     ]
    },
    {
     "data": {
      "text/plain": [
       "<Figure size 800x800 with 1 Axes>"
      ]
     },
     "metadata": {},
     "output_type": "display_data"
    },
    {
     "name": "stdout",
     "output_type": "stream",
     "text": [
      "\n",
      "image 1/1 C:\\Users\\samue\\Dataset-Pisang-7\\test\\images\\Image_388_jpg.rf.8f032ae970cabfddb0d64b7525f872c8.jpg: 640x640 1 fusarium, 23.8ms\n",
      "Speed: 7.7ms preprocess, 23.8ms inference, 2.9ms postprocess per image at shape (1, 3, 640, 640)\n"
     ]
    },
    {
     "data": {
      "text/plain": [
       "<Figure size 800x800 with 1 Axes>"
      ]
     },
     "metadata": {},
     "output_type": "display_data"
    },
    {
     "name": "stdout",
     "output_type": "stream",
     "text": [
      "\n",
      "image 1/1 C:\\Users\\samue\\Dataset-Pisang-7\\test\\images\\Image_390_jpg.rf.4001803147956e1aa42a392608159dcc.jpg: 640x640 1 fusarium, 23.8ms\n",
      "Speed: 5.7ms preprocess, 23.8ms inference, 3.0ms postprocess per image at shape (1, 3, 640, 640)\n"
     ]
    },
    {
     "data": {
      "text/plain": [
       "<Figure size 800x800 with 1 Axes>"
      ]
     },
     "metadata": {},
     "output_type": "display_data"
    },
    {
     "name": "stdout",
     "output_type": "stream",
     "text": [
      "\n",
      "image 1/1 C:\\Users\\samue\\Dataset-Pisang-7\\test\\images\\Image_390_jpg.rf.a26a647b890bf7f68a19595964f6a9eb.jpg: 640x640 1 sigatoka, 23.8ms\n",
      "Speed: 7.2ms preprocess, 23.8ms inference, 4.1ms postprocess per image at shape (1, 3, 640, 640)\n"
     ]
    },
    {
     "data": {
      "text/plain": [
       "<Figure size 800x800 with 1 Axes>"
      ]
     },
     "metadata": {},
     "output_type": "display_data"
    },
    {
     "name": "stdout",
     "output_type": "stream",
     "text": [
      "\n",
      "image 1/1 C:\\Users\\samue\\Dataset-Pisang-7\\test\\images\\Image_392_jpg.rf.33c7d27d126ba955d5654014d2862a9a.jpg: 640x640 1 fusarium, 23.9ms\n",
      "Speed: 7.4ms preprocess, 23.9ms inference, 6.9ms postprocess per image at shape (1, 3, 640, 640)\n"
     ]
    },
    {
     "data": {
      "text/plain": [
       "<Figure size 800x800 with 1 Axes>"
      ]
     },
     "metadata": {},
     "output_type": "display_data"
    },
    {
     "name": "stdout",
     "output_type": "stream",
     "text": [
      "\n",
      "image 1/1 C:\\Users\\samue\\Dataset-Pisang-7\\test\\images\\Image_39_jpg.rf.ef456d8161882e1073fdddfad6ea486d.jpg: 640x640 1 healthy, 30.9ms\n",
      "Speed: 7.6ms preprocess, 30.9ms inference, 3.0ms postprocess per image at shape (1, 3, 640, 640)\n"
     ]
    },
    {
     "data": {
      "text/plain": [
       "<Figure size 800x800 with 1 Axes>"
      ]
     },
     "metadata": {},
     "output_type": "display_data"
    },
    {
     "name": "stdout",
     "output_type": "stream",
     "text": [
      "\n",
      "image 1/1 C:\\Users\\samue\\Dataset-Pisang-7\\test\\images\\Image_402_jpg.rf.3033fdca5dedbc28069c69b29d7237b9.jpg: 640x640 1 healthy, 23.7ms\n",
      "Speed: 7.2ms preprocess, 23.7ms inference, 3.2ms postprocess per image at shape (1, 3, 640, 640)\n"
     ]
    },
    {
     "data": {
      "text/plain": [
       "<Figure size 800x800 with 1 Axes>"
      ]
     },
     "metadata": {},
     "output_type": "display_data"
    },
    {
     "name": "stdout",
     "output_type": "stream",
     "text": [
      "\n",
      "image 1/1 C:\\Users\\samue\\Dataset-Pisang-7\\test\\images\\Image_402_jpg.rf.789043d91ab7fdb92e461f0a34b6a1c0.jpg: 640x640 1 fusarium, 23.7ms\n",
      "Speed: 4.5ms preprocess, 23.7ms inference, 2.6ms postprocess per image at shape (1, 3, 640, 640)\n"
     ]
    },
    {
     "data": {
      "text/plain": [
       "<Figure size 800x800 with 1 Axes>"
      ]
     },
     "metadata": {},
     "output_type": "display_data"
    },
    {
     "name": "stdout",
     "output_type": "stream",
     "text": [
      "\n",
      "image 1/1 C:\\Users\\samue\\Dataset-Pisang-7\\test\\images\\Image_403_jpg.rf.fa63bbd490bc3b6807753912fa38b126.jpg: 640x640 1 fusarium, 28.3ms\n",
      "Speed: 6.8ms preprocess, 28.3ms inference, 3.9ms postprocess per image at shape (1, 3, 640, 640)\n"
     ]
    },
    {
     "data": {
      "text/plain": [
       "<Figure size 800x800 with 1 Axes>"
      ]
     },
     "metadata": {},
     "output_type": "display_data"
    },
    {
     "name": "stdout",
     "output_type": "stream",
     "text": [
      "\n",
      "image 1/1 C:\\Users\\samue\\Dataset-Pisang-7\\test\\images\\Image_404_jpg.rf.b713d2470648528377362e6e9d16f3ff.jpg: 640x640 1 sigatoka, 23.6ms\n",
      "Speed: 7.5ms preprocess, 23.6ms inference, 3.4ms postprocess per image at shape (1, 3, 640, 640)\n"
     ]
    },
    {
     "data": {
      "text/plain": [
       "<Figure size 800x800 with 1 Axes>"
      ]
     },
     "metadata": {},
     "output_type": "display_data"
    },
    {
     "name": "stdout",
     "output_type": "stream",
     "text": [
      "\n",
      "image 1/1 C:\\Users\\samue\\Dataset-Pisang-7\\test\\images\\Image_406_jpg.rf.ae5e063160d5a18916e14cb71b9d6d5d.jpg: 640x640 1 fusarium, 24.0ms\n",
      "Speed: 7.4ms preprocess, 24.0ms inference, 2.6ms postprocess per image at shape (1, 3, 640, 640)\n"
     ]
    },
    {
     "data": {
      "text/plain": [
       "<Figure size 800x800 with 1 Axes>"
      ]
     },
     "metadata": {},
     "output_type": "display_data"
    },
    {
     "name": "stdout",
     "output_type": "stream",
     "text": [
      "\n",
      "image 1/1 C:\\Users\\samue\\Dataset-Pisang-7\\test\\images\\Image_407_jpg.rf.4a1f3b46b2033c31b6d6663f63b8d72e.jpg: 640x640 1 healthy, 23.7ms\n",
      "Speed: 6.6ms preprocess, 23.7ms inference, 2.8ms postprocess per image at shape (1, 3, 640, 640)\n"
     ]
    },
    {
     "data": {
      "text/plain": [
       "<Figure size 800x800 with 1 Axes>"
      ]
     },
     "metadata": {},
     "output_type": "display_data"
    },
    {
     "name": "stdout",
     "output_type": "stream",
     "text": [
      "\n",
      "image 1/1 C:\\Users\\samue\\Dataset-Pisang-7\\test\\images\\Image_40_jpg.rf.20f544ec2f7dfc37b33c2a26ce6042b6.jpg: 640x640 1 healthy, 23.9ms\n",
      "Speed: 4.9ms preprocess, 23.9ms inference, 4.9ms postprocess per image at shape (1, 3, 640, 640)\n"
     ]
    },
    {
     "data": {
      "text/plain": [
       "<Figure size 800x800 with 1 Axes>"
      ]
     },
     "metadata": {},
     "output_type": "display_data"
    },
    {
     "name": "stdout",
     "output_type": "stream",
     "text": [
      "\n",
      "image 1/1 C:\\Users\\samue\\Dataset-Pisang-7\\test\\images\\Image_414_jpg.rf.ac90af3f8062a1f397b9f1a79504f26a.jpg: 640x640 1 healthy, 23.8ms\n",
      "Speed: 5.6ms preprocess, 23.8ms inference, 3.4ms postprocess per image at shape (1, 3, 640, 640)\n"
     ]
    },
    {
     "data": {
      "text/plain": [
       "<Figure size 800x800 with 1 Axes>"
      ]
     },
     "metadata": {},
     "output_type": "display_data"
    },
    {
     "name": "stdout",
     "output_type": "stream",
     "text": [
      "\n",
      "image 1/1 C:\\Users\\samue\\Dataset-Pisang-7\\test\\images\\Image_420_jpg.rf.d4f65be83810d9048bbbbdf8c237183f.jpg: 640x640 1 fusarium, 24.0ms\n",
      "Speed: 5.3ms preprocess, 24.0ms inference, 3.5ms postprocess per image at shape (1, 3, 640, 640)\n"
     ]
    },
    {
     "data": {
      "text/plain": [
       "<Figure size 800x800 with 1 Axes>"
      ]
     },
     "metadata": {},
     "output_type": "display_data"
    },
    {
     "name": "stdout",
     "output_type": "stream",
     "text": [
      "\n",
      "image 1/1 C:\\Users\\samue\\Dataset-Pisang-7\\test\\images\\Image_433_jpg.rf.a813ac6f0ec3bd25363540e7e9436ae3.jpg: 640x640 1 fusarium, 24.1ms\n",
      "Speed: 5.6ms preprocess, 24.1ms inference, 3.0ms postprocess per image at shape (1, 3, 640, 640)\n"
     ]
    },
    {
     "data": {
      "text/plain": [
       "<Figure size 800x800 with 1 Axes>"
      ]
     },
     "metadata": {},
     "output_type": "display_data"
    },
    {
     "name": "stdout",
     "output_type": "stream",
     "text": [
      "\n",
      "image 1/1 C:\\Users\\samue\\Dataset-Pisang-7\\test\\images\\Image_434_jpg.rf.0ac06a716c5db5f7e5392fefcfa5020c.jpg: 640x640 1 healthy, 24.0ms\n",
      "Speed: 5.1ms preprocess, 24.0ms inference, 4.8ms postprocess per image at shape (1, 3, 640, 640)\n"
     ]
    },
    {
     "data": {
      "text/plain": [
       "<Figure size 800x800 with 1 Axes>"
      ]
     },
     "metadata": {},
     "output_type": "display_data"
    },
    {
     "name": "stdout",
     "output_type": "stream",
     "text": [
      "\n",
      "image 1/1 C:\\Users\\samue\\Dataset-Pisang-7\\test\\images\\Image_434_jpg.rf.31b6adaad7e830a8d11bcf4902d8ebeb.jpg: 640x640 1 fusarium, 23.9ms\n",
      "Speed: 7.4ms preprocess, 23.9ms inference, 5.4ms postprocess per image at shape (1, 3, 640, 640)\n"
     ]
    },
    {
     "data": {
      "text/plain": [
       "<Figure size 800x800 with 1 Axes>"
      ]
     },
     "metadata": {},
     "output_type": "display_data"
    },
    {
     "name": "stdout",
     "output_type": "stream",
     "text": [
      "\n",
      "image 1/1 C:\\Users\\samue\\Dataset-Pisang-7\\test\\images\\Image_444_jpg.rf.38b0e317ec8e745418215903af0b1fb3.jpg: 640x640 1 healthy, 24.3ms\n",
      "Speed: 6.2ms preprocess, 24.3ms inference, 2.8ms postprocess per image at shape (1, 3, 640, 640)\n"
     ]
    },
    {
     "data": {
      "text/plain": [
       "<Figure size 800x800 with 1 Axes>"
      ]
     },
     "metadata": {},
     "output_type": "display_data"
    },
    {
     "name": "stdout",
     "output_type": "stream",
     "text": [
      "\n",
      "image 1/1 C:\\Users\\samue\\Dataset-Pisang-7\\test\\images\\Image_445_jpg.rf.c287c9baef2e11d10f5d987a2a63730c.jpg: 640x640 1 fusarium, 23.9ms\n",
      "Speed: 5.2ms preprocess, 23.9ms inference, 3.4ms postprocess per image at shape (1, 3, 640, 640)\n"
     ]
    },
    {
     "data": {
      "text/plain": [
       "<Figure size 800x800 with 1 Axes>"
      ]
     },
     "metadata": {},
     "output_type": "display_data"
    },
    {
     "name": "stdout",
     "output_type": "stream",
     "text": [
      "\n",
      "image 1/1 C:\\Users\\samue\\Dataset-Pisang-7\\test\\images\\Image_446_jpg.rf.eef6a5fabd4f94bb3b7b7137689968a6.jpg: 640x640 1 healthy, 24.3ms\n",
      "Speed: 5.6ms preprocess, 24.3ms inference, 3.1ms postprocess per image at shape (1, 3, 640, 640)\n"
     ]
    },
    {
     "data": {
      "text/plain": [
       "<Figure size 800x800 with 1 Axes>"
      ]
     },
     "metadata": {},
     "output_type": "display_data"
    },
    {
     "name": "stdout",
     "output_type": "stream",
     "text": [
      "\n",
      "image 1/1 C:\\Users\\samue\\Dataset-Pisang-7\\test\\images\\Image_452_jpg.rf.1a8bb851999695067e1bc63c8c19046d.jpg: 640x640 1 sigatoka, 24.4ms\n",
      "Speed: 5.4ms preprocess, 24.4ms inference, 2.7ms postprocess per image at shape (1, 3, 640, 640)\n"
     ]
    },
    {
     "data": {
      "text/plain": [
       "<Figure size 800x800 with 1 Axes>"
      ]
     },
     "metadata": {},
     "output_type": "display_data"
    },
    {
     "name": "stdout",
     "output_type": "stream",
     "text": [
      "\n",
      "image 1/1 C:\\Users\\samue\\Dataset-Pisang-7\\test\\images\\Image_453_jpg.rf.db83dfd9e2c1c07f56c4dccb3dad07b1.jpg: 640x640 1 sigatoka, 24.4ms\n",
      "Speed: 5.7ms preprocess, 24.4ms inference, 4.3ms postprocess per image at shape (1, 3, 640, 640)\n"
     ]
    },
    {
     "data": {
      "text/plain": [
       "<Figure size 800x800 with 1 Axes>"
      ]
     },
     "metadata": {},
     "output_type": "display_data"
    },
    {
     "name": "stdout",
     "output_type": "stream",
     "text": [
      "\n",
      "image 1/1 C:\\Users\\samue\\Dataset-Pisang-7\\test\\images\\Image_457_jpg.rf.26937eadbe163ebaff4525ea6fac7fd8.jpg: 640x640 1 healthy, 24.2ms\n",
      "Speed: 4.4ms preprocess, 24.2ms inference, 4.9ms postprocess per image at shape (1, 3, 640, 640)\n"
     ]
    },
    {
     "data": {
      "text/plain": [
       "<Figure size 800x800 with 1 Axes>"
      ]
     },
     "metadata": {},
     "output_type": "display_data"
    },
    {
     "name": "stdout",
     "output_type": "stream",
     "text": [
      "\n",
      "image 1/1 C:\\Users\\samue\\Dataset-Pisang-7\\test\\images\\Image_458_jpg.rf.2f6c6b0b03db2b6de8287258074b9cdb.jpg: 640x640 1 healthy, 24.6ms\n",
      "Speed: 5.1ms preprocess, 24.6ms inference, 4.5ms postprocess per image at shape (1, 3, 640, 640)\n"
     ]
    },
    {
     "data": {
      "text/plain": [
       "<Figure size 800x800 with 1 Axes>"
      ]
     },
     "metadata": {},
     "output_type": "display_data"
    },
    {
     "name": "stdout",
     "output_type": "stream",
     "text": [
      "\n",
      "image 1/1 C:\\Users\\samue\\Dataset-Pisang-7\\test\\images\\Image_461_jpg.rf.56feb1b72e41a1defe8fb1c54a685313.jpg: 640x640 1 sigatoka, 23.6ms\n",
      "Speed: 6.3ms preprocess, 23.6ms inference, 4.2ms postprocess per image at shape (1, 3, 640, 640)\n"
     ]
    },
    {
     "data": {
      "text/plain": [
       "<Figure size 800x800 with 1 Axes>"
      ]
     },
     "metadata": {},
     "output_type": "display_data"
    },
    {
     "name": "stdout",
     "output_type": "stream",
     "text": [
      "\n",
      "image 1/1 C:\\Users\\samue\\Dataset-Pisang-7\\test\\images\\Image_461_jpg.rf.c8ddc92cbcffb083b6324275b7ad293d.jpg: 640x640 1 fusarium, 23.4ms\n",
      "Speed: 6.1ms preprocess, 23.4ms inference, 2.8ms postprocess per image at shape (1, 3, 640, 640)\n"
     ]
    },
    {
     "data": {
      "text/plain": [
       "<Figure size 800x800 with 1 Axes>"
      ]
     },
     "metadata": {},
     "output_type": "display_data"
    },
    {
     "name": "stdout",
     "output_type": "stream",
     "text": [
      "\n",
      "image 1/1 C:\\Users\\samue\\Dataset-Pisang-7\\test\\images\\Image_464_jpg.rf.bb6414f373aeab0acd7dd5c3b44b0f91.jpg: 640x640 1 healthy, 23.5ms\n",
      "Speed: 5.8ms preprocess, 23.5ms inference, 2.6ms postprocess per image at shape (1, 3, 640, 640)\n"
     ]
    },
    {
     "data": {
      "text/plain": [
       "<Figure size 800x800 with 1 Axes>"
      ]
     },
     "metadata": {},
     "output_type": "display_data"
    },
    {
     "name": "stdout",
     "output_type": "stream",
     "text": [
      "\n",
      "image 1/1 C:\\Users\\samue\\Dataset-Pisang-7\\test\\images\\Image_465_jpg.rf.816808812dc2089900aca857be9f984f.jpg: 640x640 1 sigatoka, 23.6ms\n",
      "Speed: 4.7ms preprocess, 23.6ms inference, 4.4ms postprocess per image at shape (1, 3, 640, 640)\n"
     ]
    },
    {
     "data": {
      "text/plain": [
       "<Figure size 800x800 with 1 Axes>"
      ]
     },
     "metadata": {},
     "output_type": "display_data"
    },
    {
     "name": "stdout",
     "output_type": "stream",
     "text": [
      "\n",
      "image 1/1 C:\\Users\\samue\\Dataset-Pisang-7\\test\\images\\Image_466_jpg.rf.aac4e57013fb8b740097caf9d3142c4b.jpg: 640x640 1 fusarium, 23.4ms\n",
      "Speed: 6.5ms preprocess, 23.4ms inference, 3.2ms postprocess per image at shape (1, 3, 640, 640)\n"
     ]
    },
    {
     "data": {
      "text/plain": [
       "<Figure size 800x800 with 1 Axes>"
      ]
     },
     "metadata": {},
     "output_type": "display_data"
    },
    {
     "name": "stdout",
     "output_type": "stream",
     "text": [
      "\n",
      "image 1/1 C:\\Users\\samue\\Dataset-Pisang-7\\test\\images\\Image_468_jpg.rf.ad5a866b9252edc73ca32cf2ecdfbbc7.jpg: 640x640 1 fusarium, 23.5ms\n",
      "Speed: 6.3ms preprocess, 23.5ms inference, 2.5ms postprocess per image at shape (1, 3, 640, 640)\n"
     ]
    },
    {
     "data": {
      "text/plain": [
       "<Figure size 800x800 with 1 Axes>"
      ]
     },
     "metadata": {},
     "output_type": "display_data"
    },
    {
     "name": "stdout",
     "output_type": "stream",
     "text": [
      "\n",
      "image 1/1 C:\\Users\\samue\\Dataset-Pisang-7\\test\\images\\Image_478_jpg.rf.55b4d6c2043be2f5aa4c5a97fc59b5d6.jpg: 640x640 1 fusarium, 23.3ms\n",
      "Speed: 6.6ms preprocess, 23.3ms inference, 3.6ms postprocess per image at shape (1, 3, 640, 640)\n"
     ]
    },
    {
     "data": {
      "text/plain": [
       "<Figure size 800x800 with 1 Axes>"
      ]
     },
     "metadata": {},
     "output_type": "display_data"
    },
    {
     "name": "stdout",
     "output_type": "stream",
     "text": [
      "\n",
      "image 1/1 C:\\Users\\samue\\Dataset-Pisang-7\\test\\images\\Image_484_jpg.rf.37e13908e1825ecba07e397afdc8d7a2.jpg: 640x640 1 fusarium, 24.6ms\n",
      "Speed: 7.3ms preprocess, 24.6ms inference, 6.0ms postprocess per image at shape (1, 3, 640, 640)\n"
     ]
    },
    {
     "data": {
      "text/plain": [
       "<Figure size 800x800 with 1 Axes>"
      ]
     },
     "metadata": {},
     "output_type": "display_data"
    },
    {
     "name": "stdout",
     "output_type": "stream",
     "text": [
      "\n",
      "image 1/1 C:\\Users\\samue\\Dataset-Pisang-7\\test\\images\\Image_485_jpg.rf.1186a90645bbfdb98d448c385bb5d1a0.jpg: 640x640 1 fusarium, 28.2ms\n",
      "Speed: 7.2ms preprocess, 28.2ms inference, 2.9ms postprocess per image at shape (1, 3, 640, 640)\n"
     ]
    },
    {
     "data": {
      "text/plain": [
       "<Figure size 800x800 with 1 Axes>"
      ]
     },
     "metadata": {},
     "output_type": "display_data"
    },
    {
     "name": "stdout",
     "output_type": "stream",
     "text": [
      "\n",
      "image 1/1 C:\\Users\\samue\\Dataset-Pisang-7\\test\\images\\Image_48_jpg.rf.395a5cb1ccb5e5185c7344c5657ab91c.jpg: 640x640 1 fusarium, 23.4ms\n",
      "Speed: 6.8ms preprocess, 23.4ms inference, 2.3ms postprocess per image at shape (1, 3, 640, 640)\n"
     ]
    },
    {
     "data": {
      "text/plain": [
       "<Figure size 800x800 with 1 Axes>"
      ]
     },
     "metadata": {},
     "output_type": "display_data"
    },
    {
     "name": "stdout",
     "output_type": "stream",
     "text": [
      "\n",
      "image 1/1 C:\\Users\\samue\\Dataset-Pisang-7\\test\\images\\Image_491_jpg.rf.5321b51d95ec46e689f8091b703b79d5.jpg: 640x640 1 healthy, 23.5ms\n",
      "Speed: 4.8ms preprocess, 23.5ms inference, 2.6ms postprocess per image at shape (1, 3, 640, 640)\n"
     ]
    },
    {
     "data": {
      "text/plain": [
       "<Figure size 800x800 with 1 Axes>"
      ]
     },
     "metadata": {},
     "output_type": "display_data"
    },
    {
     "name": "stdout",
     "output_type": "stream",
     "text": [
      "\n",
      "image 1/1 C:\\Users\\samue\\Dataset-Pisang-7\\test\\images\\Image_496_jpg.rf.58a339e245d2e08fd592e7f3676977b8.jpg: 640x640 1 fusarium, 23.5ms\n",
      "Speed: 7.1ms preprocess, 23.5ms inference, 5.5ms postprocess per image at shape (1, 3, 640, 640)\n"
     ]
    },
    {
     "data": {
      "text/plain": [
       "<Figure size 800x800 with 1 Axes>"
      ]
     },
     "metadata": {},
     "output_type": "display_data"
    },
    {
     "name": "stdout",
     "output_type": "stream",
     "text": [
      "\n",
      "image 1/1 C:\\Users\\samue\\Dataset-Pisang-7\\test\\images\\Image_4_jpg.rf.141e2865ee31f189a8ba978958c8815f.jpg: 640x640 1 healthy, 23.4ms\n",
      "Speed: 4.8ms preprocess, 23.4ms inference, 3.6ms postprocess per image at shape (1, 3, 640, 640)\n"
     ]
    },
    {
     "data": {
      "text/plain": [
       "<Figure size 800x800 with 1 Axes>"
      ]
     },
     "metadata": {},
     "output_type": "display_data"
    },
    {
     "name": "stdout",
     "output_type": "stream",
     "text": [
      "\n",
      "image 1/1 C:\\Users\\samue\\Dataset-Pisang-7\\test\\images\\Image_502_jpg.rf.18c0e2f85dcdb800eabeea44e0cdc0c3.jpg: 640x640 1 fusarium, 23.3ms\n",
      "Speed: 7.3ms preprocess, 23.3ms inference, 4.9ms postprocess per image at shape (1, 3, 640, 640)\n"
     ]
    },
    {
     "data": {
      "text/plain": [
       "<Figure size 800x800 with 1 Axes>"
      ]
     },
     "metadata": {},
     "output_type": "display_data"
    },
    {
     "name": "stdout",
     "output_type": "stream",
     "text": [
      "\n",
      "image 1/1 C:\\Users\\samue\\Dataset-Pisang-7\\test\\images\\Image_511_jpg.rf.34c160db75b485e2236607d0f7e5ffb8.jpg: 640x640 1 healthy, 23.2ms\n",
      "Speed: 6.0ms preprocess, 23.2ms inference, 4.8ms postprocess per image at shape (1, 3, 640, 640)\n"
     ]
    },
    {
     "data": {
      "text/plain": [
       "<Figure size 800x800 with 1 Axes>"
      ]
     },
     "metadata": {},
     "output_type": "display_data"
    },
    {
     "name": "stdout",
     "output_type": "stream",
     "text": [
      "\n",
      "image 1/1 C:\\Users\\samue\\Dataset-Pisang-7\\test\\images\\Image_519_jpg.rf.ee28dfe3435741521d860cbe89121d7b.jpg: 640x640 1 healthy, 23.3ms\n",
      "Speed: 7.2ms preprocess, 23.3ms inference, 3.6ms postprocess per image at shape (1, 3, 640, 640)\n"
     ]
    },
    {
     "data": {
      "text/plain": [
       "<Figure size 800x800 with 1 Axes>"
      ]
     },
     "metadata": {},
     "output_type": "display_data"
    },
    {
     "name": "stdout",
     "output_type": "stream",
     "text": [
      "\n",
      "image 1/1 C:\\Users\\samue\\Dataset-Pisang-7\\test\\images\\Image_52_jpg.rf.60b7b263db5e4b3119c7af9a7a690252.jpg: 640x640 1 fusarium, 23.3ms\n",
      "Speed: 6.0ms preprocess, 23.3ms inference, 5.2ms postprocess per image at shape (1, 3, 640, 640)\n"
     ]
    },
    {
     "data": {
      "text/plain": [
       "<Figure size 800x800 with 1 Axes>"
      ]
     },
     "metadata": {},
     "output_type": "display_data"
    },
    {
     "name": "stdout",
     "output_type": "stream",
     "text": [
      "\n",
      "image 1/1 C:\\Users\\samue\\Dataset-Pisang-7\\test\\images\\Image_52_jpg.rf.71ba8f802bfe91e7bba8827ef1891b28.jpg: 640x640 1 sigatoka, 23.2ms\n",
      "Speed: 7.4ms preprocess, 23.2ms inference, 4.0ms postprocess per image at shape (1, 3, 640, 640)\n"
     ]
    },
    {
     "data": {
      "text/plain": [
       "<Figure size 800x800 with 1 Axes>"
      ]
     },
     "metadata": {},
     "output_type": "display_data"
    },
    {
     "name": "stdout",
     "output_type": "stream",
     "text": [
      "\n",
      "image 1/1 C:\\Users\\samue\\Dataset-Pisang-7\\test\\images\\Image_52_jpg.rf.73cbaddf4cf7f8235d962f455cd3f73d.jpg: 640x640 1 fusarium, 23.3ms\n",
      "Speed: 6.8ms preprocess, 23.3ms inference, 3.0ms postprocess per image at shape (1, 3, 640, 640)\n"
     ]
    },
    {
     "data": {
      "text/plain": [
       "<Figure size 800x800 with 1 Axes>"
      ]
     },
     "metadata": {},
     "output_type": "display_data"
    },
    {
     "name": "stdout",
     "output_type": "stream",
     "text": [
      "\n",
      "image 1/1 C:\\Users\\samue\\Dataset-Pisang-7\\test\\images\\Image_53_jpg.rf.41ceb3292d9e24c1a51da9df913bc480.jpg: 640x640 1 fusarium, 23.5ms\n",
      "Speed: 7.1ms preprocess, 23.5ms inference, 3.1ms postprocess per image at shape (1, 3, 640, 640)\n"
     ]
    },
    {
     "data": {
      "text/plain": [
       "<Figure size 800x800 with 1 Axes>"
      ]
     },
     "metadata": {},
     "output_type": "display_data"
    },
    {
     "name": "stdout",
     "output_type": "stream",
     "text": [
      "\n",
      "image 1/1 C:\\Users\\samue\\Dataset-Pisang-7\\test\\images\\Image_54_jpg.rf.ab51d1da86cd6abfcd473431824b1f01.jpg: 640x640 1 sigatoka, 23.2ms\n",
      "Speed: 4.6ms preprocess, 23.2ms inference, 2.5ms postprocess per image at shape (1, 3, 640, 640)\n"
     ]
    },
    {
     "data": {
      "text/plain": [
       "<Figure size 800x800 with 1 Axes>"
      ]
     },
     "metadata": {},
     "output_type": "display_data"
    },
    {
     "name": "stdout",
     "output_type": "stream",
     "text": [
      "\n",
      "image 1/1 C:\\Users\\samue\\Dataset-Pisang-7\\test\\images\\Image_55_jpg.rf.97e476dbdf18985672a60a8005e788fc.jpg: 640x640 1 fusarium, 23.4ms\n",
      "Speed: 6.9ms preprocess, 23.4ms inference, 4.0ms postprocess per image at shape (1, 3, 640, 640)\n"
     ]
    },
    {
     "data": {
      "text/plain": [
       "<Figure size 800x800 with 1 Axes>"
      ]
     },
     "metadata": {},
     "output_type": "display_data"
    },
    {
     "name": "stdout",
     "output_type": "stream",
     "text": [
      "\n",
      "image 1/1 C:\\Users\\samue\\Dataset-Pisang-7\\test\\images\\Image_5_jpg.rf.58e1f038fbc07f5111a137be14809b08.jpg: 640x640 3 fusariums, 23.4ms\n",
      "Speed: 5.9ms preprocess, 23.4ms inference, 3.6ms postprocess per image at shape (1, 3, 640, 640)\n"
     ]
    },
    {
     "data": {
      "text/plain": [
       "<Figure size 800x800 with 1 Axes>"
      ]
     },
     "metadata": {},
     "output_type": "display_data"
    },
    {
     "name": "stdout",
     "output_type": "stream",
     "text": [
      "\n",
      "image 1/1 C:\\Users\\samue\\Dataset-Pisang-7\\test\\images\\Image_65_jpg.rf.cea1b438d600aa5d7590ae049dc48fe0.jpg: 640x640 1 fusarium, 23.4ms\n",
      "Speed: 5.8ms preprocess, 23.4ms inference, 4.2ms postprocess per image at shape (1, 3, 640, 640)\n"
     ]
    },
    {
     "data": {
      "text/plain": [
       "<Figure size 800x800 with 1 Axes>"
      ]
     },
     "metadata": {},
     "output_type": "display_data"
    },
    {
     "name": "stdout",
     "output_type": "stream",
     "text": [
      "\n",
      "image 1/1 C:\\Users\\samue\\Dataset-Pisang-7\\test\\images\\Image_68_jpg.rf.25ec8b31dc16788ca8b20bed918d67b1.jpg: 640x640 1 sigatoka, 23.4ms\n",
      "Speed: 6.4ms preprocess, 23.4ms inference, 4.2ms postprocess per image at shape (1, 3, 640, 640)\n"
     ]
    },
    {
     "data": {
      "text/plain": [
       "<Figure size 800x800 with 1 Axes>"
      ]
     },
     "metadata": {},
     "output_type": "display_data"
    },
    {
     "name": "stdout",
     "output_type": "stream",
     "text": [
      "\n",
      "image 1/1 C:\\Users\\samue\\Dataset-Pisang-7\\test\\images\\Image_6_jpg.rf.c139e62a6270b4a933322a33bb021474.jpg: 640x640 1 healthy, 23.8ms\n",
      "Speed: 7.3ms preprocess, 23.8ms inference, 4.8ms postprocess per image at shape (1, 3, 640, 640)\n"
     ]
    },
    {
     "data": {
      "text/plain": [
       "<Figure size 800x800 with 1 Axes>"
      ]
     },
     "metadata": {},
     "output_type": "display_data"
    },
    {
     "name": "stdout",
     "output_type": "stream",
     "text": [
      "\n",
      "image 1/1 C:\\Users\\samue\\Dataset-Pisang-7\\test\\images\\Image_6_jpg.rf.ee61f7fc514ef09ac09c1b8bdf0abcd1.jpg: 640x640 1 fusarium, 24.0ms\n",
      "Speed: 4.6ms preprocess, 24.0ms inference, 3.6ms postprocess per image at shape (1, 3, 640, 640)\n"
     ]
    },
    {
     "data": {
      "text/plain": [
       "<Figure size 800x800 with 1 Axes>"
      ]
     },
     "metadata": {},
     "output_type": "display_data"
    },
    {
     "name": "stdout",
     "output_type": "stream",
     "text": [
      "\n",
      "image 1/1 C:\\Users\\samue\\Dataset-Pisang-7\\test\\images\\Image_74_jpg.rf.8caeba98f343fb766885a140bc231788.jpg: 640x640 1 healthy, 24.0ms\n",
      "Speed: 4.9ms preprocess, 24.0ms inference, 2.9ms postprocess per image at shape (1, 3, 640, 640)\n"
     ]
    },
    {
     "data": {
      "text/plain": [
       "<Figure size 800x800 with 1 Axes>"
      ]
     },
     "metadata": {},
     "output_type": "display_data"
    },
    {
     "name": "stdout",
     "output_type": "stream",
     "text": [
      "\n",
      "image 1/1 C:\\Users\\samue\\Dataset-Pisang-7\\test\\images\\Image_80_jpg.rf.a892b48f1dd26e7aff389e2bb3aa90f7.jpg: 640x640 1 sigatoka, 24.3ms\n",
      "Speed: 5.4ms preprocess, 24.3ms inference, 3.2ms postprocess per image at shape (1, 3, 640, 640)\n"
     ]
    },
    {
     "data": {
      "text/plain": [
       "<Figure size 800x800 with 1 Axes>"
      ]
     },
     "metadata": {},
     "output_type": "display_data"
    },
    {
     "name": "stdout",
     "output_type": "stream",
     "text": [
      "\n",
      "image 1/1 C:\\Users\\samue\\Dataset-Pisang-7\\test\\images\\Image_80_jpg.rf.b1329c2f24b6005e5b466bc96e8e338d.jpg: 640x640 1 fusarium, 23.9ms\n",
      "Speed: 4.7ms preprocess, 23.9ms inference, 2.4ms postprocess per image at shape (1, 3, 640, 640)\n"
     ]
    },
    {
     "data": {
      "text/plain": [
       "<Figure size 800x800 with 1 Axes>"
      ]
     },
     "metadata": {},
     "output_type": "display_data"
    },
    {
     "name": "stdout",
     "output_type": "stream",
     "text": [
      "\n",
      "image 1/1 C:\\Users\\samue\\Dataset-Pisang-7\\test\\images\\Image_81_jpg.rf.bc2744c85400253b2b7e37208ba02dd0.jpg: 640x640 1 sigatoka, 24.1ms\n",
      "Speed: 4.8ms preprocess, 24.1ms inference, 4.5ms postprocess per image at shape (1, 3, 640, 640)\n"
     ]
    },
    {
     "data": {
      "text/plain": [
       "<Figure size 800x800 with 1 Axes>"
      ]
     },
     "metadata": {},
     "output_type": "display_data"
    },
    {
     "name": "stdout",
     "output_type": "stream",
     "text": [
      "\n",
      "image 1/1 C:\\Users\\samue\\Dataset-Pisang-7\\test\\images\\Image_81_jpg.rf.d2c613225077fc4e1aa799ea08e89d7d.jpg: 640x640 1 fusarium, 23.8ms\n",
      "Speed: 5.0ms preprocess, 23.8ms inference, 3.0ms postprocess per image at shape (1, 3, 640, 640)\n"
     ]
    },
    {
     "data": {
      "text/plain": [
       "<Figure size 800x800 with 1 Axes>"
      ]
     },
     "metadata": {},
     "output_type": "display_data"
    },
    {
     "name": "stdout",
     "output_type": "stream",
     "text": [
      "\n",
      "image 1/1 C:\\Users\\samue\\Dataset-Pisang-7\\test\\images\\Image_90_jpg.rf.108fac2aa5abd537ac62f05d8f636310.jpg: 640x640 2 fusariums, 24.0ms\n",
      "Speed: 5.2ms preprocess, 24.0ms inference, 3.3ms postprocess per image at shape (1, 3, 640, 640)\n"
     ]
    },
    {
     "data": {
      "text/plain": [
       "<Figure size 800x800 with 1 Axes>"
      ]
     },
     "metadata": {},
     "output_type": "display_data"
    },
    {
     "name": "stdout",
     "output_type": "stream",
     "text": [
      "\n",
      "image 1/1 C:\\Users\\samue\\Dataset-Pisang-7\\test\\images\\Image_91_jpg.rf.399a6c624b81c3fa9b1aa3c0aea7f030.jpg: 640x640 1 healthy, 23.9ms\n",
      "Speed: 5.3ms preprocess, 23.9ms inference, 2.7ms postprocess per image at shape (1, 3, 640, 640)\n"
     ]
    },
    {
     "data": {
      "text/plain": [
       "<Figure size 800x800 with 1 Axes>"
      ]
     },
     "metadata": {},
     "output_type": "display_data"
    },
    {
     "name": "stdout",
     "output_type": "stream",
     "text": [
      "\n",
      "image 1/1 C:\\Users\\samue\\Dataset-Pisang-7\\test\\images\\Image_97_jpg.rf.29244485229f66c21982f471c7f3323b.jpg: 640x640 1 healthy, 23.7ms\n",
      "Speed: 5.2ms preprocess, 23.7ms inference, 3.9ms postprocess per image at shape (1, 3, 640, 640)\n"
     ]
    },
    {
     "data": {
      "text/plain": [
       "<Figure size 800x800 with 1 Axes>"
      ]
     },
     "metadata": {},
     "output_type": "display_data"
    },
    {
     "name": "stdout",
     "output_type": "stream",
     "text": [
      "\n",
      "image 1/1 C:\\Users\\samue\\Dataset-Pisang-7\\test\\images\\Image_99_jpg.rf.d36d0020fd243c81049b55acecac3b66.jpg: 640x640 1 fusarium, 23.6ms\n",
      "Speed: 5.4ms preprocess, 23.6ms inference, 3.5ms postprocess per image at shape (1, 3, 640, 640)\n"
     ]
    },
    {
     "data": {
      "text/plain": [
       "<Figure size 800x800 with 1 Axes>"
      ]
     },
     "metadata": {},
     "output_type": "display_data"
    },
    {
     "name": "stdout",
     "output_type": "stream",
     "text": [
      "\n",
      "image 1/1 C:\\Users\\samue\\Dataset-Pisang-7\\test\\images\\Image_99_jpg.rf.e83a301a12ef802949de2c97d7636ce7.jpg: 640x640 1 healthy, 23.5ms\n",
      "Speed: 5.3ms preprocess, 23.5ms inference, 4.1ms postprocess per image at shape (1, 3, 640, 640)\n"
     ]
    },
    {
     "data": {
      "text/plain": [
       "<Figure size 800x800 with 1 Axes>"
      ]
     },
     "metadata": {},
     "output_type": "display_data"
    }
   ],
   "source": [
    "import cv2\n",
    "import os\n",
    "import matplotlib.pyplot as plt\n",
    "from ultralytics import YOLO\n",
    "\n",
    "# Load model hasil training\n",
    "model = YOLO(\"runs/detect/motorcycle-yolo18/weights/best.pt\")\n",
    "\n",
    "# Path ke folder gambar yang ingin diprediksi\n",
    "image_folder = \"Dataset-Pisang-7/test/images\"  # Ganti dengan folder lain jika perlu\n",
    "\n",
    "# Ambil semua file gambar\n",
    "# Mengganti 'test_image_folder' dengan 'image_folder'\n",
    "image_files = [f for f in os.listdir(image_folder) if f.endswith(('.jpg', '.png', '.jpeg'))]\n",
    "\n",
    "# Loop untuk prediksi semua gambar dan tampilkan hasilnya\n",
    "for image_file in image_files:\n",
    "    image_path = os.path.join(image_folder, image_file) # Mengganti 'test_image_folder' dengan 'image_folder'\n",
    "\n",
    "    # Jalankan prediksi\n",
    "    results = model(image_path)\n",
    "\n",
    "    # Tampilkan hasil deteksi menggunakan OpenCV/Matplotlib\n",
    "    result_image = results[0].plot()  # Hasil prediksi dengan bounding box (numpy array BGR)\n",
    "    result_image_rgb = cv2.cvtColor(result_image, cv2.COLOR_BGR2RGB)\n",
    "\n",
    "    plt.figure(figsize=(8, 8))\n",
    "    plt.imshow(result_image_rgb)\n",
    "    plt.title(f\"Deteksi: {image_file}\")\n",
    "    plt.axis('off')\n",
    "    plt.show()"
   ]
  },
  {
   "cell_type": "code",
   "execution_count": null,
   "id": "xvVOc6oto8hd",
   "metadata": {
    "id": "xvVOc6oto8hd"
   },
   "outputs": [],
   "source": [
    "output_folder = \"hasil_deteksi\"\n",
    "os.makedirs(output_folder, exist_ok=True)\n",
    "\n",
    "for image_file in image_files:\n",
    "    image_path = os.path.join(image_folder, image_file)\n",
    "    results = model(image_path)\n",
    "\n",
    "    # Ambil hasil dan simpan sebagai file\n",
    "    result_image = results[0].plot()\n",
    "    save_path = os.path.join(output_folder, image_file)\n",
    "    cv2.imwrite(save_path, result_image)\n",
    "\n",
    "print(f\"Hasil deteksi disimpan di folder: {output_folder}\")\n"
   ]
  },
  {
   "cell_type": "code",
   "execution_count": null,
   "id": "9pNGNgcUT6G-",
   "metadata": {
    "id": "9pNGNgcUT6G-"
   },
   "outputs": [],
   "source": []
  }
 ],
 "metadata": {
  "accelerator": "GPU",
  "colab": {
   "gpuType": "T4",
   "provenance": []
  },
  "kernelspec": {
   "display_name": "Python (YOLOv8)",
   "language": "python",
   "name": "yolov8env"
  },
  "language_info": {
   "codemirror_mode": {
    "name": "ipython",
    "version": 3
   },
   "file_extension": ".py",
   "mimetype": "text/x-python",
   "name": "python",
   "nbconvert_exporter": "python",
   "pygments_lexer": "ipython3",
   "version": "3.10.18"
  }
 },
 "nbformat": 4,
 "nbformat_minor": 5
}
